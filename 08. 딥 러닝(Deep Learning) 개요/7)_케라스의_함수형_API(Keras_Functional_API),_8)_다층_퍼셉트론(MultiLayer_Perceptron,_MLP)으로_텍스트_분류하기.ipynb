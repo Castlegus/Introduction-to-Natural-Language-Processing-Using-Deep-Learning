{
  "nbformat": 4,
  "nbformat_minor": 0,
  "metadata": {
    "colab": {
      "name": "7) 케라스의 함수형 API(Keras Functional API), 8) 다층 퍼셉트론(MultiLayer Perceptron, MLP)으로 텍스트 분류하기.ipynb",
      "provenance": [],
      "collapsed_sections": []
    },
    "kernelspec": {
      "name": "python3",
      "display_name": "Python 3"
    }
  },
  "cells": [
    {
      "cell_type": "markdown",
      "metadata": {
        "id": "N2pnnjZTLMXq"
      },
      "source": [
        "# 7) 케라스의 함수형 API(Keras Functional API)"
      ]
    },
    {
      "cell_type": "markdown",
      "metadata": {
        "id": "Dz915a9SLNjw"
      },
      "source": [
        "## 1. sequential API로 만든 모델\n"
      ]
    },
    {
      "cell_type": "code",
      "metadata": {
        "id": "0KgYaerrLJlJ"
      },
      "source": [
        "# 이 코드는 소프트맥스 회귀 챕터에서 가져온 코드임.\n",
        "from tensorflow.keras.models import Sequential\n",
        "from tensorflow.keras.layers import Dense\n",
        "model=Sequential()\n",
        "model.add(Dense(3, input_dim=4, activation='softmax'))"
      ],
      "execution_count": null,
      "outputs": []
    },
    {
      "cell_type": "markdown",
      "metadata": {
        "id": "xIy63V0YLmdj"
      },
      "source": [
        "## 2. functional API로 만든 모델\n"
      ]
    },
    {
      "cell_type": "markdown",
      "metadata": {
        "id": "GHtkftR3Lrqi"
      },
      "source": [
        "### 1) 전결합 피드 포워드 신경망(Fully-connected FFNN)\n"
      ]
    },
    {
      "cell_type": "code",
      "metadata": {
        "id": "SnhGaXuHLbOs"
      },
      "source": [
        "from tensorflow.keras.layers import Input\n",
        "# 텐서를 리턴한다.\n",
        "inputs = Input(shape=(10,))"
      ],
      "execution_count": null,
      "outputs": []
    },
    {
      "cell_type": "code",
      "metadata": {
        "id": "5UzsQpVhLvoo"
      },
      "source": [
        "from tensorflow.keras.layers import Input, Dense\n",
        "inputs = Input(shape=(10,))\n",
        "hidden1 = Dense(64, activation='relu')(inputs)\n",
        "hidden2 = Dense(64, activation='relu')(hidden1)\n",
        "output = Dense(1, activation='sigmoid')(hidden2)"
      ],
      "execution_count": null,
      "outputs": []
    },
    {
      "cell_type": "code",
      "metadata": {
        "id": "x7bOOur8MPhM"
      },
      "source": [
        "from tensorflow.keras.layers import Input, Dense\n",
        "from tensorflow.keras.models import Model\n",
        "inputs = Input(shape=(10,))\n",
        "hidden1 = Dense(64, activation='relu')(inputs)\n",
        "hidden2 = Dense(64, activation='relu')(hidden1)\n",
        "output = Dense(1, activation='sigmoid')(hidden2)\n",
        "model = Model(inputs=inputs, outputs=output)"
      ],
      "execution_count": null,
      "outputs": []
    },
    {
      "cell_type": "code",
      "metadata": {
        "id": "SE2tsKiwMg1e"
      },
      "source": [
        "model.compile(optimizer='rmsprop', loss='categorical_crossentropy', metrics=['accuracy'])\n",
        "model.fit(data, labels)"
      ],
      "execution_count": null,
      "outputs": []
    },
    {
      "cell_type": "code",
      "metadata": {
        "id": "DSq-nJNTMvBM"
      },
      "source": [
        "inputs = Input(shape=(10,))\n",
        "x = Dense(8, activation=\"relu\")(inputs)\n",
        "x = Dense(4, activation=\"relu\")(x)\n",
        "x = Dense(1, activation=\"linear\")(x)\n",
        "model = Model(inputs, x)"
      ],
      "execution_count": null,
      "outputs": []
    },
    {
      "cell_type": "markdown",
      "metadata": {
        "id": "q4SCW1RfNCXT"
      },
      "source": [
        "### 2) 선형 회귀(Linear Regression)\n"
      ]
    },
    {
      "cell_type": "code",
      "metadata": {
        "id": "IUUedsSBM3Bd"
      },
      "source": [
        "from tensorflow.keras.layers import Input, Dense\n",
        "from tensorflow.keras.models import Model\n",
        "\n",
        "inputs = Input(shape=(3,))\n",
        "output = Dense(1, activation='linear')(inputs)\n",
        "linear_model = Model(inputs, output)\n",
        "\n",
        "linear_model.compile(optimizer='sgd', loss='mse')\n",
        "linear_model.fit(x=dat_test, y=y_cts_test, epochs=50, verbose=0)\n",
        "linear_model.fit(x=dat_test, y=y_cts_test, epochs=1, verbose=1)"
      ],
      "execution_count": null,
      "outputs": []
    },
    {
      "cell_type": "markdown",
      "metadata": {
        "id": "vb_ABvm_NUvT"
      },
      "source": [
        "### 3) 로지스틱 회귀(Logistic Regression)\n"
      ]
    },
    {
      "cell_type": "code",
      "metadata": {
        "id": "RtUX2iNVNXFy"
      },
      "source": [
        "from tensorflow.keras.layers import Input, Dense\n",
        "from tensorflow.keras.models import Model\n",
        "\n",
        "inputs = Input(shape=(3,))\n",
        "output = Dense(1, activation='sigmoid')(inputs)\n",
        "logistic_model = Model(inputs, output)\n",
        "\n",
        "logistic_model.compile(optimizer='sgd', loss = 'binary_crossentropy', metrics=['accuracy'])\n",
        "logistic_model.optimizer.lr = 0.001\n",
        "logistic_model.fit(x=dat_train, y=y_classifier_train, epochs = 5, validation_data = (dat_test, y_classifier_test))"
      ],
      "execution_count": null,
      "outputs": []
    },
    {
      "cell_type": "markdown",
      "metadata": {
        "id": "OYgr6GS7NZTl"
      },
      "source": [
        "### 4) 다중 입력을 받는 모델(model that accepts multiple inputs)\n"
      ]
    },
    {
      "cell_type": "code",
      "metadata": {
        "id": "S9ypwt2CNbhL"
      },
      "source": [
        "# 최종 완성된 다중 입력, 다중 출력 모델의 예\n",
        "model=Model(inputs=[a1, a2], outputs=[b1, b2, b3])"
      ],
      "execution_count": null,
      "outputs": []
    },
    {
      "cell_type": "code",
      "metadata": {
        "id": "Mracd6bcNsJQ"
      },
      "source": [
        "from tensorflow.keras.layers import Input, Dense, concatenate\n",
        "from tensorflow.keras.models import Model\n",
        "\n",
        "# 두 개의 입력층을 정의\n",
        "inputA = Input(shape=(64,))\n",
        "inputB = Input(shape=(128,))\n",
        "\n",
        "# 첫번째 입력층으로부터 분기되어 진행되는 인공 신경망을 정의\n",
        "x = Dense(16, activation=\"relu\")(inputA)\n",
        "x = Dense(8, activation=\"relu\")(x)\n",
        "x = Model(inputs=inputA, outputs=x)\n",
        "\n",
        "# 두번째 입력층으로부터 분기되어 진행되는 인공 신경망을 정의\n",
        "y = Dense(64, activation=\"relu\")(inputB)\n",
        "y = Dense(32, activation=\"relu\")(y)\n",
        "y = Dense(8, activation=\"relu\")(y)\n",
        "y = Model(inputs=inputB, outputs=y)\n",
        "\n",
        "# 두개의 인공 신경망의 출력을 연결(concatenate)\n",
        "result = concatenate([x.output, y.output])\n",
        "\n",
        "# 연결된 값을 입력으로 받는 밀집층을 추가(Dense layer)\n",
        "z = Dense(2, activation=\"relu\")(result)\n",
        "# 선형 회귀를 위해 activation=linear를 설정\n",
        "z = Dense(1, activation=\"linear\")(z)\n",
        "\n",
        "# 결과적으로 이 모델은 두 개의 입력층으로부터 분기되어 진행된 후 마지막에는 하나의 출력을 예측하는 모델이 됨.\n",
        "model = Model(inputs=[x.input, y.input], outputs=z)"
      ],
      "execution_count": null,
      "outputs": []
    },
    {
      "cell_type": "markdown",
      "metadata": {
        "id": "qLRQm3lbPZrm"
      },
      "source": [
        "### 5) RNN(Recurrence Neural Network) 은닉층 사용하기\n"
      ]
    },
    {
      "cell_type": "code",
      "metadata": {
        "id": "NitPHOxmObZY"
      },
      "source": [
        "from tensorflow.keras.layers import Input, Dense, LSTM\n",
        "from tensorflow.keras.models import Model\n",
        "inputs = Input(shape=(50,1))\n",
        "lstm_layer = LSTM(10)(inputs) # RNN의 일종인 LSTM을 사용\n",
        "x = Dense(10, activation='relu')(lstm_layer)\n",
        "output = Dense(1, activation='sigmoid')(x)\n",
        "model = Model(inputs=inputs, outputs=output)"
      ],
      "execution_count": null,
      "outputs": []
    },
    {
      "cell_type": "markdown",
      "metadata": {
        "id": "0Q8nQ0D2RKEs"
      },
      "source": [
        "# 8) 다층 퍼셉트론(MultiLayer Perceptron, MLP)으로 텍스트 분류하기\n"
      ]
    },
    {
      "cell_type": "markdown",
      "metadata": {
        "id": "Ey76N075RW9k"
      },
      "source": [
        "## 2. 케라스의 texts_to_matrix() 이해하기\n",
        "\n",
        "\n",
        "\n"
      ]
    },
    {
      "cell_type": "code",
      "metadata": {
        "id": "_DwGJtowRMsj"
      },
      "source": [
        "import numpy as np\n",
        "from tensorflow.keras.preprocessing.text import Tokenizer"
      ],
      "execution_count": 7,
      "outputs": []
    },
    {
      "cell_type": "code",
      "metadata": {
        "id": "0Vmo5AWdRiQr"
      },
      "source": [
        "texts = ['먹고 싶은 사과', '먹고 싶은 바나나', '길고 노란 바나나 바나나', '저는 과일이 좋아요']"
      ],
      "execution_count": 8,
      "outputs": []
    },
    {
      "cell_type": "code",
      "metadata": {
        "colab": {
          "base_uri": "https://localhost:8080/"
        },
        "id": "gIFswXWyRkeE",
        "outputId": "63b26f5d-e87b-4520-8139-0c9196fe5aac"
      },
      "source": [
        "t = Tokenizer()\n",
        "t.fit_on_texts(texts)\n",
        "print(t.word_index)"
      ],
      "execution_count": 9,
      "outputs": [
        {
          "output_type": "stream",
          "text": [
            "{'바나나': 1, '먹고': 2, '싶은': 3, '사과': 4, '길고': 5, '노란': 6, '저는': 7, '과일이': 8, '좋아요': 9}\n"
          ],
          "name": "stdout"
        }
      ]
    },
    {
      "cell_type": "code",
      "metadata": {
        "colab": {
          "base_uri": "https://localhost:8080/"
        },
        "id": "RqUCEFL5Rqht",
        "outputId": "b37fc016-44a9-4182-df88-5ef671c6a01f"
      },
      "source": [
        "print(t.texts_to_matrix(texts, mode = 'count')) # texts_to_matrix의 입력으로 texts를 넣고, 모드는 'count'"
      ],
      "execution_count": 10,
      "outputs": [
        {
          "output_type": "stream",
          "text": [
            "[[0. 0. 1. 1. 1. 0. 0. 0. 0. 0.]\n",
            " [0. 1. 1. 1. 0. 0. 0. 0. 0. 0.]\n",
            " [0. 2. 0. 0. 0. 1. 1. 0. 0. 0.]\n",
            " [0. 0. 0. 0. 0. 0. 0. 1. 1. 1.]]\n"
          ],
          "name": "stdout"
        }
      ]
    },
    {
      "cell_type": "code",
      "metadata": {
        "colab": {
          "base_uri": "https://localhost:8080/"
        },
        "id": "gesLmy-JR1oi",
        "outputId": "3f2b18e7-30ae-4654-953d-b7a9a35eaaa7"
      },
      "source": [
        "print(t.texts_to_matrix(texts, mode = 'binary'))"
      ],
      "execution_count": 11,
      "outputs": [
        {
          "output_type": "stream",
          "text": [
            "[[0. 0. 1. 1. 1. 0. 0. 0. 0. 0.]\n",
            " [0. 1. 1. 1. 0. 0. 0. 0. 0. 0.]\n",
            " [0. 1. 0. 0. 0. 1. 1. 0. 0. 0.]\n",
            " [0. 0. 0. 0. 0. 0. 0. 1. 1. 1.]]\n"
          ],
          "name": "stdout"
        }
      ]
    },
    {
      "cell_type": "code",
      "metadata": {
        "colab": {
          "base_uri": "https://localhost:8080/"
        },
        "id": "nzIcjj3xSIa1",
        "outputId": "deba3dbd-ad1b-4361-8e60-ade1e435882a"
      },
      "source": [
        "print(t.texts_to_matrix(texts, mode = 'tfidf').round(2)) # 둘째 자리까지 반올림하여 출력"
      ],
      "execution_count": 12,
      "outputs": [
        {
          "output_type": "stream",
          "text": [
            "[[0.   0.   0.85 0.85 1.1  0.   0.   0.   0.   0.  ]\n",
            " [0.   0.85 0.85 0.85 0.   0.   0.   0.   0.   0.  ]\n",
            " [0.   1.43 0.   0.   0.   1.1  1.1  0.   0.   0.  ]\n",
            " [0.   0.   0.   0.   0.   0.   0.   1.1  1.1  1.1 ]]\n"
          ],
          "name": "stdout"
        }
      ]
    },
    {
      "cell_type": "code",
      "metadata": {
        "colab": {
          "base_uri": "https://localhost:8080/"
        },
        "id": "FPkgsiycSNKZ",
        "outputId": "5c4fd3fa-7f3a-4e9d-ce14-b896e139e617"
      },
      "source": [
        "print(t.texts_to_matrix(texts, mode = 'freq').round(2)) # 둘째 자리까지 반올림하여 출력"
      ],
      "execution_count": 13,
      "outputs": [
        {
          "output_type": "stream",
          "text": [
            "[[0.   0.   0.33 0.33 0.33 0.   0.   0.   0.   0.  ]\n",
            " [0.   0.33 0.33 0.33 0.   0.   0.   0.   0.   0.  ]\n",
            " [0.   0.5  0.   0.   0.   0.25 0.25 0.   0.   0.  ]\n",
            " [0.   0.   0.   0.   0.   0.   0.   0.33 0.33 0.33]]\n"
          ],
          "name": "stdout"
        }
      ]
    },
    {
      "cell_type": "markdown",
      "metadata": {
        "id": "CE0zXccwTPni"
      },
      "source": [
        "## 3. 20개 뉴스 그룹(Twenty Newsgroups) 데이터에 대한 이해\n"
      ]
    },
    {
      "cell_type": "code",
      "metadata": {
        "id": "PwiOEvTrTAp2"
      },
      "source": [
        "import pandas as pd\n",
        "from sklearn.datasets import fetch_20newsgroups\n",
        "%matplotlib inline\n",
        "import matplotlib.pyplot as plt\n",
        "from tensorflow.keras.preprocessing.text import Tokenizer\n",
        "from tensorflow.keras.utils import to_categorical"
      ],
      "execution_count": 14,
      "outputs": []
    },
    {
      "cell_type": "code",
      "metadata": {
        "colab": {
          "base_uri": "https://localhost:8080/"
        },
        "id": "Okv4SqvJTYXf",
        "outputId": "f562ea1b-c9e0-4930-f38b-eb971f7722fa"
      },
      "source": [
        "newsdata = fetch_20newsgroups(subset = 'train') # 'train'을 기재하면 훈련 데이터만 리턴한다."
      ],
      "execution_count": 15,
      "outputs": [
        {
          "output_type": "stream",
          "text": [
            "Downloading 20news dataset. This may take a few minutes.\n",
            "Downloading dataset from https://ndownloader.figshare.com/files/5975967 (14 MB)\n"
          ],
          "name": "stderr"
        }
      ]
    },
    {
      "cell_type": "code",
      "metadata": {
        "colab": {
          "base_uri": "https://localhost:8080/"
        },
        "id": "2D4jYDbFTecn",
        "outputId": "36dee211-dc16-4923-c58f-dc4f4f7313ec"
      },
      "source": [
        "print(newsdata.keys())"
      ],
      "execution_count": 16,
      "outputs": [
        {
          "output_type": "stream",
          "text": [
            "dict_keys(['data', 'filenames', 'target_names', 'target', 'DESCR'])\n"
          ],
          "name": "stdout"
        }
      ]
    },
    {
      "cell_type": "code",
      "metadata": {
        "colab": {
          "base_uri": "https://localhost:8080/"
        },
        "id": "pOUZ6y4wTnnS",
        "outputId": "950f4be8-3189-4973-d7a9-cec4218ff624"
      },
      "source": [
        "print('훈련용 샘플의 개수 : {}'.format(len(newsdata.data)))\n"
      ],
      "execution_count": 17,
      "outputs": [
        {
          "output_type": "stream",
          "text": [
            "훈련용 샘플의 개수 : 11314\n"
          ],
          "name": "stdout"
        }
      ]
    },
    {
      "cell_type": "code",
      "metadata": {
        "colab": {
          "base_uri": "https://localhost:8080/"
        },
        "id": "fronIMFDTw-B",
        "outputId": "8614d89b-ba94-4d3b-cb5a-33ea42bf998f"
      },
      "source": [
        "print('총 주제의 개수 : {}'.format(len(newsdata.target_names)))\n",
        "print(newsdata.target_names)"
      ],
      "execution_count": 18,
      "outputs": [
        {
          "output_type": "stream",
          "text": [
            "총 주제의 개수 : 20\n",
            "['alt.atheism', 'comp.graphics', 'comp.os.ms-windows.misc', 'comp.sys.ibm.pc.hardware', 'comp.sys.mac.hardware', 'comp.windows.x', 'misc.forsale', 'rec.autos', 'rec.motorcycles', 'rec.sport.baseball', 'rec.sport.hockey', 'sci.crypt', 'sci.electronics', 'sci.med', 'sci.space', 'soc.religion.christian', 'talk.politics.guns', 'talk.politics.mideast', 'talk.politics.misc', 'talk.religion.misc']\n"
          ],
          "name": "stdout"
        }
      ]
    },
    {
      "cell_type": "code",
      "metadata": {
        "colab": {
          "base_uri": "https://localhost:8080/"
        },
        "id": "zWfN_q0xTzaG",
        "outputId": "fbe79a78-a7ec-4b03-9fff-ddef05a2b09c"
      },
      "source": [
        "print('첫번째 샘플의 레이블 : {}'.format(newsdata.target[0]))"
      ],
      "execution_count": 19,
      "outputs": [
        {
          "output_type": "stream",
          "text": [
            "첫번째 샘플의 레이블 : 7\n"
          ],
          "name": "stdout"
        }
      ]
    },
    {
      "cell_type": "code",
      "metadata": {
        "colab": {
          "base_uri": "https://localhost:8080/"
        },
        "id": "STay4I81UD0W",
        "outputId": "090686ae-ff51-4226-ac7a-2c303a1b361b"
      },
      "source": [
        "print('7번 레이블이 의미하는 주제 : {}'.format(newsdata.target_names[7]))"
      ],
      "execution_count": 20,
      "outputs": [
        {
          "output_type": "stream",
          "text": [
            "7번 레이블이 의미하는 주제 : rec.autos\n"
          ],
          "name": "stdout"
        }
      ]
    },
    {
      "cell_type": "code",
      "metadata": {
        "colab": {
          "base_uri": "https://localhost:8080/"
        },
        "id": "WeKo7BipUFo2",
        "outputId": "3cfb3c4d-607e-4662-baca-6d0ec0882726"
      },
      "source": [
        "print(newsdata.data[0]) # 첫번째 샘플 출력"
      ],
      "execution_count": 21,
      "outputs": [
        {
          "output_type": "stream",
          "text": [
            "From: lerxst@wam.umd.edu (where's my thing)\n",
            "Subject: WHAT car is this!?\n",
            "Nntp-Posting-Host: rac3.wam.umd.edu\n",
            "Organization: University of Maryland, College Park\n",
            "Lines: 15\n",
            "\n",
            " I was wondering if anyone out there could enlighten me on this car I saw\n",
            "the other day. It was a 2-door sports car, looked to be from the late 60s/\n",
            "early 70s. It was called a Bricklin. The doors were really small. In addition,\n",
            "the front bumper was separate from the rest of the body. This is \n",
            "all I know. If anyone can tellme a model name, engine specs, years\n",
            "of production, where this car is made, history, or whatever info you\n",
            "have on this funky looking car, please e-mail.\n",
            "\n",
            "Thanks,\n",
            "- IL\n",
            "   ---- brought to you by your neighborhood Lerxst ----\n",
            "\n",
            "\n",
            "\n",
            "\n",
            "\n"
          ],
          "name": "stdout"
        }
      ]
    },
    {
      "cell_type": "code",
      "metadata": {
        "colab": {
          "base_uri": "https://localhost:8080/",
          "height": 195
        },
        "id": "LFMuBys3UOXk",
        "outputId": "0fbfa191-f6fb-4061-b3df-d79982ec475e"
      },
      "source": [
        "data = pd.DataFrame(newsdata.data, columns = ['email']) # data로부터 데이터프레임 생성\n",
        "data['target'] = pd.Series(newsdata.target) # target 열 추가\n",
        "data[:5] # 상위 5개 행을 출력"
      ],
      "execution_count": 22,
      "outputs": [
        {
          "output_type": "execute_result",
          "data": {
            "text/html": [
              "<div>\n",
              "<style scoped>\n",
              "    .dataframe tbody tr th:only-of-type {\n",
              "        vertical-align: middle;\n",
              "    }\n",
              "\n",
              "    .dataframe tbody tr th {\n",
              "        vertical-align: top;\n",
              "    }\n",
              "\n",
              "    .dataframe thead th {\n",
              "        text-align: right;\n",
              "    }\n",
              "</style>\n",
              "<table border=\"1\" class=\"dataframe\">\n",
              "  <thead>\n",
              "    <tr style=\"text-align: right;\">\n",
              "      <th></th>\n",
              "      <th>email</th>\n",
              "      <th>target</th>\n",
              "    </tr>\n",
              "  </thead>\n",
              "  <tbody>\n",
              "    <tr>\n",
              "      <th>0</th>\n",
              "      <td>From: lerxst@wam.umd.edu (where's my thing)\\nS...</td>\n",
              "      <td>7</td>\n",
              "    </tr>\n",
              "    <tr>\n",
              "      <th>1</th>\n",
              "      <td>From: guykuo@carson.u.washington.edu (Guy Kuo)...</td>\n",
              "      <td>4</td>\n",
              "    </tr>\n",
              "    <tr>\n",
              "      <th>2</th>\n",
              "      <td>From: twillis@ec.ecn.purdue.edu (Thomas E Will...</td>\n",
              "      <td>4</td>\n",
              "    </tr>\n",
              "    <tr>\n",
              "      <th>3</th>\n",
              "      <td>From: jgreen@amber (Joe Green)\\nSubject: Re: W...</td>\n",
              "      <td>1</td>\n",
              "    </tr>\n",
              "    <tr>\n",
              "      <th>4</th>\n",
              "      <td>From: jcm@head-cfa.harvard.edu (Jonathan McDow...</td>\n",
              "      <td>14</td>\n",
              "    </tr>\n",
              "  </tbody>\n",
              "</table>\n",
              "</div>"
            ],
            "text/plain": [
              "                                               email  target\n",
              "0  From: lerxst@wam.umd.edu (where's my thing)\\nS...       7\n",
              "1  From: guykuo@carson.u.washington.edu (Guy Kuo)...       4\n",
              "2  From: twillis@ec.ecn.purdue.edu (Thomas E Will...       4\n",
              "3  From: jgreen@amber (Joe Green)\\nSubject: Re: W...       1\n",
              "4  From: jcm@head-cfa.harvard.edu (Jonathan McDow...      14"
            ]
          },
          "metadata": {
            "tags": []
          },
          "execution_count": 22
        }
      ]
    },
    {
      "cell_type": "code",
      "metadata": {
        "colab": {
          "base_uri": "https://localhost:8080/"
        },
        "id": "DkT9plz2UZGK",
        "outputId": "98319c34-c662-4dd9-b069-0105b11b6a35"
      },
      "source": [
        "data.info()"
      ],
      "execution_count": 23,
      "outputs": [
        {
          "output_type": "stream",
          "text": [
            "<class 'pandas.core.frame.DataFrame'>\n",
            "RangeIndex: 11314 entries, 0 to 11313\n",
            "Data columns (total 2 columns):\n",
            " #   Column  Non-Null Count  Dtype \n",
            "---  ------  --------------  ----- \n",
            " 0   email   11314 non-null  object\n",
            " 1   target  11314 non-null  int64 \n",
            "dtypes: int64(1), object(1)\n",
            "memory usage: 176.9+ KB\n"
          ],
          "name": "stdout"
        }
      ]
    },
    {
      "cell_type": "code",
      "metadata": {
        "colab": {
          "base_uri": "https://localhost:8080/"
        },
        "id": "6ODCCFCoUgaM",
        "outputId": "540187fa-31d4-48ed-d8b4-f4cde32ff2ed"
      },
      "source": [
        "data.isnull().values.any()"
      ],
      "execution_count": 24,
      "outputs": [
        {
          "output_type": "execute_result",
          "data": {
            "text/plain": [
              "False"
            ]
          },
          "metadata": {
            "tags": []
          },
          "execution_count": 24
        }
      ]
    },
    {
      "cell_type": "code",
      "metadata": {
        "colab": {
          "base_uri": "https://localhost:8080/"
        },
        "id": "eciTRBu8Up2I",
        "outputId": "41c56c25-eb26-4a6b-fdb0-b0d54eb19715"
      },
      "source": [
        "print('중복을 제외한 샘플의 수 : {}'.format(data['email'].nunique()))\n",
        "print('중복을 제외한 주제의 수 : {}'.format(data['target'].nunique()))"
      ],
      "execution_count": 25,
      "outputs": [
        {
          "output_type": "stream",
          "text": [
            "중복을 제외한 샘플의 수 : 11314\n",
            "중복을 제외한 주제의 수 : 20\n"
          ],
          "name": "stdout"
        }
      ]
    },
    {
      "cell_type": "code",
      "metadata": {
        "colab": {
          "base_uri": "https://localhost:8080/",
          "height": 268
        },
        "id": "-_IJ7tdHUvHE",
        "outputId": "a85b7810-71ba-4a08-fb82-741a09c04c3c"
      },
      "source": [
        "data['target'].value_counts().plot(kind='bar');"
      ],
      "execution_count": 26,
      "outputs": [
        {
          "output_type": "display_data",
          "data": {
            "image/png": "[encoded data removed]",
            "text/plain": [
              "<Figure size 432x288 with 1 Axes>"
            ]
          },
          "metadata": {
            "tags": [],
            "needs_background": "light"
          }
        }
      ]
    },
    {
      "cell_type": "code",
      "metadata": {
        "colab": {
          "base_uri": "https://localhost:8080/"
        },
        "id": "bPrrx1SLUymL",
        "outputId": "0f920e3b-8a48-427f-a851-38f2ef26778c"
      },
      "source": [
        "print(data.groupby('target').size())"
      ],
      "execution_count": 31,
      "outputs": [
        {
          "output_type": "stream",
          "text": [
            "target\n",
            "0     480\n",
            "1     584\n",
            "2     591\n",
            "3     590\n",
            "4     578\n",
            "5     593\n",
            "6     585\n",
            "7     594\n",
            "8     598\n",
            "9     597\n",
            "10    600\n",
            "11    595\n",
            "12    591\n",
            "13    594\n",
            "14    593\n",
            "15    599\n",
            "16    546\n",
            "17    564\n",
            "18    465\n",
            "19    377\n",
            "dtype: int64\n"
          ],
          "name": "stdout"
        }
      ]
    },
    {
      "cell_type": "code",
      "metadata": {
        "colab": {
          "base_uri": "https://localhost:8080/"
        },
        "id": "8h4P845yU_-k",
        "outputId": "1dd64ae8-9e7e-4ef9-e6a7-315b8c2d4c5f"
      },
      "source": [
        "print(data.groupby('target').size().reset_index(name='count'))"
      ],
      "execution_count": 33,
      "outputs": [
        {
          "output_type": "stream",
          "text": [
            "    target  count\n",
            "0        0    480\n",
            "1        1    584\n",
            "2        2    591\n",
            "3        3    590\n",
            "4        4    578\n",
            "5        5    593\n",
            "6        6    585\n",
            "7        7    594\n",
            "8        8    598\n",
            "9        9    597\n",
            "10      10    600\n",
            "11      11    595\n",
            "12      12    591\n",
            "13      13    594\n",
            "14      14    593\n",
            "15      15    599\n",
            "16      16    546\n",
            "17      17    564\n",
            "18      18    465\n",
            "19      19    377\n"
          ],
          "name": "stdout"
        }
      ]
    },
    {
      "cell_type": "code",
      "metadata": {
        "id": "2HsDJiQlVGmW"
      },
      "source": [
        "newsdata_test = fetch_20newsgroups(subset='test', shuffle=True) # 'test'를 기재하면 테스트 데이터만 리턴한다.\n",
        "train_email = data['email'] # 훈련 데이터의 본문 저장\n",
        "train_label = data['target'] # 훈련 데이터의 레이블 저장\n",
        "test_email = newsdata_test.data # 테스트 데이터의 본문 저장\n",
        "test_label = newsdata_test.target # 테스트 데이터의 레이블 저장"
      ],
      "execution_count": 34,
      "outputs": []
    },
    {
      "cell_type": "code",
      "metadata": {
        "id": "3tD9UERzVktq"
      },
      "source": [
        "max_words = 10000 # 실습에 사용할 단어의 최대 개수\n",
        "num_classes = 20 # 레이블의 수"
      ],
      "execution_count": 35,
      "outputs": []
    },
    {
      "cell_type": "code",
      "metadata": {
        "id": "kgrfXdWNVo59"
      },
      "source": [
        "def prepare_data(train_data, test_data, mode): # 전처리 함수\n",
        "    t = Tokenizer(num_words = max_words) # max_words 개수만큼의 단어만 사용한다.\n",
        "    t.fit_on_texts(train_data)\n",
        "    X_train = t.texts_to_matrix(train_data, mode=mode) # 샘플 수 × max_words 크기의 행렬 생성\n",
        "    X_test = t.texts_to_matrix(test_data, mode=mode) # 샘플 수 × max_words 크기의 행렬 생성\n",
        "    return X_train, X_test, t.index_word"
      ],
      "execution_count": 36,
      "outputs": []
    },
    {
      "cell_type": "code",
      "metadata": {
        "id": "41VTYxvaWKV7"
      },
      "source": [
        "X_train, X_test, index_to_word = prepare_data(train_email, test_email, 'binary') # binary 모드로 변환\n",
        "y_train = to_categorical(train_label, num_classes) # 원-핫 인코딩\n",
        "y_test = to_categorical(test_label, num_classes) # 원-핫 인코딩"
      ],
      "execution_count": 37,
      "outputs": []
    },
    {
      "cell_type": "code",
      "metadata": {
        "colab": {
          "base_uri": "https://localhost:8080/"
        },
        "id": "804R5BhdWU-o",
        "outputId": "66a823df-08bc-4eee-a2a8-163849e86575"
      },
      "source": [
        "print('훈련 샘플 본문의 크기 : {}'.format(X_train.shape))\n",
        "print('훈련 샘플 레이블의 크기 : {}'.format(y_train.shape))\n",
        "print('테스트 샘플 본문의 크기 : {}'.format(X_test.shape))\n",
        "print('테스트 샘플 레이블의 크기 : {}'.format(y_test.shape))"
      ],
      "execution_count": 38,
      "outputs": [
        {
          "output_type": "stream",
          "text": [
            "훈련 샘플 본문의 크기 : (11314, 10000)\n",
            "훈련 샘플 레이블의 크기 : (11314, 20)\n",
            "테스트 샘플 본문의 크기 : (7532, 10000)\n",
            "테스트 샘플 레이블의 크기 : (7532, 20)\n"
          ],
          "name": "stdout"
        }
      ]
    },
    {
      "cell_type": "code",
      "metadata": {
        "colab": {
          "base_uri": "https://localhost:8080/"
        },
        "id": "ln5CTIE1Wxfc",
        "outputId": "9ce1b64e-958a-4327-b7ee-f34f59159942"
      },
      "source": [
        "print('빈도수 상위 1번 단어 : {}'.format(index_to_word[1]))\n",
        "print('빈도수 상위 9999번 단어 : {}'.format(index_to_word[9999]))"
      ],
      "execution_count": 39,
      "outputs": [
        {
          "output_type": "stream",
          "text": [
            "빈도수 상위 1번 단어 : the\n",
            "빈도수 상위 9999번 단어 : mic\n"
          ],
          "name": "stdout"
        }
      ]
    },
    {
      "cell_type": "markdown",
      "metadata": {
        "id": "YTN8GbS4XSTQ"
      },
      "source": [
        "## 4. 다층 퍼셉트론(Multilayer Perceptron, MLP)을 사용하여 텍스트 분류하기\n"
      ]
    },
    {
      "cell_type": "code",
      "metadata": {
        "id": "Vq643mx4XAbL"
      },
      "source": [
        "from tensorflow.keras.models import Sequential\n",
        "from tensorflow.keras.layers import Dense, Dropout"
      ],
      "execution_count": 40,
      "outputs": []
    },
    {
      "cell_type": "code",
      "metadata": {
        "id": "aZOag8PBXezD"
      },
      "source": [
        "def fit_and_evaluate(X_train, y_train, X_test, y_test):\n",
        "    model = Sequential()\n",
        "    model.add(Dense(256, input_shape=(max_words,), activation='relu'))\n",
        "    model.add(Dropout(0.5))\n",
        "    model.add(Dense(128, activation='relu'))\n",
        "    model.add(Dropout(0.5))\n",
        "    model.add(Dense(num_classes, activation='softmax'))\n",
        "\n",
        "    model.compile(loss='categorical_crossentropy', optimizer='adam', metrics=['accuracy'])\n",
        "    model.fit(X_train, y_train, batch_size=128, epochs=5, verbose=1, validation_split=0.1)\n",
        "    score = model.evaluate(X_test, y_test, batch_size=128, verbose=0)\n",
        "    return score[1]"
      ],
      "execution_count": 41,
      "outputs": []
    },
    {
      "cell_type": "code",
      "metadata": {
        "colab": {
          "base_uri": "https://localhost:8080/"
        },
        "id": "wSPh3ya_XhPA",
        "outputId": "23b10228-32c4-4bae-e60a-951c057ca46a"
      },
      "source": [
        "modes = ['binary', 'count', 'tfidf', 'freq'] # 4개의 모드를 리스트에 저장.\n",
        "\n",
        "for mode in modes: # 4개의 모드에 대해서 각각 아래의 작업을 반복한다.\n",
        "    X_train, X_test, _ = prepare_data(train_email, test_email, mode) # 모드에 따라서 데이터를 전처리\n",
        "    score = fit_and_evaluate(X_train, y_train, X_test, y_test) # 모델을 훈련하고 평가.\n",
        "    print(mode+' 모드의 테스트 정확도:', score)"
      ],
      "execution_count": 42,
      "outputs": [
        {
          "output_type": "stream",
          "text": [
            "Epoch 1/5\n",
            "80/80 [==============================] - 3s 40ms/step - loss: 2.2743 - accuracy: 0.3371 - val_loss: 0.9590 - val_accuracy: 0.8171\n",
            "Epoch 2/5\n",
            "80/80 [==============================] - 3s 38ms/step - loss: 0.8724 - accuracy: 0.7587 - val_loss: 0.4599 - val_accuracy: 0.8825\n",
            "Epoch 3/5\n",
            "80/80 [==============================] - 3s 38ms/step - loss: 0.4321 - accuracy: 0.8822 - val_loss: 0.3325 - val_accuracy: 0.9064\n",
            "Epoch 4/5\n",
            "80/80 [==============================] - 3s 38ms/step - loss: 0.2479 - accuracy: 0.9370 - val_loss: 0.2976 - val_accuracy: 0.9125\n",
            "Epoch 5/5\n",
            "80/80 [==============================] - 3s 38ms/step - loss: 0.1740 - accuracy: 0.9582 - val_loss: 0.2842 - val_accuracy: 0.9231\n",
            "binary 모드의 테스트 정확도: 0.8244822025299072\n",
            "Epoch 1/5\n",
            "80/80 [==============================] - 3s 39ms/step - loss: 2.8145 - accuracy: 0.2594 - val_loss: 1.5820 - val_accuracy: 0.7544\n",
            "Epoch 2/5\n",
            "80/80 [==============================] - 3s 38ms/step - loss: 1.4059 - accuracy: 0.6296 - val_loss: 0.6891 - val_accuracy: 0.8463\n",
            "Epoch 3/5\n",
            "80/80 [==============================] - 3s 38ms/step - loss: 0.8017 - accuracy: 0.8016 - val_loss: 0.4875 - val_accuracy: 0.8807\n",
            "Epoch 4/5\n",
            "80/80 [==============================] - 3s 38ms/step - loss: 0.5363 - accuracy: 0.8676 - val_loss: 0.4253 - val_accuracy: 0.8860\n",
            "Epoch 5/5\n",
            "80/80 [==============================] - 5s 57ms/step - loss: 0.3980 - accuracy: 0.9106 - val_loss: 0.3916 - val_accuracy: 0.8958\n",
            "count 모드의 테스트 정확도: 0.8206319808959961\n",
            "Epoch 1/5\n",
            "80/80 [==============================] - 3s 43ms/step - loss: 2.2157 - accuracy: 0.3633 - val_loss: 0.7733 - val_accuracy: 0.8392\n",
            "Epoch 2/5\n",
            "80/80 [==============================] - 3s 40ms/step - loss: 0.8256 - accuracy: 0.7747 - val_loss: 0.4626 - val_accuracy: 0.8905\n",
            "Epoch 3/5\n",
            "80/80 [==============================] - 3s 39ms/step - loss: 0.4652 - accuracy: 0.8841 - val_loss: 0.3648 - val_accuracy: 0.9002\n",
            "Epoch 4/5\n",
            "80/80 [==============================] - 3s 39ms/step - loss: 0.2987 - accuracy: 0.9255 - val_loss: 0.3523 - val_accuracy: 0.9081\n",
            "Epoch 5/5\n",
            "80/80 [==============================] - 3s 39ms/step - loss: 0.2126 - accuracy: 0.9501 - val_loss: 0.3147 - val_accuracy: 0.9161\n",
            "tfidf 모드의 테스트 정확도: 0.8242166638374329\n",
            "Epoch 1/5\n",
            "80/80 [==============================] - 3s 40ms/step - loss: 2.9813 - accuracy: 0.0868 - val_loss: 2.9458 - val_accuracy: 0.2580\n",
            "Epoch 2/5\n",
            "80/80 [==============================] - 3s 38ms/step - loss: 2.7851 - accuracy: 0.2053 - val_loss: 2.4795 - val_accuracy: 0.4337\n",
            "Epoch 3/5\n",
            "80/80 [==============================] - 3s 38ms/step - loss: 2.2100 - accuracy: 0.3400 - val_loss: 1.8652 - val_accuracy: 0.5724\n",
            "Epoch 4/5\n",
            "80/80 [==============================] - 3s 38ms/step - loss: 1.7102 - accuracy: 0.4822 - val_loss: 1.4128 - val_accuracy: 0.7094\n",
            "Epoch 5/5\n",
            "80/80 [==============================] - 3s 38ms/step - loss: 1.3374 - accuracy: 0.5973 - val_loss: 1.0987 - val_accuracy: 0.7420\n",
            "freq 모드의 테스트 정확도: 0.6913170218467712\n"
          ],
          "name": "stdout"
        }
      ]
    },
    {
      "cell_type": "code",
      "metadata": {
        "id": "VP-eL2JLY8cN"
      },
      "source": [
        ""
      ],
      "execution_count": null,
      "outputs": []
    }
  ]
}