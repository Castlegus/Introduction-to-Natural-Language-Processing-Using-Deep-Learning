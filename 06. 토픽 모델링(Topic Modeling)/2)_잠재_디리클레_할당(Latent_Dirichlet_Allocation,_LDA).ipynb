{
  "nbformat": 4,
  "nbformat_minor": 0,
  "metadata": {
    "colab": {
      "name": "2) 잠재 디리클레 할당(Latent Dirichlet Allocation, LDA).ipynb",
      "provenance": [],
      "collapsed_sections": []
    },
    "kernelspec": {
      "name": "python3",
      "display_name": "Python 3"
    }
  },
  "cells": [
    {
      "cell_type": "markdown",
      "metadata": {
        "id": "yGtrDxp0bDU-"
      },
      "source": [
        "# 2) 잠재 디리클레 할당(Latent Dirichlet Allocation, LDA)"
      ]
    },
    {
      "cell_type": "markdown",
      "metadata": {
        "id": "UOMQYfOHy-4O"
      },
      "source": [
        "## 5. 실습을 통한 이해\n"
      ]
    },
    {
      "cell_type": "markdown",
      "metadata": {
        "id": "_CyuyWHkzAoo"
      },
      "source": [
        "### 1) 정수 인코딩과 단어 집합 만들기\n"
      ]
    },
    {
      "cell_type": "code",
      "metadata": {
        "colab": {
          "base_uri": "https://localhost:8080/"
        },
        "id": "UVH8pqJNbCa5",
        "outputId": "3ce94e6f-6739-4af3-fac8-72d3722bd594"
      },
      "source": [
        "import pandas as pd\n",
        "from sklearn.datasets import fetch_20newsgroups\n",
        "dataset = fetch_20newsgroups(shuffle=True, random_state=1, remove=('headers', 'footers', 'quotes'))\n",
        "documents = dataset.data\n",
        "len(documents)"
      ],
      "execution_count": 1,
      "outputs": [
        {
          "output_type": "stream",
          "text": [
            "Downloading 20news dataset. This may take a few minutes.\n",
            "Downloading dataset from https://ndownloader.figshare.com/files/5975967 (14 MB)\n"
          ],
          "name": "stderr"
        },
        {
          "output_type": "execute_result",
          "data": {
            "text/plain": [
              "11314"
            ]
          },
          "metadata": {
            "tags": []
          },
          "execution_count": 1
        }
      ]
    },
    {
      "cell_type": "code",
      "metadata": {
        "id": "CSXyspbEzEsl"
      },
      "source": [
        "news_df = pd.DataFrame({'document':documents})\n",
        "\n",
        "# 특수 문자 제거\n",
        "news_df['clean_doc'] = news_df['document'].str.replace(\"[^a-zA-Z]\", \" \")\n",
        "\n",
        "# 길이가 3이하인 단어는 제거 (길이가 짧은 단어 제거)\n",
        "news_df['clean_doc'] = news_df['clean_doc'].apply(lambda x: ' '.join([w for w in x.split() if len(w)>3]))\n",
        "\n",
        "# 전체 단어에 대한 소문자 변환\n",
        "news_df['clean_doc'] = news_df['clean_doc'].apply(lambda x: x.lower())"
      ],
      "execution_count": 2,
      "outputs": []
    },
    {
      "cell_type": "code",
      "metadata": {
        "colab": {
          "base_uri": "https://localhost:8080/"
        },
        "id": "M1tg_LGkzQIB",
        "outputId": "3ef5afb2-cc63-441e-d69c-77e435666dff"
      },
      "source": [
        "import nltk\n",
        "nltk.download('stopwords')\n",
        "from nltk.corpus import stopwords\n",
        "stop_words = stopwords.words('english') # NLTK로부터 불용어를 받아옵니다.\n",
        "\n",
        "tokenized_doc = news_df['clean_doc'].apply(lambda x: x.split()) # 토큰화\n",
        "tokenized_doc = tokenized_doc.apply(lambda x: [item for item in x if item not in stop_words])\n",
        "# 불용어를 제거합니다."
      ],
      "execution_count": 4,
      "outputs": [
        {
          "output_type": "stream",
          "text": [
            "[nltk_data] Downloading package stopwords to /root/nltk_data...\n",
            "[nltk_data]   Unzipping corpora/stopwords.zip.\n"
          ],
          "name": "stdout"
        }
      ]
    },
    {
      "cell_type": "code",
      "metadata": {
        "colab": {
          "base_uri": "https://localhost:8080/"
        },
        "id": "IF_DR2OTz07C",
        "outputId": "bffeee52-d012-4d06-daba-04911677a16e"
      },
      "source": [
        "tokenized_doc[:5]"
      ],
      "execution_count": 8,
      "outputs": [
        {
          "output_type": "execute_result",
          "data": {
            "text/plain": [
              "0    [well, sure, story, seem, biased, disagree, st...\n",
              "1    [yeah, expect, people, read, actually, accept,...\n",
              "2    [although, realize, principle, strongest, poin...\n",
              "3    [notwithstanding, legitimate, fuss, proposal, ...\n",
              "4    [well, change, scoring, playoff, pool, unfortu...\n",
              "Name: clean_doc, dtype: object"
            ]
          },
          "metadata": {
            "tags": []
          },
          "execution_count": 8
        }
      ]
    },
    {
      "cell_type": "code",
      "metadata": {
        "colab": {
          "base_uri": "https://localhost:8080/"
        },
        "id": "uasXSVfazcqx",
        "outputId": "c62e0acd-e63c-4f3d-957e-d63f8f115216"
      },
      "source": [
        "from gensim import corpora\n",
        "dictionary = corpora.Dictionary(tokenized_doc)\n",
        "corpus = [dictionary.doc2bow(text) for text in tokenized_doc]\n",
        "print(corpus[1]) # 수행된 결과에서 두번째 뉴스 출력. 첫번째 문서의 인덱스는 0"
      ],
      "execution_count": 9,
      "outputs": [
        {
          "output_type": "stream",
          "text": [
            "[(52, 1), (55, 1), (56, 1), (57, 1), (58, 1), (59, 1), (60, 1), (61, 1), (62, 1), (63, 1), (64, 1), (65, 1), (66, 2), (67, 1), (68, 1), (69, 1), (70, 1), (71, 2), (72, 1), (73, 1), (74, 1), (75, 1), (76, 1), (77, 1), (78, 2), (79, 1), (80, 1), (81, 1), (82, 1), (83, 1), (84, 1), (85, 2), (86, 1), (87, 1), (88, 1), (89, 1)]\n"
          ],
          "name": "stdout"
        }
      ]
    },
    {
      "cell_type": "code",
      "metadata": {
        "colab": {
          "base_uri": "https://localhost:8080/"
        },
        "id": "7Ih4XMZQ205_",
        "outputId": "22e752f9-789a-4f0e-caf1-59856c763561"
      },
      "source": [
        "corpus[:5]"
      ],
      "execution_count": 19,
      "outputs": [
        {
          "output_type": "execute_result",
          "data": {
            "text/plain": [
              "[[(0, 1),\n",
              "  (1, 1),\n",
              "  (2, 1),\n",
              "  (3, 1),\n",
              "  (4, 1),\n",
              "  (5, 1),\n",
              "  (6, 1),\n",
              "  (7, 1),\n",
              "  (8, 1),\n",
              "  (9, 1),\n",
              "  (10, 1),\n",
              "  (11, 1),\n",
              "  (12, 1),\n",
              "  (13, 1),\n",
              "  (14, 1),\n",
              "  (15, 1),\n",
              "  (16, 1),\n",
              "  (17, 1),\n",
              "  (18, 1),\n",
              "  (19, 1),\n",
              "  (20, 1),\n",
              "  (21, 2),\n",
              "  (22, 2),\n",
              "  (23, 1),\n",
              "  (24, 1),\n",
              "  (25, 1),\n",
              "  (26, 1),\n",
              "  (27, 1),\n",
              "  (28, 1),\n",
              "  (29, 4),\n",
              "  (30, 1),\n",
              "  (31, 1),\n",
              "  (32, 1),\n",
              "  (33, 1),\n",
              "  (34, 1),\n",
              "  (35, 1),\n",
              "  (36, 1),\n",
              "  (37, 1),\n",
              "  (38, 1),\n",
              "  (39, 1),\n",
              "  (40, 1),\n",
              "  (41, 1),\n",
              "  (42, 2),\n",
              "  (43, 1),\n",
              "  (44, 1),\n",
              "  (45, 1),\n",
              "  (46, 1),\n",
              "  (47, 1),\n",
              "  (48, 1),\n",
              "  (49, 1),\n",
              "  (50, 1),\n",
              "  (51, 1),\n",
              "  (52, 1),\n",
              "  (53, 1),\n",
              "  (54, 1)],\n",
              " [(52, 1),\n",
              "  (55, 1),\n",
              "  (56, 1),\n",
              "  (57, 1),\n",
              "  (58, 1),\n",
              "  (59, 1),\n",
              "  (60, 1),\n",
              "  (61, 1),\n",
              "  (62, 1),\n",
              "  (63, 1),\n",
              "  (64, 1),\n",
              "  (65, 1),\n",
              "  (66, 2),\n",
              "  (67, 1),\n",
              "  (68, 1),\n",
              "  (69, 1),\n",
              "  (70, 1),\n",
              "  (71, 2),\n",
              "  (72, 1),\n",
              "  (73, 1),\n",
              "  (74, 1),\n",
              "  (75, 1),\n",
              "  (76, 1),\n",
              "  (77, 1),\n",
              "  (78, 2),\n",
              "  (79, 1),\n",
              "  (80, 1),\n",
              "  (81, 1),\n",
              "  (82, 1),\n",
              "  (83, 1),\n",
              "  (84, 1),\n",
              "  (85, 2),\n",
              "  (86, 1),\n",
              "  (87, 1),\n",
              "  (88, 1),\n",
              "  (89, 1)],\n",
              " [(4, 1),\n",
              "  (23, 1),\n",
              "  (27, 1),\n",
              "  (30, 1),\n",
              "  (34, 2),\n",
              "  (49, 1),\n",
              "  (52, 1),\n",
              "  (86, 1),\n",
              "  (90, 1),\n",
              "  (91, 3),\n",
              "  (92, 1),\n",
              "  (93, 1),\n",
              "  (94, 1),\n",
              "  (95, 1),\n",
              "  (96, 1),\n",
              "  (97, 1),\n",
              "  (98, 1),\n",
              "  (99, 3),\n",
              "  (100, 1),\n",
              "  (101, 1),\n",
              "  (102, 1),\n",
              "  (103, 2),\n",
              "  (104, 1),\n",
              "  (105, 1),\n",
              "  (106, 3),\n",
              "  (107, 1),\n",
              "  (108, 1),\n",
              "  (109, 2),\n",
              "  (110, 1),\n",
              "  (111, 1),\n",
              "  (112, 1),\n",
              "  (113, 1),\n",
              "  (114, 1),\n",
              "  (115, 1),\n",
              "  (116, 1),\n",
              "  (117, 1),\n",
              "  (118, 1),\n",
              "  (119, 1),\n",
              "  (120, 1),\n",
              "  (121, 2),\n",
              "  (122, 1),\n",
              "  (123, 1),\n",
              "  (124, 1),\n",
              "  (125, 1),\n",
              "  (126, 1),\n",
              "  (127, 1),\n",
              "  (128, 1),\n",
              "  (129, 1),\n",
              "  (130, 3)],\n",
              " [(15, 1),\n",
              "  (57, 1),\n",
              "  (77, 1),\n",
              "  (108, 1),\n",
              "  (116, 1),\n",
              "  (131, 1),\n",
              "  (132, 1),\n",
              "  (133, 1),\n",
              "  (134, 1),\n",
              "  (135, 1),\n",
              "  (136, 1),\n",
              "  (137, 1),\n",
              "  (138, 2),\n",
              "  (139, 1),\n",
              "  (140, 1),\n",
              "  (141, 1),\n",
              "  (142, 1),\n",
              "  (143, 1),\n",
              "  (144, 1),\n",
              "  (145, 1),\n",
              "  (146, 1),\n",
              "  (147, 1),\n",
              "  (148, 1),\n",
              "  (149, 1),\n",
              "  (150, 1),\n",
              "  (151, 1),\n",
              "  (152, 1),\n",
              "  (153, 1),\n",
              "  (154, 1),\n",
              "  (155, 1),\n",
              "  (156, 1),\n",
              "  (157, 1),\n",
              "  (158, 1),\n",
              "  (159, 1),\n",
              "  (160, 1),\n",
              "  (161, 1),\n",
              "  (162, 1),\n",
              "  (163, 1),\n",
              "  (164, 1),\n",
              "  (165, 1),\n",
              "  (166, 1),\n",
              "  (167, 1),\n",
              "  (168, 1),\n",
              "  (169, 1),\n",
              "  (170, 1),\n",
              "  (171, 1),\n",
              "  (172, 1),\n",
              "  (173, 1),\n",
              "  (174, 1),\n",
              "  (175, 1),\n",
              "  (176, 1),\n",
              "  (177, 1),\n",
              "  (178, 1),\n",
              "  (179, 1),\n",
              "  (180, 1),\n",
              "  (181, 1),\n",
              "  (182, 1),\n",
              "  (183, 1),\n",
              "  (184, 1),\n",
              "  (185, 1),\n",
              "  (186, 1),\n",
              "  (187, 1),\n",
              "  (188, 1),\n",
              "  (189, 1),\n",
              "  (190, 1)],\n",
              " [(52, 1),\n",
              "  (57, 1),\n",
              "  (137, 1),\n",
              "  (191, 1),\n",
              "  (192, 1),\n",
              "  (193, 1),\n",
              "  (194, 1),\n",
              "  (195, 1),\n",
              "  (196, 1),\n",
              "  (197, 1),\n",
              "  (198, 1),\n",
              "  (199, 1),\n",
              "  (200, 1),\n",
              "  (201, 1),\n",
              "  (202, 1),\n",
              "  (203, 1),\n",
              "  (204, 1),\n",
              "  (205, 1),\n",
              "  (206, 1),\n",
              "  (207, 1),\n",
              "  (208, 2),\n",
              "  (209, 1),\n",
              "  (210, 1),\n",
              "  (211, 1),\n",
              "  (212, 1)]]"
            ]
          },
          "metadata": {
            "tags": []
          },
          "execution_count": 19
        }
      ]
    },
    {
      "cell_type": "code",
      "metadata": {
        "colab": {
          "base_uri": "https://localhost:8080/"
        },
        "id": "3g4E8UUK1Jds",
        "outputId": "062c4e2f-3180-4e27-dd58-fb47ff5a85a8"
      },
      "source": [
        "print(dictionary[66])"
      ],
      "execution_count": 10,
      "outputs": [
        {
          "output_type": "stream",
          "text": [
            "faith\n"
          ],
          "name": "stdout"
        }
      ]
    },
    {
      "cell_type": "code",
      "metadata": {
        "colab": {
          "base_uri": "https://localhost:8080/"
        },
        "id": "gCuqFgwj1v2A",
        "outputId": "79e6f001-1820-44cb-98b5-380cab7bd507"
      },
      "source": [
        "tokenized_doc[1].count('faith')"
      ],
      "execution_count": 16,
      "outputs": [
        {
          "output_type": "execute_result",
          "data": {
            "text/plain": [
              "2"
            ]
          },
          "metadata": {
            "tags": []
          },
          "execution_count": 16
        }
      ]
    },
    {
      "cell_type": "code",
      "metadata": {
        "colab": {
          "base_uri": "https://localhost:8080/"
        },
        "id": "07dkE4uq14I0",
        "outputId": "21ec18f0-bb3b-4333-e815-ab7dd8a9e898"
      },
      "source": [
        "len(dictionary)"
      ],
      "execution_count": 17,
      "outputs": [
        {
          "output_type": "execute_result",
          "data": {
            "text/plain": [
              "64281"
            ]
          },
          "metadata": {
            "tags": []
          },
          "execution_count": 17
        }
      ]
    },
    {
      "cell_type": "markdown",
      "metadata": {
        "id": "iTx3DlbV2nrB"
      },
      "source": [
        "### 2) LDA 모델 훈련시키기\n"
      ]
    },
    {
      "cell_type": "code",
      "metadata": {
        "colab": {
          "base_uri": "https://localhost:8080/"
        },
        "id": "Yp26Q2t82h-J",
        "outputId": "f4552953-953e-453f-803e-4b7e1fb062d0"
      },
      "source": [
        "import gensim\n",
        "NUM_TOPICS = 20 # 20개의 토픽, k=20\n",
        "ldamodel = gensim.models.ldamodel.LdaModel(corpus, num_topics = NUM_TOPICS, id2word=dictionary, passes=15) \n",
        "# passes는 알고리즘의 동작 횟수를 말하는데, 알고리즘이 결정하는 토픽의 값이 적절히 수렴할 수 있도록 충분히 적당한 횟수를 정해주면 됨\n",
        "topics = ldamodel.print_topics(num_words=4) # num_words=4로 총 4개의 단어만 출력\n",
        "for topic in topics:\n",
        "    print(topic)"
      ],
      "execution_count": 20,
      "outputs": [
        {
          "output_type": "stream",
          "text": [
            "(0, '0.010*\"guns\" + 0.007*\"right\" + 0.006*\"control\" + 0.006*\"weapons\"')\n",
            "(1, '0.021*\"period\" + 0.012*\"power\" + 0.011*\"detroit\" + 0.010*\"play\"')\n",
            "(2, '0.012*\"thanks\" + 0.011*\"software\" + 0.011*\"please\" + 0.010*\"anyone\"')\n",
            "(3, '0.016*\"health\" + 0.013*\"medical\" + 0.009*\"disease\" + 0.008*\"food\"')\n",
            "(4, '0.010*\"science\" + 0.009*\"university\" + 0.007*\"earth\" + 0.007*\"space\"')\n",
            "(5, '0.015*\"space\" + 0.006*\"data\" + 0.006*\"also\" + 0.006*\"program\"')\n",
            "(6, '0.007*\"number\" + 0.006*\"used\" + 0.006*\"water\" + 0.004*\"time\"')\n",
            "(7, '0.016*\"drive\" + 0.009*\"disk\" + 0.009*\"scsi\" + 0.009*\"system\"')\n",
            "(8, '0.012*\"bike\" + 0.009*\"ground\" + 0.007*\"wire\" + 0.006*\"cover\"')\n",
            "(9, '0.011*\"gordon\" + 0.011*\"soon\" + 0.011*\"pitt\" + 0.010*\"banks\"')\n",
            "(10, '0.010*\"armenian\" + 0.010*\"said\" + 0.009*\"armenians\" + 0.007*\"people\"')\n",
            "(11, '0.015*\"game\" + 0.015*\"team\" + 0.012*\"year\" + 0.011*\"israel\"')\n",
            "(12, '0.023*\"jesus\" + 0.013*\"bible\" + 0.011*\"christian\" + 0.011*\"church\"')\n",
            "(13, '0.029*\"file\" + 0.014*\"output\" + 0.013*\"entry\" + 0.011*\"program\"')\n",
            "(14, '0.010*\"nrhj\" + 0.007*\"wwiz\" + 0.006*\"bxom\" + 0.006*\"gizw\"')\n",
            "(15, '0.020*\"char\" + 0.013*\"filename\" + 0.009*\"radar\" + 0.009*\"shared\"')\n",
            "(16, '0.016*\"would\" + 0.012*\"people\" + 0.009*\"think\" + 0.008*\"know\"')\n",
            "(17, '0.021*\"window\" + 0.016*\"windows\" + 0.014*\"problem\" + 0.011*\"using\"')\n",
            "(18, '0.016*\"government\" + 0.011*\"president\" + 0.011*\"public\" + 0.009*\"encryption\"')\n",
            "(19, '0.017*\"sale\" + 0.014*\"price\" + 0.014*\"shipping\" + 0.013*\"offer\"')\n"
          ],
          "name": "stdout"
        }
      ]
    },
    {
      "cell_type": "code",
      "metadata": {
        "colab": {
          "base_uri": "https://localhost:8080/"
        },
        "id": "bsaKdkIF3RkH",
        "outputId": "fe1d885e-6a06-4b47-8f2a-6767cfc8d52e"
      },
      "source": [
        "print(ldamodel.print_topics())"
      ],
      "execution_count": 21,
      "outputs": [
        {
          "output_type": "stream",
          "text": [
            "[(0, '0.010*\"guns\" + 0.007*\"right\" + 0.006*\"control\" + 0.006*\"weapons\" + 0.006*\"crime\" + 0.006*\"firearms\" + 0.006*\"year\" + 0.005*\"cars\" + 0.004*\"second\" + 0.004*\"carry\"'), (1, '0.021*\"period\" + 0.012*\"power\" + 0.011*\"detroit\" + 0.010*\"play\" + 0.008*\"scorer\" + 0.007*\"kings\" + 0.007*\"calgary\" + 0.006*\"flames\" + 0.006*\"chicago\" + 0.006*\"winnipeg\"'), (2, '0.012*\"thanks\" + 0.011*\"software\" + 0.011*\"please\" + 0.010*\"anyone\" + 0.009*\"would\" + 0.009*\"know\" + 0.009*\"mail\" + 0.009*\"like\" + 0.009*\"also\" + 0.009*\"windows\"'), (3, '0.016*\"health\" + 0.013*\"medical\" + 0.009*\"disease\" + 0.008*\"food\" + 0.007*\"patients\" + 0.007*\"tobacco\" + 0.006*\"april\" + 0.006*\"among\" + 0.005*\"medicine\" + 0.005*\"cancer\"'), (4, '0.010*\"science\" + 0.009*\"university\" + 0.007*\"earth\" + 0.007*\"space\" + 0.006*\"research\" + 0.006*\"scientific\" + 0.006*\"center\" + 0.005*\"orbit\" + 0.005*\"nasa\" + 0.005*\"lunar\"'), (5, '0.015*\"space\" + 0.006*\"data\" + 0.006*\"also\" + 0.006*\"program\" + 0.005*\"year\" + 0.005*\"list\" + 0.004*\"nasa\" + 0.004*\"information\" + 0.004*\"send\" + 0.004*\"launch\"'), (6, '0.007*\"number\" + 0.006*\"used\" + 0.006*\"water\" + 0.004*\"time\" + 0.004*\"block\" + 0.003*\"power\" + 0.003*\"first\" + 0.003*\"would\" + 0.003*\"random\" + 0.003*\"nuclear\"'), (7, '0.016*\"drive\" + 0.009*\"disk\" + 0.009*\"scsi\" + 0.009*\"system\" + 0.007*\"hard\" + 0.006*\"card\" + 0.006*\"used\" + 0.006*\"like\" + 0.006*\"problem\" + 0.006*\"power\"'), (8, '0.012*\"bike\" + 0.009*\"ground\" + 0.007*\"wire\" + 0.006*\"cover\" + 0.005*\"road\" + 0.005*\"like\" + 0.005*\"ride\" + 0.004*\"wiring\" + 0.004*\"riding\" + 0.004*\"circuit\"'), (9, '0.011*\"gordon\" + 0.011*\"soon\" + 0.011*\"pitt\" + 0.010*\"banks\" + 0.008*\"surrender\" + 0.008*\"skepticism\" + 0.007*\"intellect\" + 0.007*\"sharks\" + 0.007*\"shameful\" + 0.007*\"cadre\"'), (10, '0.010*\"armenian\" + 0.010*\"said\" + 0.009*\"armenians\" + 0.007*\"people\" + 0.007*\"turkish\" + 0.007*\"jews\" + 0.006*\"went\" + 0.005*\"turkey\" + 0.004*\"killed\" + 0.004*\"came\"'), (11, '0.015*\"game\" + 0.015*\"team\" + 0.012*\"year\" + 0.011*\"israel\" + 0.010*\"games\" + 0.009*\"season\" + 0.008*\"last\" + 0.008*\"play\" + 0.008*\"players\" + 0.007*\"hockey\"'), (12, '0.023*\"jesus\" + 0.013*\"bible\" + 0.011*\"christian\" + 0.011*\"church\" + 0.010*\"christ\" + 0.009*\"christians\" + 0.007*\"faith\" + 0.006*\"word\" + 0.006*\"john\" + 0.005*\"lord\"'), (13, '0.029*\"file\" + 0.014*\"output\" + 0.013*\"entry\" + 0.011*\"program\" + 0.008*\"available\" + 0.007*\"files\" + 0.007*\"line\" + 0.007*\"name\" + 0.007*\"info\" + 0.007*\"server\"'), (14, '0.010*\"nrhj\" + 0.007*\"wwiz\" + 0.006*\"bxom\" + 0.006*\"gizw\" + 0.005*\"tbxn\" + 0.005*\"bhjn\" + 0.005*\"bxlt\" + 0.004*\"wmbxn\" + 0.004*\"nriz\" + 0.004*\"pnei\"'), (15, '0.020*\"char\" + 0.013*\"filename\" + 0.009*\"radar\" + 0.009*\"shared\" + 0.008*\"server\" + 0.007*\"candida\" + 0.006*\"coli\" + 0.006*\"client\" + 0.006*\"openwindows\" + 0.006*\"detector\"'), (16, '0.016*\"would\" + 0.012*\"people\" + 0.009*\"think\" + 0.008*\"know\" + 0.008*\"like\" + 0.006*\"even\" + 0.006*\"time\" + 0.006*\"well\" + 0.005*\"could\" + 0.005*\"many\"'), (17, '0.021*\"window\" + 0.016*\"windows\" + 0.014*\"problem\" + 0.011*\"using\" + 0.009*\"keyboard\" + 0.008*\"mouse\" + 0.008*\"display\" + 0.008*\"application\" + 0.007*\"error\" + 0.007*\"screen\"'), (18, '0.016*\"government\" + 0.011*\"president\" + 0.011*\"public\" + 0.009*\"encryption\" + 0.009*\"security\" + 0.007*\"chip\" + 0.007*\"clipper\" + 0.007*\"information\" + 0.006*\"privacy\" + 0.006*\"keys\"'), (19, '0.017*\"sale\" + 0.014*\"price\" + 0.014*\"shipping\" + 0.013*\"offer\" + 0.012*\"condition\" + 0.010*\"asking\" + 0.009*\"good\" + 0.009*\"excellent\" + 0.008*\"book\" + 0.007*\"sell\"')]\n"
          ],
          "name": "stdout"
        }
      ]
    },
    {
      "cell_type": "markdown",
      "metadata": {
        "id": "N6NTrNEb4HZ6"
      },
      "source": [
        "### 3) LDA 시각화 하기\n"
      ]
    },
    {
      "cell_type": "code",
      "metadata": {
        "colab": {
          "base_uri": "https://localhost:8080/"
        },
        "id": "avqOxkoI4BYe",
        "outputId": "d30f6c09-f12b-4269-e756-0461cb7213d8"
      },
      "source": [
        "pip install pyLDAvis"
      ],
      "execution_count": 22,
      "outputs": [
        {
          "output_type": "stream",
          "text": [
            "Collecting pyLDAvis\n",
            "\u001b[?25l  Downloading https://files.pythonhosted.org/packages/a5/3a/af82e070a8a96e13217c8f362f9a73e82d61ac8fff3a2561946a97f96266/pyLDAvis-2.1.2.tar.gz (1.6MB)\n",
            "\r\u001b[K     |▏                               | 10kB 16.9MB/s eta 0:00:01\r\u001b[K     |▍                               | 20kB 22.2MB/s eta 0:00:01\r\u001b[K     |▋                               | 30kB 26.0MB/s eta 0:00:01\r\u001b[K     |▉                               | 40kB 20.1MB/s eta 0:00:01\r\u001b[K     |█                               | 51kB 15.7MB/s eta 0:00:01\r\u001b[K     |█▏                              | 61kB 17.6MB/s eta 0:00:01\r\u001b[K     |█▍                              | 71kB 15.4MB/s eta 0:00:01\r\u001b[K     |█▋                              | 81kB 13.5MB/s eta 0:00:01\r\u001b[K     |█▉                              | 92kB 14.1MB/s eta 0:00:01\r\u001b[K     |██                              | 102kB 13.0MB/s eta 0:00:01\r\u001b[K     |██▎                             | 112kB 13.0MB/s eta 0:00:01\r\u001b[K     |██▍                             | 122kB 13.0MB/s eta 0:00:01\r\u001b[K     |██▋                             | 133kB 13.0MB/s eta 0:00:01\r\u001b[K     |██▉                             | 143kB 13.0MB/s eta 0:00:01\r\u001b[K     |███                             | 153kB 13.0MB/s eta 0:00:01\r\u001b[K     |███▎                            | 163kB 13.0MB/s eta 0:00:01\r\u001b[K     |███▌                            | 174kB 13.0MB/s eta 0:00:01\r\u001b[K     |███▋                            | 184kB 13.0MB/s eta 0:00:01\r\u001b[K     |███▉                            | 194kB 13.0MB/s eta 0:00:01\r\u001b[K     |████                            | 204kB 13.0MB/s eta 0:00:01\r\u001b[K     |████▎                           | 215kB 13.0MB/s eta 0:00:01\r\u001b[K     |████▌                           | 225kB 13.0MB/s eta 0:00:01\r\u001b[K     |████▊                           | 235kB 13.0MB/s eta 0:00:01\r\u001b[K     |████▉                           | 245kB 13.0MB/s eta 0:00:01\r\u001b[K     |█████                           | 256kB 13.0MB/s eta 0:00:01\r\u001b[K     |█████▎                          | 266kB 13.0MB/s eta 0:00:01\r\u001b[K     |█████▌                          | 276kB 13.0MB/s eta 0:00:01\r\u001b[K     |█████▊                          | 286kB 13.0MB/s eta 0:00:01\r\u001b[K     |█████▉                          | 296kB 13.0MB/s eta 0:00:01\r\u001b[K     |██████                          | 307kB 13.0MB/s eta 0:00:01\r\u001b[K     |██████▎                         | 317kB 13.0MB/s eta 0:00:01\r\u001b[K     |██████▌                         | 327kB 13.0MB/s eta 0:00:01\r\u001b[K     |██████▊                         | 337kB 13.0MB/s eta 0:00:01\r\u001b[K     |███████                         | 348kB 13.0MB/s eta 0:00:01\r\u001b[K     |███████                         | 358kB 13.0MB/s eta 0:00:01\r\u001b[K     |███████▎                        | 368kB 13.0MB/s eta 0:00:01\r\u001b[K     |███████▌                        | 378kB 13.0MB/s eta 0:00:01\r\u001b[K     |███████▊                        | 389kB 13.0MB/s eta 0:00:01\r\u001b[K     |████████                        | 399kB 13.0MB/s eta 0:00:01\r\u001b[K     |████████▏                       | 409kB 13.0MB/s eta 0:00:01\r\u001b[K     |████████▎                       | 419kB 13.0MB/s eta 0:00:01\r\u001b[K     |████████▌                       | 430kB 13.0MB/s eta 0:00:01\r\u001b[K     |████████▊                       | 440kB 13.0MB/s eta 0:00:01\r\u001b[K     |█████████                       | 450kB 13.0MB/s eta 0:00:01\r\u001b[K     |█████████▏                      | 460kB 13.0MB/s eta 0:00:01\r\u001b[K     |█████████▍                      | 471kB 13.0MB/s eta 0:00:01\r\u001b[K     |█████████▌                      | 481kB 13.0MB/s eta 0:00:01\r\u001b[K     |█████████▊                      | 491kB 13.0MB/s eta 0:00:01\r\u001b[K     |██████████                      | 501kB 13.0MB/s eta 0:00:01\r\u001b[K     |██████████▏                     | 512kB 13.0MB/s eta 0:00:01\r\u001b[K     |██████████▍                     | 522kB 13.0MB/s eta 0:00:01\r\u001b[K     |██████████▋                     | 532kB 13.0MB/s eta 0:00:01\r\u001b[K     |██████████▊                     | 542kB 13.0MB/s eta 0:00:01\r\u001b[K     |███████████                     | 552kB 13.0MB/s eta 0:00:01\r\u001b[K     |███████████▏                    | 563kB 13.0MB/s eta 0:00:01\r\u001b[K     |███████████▍                    | 573kB 13.0MB/s eta 0:00:01\r\u001b[K     |███████████▋                    | 583kB 13.0MB/s eta 0:00:01\r\u001b[K     |███████████▊                    | 593kB 13.0MB/s eta 0:00:01\r\u001b[K     |████████████                    | 604kB 13.0MB/s eta 0:00:01\r\u001b[K     |████████████▏                   | 614kB 13.0MB/s eta 0:00:01\r\u001b[K     |████████████▍                   | 624kB 13.0MB/s eta 0:00:01\r\u001b[K     |████████████▋                   | 634kB 13.0MB/s eta 0:00:01\r\u001b[K     |████████████▉                   | 645kB 13.0MB/s eta 0:00:01\r\u001b[K     |█████████████                   | 655kB 13.0MB/s eta 0:00:01\r\u001b[K     |█████████████▏                  | 665kB 13.0MB/s eta 0:00:01\r\u001b[K     |█████████████▍                  | 675kB 13.0MB/s eta 0:00:01\r\u001b[K     |█████████████▋                  | 686kB 13.0MB/s eta 0:00:01\r\u001b[K     |█████████████▉                  | 696kB 13.0MB/s eta 0:00:01\r\u001b[K     |██████████████                  | 706kB 13.0MB/s eta 0:00:01\r\u001b[K     |██████████████▏                 | 716kB 13.0MB/s eta 0:00:01\r\u001b[K     |██████████████▍                 | 727kB 13.0MB/s eta 0:00:01\r\u001b[K     |██████████████▋                 | 737kB 13.0MB/s eta 0:00:01\r\u001b[K     |██████████████▉                 | 747kB 13.0MB/s eta 0:00:01\r\u001b[K     |███████████████                 | 757kB 13.0MB/s eta 0:00:01\r\u001b[K     |███████████████▎                | 768kB 13.0MB/s eta 0:00:01\r\u001b[K     |███████████████▍                | 778kB 13.0MB/s eta 0:00:01\r\u001b[K     |███████████████▋                | 788kB 13.0MB/s eta 0:00:01\r\u001b[K     |███████████████▉                | 798kB 13.0MB/s eta 0:00:01\r\u001b[K     |████████████████                | 808kB 13.0MB/s eta 0:00:01\r\u001b[K     |████████████████▎               | 819kB 13.0MB/s eta 0:00:01\r\u001b[K     |████████████████▌               | 829kB 13.0MB/s eta 0:00:01\r\u001b[K     |████████████████▋               | 839kB 13.0MB/s eta 0:00:01\r\u001b[K     |████████████████▉               | 849kB 13.0MB/s eta 0:00:01\r\u001b[K     |█████████████████               | 860kB 13.0MB/s eta 0:00:01\r\u001b[K     |█████████████████▎              | 870kB 13.0MB/s eta 0:00:01\r\u001b[K     |█████████████████▌              | 880kB 13.0MB/s eta 0:00:01\r\u001b[K     |█████████████████▋              | 890kB 13.0MB/s eta 0:00:01\r\u001b[K     |█████████████████▉              | 901kB 13.0MB/s eta 0:00:01\r\u001b[K     |██████████████████              | 911kB 13.0MB/s eta 0:00:01\r\u001b[K     |██████████████████▎             | 921kB 13.0MB/s eta 0:00:01\r\u001b[K     |██████████████████▌             | 931kB 13.0MB/s eta 0:00:01\r\u001b[K     |██████████████████▊             | 942kB 13.0MB/s eta 0:00:01\r\u001b[K     |██████████████████▉             | 952kB 13.0MB/s eta 0:00:01\r\u001b[K     |███████████████████             | 962kB 13.0MB/s eta 0:00:01\r\u001b[K     |███████████████████▎            | 972kB 13.0MB/s eta 0:00:01\r\u001b[K     |███████████████████▌            | 983kB 13.0MB/s eta 0:00:01\r\u001b[K     |███████████████████▊            | 993kB 13.0MB/s eta 0:00:01\r\u001b[K     |████████████████████            | 1.0MB 13.0MB/s eta 0:00:01\r\u001b[K     |████████████████████            | 1.0MB 13.0MB/s eta 0:00:01\r\u001b[K     |████████████████████▎           | 1.0MB 13.0MB/s eta 0:00:01\r\u001b[K     |████████████████████▌           | 1.0MB 13.0MB/s eta 0:00:01\r\u001b[K     |████████████████████▊           | 1.0MB 13.0MB/s eta 0:00:01\r\u001b[K     |█████████████████████           | 1.1MB 13.0MB/s eta 0:00:01\r\u001b[K     |█████████████████████▏          | 1.1MB 13.0MB/s eta 0:00:01\r\u001b[K     |█████████████████████▎          | 1.1MB 13.0MB/s eta 0:00:01\r\u001b[K     |█████████████████████▌          | 1.1MB 13.0MB/s eta 0:00:01\r\u001b[K     |█████████████████████▊          | 1.1MB 13.0MB/s eta 0:00:01\r\u001b[K     |██████████████████████          | 1.1MB 13.0MB/s eta 0:00:01\r\u001b[K     |██████████████████████▏         | 1.1MB 13.0MB/s eta 0:00:01\r\u001b[K     |██████████████████████▍         | 1.1MB 13.0MB/s eta 0:00:01\r\u001b[K     |██████████████████████▌         | 1.1MB 13.0MB/s eta 0:00:01\r\u001b[K     |██████████████████████▊         | 1.1MB 13.0MB/s eta 0:00:01\r\u001b[K     |███████████████████████         | 1.2MB 13.0MB/s eta 0:00:01\r\u001b[K     |███████████████████████▏        | 1.2MB 13.0MB/s eta 0:00:01\r\u001b[K     |███████████████████████▍        | 1.2MB 13.0MB/s eta 0:00:01\r\u001b[K     |███████████████████████▌        | 1.2MB 13.0MB/s eta 0:00:01\r\u001b[K     |███████████████████████▊        | 1.2MB 13.0MB/s eta 0:00:01\r\u001b[K     |████████████████████████        | 1.2MB 13.0MB/s eta 0:00:01\r\u001b[K     |████████████████████████▏       | 1.2MB 13.0MB/s eta 0:00:01\r\u001b[K     |████████████████████████▍       | 1.2MB 13.0MB/s eta 0:00:01\r\u001b[K     |████████████████████████▋       | 1.2MB 13.0MB/s eta 0:00:01\r\u001b[K     |████████████████████████▊       | 1.2MB 13.0MB/s eta 0:00:01\r\u001b[K     |█████████████████████████       | 1.3MB 13.0MB/s eta 0:00:01\r\u001b[K     |█████████████████████████▏      | 1.3MB 13.0MB/s eta 0:00:01\r\u001b[K     |█████████████████████████▍      | 1.3MB 13.0MB/s eta 0:00:01\r\u001b[K     |█████████████████████████▋      | 1.3MB 13.0MB/s eta 0:00:01\r\u001b[K     |█████████████████████████▉      | 1.3MB 13.0MB/s eta 0:00:01\r\u001b[K     |██████████████████████████      | 1.3MB 13.0MB/s eta 0:00:01\r\u001b[K     |██████████████████████████▏     | 1.3MB 13.0MB/s eta 0:00:01\r\u001b[K     |██████████████████████████▍     | 1.3MB 13.0MB/s eta 0:00:01\r\u001b[K     |██████████████████████████▋     | 1.3MB 13.0MB/s eta 0:00:01\r\u001b[K     |██████████████████████████▉     | 1.4MB 13.0MB/s eta 0:00:01\r\u001b[K     |███████████████████████████     | 1.4MB 13.0MB/s eta 0:00:01\r\u001b[K     |███████████████████████████▏    | 1.4MB 13.0MB/s eta 0:00:01\r\u001b[K     |███████████████████████████▍    | 1.4MB 13.0MB/s eta 0:00:01\r\u001b[K     |███████████████████████████▋    | 1.4MB 13.0MB/s eta 0:00:01\r\u001b[K     |███████████████████████████▉    | 1.4MB 13.0MB/s eta 0:00:01\r\u001b[K     |████████████████████████████    | 1.4MB 13.0MB/s eta 0:00:01\r\u001b[K     |████████████████████████████▏   | 1.4MB 13.0MB/s eta 0:00:01\r\u001b[K     |████████████████████████████▍   | 1.4MB 13.0MB/s eta 0:00:01\r\u001b[K     |████████████████████████████▋   | 1.4MB 13.0MB/s eta 0:00:01\r\u001b[K     |████████████████████████████▉   | 1.5MB 13.0MB/s eta 0:00:01\r\u001b[K     |█████████████████████████████   | 1.5MB 13.0MB/s eta 0:00:01\r\u001b[K     |█████████████████████████████▎  | 1.5MB 13.0MB/s eta 0:00:01\r\u001b[K     |█████████████████████████████▍  | 1.5MB 13.0MB/s eta 0:00:01\r\u001b[K     |█████████████████████████████▋  | 1.5MB 13.0MB/s eta 0:00:01\r\u001b[K     |█████████████████████████████▉  | 1.5MB 13.0MB/s eta 0:00:01\r\u001b[K     |██████████████████████████████  | 1.5MB 13.0MB/s eta 0:00:01\r\u001b[K     |██████████████████████████████▎ | 1.5MB 13.0MB/s eta 0:00:01\r\u001b[K     |██████████████████████████████▌ | 1.5MB 13.0MB/s eta 0:00:01\r\u001b[K     |██████████████████████████████▋ | 1.5MB 13.0MB/s eta 0:00:01\r\u001b[K     |██████████████████████████████▉ | 1.6MB 13.0MB/s eta 0:00:01\r\u001b[K     |███████████████████████████████ | 1.6MB 13.0MB/s eta 0:00:01\r\u001b[K     |███████████████████████████████▎| 1.6MB 13.0MB/s eta 0:00:01\r\u001b[K     |███████████████████████████████▌| 1.6MB 13.0MB/s eta 0:00:01\r\u001b[K     |███████████████████████████████▊| 1.6MB 13.0MB/s eta 0:00:01\r\u001b[K     |███████████████████████████████▉| 1.6MB 13.0MB/s eta 0:00:01\r\u001b[K     |████████████████████████████████| 1.6MB 13.0MB/s \n",
            "\u001b[?25hRequirement already satisfied: wheel>=0.23.0 in /usr/local/lib/python3.6/dist-packages (from pyLDAvis) (0.35.1)\n",
            "Requirement already satisfied: numpy>=1.9.2 in /usr/local/lib/python3.6/dist-packages (from pyLDAvis) (1.18.5)\n",
            "Requirement already satisfied: scipy>=0.18.0 in /usr/local/lib/python3.6/dist-packages (from pyLDAvis) (1.4.1)\n",
            "Requirement already satisfied: pandas>=0.17.0 in /usr/local/lib/python3.6/dist-packages (from pyLDAvis) (1.1.4)\n",
            "Requirement already satisfied: joblib>=0.8.4 in /usr/local/lib/python3.6/dist-packages (from pyLDAvis) (0.17.0)\n",
            "Requirement already satisfied: jinja2>=2.7.2 in /usr/local/lib/python3.6/dist-packages (from pyLDAvis) (2.11.2)\n",
            "Requirement already satisfied: numexpr in /usr/local/lib/python3.6/dist-packages (from pyLDAvis) (2.7.1)\n",
            "Requirement already satisfied: pytest in /usr/local/lib/python3.6/dist-packages (from pyLDAvis) (3.6.4)\n",
            "Requirement already satisfied: future in /usr/local/lib/python3.6/dist-packages (from pyLDAvis) (0.16.0)\n",
            "Collecting funcy\n",
            "  Downloading https://files.pythonhosted.org/packages/66/89/479de0afbbfb98d1c4b887936808764627300208bb771fcd823403645a36/funcy-1.15-py2.py3-none-any.whl\n",
            "Requirement already satisfied: pytz>=2017.2 in /usr/local/lib/python3.6/dist-packages (from pandas>=0.17.0->pyLDAvis) (2018.9)\n",
            "Requirement already satisfied: python-dateutil>=2.7.3 in /usr/local/lib/python3.6/dist-packages (from pandas>=0.17.0->pyLDAvis) (2.8.1)\n",
            "Requirement already satisfied: MarkupSafe>=0.23 in /usr/local/lib/python3.6/dist-packages (from jinja2>=2.7.2->pyLDAvis) (1.1.1)\n",
            "Requirement already satisfied: atomicwrites>=1.0 in /usr/local/lib/python3.6/dist-packages (from pytest->pyLDAvis) (1.4.0)\n",
            "Requirement already satisfied: six>=1.10.0 in /usr/local/lib/python3.6/dist-packages (from pytest->pyLDAvis) (1.15.0)\n",
            "Requirement already satisfied: py>=1.5.0 in /usr/local/lib/python3.6/dist-packages (from pytest->pyLDAvis) (1.9.0)\n",
            "Requirement already satisfied: setuptools in /usr/local/lib/python3.6/dist-packages (from pytest->pyLDAvis) (50.3.2)\n",
            "Requirement already satisfied: attrs>=17.4.0 in /usr/local/lib/python3.6/dist-packages (from pytest->pyLDAvis) (20.3.0)\n",
            "Requirement already satisfied: more-itertools>=4.0.0 in /usr/local/lib/python3.6/dist-packages (from pytest->pyLDAvis) (8.6.0)\n",
            "Requirement already satisfied: pluggy<0.8,>=0.5 in /usr/local/lib/python3.6/dist-packages (from pytest->pyLDAvis) (0.7.1)\n",
            "Building wheels for collected packages: pyLDAvis\n",
            "  Building wheel for pyLDAvis (setup.py) ... \u001b[?25l\u001b[?25hdone\n",
            "  Created wheel for pyLDAvis: filename=pyLDAvis-2.1.2-py2.py3-none-any.whl size=97712 sha256=c2c71849e9a71fa2f02e6705d60b037a403d6dc700d600f1bd232182c4e4907d\n",
            "  Stored in directory: /root/.cache/pip/wheels/98/71/24/513a99e58bb6b8465bae4d2d5e9dba8f0bef8179e3051ac414\n",
            "Successfully built pyLDAvis\n",
            "Installing collected packages: funcy, pyLDAvis\n",
            "Successfully installed funcy-1.15 pyLDAvis-2.1.2\n"
          ],
          "name": "stdout"
        }
      ]
    },
    {
      "cell_type": "code",
      "metadata": {
        "colab": {
          "base_uri": "https://localhost:8080/",
          "height": 859
        },
        "id": "7cptxwJr4Ksp",
        "outputId": "b19cfad3-a033-41cf-de48-b73a318ba7b4"
      },
      "source": [
        "import pyLDAvis.gensim\n",
        "pyLDAvis.enable_notebook()\n",
        "vis = pyLDAvis.gensim.prepare(ldamodel, corpus, dictionary)\n",
        "pyLDAvis.display(vis)"
      ],
      "execution_count": 23,
      "outputs": [
        {
          "output_type": "execute_result",
          "data": {
            "text/html": [
              "\n",
              "<link rel=\"stylesheet\" type=\"text/css\" href=\"https://cdn.rawgit.com/bmabey/pyLDAvis/files/ldavis.v1.0.0.css\">\n",
              "\n",
              "\n",
              "<div id=\"ldavis_el581400061521049606524785243\"></div>\n",
              "<script type=\"text/javascript\">\n",
              "\n",
              "var ldavis_el581400061521049606524785243_data = {\"mdsDat\": {\"x\": [0.23573639159823367, 0.21191951345290225, 0.12986130520936573, 0.19791662630503817, 0.04067608037732733, 0.09140973680387748, 0.05957070900547829, 0.09718304524466892, 0.0880574177234832, -0.04683382514362965, 0.002435223106187388, 0.11185748719535575, -0.08955016918681749, 0.013165248787691214, -0.13658123467714728, -0.09438447484485521, -0.26132041698491953, -0.22116159344501687, -0.19279535146044693, -0.2371617190667765], \"y\": [-0.07627721964513337, 0.1677798514753518, -0.004063131584463889, 0.05497027013372827, -0.24250378515488508, -0.04883407252609782, -0.14082700015670693, 0.20986864631642285, -0.05989193998613818, -0.040199757300160795, -0.17279224387839195, 0.15103910671081572, 0.016882241853807926, 0.004520393704209825, -0.0928663146890612, 0.08377709668106641, 0.061909717891940344, 0.0005622976025583647, 0.09911438832066757, 0.027831454230469017], \"topics\": [1, 2, 3, 4, 5, 6, 7, 8, 9, 10, 11, 12, 13, 14, 15, 16, 17, 18, 19, 20], \"cluster\": [1, 1, 1, 1, 1, 1, 1, 1, 1, 1, 1, 1, 1, 1, 1, 1, 1, 1, 1, 1], \"Freq\": [29.165845484367846, 7.832564130360306, 6.910605158643558, 6.8406222121995475, 6.209267640538728, 5.579236111539427, 4.8639229598287885, 4.371162527266569, 4.356103721413258, 3.747755950409595, 3.399041940761675, 3.349779573965892, 2.795153230699967, 2.609277814402696, 2.048496920172469, 1.7218639986666087, 1.260624532679327, 1.259064545294216, 0.8994276990736859, 0.7801838477158253]}, \"tinfo\": {\"Term\": [\"file\", \"people\", \"windows\", \"space\", \"problem\", \"jesus\", \"drive\", \"good\", \"government\", \"know\", \"window\", \"would\", \"said\", \"like\", \"year\", \"team\", \"game\", \"program\", \"think\", \"power\", \"anyone\", \"please\", \"thanks\", \"output\", \"software\", \"president\", \"using\", \"information\", \"system\", \"entry\", \"evidence\", \"moral\", \"christianity\", \"koresh\", \"conclusion\", \"atheists\", \"morality\", \"quote\", \"statements\", \"merely\", \"disagree\", \"claim\", \"reasoning\", \"guilty\", \"convince\", \"assumption\", \"sentence\", \"islam\", \"imply\", \"argue\", \"blame\", \"marriage\", \"sabbath\", \"phrase\", \"homosexuality\", \"bosnia\", \"absolute\", \"believing\", \"homosexuals\", \"arguing\", \"admit\", \"agree\", \"clearly\", \"argument\", \"mean\", \"certainly\", \"meant\", \"personally\", \"explain\", \"people\", \"doubt\", \"think\", \"believe\", \"understand\", \"reason\", \"whether\", \"opinion\", \"person\", \"would\", \"something\", \"saying\", \"things\", \"nothing\", \"fact\", \"even\", \"question\", \"really\", \"wrong\", \"course\", \"know\", \"feel\", \"point\", \"rather\", \"never\", \"many\", \"well\", \"thing\", \"like\", \"true\", \"make\", \"come\", \"could\", \"take\", \"time\", \"want\", \"much\", \"going\", \"good\", \"might\", \"said\", \"right\", \"made\", \"also\", \"since\", \"graphics\", \"jpeg\", \"amiga\", \"printer\", \"shareware\", \"sony\", \"graphic\", \"tiff\", \"diamond\", \"linux\", \"compressed\", \"powerbook\", \"forsale\", \"chipset\", \"kong\", \"printers\", \"raster\", \"risc\", \"quicktime\", \"precision\", \"cdrom\", \"micro\", \"freeware\", \"coprocessor\", \"ncsa\", \"desktop\", \"developer\", \"zoom\", \"simtel\", \"sunview\", \"formats\", \"image\", \"motorola\", \"macintosh\", \"novell\", \"software\", \"color\", \"routines\", \"advance\", \"thanks\", \"packages\", \"utilities\", \"images\", \"version\", \"processing\", \"video\", \"appreciated\", \"package\", \"mail\", \"please\", \"windows\", \"unix\", \"format\", \"anyone\", \"tools\", \"looking\", \"email\", \"machines\", \"available\", \"files\", \"help\", \"info\", \"monitor\", \"know\", \"also\", \"like\", \"card\", \"need\", \"would\", \"information\", \"program\", \"send\", \"system\", \"using\", \"want\", \"could\", \"good\", \"launch\", \"contest\", \"uuencode\", \"guidelines\", \"monthly\", \"socket\", \"listserv\", \"payload\", \"obscure\", \"aerospace\", \"cluster\", \"digest\", \"balloon\", \"launches\", \"explorer\", \"accelerators\", \"astronaut\", \"clip\", \"sensing\", \"powerpc\", \"meters\", \"aviation\", \"argentina\", \"ssto\", \"lyme\", \"upgrades\", \"bicycle\", \"coding\", \"inspector\", \"collaboration\", \"myers\", \"printf\", \"nubus\", \"senior\", \"space\", \"accelerator\", \"projects\", \"winners\", \"bandwidth\", \"remark\", \"shuttle\", \"facilities\", \"nasa\", \"satellites\", \"satellite\", \"requests\", \"technical\", \"expose\", \"development\", \"vehicle\", \"station\", \"operations\", \"data\", \"list\", \"commercial\", \"research\", \"send\", \"program\", \"request\", \"year\", \"cost\", \"service\", \"information\", \"news\", \"also\", \"available\", \"three\", \"technology\", \"national\", \"system\", \"first\", \"time\", \"last\", \"mail\", \"high\", \"based\", \"scsi\", \"drives\", \"controller\", \"floppy\", \"motherboard\", \"bios\", \"drive\", \"simms\", \"boot\", \"adapter\", \"plastic\", \"stereo\", \"adaptec\", \"compass\", \"connector\", \"macs\", \"slots\", \"eisa\", \"weaver\", \"jumper\", \"ethernet\", \"pins\", \"aspi\", \"yankees\", \"cables\", \"jumpers\", \"simm\", \"temp\", \"floppies\", \"cmos\", \"brake\", \"quadra\", \"disk\", \"centris\", \"speed\", \"tape\", \"apple\", \"backup\", \"port\", \"cable\", \"hard\", \"cache\", \"card\", \"memory\", \"board\", \"supply\", \"modem\", \"external\", \"internal\", \"switch\", \"system\", \"power\", \"chips\", \"problem\", \"chip\", \"used\", \"need\", \"work\", \"like\", \"computer\", \"data\", \"problems\", \"time\", \"also\", \"would\", \"using\", \"know\", \"much\", \"armenian\", \"armenians\", \"turkish\", \"turkey\", \"armenia\", \"turks\", \"genocide\", \"apartment\", \"azerbaijan\", \"henrik\", \"azerbaijani\", \"sumgait\", \"karina\", \"greece\", \"karabakh\", \"republic\", \"quebec\", \"argic\", \"ottoman\", \"serdar\", \"azeri\", \"mamma\", \"village\", \"baku\", \"azerbaijanis\", \"cyprus\", \"azeris\", \"rockefeller\", \"kurds\", \"istanbul\", \"soldiers\", \"burned\", \"jews\", \"nazi\", \"muslim\", \"killed\", \"went\", \"soviet\", \"russian\", \"greek\", \"villages\", \"army\", \"said\", \"came\", \"jewish\", \"took\", \"started\", \"women\", \"people\", \"children\", \"military\", \"told\", \"first\", \"left\", \"government\", \"world\", \"president\", \"encryption\", \"clipper\", \"privacy\", \"stephanopoulos\", \"ripem\", \"enforcement\", \"escrow\", \"cryptography\", \"crypto\", \"nist\", \"senate\", \"wiretap\", \"ncsl\", \"classified\", \"anonymity\", \"surveillance\", \"senator\", \"republicans\", \"bullock\", \"deficit\", \"ieee\", \"unto\", \"stimulus\", \"filed\", \"males\", \"attorney\", \"denver\", \"authentication\", \"rsaref\", \"security\", \"clinton\", \"secure\", \"agencies\", \"congress\", \"administration\", \"initiative\", \"jobs\", \"government\", \"phones\", \"federal\", \"public\", \"private\", \"keys\", \"proposal\", \"algorithm\", \"chip\", \"court\", \"secretary\", \"secret\", \"united\", \"legal\", \"information\", \"states\", \"technology\", \"national\", \"rights\", \"state\", \"system\", \"american\", \"season\", \"players\", \"hockey\", \"israeli\", \"teams\", \"montreal\", \"palestinian\", \"puck\", \"pitching\", \"playoffs\", \"scored\", \"morris\", \"pens\", \"espn\", \"playoff\", \"coach\", \"wins\", \"scores\", \"israelis\", \"lebanese\", \"stanley\", \"bruins\", \"gaza\", \"hitter\", \"mets\", \"cooper\", \"clemens\", \"aged\", \"goalie\", \"murray\", \"league\", \"team\", \"fans\", \"game\", \"baseball\", \"israel\", \"games\", \"player\", \"rangers\", \"score\", \"pittsburgh\", \"played\", \"play\", \"boston\", \"ball\", \"arab\", \"year\", \"toronto\", \"division\", \"last\", \"runs\", \"points\", \"pick\", \"good\", \"first\", \"better\", \"best\", \"back\", \"would\", \"think\", \"like\", \"time\", \"well\", \"contrib\", \"entries\", \"oname\", \"fprintf\", \"ioccc\", \"obfuscated\", \"stderr\", \"imake\", \"smokeless\", \"prog\", \"xvoid\", \"stdin\", \"anon\", \"shar\", \"landon\", \"defaults\", \"mkentry\", \"noll\", \"login\", \"whitespace\", \"prompt\", \"emacs\", \"handler\", \"bassel\", \"toad\", \"mailer\", \"xmosaic\", \"makefile\", \"toolkits\", \"builder\", \"entry\", \"exit\", \"file\", \"output\", \"export\", \"xlib\", \"stream\", \"motif\", \"title\", \"section\", \"anonymous\", \"directory\", \"null\", \"server\", \"comp\", \"author\", \"build\", \"misc\", \"rules\", \"program\", \"info\", \"files\", \"subject\", \"check\", \"line\", \"source\", \"open\", \"name\", \"available\", \"size\", \"information\", \"code\", \"number\", \"include\", \"pitcher\", \"plaintext\", \"african\", \"outbreak\", \"grounded\", \"sdpa\", \"cryptanalysis\", \"zionism\", \"plants\", \"enemies\", \"reactions\", \"asala\", \"sword\", \"rounds\", \"cryptosystem\", \"fuse\", \"hellman\", \"gerard\", \"corn\", \"decryption\", \"intentional\", \"organisation\", \"cryptosystems\", \"babies\", \"skipjack\", \"inspection\", \"capitalist\", \"crypt\", \"clause\", \"confidential\", \"generates\", \"aluminum\", \"water\", \"plant\", \"block\", \"random\", \"outlet\", \"nuclear\", \"blocks\", \"heat\", \"number\", \"bits\", \"attack\", \"protection\", \"used\", \"serial\", \"presumably\", \"unit\", \"power\", \"georgia\", \"parts\", \"known\", \"time\", \"first\", \"part\", \"large\", \"must\", \"back\", \"every\", \"would\", \"even\", \"family\", \"since\", \"contains\", \"like\", \"much\", \"long\", \"could\", \"jesus\", \"christ\", \"lord\", \"matthew\", \"judas\", \"catholic\", \"scripture\", \"biblical\", \"pope\", \"satan\", \"resurrection\", \"testament\", \"passages\", \"gospel\", \"orthodox\", \"luke\", \"prophet\", \"prophecy\", \"liar\", \"salvation\", \"sins\", \"mormon\", \"verse\", \"scriptures\", \"messiah\", \"revelation\", \"financial\", \"disciples\", \"cure\", \"ciphertext\", \"church\", \"bible\", \"holy\", \"heaven\", \"doctrine\", \"spirit\", \"easter\", \"christian\", \"christians\", \"divine\", \"faith\", \"father\", \"eternal\", \"mary\", \"john\", \"word\", \"paul\", \"book\", \"death\", \"pain\", \"books\", \"atheism\", \"words\", \"belief\", \"life\", \"also\", \"shall\", \"name\", \"world\", \"guns\", \"firearms\", \"militia\", \"cubs\", \"braves\", \"helmet\", \"firearm\", \"handgun\", \"handguns\", \"homicide\", \"phillies\", \"rkba\", \"regulated\", \"dodgers\", \"homicides\", \"accidents\", \"jumped\", \"revolver\", \"aunt\", \"lopez\", \"cincinnati\", \"suck\", \"civic\", \"pitchers\", \"bedroom\", \"twins\", \"convicted\", \"jacket\", \"awards\", \"assault\", \"weapon\", \"alcohol\", \"knife\", \"weapons\", \"amendment\", \"crime\", \"toyota\", \"concealed\", \"cars\", \"criminals\", \"violent\", \"autos\", \"carry\", \"arms\", \"drugs\", \"control\", \"defense\", \"bear\", \"police\", \"street\", \"auto\", \"rate\", \"criminal\", \"right\", \"year\", \"second\", \"safety\", \"state\", \"laws\", \"city\", \"well\", \"colormap\", \"cursor\", \"icon\", \"workstation\", \"outlets\", \"cview\", \"libxmu\", \"pixmap\", \"dialog\", \"sync\", \"ctrl\", \"maxbyte\", \"runner\", \"toplevel\", \"outline\", \"translations\", \"intrinsics\", \"callback\", \"console\", \"debugger\", \"bronx\", \"mounting\", \"hostname\", \"autoexec\", \"messenger\", \"temporarily\", \"inflammatory\", \"popup\", \"xtpointer\", \"xxxx\", \"width\", \"window\", \"keyboard\", \"button\", \"mouse\", \"menu\", \"xterm\", \"font\", \"typing\", \"shell\", \"string\", \"application\", \"manager\", \"error\", \"windows\", \"config\", \"fonts\", \"widget\", \"screen\", \"display\", \"visual\", \"errors\", \"problem\", \"byte\", \"default\", \"using\", \"running\", \"resource\", \"type\", \"value\", \"program\", \"code\", \"work\", \"problems\", \"system\", \"call\", \"time\", \"text\", \"following\", \"spacecraft\", \"mars\", \"sleeve\", \"planetary\", \"venus\", \"ozone\", \"molecular\", \"observatory\", \"astronomical\", \"shaft\", \"vpic\", \"jupiter\", \"infrared\", \"propulsion\", \"colony\", \"amongst\", \"restraint\", \"kits\", \"galileo\", \"seminar\", \"lawrence\", \"fusion\", \"comet\", \"echl\", \"orbiting\", \"physicist\", \"particle\", \"sega\", \"astronomy\", \"orbits\", \"telescope\", \"lunar\", \"atmosphere\", \"solar\", \"orbit\", \"orbiter\", \"navy\", \"science\", \"scientific\", \"earth\", \"energy\", \"university\", \"avenue\", \"francis\", \"proceedings\", \"theory\", \"moon\", \"research\", \"center\", \"surface\", \"institute\", \"mass\", \"nasa\", \"star\", \"space\", \"robert\", \"mission\", \"contact\", \"model\", \"april\", \"information\", \"bike\", \"wiring\", \"motorcycle\", \"voltage\", \"rider\", \"riding\", \"circuits\", \"grounding\", \"conductor\", \"gfci\", \"adobe\", \"riders\", \"laptop\", \"hulk\", \"init\", \"torque\", \"wolverine\", \"comics\", \"breaker\", \"throttle\", \"countersteering\", \"toshiba\", \"copper\", \"forged\", \"installations\", \"qemm\", \"comic\", \"prong\", \"rides\", \"mint\", \"wire\", \"metal\", \"rear\", \"steering\", \"bikes\", \"ride\", \"gear\", \"ground\", \"circuit\", \"slave\", \"neutral\", \"cover\", \"shop\", \"motorcycles\", \"road\", \"electrical\", \"wheel\", \"copies\", \"green\", \"seat\", \"turn\", \"current\", \"front\", \"connected\", \"left\", \"like\", \"appears\", \"enough\", \"light\", \"much\", \"usually\", \"line\", \"good\", \"patients\", \"tobacco\", \"cancer\", \"diseases\", \"diet\", \"hicnet\", \"surgery\", \"clinical\", \"prevalence\", \"therapy\", \"foods\", \"rows\", \"diagnosed\", \"immune\", \"gonorrhea\", \"kansas\", \"mmwr\", \"headaches\", \"canadiens\", \"treatments\", \"moncton\", \"providence\", \"diagnosis\", \"darkness\", \"bacteria\", \"springfield\", \"muscles\", \"declined\", \"doses\", \"rockies\", \"disease\", \"medical\", \"infection\", \"aids\", \"baltimore\", \"medicine\", \"health\", \"prevention\", \"symptoms\", \"newsletter\", \"doctors\", \"food\", \"indians\", \"treatment\", \"injury\", \"among\", \"april\", \"study\", \"page\", \"increased\", \"volume\", \"studies\", \"reported\", \"center\", \"blood\", \"insurance\", \"years\", \"research\", \"children\", \"york\", \"docs\", \"allocation\", \"exhaust\", \"alomar\", \"paradox\", \"retail\", \"sockets\", \"icons\", \"ireland\", \"invalid\", \"horror\", \"rectangle\", \"auth\", \"mwra\", \"vertex\", \"baerga\", \"queen\", \"borland\", \"flaws\", \"unregistered\", \"redraw\", \"paperback\", \"lssu\", \"collision\", \"uccxkvb\", \"wysiwyg\", \"entirety\", \"nerves\", \"rectangular\", \"compensate\", \"sale\", \"obfuscate\", \"shipping\", \"condition\", \"offer\", \"asking\", \"excellent\", \"manuals\", \"price\", \"guide\", \"selling\", \"disks\", \"sell\", \"picture\", \"book\", \"items\", \"unit\", \"included\", \"good\", \"trade\", \"original\", \"offers\", \"interested\", \"best\", \"call\", \"manual\", \"great\", \"mail\", \"make\", \"following\", \"nrhj\", \"wwiz\", \"bxom\", \"gizw\", \"tbxn\", \"bhjn\", \"bxlt\", \"wmbxn\", \"nriz\", \"pnei\", \"mbxn\", \"tbxom\", \"rchz\", \"pmfq\", \"jpwu\", \"gizwt\", \"wwhj\", \"promo\", \"eqtm\", \"chzd\", \"nrizwt\", \"nkjz\", \"rlhz\", \"hojali\", \"chzv\", \"fijh\", \"lens\", \"zrck\", \"zrlk\", \"kirlian\", \"maine\", \"part\", \"scorer\", \"winnipeg\", \"polygon\", \"gretzky\", \"vernon\", \"glutamate\", \"agrep\", \"otto\", \"nords\", \"norris\", \"smythe\", \"dial\", \"sydor\", \"chelios\", \"wales\", \"roberts\", \"hull\", \"yorn\", \"courtnall\", \"shanahan\", \"sandstrom\", \"roenick\", \"mime\", \"suter\", \"sutter\", \"macinnis\", \"coffey\", \"lafontaine\", \"probert\", \"granato\", \"tampa\", \"edmonton\", \"detroit\", \"hawks\", \"murphy\", \"linked\", \"calgary\", \"period\", \"saves\", \"kings\", \"flames\", \"blues\", \"jets\", \"wings\", \"play\", \"brown\", \"chicago\", \"power\", \"vancouver\", \"buffalo\", \"louis\", \"minnesota\", \"third\", \"second\", \"patrick\", \"judges\", \"philadelphia\", \"toronto\", \"first\", \"char\", \"filename\", \"candida\", \"coli\", \"pointer\", \"detectors\", \"pseudo\", \"intake\", \"solaris\", \"cols\", \"xsun\", \"olwm\", \"symmetric\", \"prints\", \"seeds\", \"methanol\", \"mpeg\", \"implicated\", \"eggs\", \"albicans\", \"ximage\", \"titled\", \"somalia\", \"imakefile\", \"iraqi\", \"unsigned\", \"algorythm\", \"tempest\", \"cmap\", \"colours\", \"infections\", \"detector\", \"prisoners\", \"radar\", \"shared\", \"viewer\", \"openwindows\", \"yeast\", \"reilly\", \"pointers\", \"sunos\", \"client\", \"erzurum\", \"server\", \"clients\", \"bytes\", \"patch\", \"illness\", \"displayed\", \"value\", \"connection\", \"gordon\", \"skepticism\", \"intellect\", \"shameful\", \"cadre\", \"chastity\", \"sharks\", \"terminals\", \"arena\", \"patent\", \"deaf\", \"pitt\", \"forwards\", \"arafat\", \"pittsburg\", \"gainey\", \"challenges\", \"gifts\", \"clubbing\", \"dortmund\", \"migraine\", \"stauber\", \"desperate\", \"hrudey\", \"fuhr\", \"supra\", \"fuzzy\", \"irbe\", \"festival\", \"eugenics\", \"symbol\", \"surrender\", \"banks\", \"acquired\", \"soon\", \"nights\", \"defenseman\", \"gilmour\", \"minnesota\", \"blood\", \"doctor\"], \"Freq\": [1516.0, 4014.0, 1177.0, 1187.0, 1522.0, 833.0, 1028.0, 2369.0, 1143.0, 3397.0, 749.0, 5957.0, 1734.0, 3850.0, 1418.0, 719.0, 780.0, 1419.0, 2960.0, 1031.0, 1540.0, 1406.0, 1186.0, 692.0, 975.0, 602.0, 1411.0, 1393.0, 1889.0, 556.0, 517.6407301338808, 253.14889225765197, 237.285620049067, 183.15853091257858, 177.6710741815532, 161.92774478768098, 154.83480857207445, 172.96308361745744, 138.92393537619606, 131.87128814336342, 131.4812389089271, 399.345694284394, 97.58622308491319, 96.20481357474914, 94.56108792905587, 86.61731649132024, 82.56226685408676, 187.4793257074164, 77.33897452580838, 109.77675324511765, 76.3679857216522, 75.8071095789676, 75.13854755154088, 73.98719867138145, 71.8553035000054, 71.02032446506055, 135.67635963938997, 67.87175667415161, 66.67910956004016, 66.06689536345073, 133.36882233727712, 440.5423708166628, 240.7639616757371, 364.37573273165805, 706.9002127908303, 418.34708103574167, 170.90104970434, 157.05694457971586, 225.8260714670657, 3412.187927598917, 245.8309862533249, 2508.343753148614, 1147.2198511948784, 426.5747236201123, 616.2473102131097, 531.5287721371034, 276.7719198257095, 596.2507450550712, 4326.245691546243, 1254.458001309918, 454.0161739829145, 988.735801129969, 604.2379183466844, 807.8698187208818, 1687.6242619177635, 861.1797467669197, 1116.738747050837, 546.1461663250608, 728.1661808443474, 2301.07867823608, 414.25725479164703, 949.2407950419584, 643.2320764444129, 859.5302493393884, 1419.8186430487299, 1587.817313344928, 753.3924991594913, 2182.377899093676, 732.3695296065035, 1263.625536413149, 753.9812209069704, 1488.4325479155254, 918.3218785474841, 1617.3301848727695, 1116.759240118936, 1249.5745550630943, 923.4739396299608, 1309.0875921494624, 846.2318045786427, 1051.9864236396086, 1061.292805764359, 824.600657833778, 1112.5265136357393, 815.4986875781678, 586.890633693037, 258.93504287929994, 124.43841491825411, 211.094152552576, 97.46236995016437, 96.59346654682335, 88.30239762171016, 74.83135577181288, 73.78060283877743, 66.99148842005374, 54.83780416732661, 49.54917260003296, 46.61145322835953, 43.42704878260915, 42.64072786333926, 42.537054560855076, 42.2697184232494, 40.790108689794636, 38.41101299549817, 37.051364911283, 36.7174516257925, 36.5083655943262, 35.492211791868655, 34.71711768417557, 34.63981008171209, 99.23322368330287, 33.1454097805139, 33.101066378340526, 32.80375289045122, 32.61381796649728, 123.0614857732872, 600.6511822931244, 78.68417457972629, 104.91498740917456, 49.26516931691011, 833.7115876752349, 442.744834395771, 101.26911463742397, 281.34651922816687, 916.1487175180517, 98.9970100002836, 91.1826266617721, 230.23500202030158, 592.9290516921307, 135.46838175921621, 320.16290785486433, 210.698042252009, 349.76250433884456, 688.2577396515188, 786.931211969177, 645.9913912310464, 231.6644056787933, 244.0195150845809, 723.0891827205995, 170.20884346133596, 369.4006861026918, 368.41406771862916, 181.2771691194366, 526.7952463948542, 372.14677684100525, 459.2513344058918, 345.15948111429054, 209.7219605691354, 694.152997842722, 659.2870013601553, 661.5114470174547, 295.6650950064317, 405.44170763620184, 697.5572753766312, 345.578476084878, 332.83429245667276, 288.09507605533037, 348.46957273079437, 310.5615870748705, 303.0232653075113, 300.18570555325607, 299.05084187907624, 235.7435820637864, 183.4319011816817, 144.11077701020233, 99.25956033292262, 68.10728928016132, 58.815998299012485, 57.905477067646736, 56.41013277673098, 51.927737809351605, 47.073185506989596, 47.02143274973939, 45.50233259103598, 43.17164148284514, 42.859818827596165, 41.25257917495357, 40.86269713525357, 39.263167383427565, 38.44697431078204, 38.34659578146582, 36.83251262847566, 35.473779943359496, 34.397025260057255, 33.35696847536036, 31.827196615377183, 31.40883173581438, 30.72778665550998, 30.66397349287178, 30.02275329635694, 29.464622935274363, 30.025110059760518, 151.50429146344206, 223.05628913495744, 77.81373556332825, 102.61950975486096, 1010.399381588409, 55.410434845038154, 83.58966903208766, 88.243375921199, 54.04131088851746, 141.85146490902352, 149.15905257528485, 63.209881146454066, 292.0470477672865, 86.32535081969532, 138.5397494256269, 104.41272435435609, 156.34428061981714, 56.047348714290706, 152.74800180164715, 97.88306452803768, 130.66532462688247, 81.99688880479316, 382.2441440557529, 309.4636637724086, 129.7602352837851, 206.3072498931178, 266.22543363946136, 364.59221281175616, 160.11963504160767, 335.4802727011556, 173.43751872222825, 167.67742762066746, 276.5809329481242, 189.6506987290362, 379.65042124910013, 227.48511431315524, 178.04638756334194, 146.67286118051953, 155.57905279586808, 201.60383392749088, 205.39335582023887, 180.16268811115742, 158.63831992746432, 155.05375001696197, 152.90458155116605, 152.8910133550105, 579.7146203957792, 307.70112953913883, 289.17512328503153, 229.89659416249964, 159.96127115320755, 159.20557232619467, 1022.5803253522879, 136.53460751580798, 106.78267944364927, 103.83043001969662, 102.82887011666504, 87.04642645385904, 85.38353311082398, 82.55371228133274, 78.92545897640777, 78.59461733668478, 73.81093561567423, 71.99431065328004, 71.24636153043886, 68.86905801981015, 65.54605483886941, 63.92059431618091, 58.696137713247104, 58.041907534967244, 57.581127160577175, 54.114024352753724, 51.96561090258024, 51.09953012625606, 50.86500080609199, 48.57159411741639, 52.426980680378854, 79.36052234917209, 592.7055886740732, 65.53889834070888, 375.8204055816374, 248.84788349539204, 305.5372661144562, 92.19769816646472, 196.50840450426503, 188.8502365832034, 462.88038451129034, 98.43100806428552, 422.34832133327745, 320.44876166956425, 233.10051503929844, 152.62802802216768, 184.73242860974347, 121.70654866773413, 158.324494085075, 139.89778139099306, 558.9732178460692, 385.33898923704675, 157.58335162095185, 386.3701333885847, 242.7211909702731, 394.13568680808055, 324.86154513468654, 309.32642274731137, 391.63792445115575, 221.440153475315, 254.84670209907515, 219.47776714868627, 315.6592771769315, 324.63713073753365, 311.80918763944067, 234.63661440004623, 235.90981702496703, 220.80499715185618, 603.1063087855889, 531.4783906254825, 425.21081714849555, 267.8265549752972, 206.8697463792322, 199.0615251616555, 178.44622179451326, 158.36958164509372, 158.33821312450763, 139.60649829521628, 118.51036742018195, 112.61936063477276, 112.1814715507463, 98.68805804440508, 92.43567126688306, 92.06173420193879, 88.36192627069116, 87.95348659441562, 85.29474214996928, 84.28394265838132, 81.39174296983725, 81.29545597046784, 80.10560601267365, 79.80663170412114, 73.76652089667438, 70.37954906740725, 70.30467605370201, 67.22406504641765, 56.37334239855822, 55.25440296969453, 180.90268622350774, 85.2703390425151, 413.2526179741565, 136.9913964095607, 161.4778817228162, 257.38674683087663, 357.1677741513186, 149.57529540099506, 219.46379319752873, 207.78385157771953, 102.2639865518153, 148.32772018590757, 573.6385106872041, 243.38785419098028, 179.66427856901404, 208.42490429749608, 196.68498694994662, 163.01332386317648, 436.0087124187615, 191.70088523825115, 158.99900923532206, 179.56730124128666, 224.3264523444904, 178.4733655055486, 187.57379856983903, 160.64545617564366, 601.2273348532145, 494.0131561783871, 370.3862570815874, 311.8077957390077, 245.39007023669998, 218.24982339749545, 198.9749546441417, 181.8095204608878, 166.5043778651575, 137.41286869246355, 121.57630459871885, 98.67035334490826, 93.54565971838784, 73.51016238908907, 65.41192375678365, 80.47796575625418, 62.72775951000213, 59.71494436970807, 57.52521412890532, 56.6148057491394, 50.716677798341344, 46.46905232524247, 42.88490045781291, 42.05007979864838, 40.21943154911548, 39.90410434047506, 76.05029685806292, 37.857355598735374, 36.54555260369811, 35.550429034853465, 453.62904251962885, 259.24868741021413, 209.03568894015228, 158.0906197363946, 237.22118754154135, 288.1542356553166, 59.11795272607763, 202.91056522131973, 836.1061342357092, 85.06026507352242, 231.34263883250256, 586.5434928028901, 267.2096759609713, 306.64845308842035, 112.28721510972072, 191.4424453781131, 392.2605966025588, 211.97630310655825, 122.27237409079554, 168.98102013750605, 206.27034201757633, 171.575627884202, 355.91641276314783, 230.77904944354455, 208.05579022443547, 228.28253329487836, 202.03131367074968, 240.57754037408776, 280.42592776886266, 200.3911109969286, 405.9506591425537, 348.7549379210949, 337.17251041833106, 330.59478747294355, 249.1631017268789, 135.744794478706, 114.02310051354951, 123.46952768182088, 99.53080637721487, 99.16229140565778, 93.21044042728352, 85.24378894504292, 78.04560700861406, 76.25400389059936, 76.12271894490085, 73.77682925039758, 73.58868372293698, 71.33003432948627, 67.96825179687225, 62.92227126987251, 62.55650334306437, 61.4017765937639, 57.46340126499713, 56.369185206131064, 54.36880668719668, 51.11299627258472, 49.91158057768901, 45.84824715825573, 44.84685201103458, 55.228296424374975, 335.88585522269204, 693.8830846048288, 124.45529495635611, 718.0939796423163, 173.5821562451811, 488.37960865357934, 481.13865825864775, 228.99332581782332, 111.39735833903183, 95.7209905796713, 172.25444679022323, 149.2074551456168, 349.7678836344258, 143.2395004285371, 118.38560224733426, 164.0036978867715, 575.667409787004, 130.97167444577508, 154.42999818855697, 366.7274457456471, 165.91393224042068, 156.6256764479497, 135.71218684123332, 277.3808319091207, 261.1030776524776, 195.19437939557852, 185.12395127896153, 192.3459535542075, 213.28725969279114, 189.28704352030132, 178.60329981050384, 166.52254324909015, 163.64706875056518, 197.0504746377802, 193.27001162871255, 182.50625030586045, 131.7839577871985, 82.12409980265383, 81.02150444615093, 78.71178576500715, 75.77619196365526, 72.13718602356157, 64.91271866673391, 64.43927388957367, 54.300546953353575, 49.66515995177879, 47.601222199017506, 46.646037082764266, 45.923827501986196, 45.23460577967299, 43.962692512625864, 43.11317740144922, 41.53131044953338, 40.34561854148501, 40.014056059818415, 39.26728782512871, 38.59601066194654, 37.56848844002897, 35.115135530130416, 34.58802959605075, 32.556331303079666, 32.46855725981757, 30.645185943374436, 541.4193211580331, 68.871869148974, 1213.6119217112584, 575.2128842532137, 217.77003773767802, 98.59408027749546, 168.4877517442307, 276.35421945578474, 186.4188785769803, 266.7592624734846, 228.547270236674, 203.49867761864644, 132.1984928972534, 285.1969288559557, 187.9756255759785, 162.81356794330193, 234.41308297616885, 110.89994136814175, 186.44022251840306, 448.4609744846228, 286.5047215218016, 300.3896552186629, 270.330154414721, 230.28989225196037, 296.46341969891284, 236.37800855621902, 224.64169829591523, 289.6302093375192, 323.901833954931, 180.90662103475057, 243.43400845554183, 192.14381741529962, 205.21013903456972, 181.62448115569865, 66.18923238703695, 63.096281223522865, 51.178734475320496, 48.60751859329358, 48.1950169447215, 46.97252042411739, 46.81520074636905, 45.542254801953085, 42.73629920866947, 40.37840975889529, 38.85454367460063, 38.11607976058925, 37.89360249927896, 37.678418780472335, 37.53597918860879, 36.803847483643594, 36.771106451707325, 36.54699952435953, 35.32311064421373, 34.54193398245264, 34.091325269345326, 34.07677208526597, 33.94538419592126, 31.506263279736746, 30.881522450101887, 30.193449844025853, 28.52868908158522, 91.44498301402083, 28.26512147407816, 27.403466430806706, 32.23575071232013, 48.83871323608235, 235.30515936330096, 55.44697269574301, 167.0743888788491, 125.05378184657332, 50.95296398100722, 116.14126662668484, 52.91418593706705, 68.49940628069072, 272.80018623091973, 108.0480884059795, 98.92687907349615, 82.0093280456292, 260.25910940051006, 103.14610139506104, 49.199254448052955, 87.64206408795059, 142.9390978222637, 52.65191867229721, 83.94701791468684, 93.61379003803188, 168.90029285941432, 134.28493673145917, 106.33600436958498, 84.95272284390052, 102.84703709447257, 101.089554872534, 90.15867526099423, 131.35841490933842, 105.40086180044992, 67.99214185245783, 89.95333249727888, 64.87508228616603, 88.93132606470044, 80.59807600106741, 72.9611509979767, 71.23400526358326, 832.2730675098305, 344.4600839089762, 181.21859804356026, 169.60232145810477, 126.92608827353209, 121.90225448265039, 117.09665295899292, 98.80295066078916, 85.8165807685186, 81.8028003766536, 78.02168551483672, 72.53047067387334, 82.36807261518354, 68.77888066782154, 68.28142476466165, 61.93979324482367, 61.37487517123022, 61.359575245973474, 59.17796507025033, 58.371806508499155, 57.98465006650392, 56.8537764243854, 55.194317864511895, 53.5467050801027, 53.26943976793358, 74.34635346958258, 52.76250474441445, 49.7721735194584, 48.82895312728219, 48.09366088600126, 405.45615259741993, 448.2592768287706, 164.65831227726358, 135.66103726819324, 90.46384139903692, 167.84444671234772, 64.48229749083909, 405.6754181929295, 305.45724111247637, 76.09058661531496, 257.88292352271066, 176.7770197415752, 100.5375588535414, 85.16960059581523, 202.56417709939095, 217.02073980947006, 146.22375233384477, 167.4303487353007, 130.89271056244073, 109.81941350979031, 114.86372220064796, 96.1977383877819, 121.88667955873706, 101.56839548436109, 134.67955872958254, 165.48007492945226, 100.01993638223263, 111.99521954720117, 111.88672841053582, 330.09527003690647, 181.346499824643, 135.79071430395615, 92.69914077052165, 89.1438761085758, 83.0672162942356, 76.96832865955672, 72.31582139267005, 61.82656512443576, 61.012989866268846, 57.3727175847176, 52.10467881697274, 49.2558484471546, 48.61385669501937, 44.388428162504944, 42.01550442005398, 39.50640221216181, 36.941639758474224, 36.47017340463611, 36.405247158250674, 36.23311948252691, 35.362901449953895, 34.986596771017, 34.34858803871125, 32.57873279958753, 31.500808218715296, 31.497926764616647, 30.451673615614286, 29.825168025965965, 75.06186793294175, 130.08374977416787, 52.34551547423309, 53.410561372392934, 194.68944997931834, 133.95198003026707, 190.2069277199929, 48.12861604585066, 48.77149963164789, 164.29388441580855, 116.54259336706744, 64.82683716376653, 55.55893953773998, 135.90541318238525, 110.86793891274598, 96.37142459000032, 209.80581892880923, 131.37181455112886, 84.99269272842355, 135.73770310645338, 108.24188934748871, 83.17945129322561, 120.86935460994944, 83.31501756776323, 220.77910658022984, 180.48170837316593, 138.86607420288055, 89.35614007804612, 123.3657406302456, 89.35996438171541, 88.80382295641705, 88.10851769028348, 76.5634005139112, 69.69477681532369, 67.62616929506274, 66.60067696308977, 56.68859119276598, 55.072513447165, 50.82573280377179, 72.08026057235924, 46.58037480008955, 45.45472788762649, 37.644659325645186, 36.83320723479467, 32.73090645419523, 29.429475485025534, 29.079932535620557, 28.89031924178677, 28.856293200636742, 27.976550679471778, 27.42139532576615, 26.829059543907366, 25.60346846756069, 24.260878309643473, 23.836138423787915, 23.681245732114874, 23.56872871047145, 23.408737605802802, 22.5925986247003, 21.79112177067137, 21.17198487184918, 21.115010385937325, 58.170966874849526, 671.7626060372368, 293.6870307247166, 105.69406393472256, 258.1855408817758, 79.25201825501587, 140.78582609252751, 125.34576089344706, 57.986459442386796, 108.93506809595927, 112.28192856909313, 249.61098596034475, 165.3923388165585, 218.2727953687522, 527.0012840319604, 48.621806922520726, 107.97201549538468, 189.8897030467434, 211.40707653659024, 253.4060077359371, 89.25446399211283, 119.10021614638872, 433.572973888862, 84.81461400867697, 90.476079498063, 337.8353098342037, 192.1257202536213, 92.41556942989607, 130.19937558151273, 115.15677804157723, 166.99061122064595, 125.28417772522545, 157.64793513254548, 119.01836594856731, 142.07570595947806, 117.30874777987596, 119.624641365081, 99.4760558317033, 100.07467431825427, 97.55313121562453, 77.94725297219429, 75.80845531666759, 70.93063281163496, 47.51422706587553, 46.572872562734084, 46.55800905422359, 44.31463855218073, 37.58733628955907, 37.35566071220707, 36.77110499500359, 36.22396753119232, 34.04360923112885, 58.54042081848064, 30.52108512452114, 28.948148043567944, 28.937321268813488, 28.744319403235085, 28.516758248895396, 28.42485807386279, 28.18289643898, 27.411898936997968, 26.880507531648476, 26.146940713339653, 25.73172582182352, 23.98789568384261, 23.981801738580412, 23.65013231947709, 65.7624575877711, 23.539700149252692, 67.12285861654814, 131.59553160192573, 54.265616105512635, 100.69939693138254, 132.2659836684369, 36.14145532588796, 82.95779358750632, 272.5177516467507, 149.58888542697537, 185.69451357543963, 84.46826539884431, 228.9791262149371, 48.97948994520208, 48.694124876623675, 54.69628805145721, 116.17251128287714, 80.38524749148657, 164.0177443016074, 147.812685283475, 80.68592977383211, 80.66497853519992, 86.2870889759073, 132.15132675645629, 67.14062148810282, 176.53013974189025, 72.07738217051578, 67.71873521217599, 88.04372385710742, 79.82817201801262, 87.1824172560613, 83.54863591932755, 308.5913073017612, 111.74481767515256, 99.42242007110025, 94.31815383126713, 93.35734613288639, 104.58700802804204, 66.62399922270455, 49.61650082038402, 45.74357331540386, 45.03603908424078, 41.52207424141048, 41.43609099167012, 40.55180954592605, 37.02141389585791, 36.96718991123757, 35.53892806767595, 33.4333189597798, 33.219315237897334, 33.15186886284796, 32.227984066042644, 30.83371809642526, 30.68388271071881, 30.528120746766078, 29.187014124365028, 28.212934719926192, 27.75159571274978, 26.8589364119028, 26.783547319654065, 26.40902702699282, 25.803112000904125, 186.58888519510003, 75.04229314144743, 83.756875359633, 46.79902640872484, 86.92376260691891, 113.24434930547602, 58.02362039776388, 219.1059980916124, 101.73581042885817, 68.24715643234433, 91.01231834862143, 147.2912678267211, 58.274416479850686, 48.690283684415704, 122.32510877225222, 69.33558137507654, 52.99215563011308, 78.98852977949738, 63.55703704358856, 50.46062774038902, 82.57904988415793, 92.93825031338606, 73.61155971459368, 60.49653231096116, 87.10666557237538, 120.27639829662353, 64.48797687627001, 79.53508039186521, 68.54530132017547, 82.17863598531643, 69.69295143249943, 72.70948983135271, 73.06721380093715, 145.1092113467044, 127.78357536741204, 95.82709361666093, 92.30901093409597, 68.52109748203665, 55.16655364087395, 50.29343725545815, 46.09665799748213, 44.13412565597489, 43.67445235411297, 41.649135010991905, 37.71937648408864, 32.855032872403854, 32.53023071808877, 32.10271058848396, 32.724463845723555, 27.529471841362437, 27.087148225451408, 26.53944428417497, 28.24845439666129, 25.894164871005643, 24.847073290296837, 24.794867087743377, 24.60172714063582, 24.545861060775575, 23.868615227022538, 22.973386918680678, 21.75196948322981, 21.655660278780967, 21.365978826362532, 171.52953539276237, 255.3678639247103, 50.499096397061905, 68.97800594814845, 57.73386988939498, 104.54709405771891, 318.5600935046107, 47.5267385435272, 59.05007746385373, 73.52821502549637, 62.137638325282886, 151.65143220044382, 30.93928182508371, 80.97665520679514, 49.86731093102556, 122.00987864398984, 125.99640740214774, 91.91535662624092, 76.55425715275571, 54.079467595084594, 63.966201393178245, 58.90610558841772, 60.80573905533954, 71.81202180596237, 59.41792815634731, 55.668104866766456, 71.26247995492453, 61.86678462998653, 58.850772434064496, 55.7733872613763, 56.5544336554821, 52.86895718887127, 47.97600140200111, 39.92827181766768, 38.44256928572494, 34.037381834299964, 33.52641961678157, 30.044921435943998, 29.613351746588545, 29.109593109314577, 26.3368770693859, 26.22460037926739, 24.502628838308503, 23.097582284691168, 22.39480727500922, 21.783578801189364, 21.71484519803332, 65.35564280169896, 20.662130865401156, 20.628735580425328, 18.63664796632546, 18.22309775633243, 18.024824139474504, 18.016864403451027, 17.320670820524423, 16.925021402151284, 16.405186318719277, 15.764502227248338, 15.637796361979053, 15.376985790716404, 275.24799329721463, 42.131916504197115, 224.0137568439925, 196.32667844395044, 212.32529607198347, 171.97783446223397, 141.1527593514313, 60.538578254586994, 236.46578563600033, 91.90379362438709, 76.05648372490032, 90.47346083865477, 108.32393651298405, 86.22794668730627, 131.09678339114757, 54.94404390705237, 82.23024488509454, 75.54316306707867, 149.0753116537602, 56.33222340100092, 78.608193616639, 53.91439711147717, 74.86588486453877, 88.00117218985545, 79.91009095040236, 53.85287091720241, 64.37949354891164, 65.54122448737948, 66.60220101834675, 54.691411304113984, 124.28825868601224, 84.70865506353006, 74.45930268353284, 73.05872434084151, 58.54275750163496, 57.633206516956236, 55.68716555518568, 51.11800092406669, 49.16519339585871, 48.812681633153396, 46.51320109861506, 38.13581343712333, 36.0243840248526, 35.90410788596964, 33.402059225195416, 29.08668568430465, 28.757178565655657, 27.48913130321615, 26.690284036383197, 26.581155633507535, 25.07107888513617, 23.696751120194005, 23.61224191906644, 21.805438338376852, 20.078674493121174, 19.570223366684772, 18.93914013653911, 18.843364069713438, 18.16902554960128, 17.75641355865038, 33.05975337317721, 27.890091008881058, 100.54251635784836, 67.46837333911407, 44.334919117487516, 46.28616397410101, 34.08815472688286, 32.30978691089013, 32.18286502276552, 31.504685674235194, 28.996304233229274, 28.82541769601544, 28.382635672330313, 27.68571871577947, 27.5894690573684, 28.14108206479617, 26.894889752497992, 26.520140391670555, 26.47233191532716, 25.812909771897303, 25.72998332827327, 24.943101776811442, 24.844419280903015, 24.083173509606112, 23.53476602454253, 22.5645103965608, 22.27087894883577, 21.292753693460394, 20.19129561517515, 20.092106394770724, 18.646212838766683, 18.409103569008213, 47.79201479622956, 45.65279474868085, 134.05038754932824, 48.04508588761196, 54.09448050331314, 61.974617530980126, 79.28042369577011, 249.97679084571539, 51.35457356054471, 88.53797788270158, 77.92316913219719, 36.6749832789515, 42.91904128901851, 54.09359023596658, 120.56839162132589, 53.735098052753834, 69.03433680421534, 142.47032334479255, 54.15996274619374, 39.32835511580121, 44.490979063923426, 42.77879338652401, 53.44221129406712, 61.72827103760538, 37.16128201846973, 39.30610683088577, 40.79289249380026, 40.08237516376015, 46.15764912333428, 175.3676868779955, 111.46520344400452, 60.99680259396747, 54.1015068574704, 40.17609309904381, 31.8384564975016, 31.531313516041642, 29.714782511392514, 28.79391954302323, 26.548756706331716, 24.224903205016982, 23.720634578910243, 22.379615419250683, 21.560590134396758, 20.745372688144066, 20.25516346611645, 19.606502960193414, 19.32762278078839, 19.237150615534997, 16.79780400950259, 16.549170548062378, 16.09214691943262, 15.990254238248381, 15.961630451494123, 15.241808961795362, 14.99100659228633, 14.899981450471364, 14.532072044652644, 14.383891325429818, 13.972688754632037, 43.842353701188934, 48.112284716203895, 21.814777360435507, 74.8936495632239, 73.57447347772539, 33.56760920576084, 50.752592804297564, 26.77896494874192, 27.387875139518915, 31.377196048453403, 38.881363977338076, 51.415992685478514, 23.689841884087166, 71.23742053588118, 33.22483573453223, 33.408661942887946, 29.150342435708456, 24.91734385527801, 23.28311912340848, 27.232013745848597, 23.77307235628643, 85.072335109556, 60.98987597545547, 55.75878346902598, 53.498778639735576, 52.98021379657793, 51.943181257468, 54.323301667107366, 44.30011446666823, 37.17826671945843, 33.64106758122112, 33.27698067276762, 80.14169809206527, 28.275016789279956, 23.793630083918238, 23.308577557068812, 22.200889508541877, 20.48943678297978, 18.372992971190516, 17.406007036692525, 17.261949874535407, 17.032423988914495, 16.636941185412528, 16.53798114380353, 16.242846199130078, 14.541288610343116, 14.213068970542201, 13.067200335534903, 12.090978477441041, 12.037419141396931, 11.346032022050442, 42.955288355071346, 62.183093464449556, 76.91093593498285, 34.106638623851616, 80.90756502465429, 18.429608974660606, 21.40062726093872, 20.359568317120672, 24.5691510200405, 25.361920789429803, 23.62301703926571], \"Total\": [1516.0, 4014.0, 1177.0, 1187.0, 1522.0, 833.0, 1028.0, 2369.0, 1143.0, 3397.0, 749.0, 5957.0, 1734.0, 3850.0, 1418.0, 719.0, 780.0, 1419.0, 2960.0, 1031.0, 1540.0, 1406.0, 1186.0, 692.0, 975.0, 602.0, 1411.0, 1393.0, 1889.0, 556.0, 518.7654654096457, 253.98902219723266, 238.1257499839182, 183.9986608474298, 178.51120421272398, 162.7678747184632, 155.67493850285666, 173.9255519328086, 139.7641728974716, 132.7114195875799, 132.32330127382036, 402.31398761786585, 98.42635301873015, 97.0449456324708, 95.4012178645676, 87.45748295349954, 83.40239679801834, 189.49608146003894, 78.17910445659062, 110.97734747512425, 77.20811565243444, 76.64723950974984, 75.97867748639212, 74.82733396822955, 72.69543393211275, 71.86045440415235, 137.2874358718542, 68.71188769949231, 67.51923968946065, 66.9070253100336, 135.88915659384963, 456.4889358934807, 250.11222679767948, 382.53429923148207, 759.7114067838334, 443.2696778665491, 176.42125675913118, 162.19887096104227, 236.6520360294534, 4014.2421487012116, 259.4331449006293, 2960.2878728072237, 1309.7761262424367, 464.4232002193815, 694.9367934562831, 600.3683299854986, 298.05548498201347, 683.7712557221015, 5957.990688662389, 1560.4634554771862, 512.9696250584975, 1209.9239690560046, 707.2253708754181, 977.3972162349929, 2232.5797949634707, 1054.3565334662073, 1421.7730099185312, 643.5499094907755, 897.5221205487667, 3397.1348553408448, 475.1704790758375, 1257.7993493944846, 798.9055528624285, 1134.0032435374635, 2079.034151125232, 2424.6767097781944, 971.1493342333822, 3850.459558853597, 945.4866503231979, 1960.761361133331, 986.9400230059247, 2448.287612212857, 1302.0216780919243, 2893.0911908197304, 1723.4264185440106, 2024.5462276246637, 1344.3233917158939, 2369.8924692157366, 1190.4827799909976, 1734.7607171090892, 1765.5771886499087, 1152.926266842239, 3248.6207003386967, 1464.1673847507927, 587.8359229636897, 259.7771662212646, 125.28053713929215, 212.81576505425124, 98.30449217494132, 97.43558879600172, 89.14451987385836, 75.67347800003643, 74.62273348651757, 67.83361064109178, 55.67992641843825, 50.39131123700682, 47.45357545684991, 44.269171003647145, 43.48285009181911, 43.379254092527106, 43.1118406515612, 41.632232774928966, 39.253135216536165, 37.893487132321, 37.55957385054398, 37.35048783195877, 36.33433401527957, 35.559239905213566, 35.48193230875991, 101.75273073140168, 33.987532007974856, 33.94318859937852, 33.645984754929444, 33.4559401899082, 127.8523544777122, 646.8372158097244, 82.35601901100631, 111.90660860534848, 51.18919660845637, 975.7800346849459, 517.5603059924795, 110.18279073515238, 329.84951969575434, 1186.36676669262, 109.00846897844954, 100.01452602758575, 288.56639046896305, 857.3323151677289, 163.14758772841196, 442.15703456073805, 273.0006479171319, 495.91017452739345, 1105.0395871665746, 1406.4814916682287, 1177.7496902386815, 322.82805721352076, 355.9857179387678, 1540.4599720134252, 226.45566213725937, 657.7991557430505, 686.123464213773, 250.4672076735929, 1287.8103693125393, 793.4893999781507, 1142.4909050442143, 731.4228139120245, 345.7141158040796, 3397.1348553408448, 3248.6207003386967, 3850.459558853597, 734.206539816063, 1593.760556215982, 5957.990688662389, 1393.2549469288215, 1419.533237774217, 783.4598301015709, 1889.2969579771081, 1411.4339111301347, 1723.4264185440106, 2448.287612212857, 2369.8924692157366, 236.58431404822673, 184.27261696663336, 144.95150885922573, 100.10027610684952, 68.94800504934238, 59.65671409662757, 58.74626593284906, 57.25084855291842, 52.768453627830695, 47.9139012737977, 47.86214853247341, 46.34304836702174, 44.01235725268798, 43.70053459440427, 42.093297673088024, 41.703412909335476, 40.103883657036675, 39.28769009225546, 39.18731155252589, 37.67322840324921, 36.314495742283434, 35.23774102686536, 34.19768425667417, 32.66791238218529, 32.2495475216835, 31.568502456264625, 31.504689279540774, 30.863469080051715, 30.305338727718816, 30.88570881327463, 157.66431111094118, 238.18269051015844, 81.81790455882108, 109.11242712886559, 1187.7666321487966, 58.11924210966564, 90.54420473984037, 96.10459782026992, 57.15038437634315, 163.64631541301515, 174.39048630359807, 69.61564785064367, 426.1783380927168, 102.95530200565787, 198.88287981818638, 140.57277033784962, 250.57805921019522, 63.51534124389128, 264.22261178539844, 145.1072879065632, 223.4583404797335, 111.54024261530168, 1200.7677542187457, 886.934386715033, 230.11008623499401, 502.30169562213274, 783.4598301015709, 1419.533237774217, 350.5878131700158, 1418.132362172026, 442.39636609516464, 419.2990611538012, 1393.2549469288215, 593.6437593831755, 3248.6207003386967, 1287.8103693125393, 774.8914896514368, 446.71706812744594, 569.2959986980402, 1889.2969579771081, 2074.0287740580084, 2893.0911908197304, 1272.2931681754592, 1105.0395871665746, 801.8020303243976, 878.9572802800727, 580.5559482332834, 308.5418721869862, 290.0158659583753, 230.7375420383673, 160.80201399097928, 160.05106427877848, 1028.0556896239284, 137.3753501579895, 107.6234220964754, 104.67117266187819, 103.66961277635161, 87.88716910029257, 86.22427575300554, 83.39445494205361, 79.76620161858933, 79.43535999062124, 74.65167825785579, 72.8350532954616, 72.0871042149506, 69.70980066199172, 66.38679748105098, 64.76133695836248, 59.53688035542863, 58.88265022747862, 58.42186982487725, 54.95476699493525, 52.80635354476176, 51.940272772074486, 51.7057434548984, 49.412358555552046, 53.40337744504345, 81.70207254573663, 658.4644870344767, 67.61948473757913, 490.74389297841896, 313.2486950124663, 401.94678844753986, 102.75937923251158, 257.6023553013852, 248.35469558893513, 784.6878750098722, 111.72032990811549, 734.206539816063, 530.8224333465776, 351.3801532426763, 203.74481698140576, 270.9744253381544, 150.875301562056, 221.4885865923724, 186.51727479723962, 1889.2969579771081, 1031.1186606877643, 246.2631512355542, 1522.143138176436, 636.2056053955178, 1842.271063448541, 1593.760556215982, 1613.2272697149492, 3850.459558853597, 735.3844103970193, 1200.7677542187457, 731.5458436228917, 2893.0911908197304, 3248.6207003386967, 5957.990688662389, 1411.4339111301347, 3397.1348553408448, 2024.5462276246637, 603.949844892249, 532.3219267321425, 426.0543532551559, 268.67009108195754, 207.71328248589245, 199.90506126831576, 179.2897579342799, 159.21311878137192, 159.18174923116788, 140.45003440886586, 119.35390352684227, 113.46289674143308, 113.02500765740662, 99.5315941510654, 93.27920737354339, 92.90527032579652, 89.20546240433646, 88.79702270107595, 86.1382782566296, 85.12747876504164, 82.23527907649758, 82.13899207712817, 80.95018200424343, 80.65016781078147, 74.6100570033347, 71.22308517406758, 71.14821216036233, 68.06760115307797, 57.216878509947996, 56.09793907635482, 189.06425894213672, 88.91321572208255, 550.1043788619495, 154.99942573382103, 188.87868405376685, 347.5929370603877, 558.0452669261986, 186.19668756463102, 313.3850290287286, 297.14099648401395, 113.89887898093538, 199.6930711417228, 1734.7607171090892, 559.9289859515658, 341.8270889234565, 458.18481384708133, 448.4511890669084, 351.496331331626, 4014.2421487012116, 561.8913912210114, 356.95697632089383, 579.9735208478216, 2074.0287740580084, 667.9217689511028, 1143.3680246085908, 1069.93445735708, 602.0683593023377, 494.85401820627294, 371.2271250417618, 312.64865649939236, 246.2328000568336, 219.09068415788005, 199.88921241283123, 182.65038306577043, 167.34523987410176, 138.25372945284815, 122.4171653591035, 99.51121410925114, 94.38652048350198, 74.35102314947373, 66.25278574406798, 81.52448639171094, 63.568620289975385, 60.55580666588218, 58.36986758077119, 57.455666509524036, 51.55768522483596, 47.30991311258547, 43.72576126906125, 42.89095157871832, 41.06029253848941, 40.7449651572563, 77.65559349781336, 38.69821638802572, 37.38641336408275, 36.3912897952381, 464.9930507116268, 266.5752046115522, 218.17338471360975, 168.78754875731747, 257.8870285354342, 316.7585913698682, 61.164959287037696, 235.63079525204182, 1143.3680246085908, 91.5538982967928, 283.03514085714477, 827.2853949916483, 340.5346150601933, 408.36526736784623, 129.73879883782203, 254.03751508937182, 636.2056053955178, 299.3625487886892, 145.97470427172235, 250.29820053564603, 346.8127626658082, 285.98915166921535, 1393.2549469288215, 561.541792659065, 446.71706812744594, 569.2959986980402, 431.03755544515764, 864.0481147289449, 1889.2969579771081, 545.6135847167235, 406.7961033526089, 349.5987918218802, 338.0163895900014, 331.4386413611422, 250.0069561180318, 136.58990217161244, 114.86695513994106, 124.39129008001368, 100.3746602654135, 100.00614784034103, 94.0542943727848, 86.08764284911976, 78.88965505817558, 77.09785783947139, 76.96685383583859, 74.62069424884793, 74.43253762912458, 72.17392039221171, 68.81210568507088, 63.76612515807112, 63.40035913843161, 62.276231689454654, 58.30725675429911, 57.21305476740287, 55.21266072577719, 51.956850171141014, 50.75543446588762, 46.692101164476156, 45.705927377615964, 56.34023471890466, 344.705135013246, 719.1492506826864, 127.43138198917583, 780.9971160903743, 184.56693423008286, 544.0360915775973, 535.8485617860008, 256.1731647062632, 120.8131336716114, 103.7851198642586, 207.3934600807859, 182.11299200563764, 561.6132457289839, 177.61267321814077, 138.7584142008598, 219.89747051548477, 1418.132362172026, 181.13602116650773, 239.25976649076944, 1272.2931681754592, 370.8606507354447, 326.057546335956, 233.90713989273686, 2369.8924692157366, 2074.0287740580084, 1140.127744868917, 914.2874993149381, 1421.685244199527, 5957.990688662389, 2960.2878728072237, 3850.459558853597, 2893.0911908197304, 2424.6767097781944, 197.9008533982904, 194.12039027416952, 183.35662889663806, 132.6343363779761, 82.9744783934315, 81.8718830369286, 79.56216435578482, 76.62657055443293, 72.9875647218075, 65.76309726126304, 65.28965248035134, 55.15092554413122, 50.515538542556435, 48.45160079404712, 47.49641567354191, 46.77420609640074, 46.084984370450634, 44.81307110340351, 43.96355599961524, 42.381689040311024, 41.196022429170746, 40.86443465423296, 40.11766994217346, 39.44638925272419, 38.41886703080662, 35.96551750543284, 35.438408190465296, 33.40670989385731, 33.31893585059522, 31.50354707130039, 556.9946447471863, 72.3567166779754, 1516.5472688678974, 692.8219577091102, 254.0903718539573, 111.46301938871068, 209.2399691735728, 368.26281833033937, 253.68903089445354, 393.7198076692093, 341.48263712707205, 302.3873914128763, 183.5353070665403, 519.033962907202, 300.83934340790137, 250.74569457963466, 429.3702244274032, 160.48441654570732, 343.1448274400696, 1419.533237774217, 731.4228139120245, 793.4893999781507, 712.9464612622197, 545.2445653809807, 904.8620215511224, 634.964089543122, 583.1914430060398, 996.8260990638739, 1287.8103693125393, 464.85980153828405, 1393.2549469288215, 619.3168589021886, 1258.2783003669754, 536.4600464899438, 67.03094692615613, 63.93771871765049, 52.020171889944514, 49.448956065198836, 49.03645436501137, 47.81395784245417, 47.65663816099307, 46.38369221691912, 43.57773662471293, 41.219847185957526, 39.6960287321349, 38.95751717555529, 38.735039949762005, 38.519856228584125, 38.37741723089761, 37.645284910485884, 37.61254389367394, 37.38843694576374, 36.16454806470534, 35.38337139404793, 34.93276270169481, 34.918209520908135, 34.78722380584609, 32.34770070610073, 31.72295986169718, 31.03597721612339, 29.370126497138735, 94.16365818914264, 29.106558900041176, 28.24490386360309, 33.23708287782562, 51.23739779181377, 263.5783587692414, 60.4201972520558, 204.79833932927392, 159.955294577369, 57.38258554245401, 159.57160969126377, 66.62114390128067, 105.51953699330109, 1258.2783003669754, 256.67763913758205, 235.5382452746047, 171.44683087397524, 1842.271063448541, 303.4417849105599, 66.7327245405111, 265.69887236835325, 1031.1186606877643, 87.06549353555322, 322.35573087687595, 445.07125328691666, 2893.0911908197304, 2074.0287740580084, 1066.7798441490797, 547.2690657004298, 1281.3588113694063, 1421.685244199527, 925.950975520527, 5957.990688662389, 2232.5797949634707, 266.0338047912822, 1464.1673847507927, 214.93754429661502, 3850.459558853597, 2024.5462276246637, 1101.0588069313358, 2448.287612212857, 833.118994075966, 345.30466023512986, 182.06282089272509, 170.44638778399244, 127.77015440488077, 122.7463231836553, 117.94094032319038, 99.76789495409761, 86.66064684205638, 82.64693418961112, 78.86575267532268, 73.37453839246837, 83.36033848225088, 69.6229870661453, 69.12549108903964, 62.783859431587416, 62.21894761594026, 62.203641310032395, 60.022031137679996, 59.215872722970445, 58.828800017125566, 57.69784255360169, 56.03838403148454, 54.390780501394396, 54.113506386143335, 75.53480076183297, 53.606570905111155, 50.6162399318407, 49.67301920390698, 48.93772695781839, 419.1181351695748, 482.28792385645727, 172.6604188056576, 142.65211680796307, 94.47845200607007, 184.98209984551505, 66.60202192455932, 539.1201223684285, 391.19470814060264, 80.96896753074635, 353.7234163348134, 279.94612861771463, 129.70109641341273, 103.58365419876955, 489.9807874101908, 582.020887492272, 292.62786122109753, 592.7819331433653, 368.60822696440016, 240.22611669587545, 301.0107020560834, 163.73669211921165, 413.89141416396683, 202.01313270330806, 769.1496250203907, 3248.6207003386967, 214.51395686795217, 996.8260990638739, 1069.93445735708, 330.9383063605699, 182.18953526637983, 136.6337497466225, 93.54217620922982, 89.98691290906451, 83.91025173294378, 77.81136409826489, 73.15885683137822, 62.669600563143916, 61.856025304977, 58.215753023425755, 52.9477142556809, 50.09888433685513, 49.456908043638904, 45.2314636012131, 42.85853987855324, 40.34943766639715, 37.78467519718238, 37.31320885741472, 37.24828259969619, 37.076154930964066, 36.20593688866205, 35.82968666712569, 35.19162348288734, 33.421768241666435, 32.34384366308931, 32.350485573949484, 31.294709057693193, 30.668203576669157, 77.20196782946314, 139.2303547807351, 55.10661315704489, 58.85271147044181, 259.6999177366031, 171.559563922776, 281.8322292067959, 53.201124629530355, 54.37860295845063, 258.232243410572, 178.10978987464344, 81.99305120152138, 66.97128694623423, 248.85396244671136, 206.41548674013697, 169.44807030739065, 689.8884454737305, 322.7821019419936, 147.3089202901194, 357.9089862204181, 240.63435166362063, 147.53707522040398, 329.0136522573812, 160.109646423866, 1765.5771886499087, 1418.132362172026, 912.4516741512864, 218.38902556148213, 864.0481147289449, 304.7296346074653, 373.75963402034745, 2424.6767097781944, 77.40806925866913, 70.5394246343245, 68.47081859761974, 67.45232040327117, 57.53323904464916, 55.917161266165785, 51.67538146223994, 73.32712845463774, 47.425025185774615, 46.29937573930157, 38.48930714464597, 37.677855053795454, 33.575554285906136, 30.274123304026325, 29.924580404064685, 29.734967076254506, 29.700941022010447, 28.821198538812137, 28.266043172509512, 27.67370736528107, 26.448116333845018, 25.105526156777298, 24.680786242788706, 24.525893551115665, 24.4133765485614, 24.253385465221005, 23.437246517640542, 22.63576958967216, 22.01663269084997, 21.95965822797143, 61.070947547346876, 749.0964775748197, 322.8226865022442, 115.31177199255929, 292.9479666512603, 90.7578733873078, 178.25098623404074, 159.92369574090102, 67.4994226583361, 142.12995422004434, 154.67925993802953, 410.5721481579518, 255.93249003578725, 363.4254874641987, 1177.7496902386815, 57.61635451733694, 160.52518472644186, 338.2580920266773, 396.1327373431073, 537.3987511672432, 132.1467916078349, 201.46723121531883, 1522.143138176436, 123.62577550872601, 137.7378565650303, 1411.4339111301347, 548.2230802942555, 164.25976535227542, 518.8867242826384, 372.13966835502214, 1419.533237774217, 619.3168589021886, 1613.2272697149492, 731.5458436228917, 1889.2969579771081, 767.6178010988478, 2893.0911908197304, 402.58125125842577, 729.9562361541514, 98.39442436932848, 78.78854587470173, 76.64974802783749, 71.7719256278586, 48.355519773306504, 47.41416527016506, 47.39930176590653, 45.155931259611705, 38.42862899699004, 38.196953457725435, 37.61239772873711, 37.065260242313684, 34.88490193855982, 60.020271176714296, 31.36237783195212, 29.789440806839597, 29.778614050594552, 29.58561213440217, 29.358050960039854, 29.266150783666685, 29.02418914641098, 28.25319164442895, 27.721800254162645, 26.988233462329184, 26.5730185292545, 24.82918839127359, 24.823094495779134, 24.49142504557716, 68.10244123486845, 24.380992862151608, 71.8080266504485, 150.8266133509512, 58.979989848233046, 116.54786085124242, 166.10810729045406, 39.28256686294089, 105.48135052813495, 453.5916620943534, 235.57829408312585, 353.22684556034324, 128.06900587960035, 559.7688260387896, 64.10585839982086, 64.7822440771804, 77.7355551630162, 259.15396219377243, 148.442290988477, 502.30169562213274, 452.56826992477255, 155.59487348289665, 155.6873837998177, 177.46482272534763, 426.1783380927168, 123.24560747894735, 1187.7666321487966, 154.21861915034594, 167.08024337493308, 454.28993914265317, 339.70959330572293, 509.56057560475847, 1393.2549469288215, 309.4404220037447, 112.58837002488612, 100.2659725309197, 95.16170797469873, 94.20089863190942, 105.78694597954424, 67.46755133423696, 50.460052931916394, 46.58712544194211, 45.87959119948663, 42.36562638728255, 42.27964319779214, 41.39536167692098, 37.86496600739029, 37.81074204294763, 36.38248450792036, 34.27687107131217, 34.06286734942971, 33.99547112229661, 33.071536181644014, 31.677270207957644, 31.527434825964672, 31.371672863027943, 30.030566259159684, 29.056486863567603, 28.595147849321283, 27.702488553248696, 27.627099431186448, 27.25271442810627, 26.646664131272782, 195.57347498132458, 77.9493199711246, 87.77468653509234, 49.21378478036985, 95.00671645322971, 130.8986625003272, 63.99625622759408, 315.5976188689523, 131.1066392418008, 81.62593649622052, 126.95042430556497, 268.31775114418747, 75.17513463317543, 59.286492315573454, 269.4085906941632, 110.70989480000152, 71.42828076228747, 165.45556610673097, 111.36285060190765, 66.94388098768871, 313.64140837086825, 628.8384009464564, 284.76682212190866, 134.2667996997848, 667.9217689511028, 3850.459558853597, 224.88497584022335, 854.7932451259734, 334.9850363395763, 2024.5462276246637, 393.823976228957, 904.8620215511224, 2369.8924692157366, 145.95599857092054, 128.63062844709063, 96.67387310372176, 93.18137088690055, 69.36787701992087, 56.013333127934764, 51.14021681145539, 46.943437504887896, 44.980905146726094, 44.52124093446567, 42.49591449805272, 38.5661559826751, 33.70181235946467, 33.37708566051013, 32.94949007554477, 33.6011588591714, 28.37625132842325, 27.93392772656248, 27.386223771235784, 29.16481883356318, 26.740944358066457, 25.69385278039239, 25.641867946375477, 25.44850666345971, 25.393137313544702, 24.71539473574672, 23.820166405741492, 22.598749002687146, 22.502439765841782, 22.21275838293542, 179.04957761772962, 273.9964827422291, 53.10640781761829, 73.56443643931209, 61.811750219033314, 114.88006443866547, 383.3750298585726, 50.97306738379172, 67.69897471295187, 100.37492005977946, 81.76457561252985, 265.01726295332503, 33.569026054789894, 137.07301815620417, 75.55274450814204, 431.49793551408374, 509.56057560475847, 300.67103719779794, 219.7821758763535, 110.8768873012564, 229.12872497357827, 168.34478278623794, 204.14950389979575, 452.56826992477255, 206.62715722714975, 156.00236133503506, 1340.845725770691, 502.30169562213274, 561.8913912210114, 278.3166587541968, 57.40180080707002, 53.71632433098457, 48.82336854919555, 40.775638944051266, 39.28993641210853, 34.88474896437394, 34.373786775082706, 30.892288588344417, 30.460718880791042, 29.95696025727818, 27.184244231708135, 27.07196751954966, 25.349996033927813, 23.944949411074756, 23.242174427059286, 22.630945927572952, 22.562212340337595, 67.9420637164995, 21.509498051841767, 21.476102717880078, 19.484015117902185, 19.07046490833527, 18.87219127724702, 18.864231553161602, 18.16803795257387, 17.772388562032265, 17.25255358707617, 16.61186943431149, 16.485163528527103, 16.224352947887596, 291.8062479198352, 44.67063006184031, 249.75872054069671, 285.41356231171915, 330.7925062555289, 287.6949749571294, 230.82540567566215, 89.77342436432912, 544.2417209652009, 170.71379617923995, 134.0647021591644, 193.59147577173056, 328.42699749230553, 227.76975097686156, 592.7819331433653, 122.26354257109153, 265.69887236835325, 301.93452949902434, 2369.8924692157366, 193.67190252509238, 520.3971730372836, 177.30684767883795, 492.4018018074663, 914.2874993149381, 767.6178010988478, 212.46653798129628, 820.8766186229191, 1105.0395871665746, 1960.761361133331, 729.9562361541514, 125.13930511681977, 85.55970149433759, 75.31034911434037, 73.90977077164904, 59.393803932442474, 58.48425294776375, 56.53821198599319, 51.969047354874206, 50.01623982666622, 49.66372806396091, 47.36424752942258, 38.986859867930846, 36.875430455660116, 36.75515431677715, 34.25310565600293, 29.93773211511217, 29.608224996463175, 28.340177760744147, 27.541330467190715, 27.432202064315053, 25.92212531594369, 24.547797551001523, 24.46328834987396, 22.656484772555114, 20.92972092392869, 20.42126979749229, 19.79018658671166, 19.694410500520956, 19.020071980408797, 18.60745999336398, 50.029939595416394, 1066.7798441490797, 101.39005485171593, 68.31609096949688, 45.18237860199845, 47.2771840221932, 34.93561421386095, 33.15724640400365, 33.03032450539741, 32.35221061063464, 29.843763713488247, 29.67289243746894, 29.230468928088282, 28.533178200290404, 28.436928537627374, 29.008700828592016, 27.742349243795132, 27.367657906322517, 27.3197936476271, 26.660369328327448, 26.577443560225625, 25.79056126044116, 25.691878761161988, 24.93063299323583, 24.382225540452612, 23.41196987681977, 23.11833843583623, 22.140213173719367, 21.038755183735425, 20.939600492569912, 19.49367525661728, 19.256563049267186, 51.1634738613111, 48.98568425829712, 153.12205949320543, 53.594720216604706, 64.46654775675871, 75.51051099543793, 108.46952359491557, 451.54638285835415, 65.05130071587006, 143.5014925414215, 159.03804212393283, 48.06069514553985, 64.7627602610272, 101.71351401490307, 561.6132457289839, 116.82848078328719, 207.71425723336895, 1031.1186606877643, 148.34694949709774, 79.37100447750325, 122.56583900104474, 113.22005969710946, 418.44252454281036, 912.4516741512864, 74.9243423724608, 105.40737406925707, 142.0036108937804, 181.13602116650773, 2074.0287740580084, 176.22074632888945, 112.31841354153393, 61.84986203647866, 54.954566324554435, 41.029152552618854, 32.691515945678645, 32.38437299728147, 30.567841966820247, 29.64697899215929, 27.401817354948875, 25.077962656525962, 24.573694027431245, 23.23267488288716, 22.413649624440435, 21.59843214624985, 21.1082229130758, 20.4595624027046, 20.180683840681123, 20.09021008668802, 17.650863452013773, 17.402229994825525, 16.94520638214023, 16.843313688088532, 16.814690134864605, 16.094868418034984, 15.844066038434418, 15.753040899040004, 15.385131498292782, 15.236950771577906, 14.826196738813126, 47.59892576970024, 58.29534296873328, 24.35060729135822, 104.35161619855812, 103.9266028604354, 43.062566153301574, 74.15506792756598, 32.719112097138535, 35.12854752148177, 44.51005555103538, 72.70631940092973, 144.69853840325194, 32.08971519965726, 519.033962907202, 93.80033072017912, 145.94951231799863, 91.22170941142996, 47.46567902298082, 35.53934848488843, 372.13966835502214, 161.45841816816827, 85.92642827580123, 61.84396910830315, 56.61287660187366, 54.352871772583256, 53.83430692942561, 52.79727439031568, 55.21662277968222, 45.15420767805373, 38.032360088058745, 34.495160800061925, 34.13107381503263, 82.26154582993624, 29.12910995846379, 24.647723220136662, 24.162670689916492, 23.054982641389557, 21.343529968974064, 19.227086116134398, 18.260100169540205, 18.116043031287024, 17.886517121762175, 17.491034323728144, 17.392074309636097, 17.096939354486274, 15.39538192056667, 15.067162114992222, 13.92129353012168, 12.945071615756655, 12.891512298547783, 12.200125180264607, 50.672177715992675, 76.86007247376376, 97.92848022531034, 53.23266914981431, 307.03129794959796, 23.811758308647956, 45.96120682983073, 44.69316175275945, 113.22005969710946, 206.62715722714975, 186.52504200014974], \"Category\": [\"Default\", \"Default\", \"Default\", \"Default\", \"Default\", \"Default\", \"Default\", \"Default\", \"Default\", \"Default\", \"Default\", \"Default\", \"Default\", \"Default\", \"Default\", \"Default\", \"Default\", \"Default\", \"Default\", \"Default\", \"Default\", \"Default\", \"Default\", \"Default\", \"Default\", \"Default\", \"Default\", \"Default\", \"Default\", \"Default\", \"Topic1\", \"Topic1\", \"Topic1\", \"Topic1\", \"Topic1\", \"Topic1\", \"Topic1\", \"Topic1\", \"Topic1\", \"Topic1\", \"Topic1\", \"Topic1\", \"Topic1\", \"Topic1\", \"Topic1\", \"Topic1\", \"Topic1\", \"Topic1\", \"Topic1\", \"Topic1\", \"Topic1\", \"Topic1\", \"Topic1\", \"Topic1\", \"Topic1\", \"Topic1\", \"Topic1\", \"Topic1\", \"Topic1\", \"Topic1\", \"Topic1\", \"Topic1\", \"Topic1\", \"Topic1\", \"Topic1\", \"Topic1\", \"Topic1\", \"Topic1\", \"Topic1\", \"Topic1\", \"Topic1\", \"Topic1\", \"Topic1\", \"Topic1\", \"Topic1\", \"Topic1\", \"Topic1\", \"Topic1\", \"Topic1\", \"Topic1\", \"Topic1\", \"Topic1\", \"Topic1\", \"Topic1\", \"Topic1\", \"Topic1\", \"Topic1\", \"Topic1\", \"Topic1\", \"Topic1\", \"Topic1\", \"Topic1\", \"Topic1\", \"Topic1\", \"Topic1\", \"Topic1\", \"Topic1\", \"Topic1\", \"Topic1\", \"Topic1\", \"Topic1\", \"Topic1\", \"Topic1\", \"Topic1\", \"Topic1\", \"Topic1\", \"Topic1\", \"Topic1\", \"Topic1\", \"Topic1\", \"Topic1\", \"Topic1\", \"Topic1\", \"Topic1\", \"Topic2\", \"Topic2\", \"Topic2\", \"Topic2\", \"Topic2\", \"Topic2\", \"Topic2\", \"Topic2\", \"Topic2\", \"Topic2\", \"Topic2\", \"Topic2\", \"Topic2\", \"Topic2\", \"Topic2\", \"Topic2\", \"Topic2\", \"Topic2\", \"Topic2\", \"Topic2\", \"Topic2\", \"Topic2\", \"Topic2\", \"Topic2\", \"Topic2\", \"Topic2\", \"Topic2\", \"Topic2\", \"Topic2\", \"Topic2\", \"Topic2\", \"Topic2\", \"Topic2\", \"Topic2\", \"Topic2\", \"Topic2\", \"Topic2\", \"Topic2\", \"Topic2\", \"Topic2\", \"Topic2\", \"Topic2\", \"Topic2\", \"Topic2\", \"Topic2\", \"Topic2\", \"Topic2\", \"Topic2\", \"Topic2\", \"Topic2\", \"Topic2\", \"Topic2\", \"Topic2\", \"Topic2\", \"Topic2\", \"Topic2\", \"Topic2\", \"Topic2\", \"Topic2\", \"Topic2\", \"Topic2\", \"Topic2\", \"Topic2\", \"Topic2\", \"Topic2\", \"Topic2\", \"Topic2\", \"Topic2\", \"Topic2\", \"Topic2\", \"Topic2\", \"Topic2\", \"Topic2\", \"Topic2\", \"Topic2\", \"Topic2\", \"Topic2\", \"Topic3\", \"Topic3\", \"Topic3\", \"Topic3\", \"Topic3\", \"Topic3\", \"Topic3\", \"Topic3\", \"Topic3\", \"Topic3\", \"Topic3\", \"Topic3\", \"Topic3\", \"Topic3\", \"Topic3\", \"Topic3\", \"Topic3\", \"Topic3\", \"Topic3\", \"Topic3\", \"Topic3\", \"Topic3\", \"Topic3\", \"Topic3\", \"Topic3\", \"Topic3\", \"Topic3\", \"Topic3\", \"Topic3\", \"Topic3\", \"Topic3\", \"Topic3\", \"Topic3\", \"Topic3\", \"Topic3\", \"Topic3\", \"Topic3\", \"Topic3\", \"Topic3\", \"Topic3\", \"Topic3\", \"Topic3\", \"Topic3\", \"Topic3\", \"Topic3\", \"Topic3\", \"Topic3\", \"Topic3\", \"Topic3\", \"Topic3\", \"Topic3\", \"Topic3\", \"Topic3\", \"Topic3\", \"Topic3\", \"Topic3\", \"Topic3\", \"Topic3\", \"Topic3\", \"Topic3\", \"Topic3\", \"Topic3\", \"Topic3\", \"Topic3\", \"Topic3\", \"Topic3\", \"Topic3\", \"Topic3\", \"Topic3\", \"Topic3\", \"Topic3\", \"Topic3\", \"Topic3\", \"Topic3\", \"Topic3\", \"Topic3\", \"Topic4\", \"Topic4\", \"Topic4\", \"Topic4\", \"Topic4\", \"Topic4\", \"Topic4\", \"Topic4\", \"Topic4\", \"Topic4\", \"Topic4\", \"Topic4\", \"Topic4\", \"Topic4\", \"Topic4\", \"Topic4\", \"Topic4\", \"Topic4\", \"Topic4\", \"Topic4\", \"Topic4\", \"Topic4\", \"Topic4\", \"Topic4\", \"Topic4\", \"Topic4\", \"Topic4\", \"Topic4\", \"Topic4\", \"Topic4\", \"Topic4\", \"Topic4\", \"Topic4\", \"Topic4\", \"Topic4\", \"Topic4\", \"Topic4\", \"Topic4\", \"Topic4\", \"Topic4\", \"Topic4\", \"Topic4\", \"Topic4\", \"Topic4\", \"Topic4\", \"Topic4\", \"Topic4\", \"Topic4\", \"Topic4\", \"Topic4\", \"Topic4\", \"Topic4\", \"Topic4\", \"Topic4\", \"Topic4\", \"Topic4\", \"Topic4\", \"Topic4\", \"Topic4\", \"Topic4\", \"Topic4\", \"Topic4\", \"Topic4\", \"Topic4\", \"Topic4\", \"Topic4\", \"Topic4\", \"Topic4\", \"Topic5\", \"Topic5\", \"Topic5\", \"Topic5\", \"Topic5\", \"Topic5\", \"Topic5\", \"Topic5\", \"Topic5\", \"Topic5\", \"Topic5\", \"Topic5\", \"Topic5\", \"Topic5\", \"Topic5\", \"Topic5\", \"Topic5\", \"Topic5\", \"Topic5\", \"Topic5\", \"Topic5\", \"Topic5\", \"Topic5\", \"Topic5\", \"Topic5\", \"Topic5\", \"Topic5\", \"Topic5\", \"Topic5\", \"Topic5\", \"Topic5\", \"Topic5\", \"Topic5\", \"Topic5\", \"Topic5\", \"Topic5\", \"Topic5\", \"Topic5\", \"Topic5\", \"Topic5\", \"Topic5\", \"Topic5\", \"Topic5\", \"Topic5\", \"Topic5\", \"Topic5\", \"Topic5\", \"Topic5\", \"Topic5\", \"Topic5\", \"Topic5\", \"Topic5\", \"Topic5\", \"Topic5\", \"Topic5\", \"Topic5\", \"Topic6\", \"Topic6\", \"Topic6\", \"Topic6\", \"Topic6\", \"Topic6\", \"Topic6\", \"Topic6\", \"Topic6\", \"Topic6\", \"Topic6\", \"Topic6\", \"Topic6\", \"Topic6\", \"Topic6\", \"Topic6\", \"Topic6\", \"Topic6\", \"Topic6\", \"Topic6\", \"Topic6\", \"Topic6\", \"Topic6\", \"Topic6\", \"Topic6\", \"Topic6\", \"Topic6\", \"Topic6\", \"Topic6\", \"Topic6\", \"Topic6\", \"Topic6\", \"Topic6\", \"Topic6\", \"Topic6\", \"Topic6\", \"Topic6\", \"Topic6\", \"Topic6\", \"Topic6\", \"Topic6\", \"Topic6\", \"Topic6\", \"Topic6\", \"Topic6\", \"Topic6\", \"Topic6\", \"Topic6\", \"Topic6\", \"Topic6\", \"Topic6\", \"Topic6\", \"Topic6\", \"Topic6\", \"Topic6\", \"Topic6\", \"Topic6\", \"Topic6\", \"Topic6\", \"Topic6\", \"Topic7\", \"Topic7\", \"Topic7\", \"Topic7\", \"Topic7\", \"Topic7\", \"Topic7\", \"Topic7\", \"Topic7\", \"Topic7\", \"Topic7\", \"Topic7\", \"Topic7\", \"Topic7\", \"Topic7\", \"Topic7\", \"Topic7\", \"Topic7\", \"Topic7\", \"Topic7\", \"Topic7\", \"Topic7\", \"Topic7\", \"Topic7\", \"Topic7\", \"Topic7\", \"Topic7\", \"Topic7\", \"Topic7\", \"Topic7\", \"Topic7\", \"Topic7\", \"Topic7\", \"Topic7\", \"Topic7\", \"Topic7\", \"Topic7\", \"Topic7\", \"Topic7\", \"Topic7\", \"Topic7\", \"Topic7\", \"Topic7\", \"Topic7\", \"Topic7\", \"Topic7\", \"Topic7\", \"Topic7\", \"Topic7\", \"Topic7\", \"Topic7\", \"Topic7\", \"Topic7\", \"Topic7\", \"Topic7\", \"Topic7\", \"Topic7\", \"Topic7\", \"Topic7\", \"Topic7\", \"Topic7\", \"Topic7\", \"Topic7\", \"Topic8\", \"Topic8\", \"Topic8\", \"Topic8\", \"Topic8\", \"Topic8\", \"Topic8\", \"Topic8\", \"Topic8\", \"Topic8\", \"Topic8\", \"Topic8\", \"Topic8\", \"Topic8\", \"Topic8\", \"Topic8\", \"Topic8\", \"Topic8\", \"Topic8\", \"Topic8\", \"Topic8\", \"Topic8\", \"Topic8\", \"Topic8\", \"Topic8\", \"Topic8\", \"Topic8\", \"Topic8\", \"Topic8\", \"Topic8\", \"Topic8\", \"Topic8\", \"Topic8\", \"Topic8\", \"Topic8\", \"Topic8\", \"Topic8\", \"Topic8\", \"Topic8\", \"Topic8\", \"Topic8\", \"Topic8\", \"Topic8\", \"Topic8\", \"Topic8\", \"Topic8\", \"Topic8\", \"Topic8\", \"Topic8\", \"Topic8\", \"Topic8\", \"Topic8\", \"Topic8\", \"Topic8\", \"Topic8\", \"Topic8\", \"Topic8\", \"Topic8\", \"Topic8\", \"Topic8\", \"Topic8\", \"Topic8\", \"Topic8\", \"Topic8\", \"Topic9\", \"Topic9\", \"Topic9\", \"Topic9\", \"Topic9\", \"Topic9\", \"Topic9\", \"Topic9\", \"Topic9\", \"Topic9\", \"Topic9\", \"Topic9\", \"Topic9\", \"Topic9\", \"Topic9\", \"Topic9\", \"Topic9\", \"Topic9\", \"Topic9\", \"Topic9\", \"Topic9\", \"Topic9\", \"Topic9\", \"Topic9\", \"Topic9\", \"Topic9\", \"Topic9\", \"Topic9\", \"Topic9\", \"Topic9\", \"Topic9\", \"Topic9\", \"Topic9\", \"Topic9\", \"Topic9\", \"Topic9\", \"Topic9\", \"Topic9\", \"Topic9\", \"Topic9\", \"Topic9\", \"Topic9\", \"Topic9\", \"Topic9\", \"Topic9\", \"Topic9\", \"Topic9\", \"Topic9\", \"Topic9\", \"Topic9\", \"Topic9\", \"Topic9\", \"Topic9\", \"Topic9\", \"Topic9\", \"Topic9\", \"Topic9\", \"Topic9\", \"Topic9\", \"Topic9\", \"Topic9\", \"Topic9\", \"Topic9\", \"Topic9\", \"Topic9\", \"Topic9\", \"Topic9\", \"Topic9\", \"Topic10\", \"Topic10\", \"Topic10\", \"Topic10\", \"Topic10\", \"Topic10\", \"Topic10\", \"Topic10\", \"Topic10\", \"Topic10\", \"Topic10\", \"Topic10\", \"Topic10\", \"Topic10\", \"Topic10\", \"Topic10\", \"Topic10\", \"Topic10\", \"Topic10\", \"Topic10\", \"Topic10\", \"Topic10\", \"Topic10\", \"Topic10\", \"Topic10\", \"Topic10\", \"Topic10\", \"Topic10\", \"Topic10\", \"Topic10\", \"Topic10\", \"Topic10\", \"Topic10\", \"Topic10\", \"Topic10\", \"Topic10\", \"Topic10\", \"Topic10\", \"Topic10\", \"Topic10\", \"Topic10\", \"Topic10\", \"Topic10\", \"Topic10\", \"Topic10\", \"Topic10\", \"Topic10\", \"Topic10\", \"Topic10\", \"Topic10\", \"Topic10\", \"Topic10\", \"Topic10\", \"Topic10\", \"Topic10\", \"Topic10\", \"Topic10\", \"Topic10\", \"Topic10\", \"Topic11\", \"Topic11\", \"Topic11\", \"Topic11\", \"Topic11\", \"Topic11\", \"Topic11\", \"Topic11\", \"Topic11\", \"Topic11\", \"Topic11\", \"Topic11\", \"Topic11\", \"Topic11\", \"Topic11\", \"Topic11\", \"Topic11\", \"Topic11\", \"Topic11\", \"Topic11\", \"Topic11\", \"Topic11\", \"Topic11\", \"Topic11\", \"Topic11\", \"Topic11\", \"Topic11\", \"Topic11\", \"Topic11\", \"Topic11\", \"Topic11\", \"Topic11\", \"Topic11\", \"Topic11\", \"Topic11\", \"Topic11\", \"Topic11\", \"Topic11\", \"Topic11\", \"Topic11\", \"Topic11\", \"Topic11\", \"Topic11\", \"Topic11\", \"Topic11\", \"Topic11\", \"Topic11\", \"Topic11\", \"Topic11\", \"Topic11\", \"Topic11\", \"Topic11\", \"Topic11\", \"Topic11\", \"Topic11\", \"Topic11\", \"Topic11\", \"Topic11\", \"Topic11\", \"Topic11\", \"Topic11\", \"Topic12\", \"Topic12\", \"Topic12\", \"Topic12\", \"Topic12\", \"Topic12\", \"Topic12\", \"Topic12\", \"Topic12\", \"Topic12\", \"Topic12\", \"Topic12\", \"Topic12\", \"Topic12\", \"Topic12\", \"Topic12\", \"Topic12\", \"Topic12\", \"Topic12\", \"Topic12\", \"Topic12\", \"Topic12\", \"Topic12\", \"Topic12\", \"Topic12\", \"Topic12\", \"Topic12\", \"Topic12\", \"Topic12\", \"Topic12\", \"Topic12\", \"Topic12\", \"Topic12\", \"Topic12\", \"Topic12\", \"Topic12\", \"Topic12\", \"Topic12\", \"Topic12\", \"Topic12\", \"Topic12\", \"Topic12\", \"Topic12\", \"Topic12\", \"Topic12\", \"Topic12\", \"Topic12\", \"Topic12\", \"Topic12\", \"Topic12\", \"Topic12\", \"Topic12\", \"Topic12\", \"Topic12\", \"Topic12\", \"Topic12\", \"Topic12\", \"Topic12\", \"Topic12\", \"Topic12\", \"Topic12\", \"Topic12\", \"Topic12\", \"Topic12\", \"Topic12\", \"Topic12\", \"Topic12\", \"Topic12\", \"Topic12\", \"Topic13\", \"Topic13\", \"Topic13\", \"Topic13\", \"Topic13\", \"Topic13\", \"Topic13\", \"Topic13\", \"Topic13\", \"Topic13\", \"Topic13\", \"Topic13\", \"Topic13\", \"Topic13\", \"Topic13\", \"Topic13\", \"Topic13\", \"Topic13\", \"Topic13\", \"Topic13\", \"Topic13\", \"Topic13\", \"Topic13\", \"Topic13\", \"Topic13\", \"Topic13\", \"Topic13\", \"Topic13\", \"Topic13\", \"Topic13\", \"Topic13\", \"Topic13\", \"Topic13\", \"Topic13\", \"Topic13\", \"Topic13\", \"Topic13\", \"Topic13\", \"Topic13\", \"Topic13\", \"Topic13\", \"Topic13\", \"Topic13\", \"Topic13\", \"Topic13\", \"Topic13\", \"Topic13\", \"Topic13\", \"Topic13\", \"Topic13\", \"Topic13\", \"Topic13\", \"Topic13\", \"Topic13\", \"Topic13\", \"Topic13\", \"Topic13\", \"Topic13\", \"Topic13\", \"Topic13\", \"Topic13\", \"Topic14\", \"Topic14\", \"Topic14\", \"Topic14\", \"Topic14\", \"Topic14\", \"Topic14\", \"Topic14\", \"Topic14\", \"Topic14\", \"Topic14\", \"Topic14\", \"Topic14\", \"Topic14\", \"Topic14\", \"Topic14\", \"Topic14\", \"Topic14\", \"Topic14\", \"Topic14\", \"Topic14\", \"Topic14\", \"Topic14\", \"Topic14\", \"Topic14\", \"Topic14\", \"Topic14\", \"Topic14\", \"Topic14\", \"Topic14\", \"Topic14\", \"Topic14\", \"Topic14\", \"Topic14\", \"Topic14\", \"Topic14\", \"Topic14\", \"Topic14\", \"Topic14\", \"Topic14\", \"Topic14\", \"Topic14\", \"Topic14\", \"Topic14\", \"Topic14\", \"Topic14\", \"Topic14\", \"Topic14\", \"Topic14\", \"Topic14\", \"Topic14\", \"Topic14\", \"Topic14\", \"Topic14\", \"Topic14\", \"Topic14\", \"Topic14\", \"Topic14\", \"Topic14\", \"Topic14\", \"Topic14\", \"Topic14\", \"Topic14\", \"Topic15\", \"Topic15\", \"Topic15\", \"Topic15\", \"Topic15\", \"Topic15\", \"Topic15\", \"Topic15\", \"Topic15\", \"Topic15\", \"Topic15\", \"Topic15\", \"Topic15\", \"Topic15\", \"Topic15\", \"Topic15\", \"Topic15\", \"Topic15\", \"Topic15\", \"Topic15\", \"Topic15\", \"Topic15\", \"Topic15\", \"Topic15\", \"Topic15\", \"Topic15\", \"Topic15\", \"Topic15\", \"Topic15\", \"Topic15\", \"Topic15\", \"Topic15\", \"Topic15\", \"Topic15\", \"Topic15\", \"Topic15\", \"Topic15\", \"Topic15\", \"Topic15\", \"Topic15\", \"Topic15\", \"Topic15\", \"Topic15\", \"Topic15\", \"Topic15\", \"Topic15\", \"Topic15\", \"Topic15\", \"Topic15\", \"Topic15\", \"Topic15\", \"Topic15\", \"Topic15\", \"Topic15\", \"Topic15\", \"Topic15\", \"Topic15\", \"Topic15\", \"Topic15\", \"Topic15\", \"Topic16\", \"Topic16\", \"Topic16\", \"Topic16\", \"Topic16\", \"Topic16\", \"Topic16\", \"Topic16\", \"Topic16\", \"Topic16\", \"Topic16\", \"Topic16\", \"Topic16\", \"Topic16\", \"Topic16\", \"Topic16\", \"Topic16\", \"Topic16\", \"Topic16\", \"Topic16\", \"Topic16\", \"Topic16\", \"Topic16\", \"Topic16\", \"Topic16\", \"Topic16\", \"Topic16\", \"Topic16\", \"Topic16\", \"Topic16\", \"Topic16\", \"Topic16\", \"Topic16\", \"Topic16\", \"Topic16\", \"Topic16\", \"Topic16\", \"Topic16\", \"Topic16\", \"Topic16\", \"Topic16\", \"Topic16\", \"Topic16\", \"Topic16\", \"Topic16\", \"Topic16\", \"Topic16\", \"Topic16\", \"Topic16\", \"Topic16\", \"Topic16\", \"Topic16\", \"Topic16\", \"Topic16\", \"Topic16\", \"Topic16\", \"Topic16\", \"Topic16\", \"Topic16\", \"Topic16\", \"Topic17\", \"Topic17\", \"Topic17\", \"Topic17\", \"Topic17\", \"Topic17\", \"Topic17\", \"Topic17\", \"Topic17\", \"Topic17\", \"Topic17\", \"Topic17\", \"Topic17\", \"Topic17\", \"Topic17\", \"Topic17\", \"Topic17\", \"Topic17\", \"Topic17\", \"Topic17\", \"Topic17\", \"Topic17\", \"Topic17\", \"Topic17\", \"Topic17\", \"Topic17\", \"Topic17\", \"Topic17\", \"Topic17\", \"Topic17\", \"Topic17\", \"Topic17\", \"Topic18\", \"Topic18\", \"Topic18\", \"Topic18\", \"Topic18\", \"Topic18\", \"Topic18\", \"Topic18\", \"Topic18\", \"Topic18\", \"Topic18\", \"Topic18\", \"Topic18\", \"Topic18\", \"Topic18\", \"Topic18\", \"Topic18\", \"Topic18\", \"Topic18\", \"Topic18\", \"Topic18\", \"Topic18\", \"Topic18\", \"Topic18\", \"Topic18\", \"Topic18\", \"Topic18\", \"Topic18\", \"Topic18\", \"Topic18\", \"Topic18\", \"Topic18\", \"Topic18\", \"Topic18\", \"Topic18\", \"Topic18\", \"Topic18\", \"Topic18\", \"Topic18\", \"Topic18\", \"Topic18\", \"Topic18\", \"Topic18\", \"Topic18\", \"Topic18\", \"Topic18\", \"Topic18\", \"Topic18\", \"Topic18\", \"Topic18\", \"Topic18\", \"Topic18\", \"Topic18\", \"Topic18\", \"Topic18\", \"Topic18\", \"Topic18\", \"Topic18\", \"Topic18\", \"Topic19\", \"Topic19\", \"Topic19\", \"Topic19\", \"Topic19\", \"Topic19\", \"Topic19\", \"Topic19\", \"Topic19\", \"Topic19\", \"Topic19\", \"Topic19\", \"Topic19\", \"Topic19\", \"Topic19\", \"Topic19\", \"Topic19\", \"Topic19\", \"Topic19\", \"Topic19\", \"Topic19\", \"Topic19\", \"Topic19\", \"Topic19\", \"Topic19\", \"Topic19\", \"Topic19\", \"Topic19\", \"Topic19\", \"Topic19\", \"Topic19\", \"Topic19\", \"Topic19\", \"Topic19\", \"Topic19\", \"Topic19\", \"Topic19\", \"Topic19\", \"Topic19\", \"Topic19\", \"Topic19\", \"Topic19\", \"Topic19\", \"Topic19\", \"Topic19\", \"Topic19\", \"Topic19\", \"Topic19\", \"Topic19\", \"Topic19\", \"Topic19\", \"Topic20\", \"Topic20\", \"Topic20\", \"Topic20\", \"Topic20\", \"Topic20\", \"Topic20\", \"Topic20\", \"Topic20\", \"Topic20\", \"Topic20\", \"Topic20\", \"Topic20\", \"Topic20\", \"Topic20\", \"Topic20\", \"Topic20\", \"Topic20\", \"Topic20\", \"Topic20\", \"Topic20\", \"Topic20\", \"Topic20\", \"Topic20\", \"Topic20\", \"Topic20\", \"Topic20\", \"Topic20\", \"Topic20\", \"Topic20\", \"Topic20\", \"Topic20\", \"Topic20\", \"Topic20\", \"Topic20\", \"Topic20\", \"Topic20\", \"Topic20\", \"Topic20\", \"Topic20\", \"Topic20\"], \"logprob\": [30.0, 29.0, 28.0, 27.0, 26.0, 25.0, 24.0, 23.0, 22.0, 21.0, 20.0, 19.0, 18.0, 17.0, 16.0, 15.0, 14.0, 13.0, 12.0, 11.0, 10.0, 9.0, 8.0, 7.0, 6.0, 5.0, 4.0, 3.0, 2.0, 1.0, -6.288000106811523, -7.003300189971924, -7.067999839782715, -7.326900005340576, -7.357399940490723, -7.450099945068359, -7.494900226593018, -7.384200096130371, -7.603400230407715, -7.6554999351501465, -7.658400058746338, -6.547500133514404, -7.956600189208984, -7.970799922943115, -7.988100051879883, -8.075799942016602, -8.123700141906738, -7.303599834442139, -8.18910026550293, -7.838799953460693, -8.201700210571289, -8.209099769592285, -8.218000411987305, -8.233400344848633, -8.26259994506836, -8.274299621582031, -7.626999855041504, -8.319700241088867, -8.337400436401367, -8.346599578857422, -7.644199848175049, -6.4492998123168945, -7.053500175476074, -6.639100074768066, -5.976399898529053, -6.500999927520752, -7.396200180053711, -7.4807000160217285, -7.117499828338623, -4.402200222015381, -7.032700061798096, -4.70989990234375, -5.492199897766113, -6.481500148773193, -6.113699913024902, -6.261499881744385, -6.914100170135498, -6.146599769592285, -4.16480016708374, -5.4028000831604, -6.4191999435424805, -5.640900135040283, -6.133299827575684, -5.842899799346924, -5.106200218200684, -5.7789998054504395, -5.519100189208984, -6.234399795532227, -5.946800231933594, -4.796199798583984, -6.510799884796143, -5.681600093841553, -6.070799827575684, -5.780900001525879, -5.2789998054504395, -5.167200088500977, -5.912700176239014, -4.849100112915039, -5.940999984741211, -5.395599842071533, -5.911900043487549, -5.231800079345703, -5.714799880981445, -5.148799896240234, -5.519100189208984, -5.406700134277344, -5.709199905395508, -5.360199928283691, -5.796500205993652, -5.57889986038208, -5.570099830627441, -5.822400093078613, -5.522900104522705, -5.833499908447266, -4.847799777984619, -5.665999889373779, -6.398799896240234, -5.870299816131592, -6.643099784851074, -6.652100086212158, -6.741799831390381, -6.907400131225586, -6.921500205993652, -7.01800012588501, -7.218200206756592, -7.3196001052856445, -7.38070011138916, -7.451499938964844, -7.469799995422363, -7.4721999168396, -7.478499889373779, -7.514200210571289, -7.57420015335083, -7.610300064086914, -7.61929988861084, -7.625, -7.653299808502197, -7.6753997802734375, -7.677599906921387, -6.625100135803223, -7.721700191497803, -7.7230000495910645, -7.73199987411499, -7.7378997802734375, -6.409900188446045, -4.8246002197265625, -6.857100009918213, -6.569399833679199, -7.325399875640869, -4.496699810028076, -5.1296000480651855, -6.604800224304199, -5.583000183105469, -4.402400016784668, -6.627500057220459, -6.709700107574463, -5.7835001945495605, -4.837500095367432, -6.313899993896484, -5.453800201416016, -5.872200012207031, -5.365300178527832, -4.688399791717529, -4.5543999671936035, -4.751800060272217, -5.777299880981445, -5.725299835205078, -4.639100074768066, -6.085599899291992, -5.310699939727783, -5.313399791717529, -6.022600173950195, -4.9558000564575195, -5.303299903869629, -5.0929999351501465, -5.378600120544434, -5.876800060272217, -4.679900169372559, -4.731400012969971, -4.728099822998047, -5.533400058746338, -5.217599868774414, -4.675000190734863, -5.377399921417236, -5.414899826049805, -5.559299945831299, -5.36899995803833, -5.4842000007629395, -5.508800029754639, -5.518199920654297, -5.521999835968018, -5.6346001625061035, -5.885499954223633, -6.126800060272217, -6.499599933624268, -6.876299858093262, -7.022900104522705, -7.03849983215332, -7.064700126647949, -7.147500038146973, -7.245699882507324, -7.246799945831299, -7.279600143432617, -7.332200050354004, -7.339399814605713, -7.377600193023682, -7.3871002197265625, -7.42710018157959, -7.4481000900268555, -7.450699806213379, -7.491000175476074, -7.528600215911865, -7.5594000816345215, -7.590099811553955, -7.63700008392334, -7.650300025939941, -7.6722002029418945, -7.674300193786621, -7.695400238037109, -7.714200019836426, -7.695300102233887, -6.076700210571289, -5.689899921417236, -6.743000030517578, -6.466300010681152, -4.179299831390381, -7.082600116729736, -6.67140007019043, -6.617300033569336, -7.107600212097168, -6.142600059509277, -6.092299938201904, -6.950900077819824, -5.420400142669678, -6.639200210571289, -6.166200160980225, -6.448999881744385, -6.045300006866455, -7.071199893951416, -6.068600177764893, -6.513599872589111, -6.224699974060059, -6.690700054168701, -5.151299953460693, -5.362500190734863, -6.2316999435424805, -5.76800012588501, -5.513000011444092, -5.198599815368652, -6.021399974822998, -5.281799793243408, -5.941500186920166, -5.975299835205078, -5.474899768829346, -5.852200031280518, -5.158100128173828, -5.670300006866455, -5.915299892425537, -6.1092000007629395, -6.05019998550415, -5.791100025177002, -5.77239990234375, -5.903500080108643, -6.030700206756592, -6.053599834442139, -6.067500114440918, -6.067599773406982, -4.724599838256836, -5.358099937438965, -5.420100212097168, -5.649499893188477, -6.012199878692627, -6.017000198364258, -4.157100200653076, -6.170599937438965, -6.416399955749512, -6.444399833679199, -6.454100131988525, -6.620699882507324, -6.639999866485596, -6.673699855804443, -6.718699932098389, -6.722899913787842, -6.785699844360352, -6.8105998039245605, -6.821000099182129, -6.855000019073486, -6.904399871826172, -6.929500102996826, -7.014800071716309, -7.026000022888184, -7.033999919891357, -7.096099853515625, -7.136600017547607, -7.15339994430542, -7.1579999923706055, -7.204100131988525, -7.127799987792969, -6.713200092315674, -4.702499866485596, -6.9045000076293945, -5.158100128173828, -5.570300102233887, -5.365099906921387, -6.563199996948242, -5.80649995803833, -5.846199989318848, -4.949699878692627, -6.497799873352051, -5.041299819946289, -5.317500114440918, -5.635700225830078, -6.059199810028076, -5.868299961090088, -6.285600185394287, -6.022500038146973, -6.146299839019775, -4.761099815368652, -5.1331000328063965, -6.027200222015381, -5.13040018081665, -5.595300197601318, -5.110499858856201, -5.303800106048584, -5.352799892425537, -5.116799831390381, -5.686999797821045, -5.546500205993652, -5.695899963378906, -5.332499980926514, -5.304500102996826, -5.344799995422363, -5.6290998458862305, -5.623700141906738, -5.689899921417236, -4.588200092315674, -4.714700222015381, -4.93779993057251, -5.400000095367432, -5.658299922943115, -5.696700096130371, -5.806099891662598, -5.9253997802734375, -5.925600051879883, -6.051499843597412, -6.2153000831604, -6.266300201416016, -6.270199775695801, -6.398399829864502, -6.463799953460693, -6.467899799346924, -6.508900165557861, -6.513500213623047, -6.5441999435424805, -6.55620002746582, -6.591100215911865, -6.592299938201904, -6.60699987411499, -6.6107001304626465, -6.6894001960754395, -6.736400127410889, -6.737500190734863, -6.782299995422363, -6.9583001136779785, -6.978400230407715, -5.792399883270264, -6.54449987411499, -4.966300010681152, -6.070400238037109, -5.906000137329102, -5.439799785614014, -5.112100124359131, -5.982500076293945, -5.5991997718811035, -5.653800010681152, -6.362800121307373, -5.990900039672852, -4.638299942016602, -5.495699882507324, -5.799300193786621, -5.6508002281188965, -5.708700180053711, -5.896500110626221, -4.912700176239014, -5.734399795532227, -5.92140007019043, -5.799799919128418, -5.577199935913086, -5.8059000968933105, -5.756199836730957, -5.911099910736084, -4.484399795532227, -4.680799961090088, -4.968800067901611, -5.140999794006348, -5.380499839782715, -5.497700214385986, -5.590199947357178, -5.6803998947143555, -5.7683000564575195, -5.960400104522705, -6.082799911499023, -6.291600227355957, -6.344900131225586, -6.585899829864502, -6.702600002288818, -6.4953999519348145, -6.744500160217285, -6.793799877166748, -6.831099987030029, -6.847099781036377, -6.957099914550781, -7.044600009918213, -7.124800205230713, -7.144499778747559, -7.189000129699707, -7.196899890899658, -6.552000045776367, -7.249499797821045, -7.284800052642822, -7.312399864196777, -4.76609992980957, -5.3256001472473145, -5.540800094604492, -5.820199966430664, -5.414400100708008, -5.219900131225586, -6.803800106048584, -5.5706000328063965, -4.154600143432617, -6.440000057220459, -5.439499855041504, -4.509099960327148, -5.295300006866455, -5.157700061798096, -6.162300109863281, -5.628799915313721, -4.911399841308594, -5.526899814605713, -6.077099800109863, -5.753600120544434, -5.554200172424316, -5.73829984664917, -5.008699893951416, -5.44189977645874, -5.545499801635742, -5.4527997970581055, -5.574900150299072, -5.400300025939941, -5.247000217437744, -5.583099842071533, -4.7399001121521, -4.8917999267578125, -4.925600051879883, -4.945300102233887, -5.228000164031982, -5.835400104522705, -6.009699821472168, -5.930200099945068, -6.145699977874756, -6.149400234222412, -6.211299896240234, -6.300600051879883, -6.388899803161621, -6.412099838256836, -6.41379976272583, -6.445099830627441, -6.447700023651123, -6.478799819946289, -6.527100086212158, -6.6041998863220215, -6.610099792480469, -6.628699779510498, -6.695000171661377, -6.714200019836426, -6.750400066375732, -6.812099933624268, -6.835899829864502, -6.92080020904541, -6.94290018081665, -6.7347002029418945, -4.9293999671936035, -4.203800201416016, -5.9222002029418945, -4.16949987411499, -5.5894999504089355, -4.555099964141846, -4.570000171661377, -5.3125, -6.0329999923706055, -6.184700012207031, -5.5971999168396, -5.740799903869629, -4.888899803161621, -5.781599998474121, -5.9721999168396, -5.646299839019775, -4.390600204467773, -5.871200084686279, -5.706399917602539, -4.8414998054504395, -5.634699821472168, -5.692299842834473, -5.835599899291992, -5.120800018310547, -5.18120002746582, -5.4721999168396, -5.525100231170654, -5.4868998527526855, -5.383500099182129, -5.502900123596191, -5.560999870300293, -5.63100004196167, -5.648399829864502, -5.355899810791016, -5.375199794769287, -5.432499885559082, -5.758200168609619, -6.231100082397461, -6.24459981918335, -6.273499965667725, -6.311500072479248, -6.360799789428711, -6.466300010681152, -6.473599910736084, -6.644800186157227, -6.734000205993652, -6.776500225067139, -6.7967000007629395, -6.812300205230713, -6.827499866485596, -6.855999946594238, -6.875500202178955, -6.912899971008301, -6.941800117492676, -6.950099945068359, -6.968900203704834, -6.986199855804443, -7.013199806213379, -7.080699920654297, -7.095799922943115, -7.156400203704834, -7.15910005569458, -7.216899871826172, -4.345099925994873, -6.407100200653076, -3.5380001068115234, -4.284599781036377, -5.255899906158447, -6.048299789428711, -5.512499809265137, -5.017600059509277, -5.411300182342529, -5.052999973297119, -5.207600116729736, -5.323699951171875, -5.755000114440918, -4.986100196838379, -5.4029998779296875, -5.5467000007629395, -5.182199954986572, -5.930699825286865, -5.411200046539307, -4.5335001945495605, -4.981599807739258, -4.934199810028076, -5.039700031280518, -5.199999809265137, -4.947400093078613, -5.173900127410889, -5.224800109863281, -4.970699787139893, -4.85890007019043, -5.441299915313721, -5.144499778747559, -5.381100177764893, -5.315299987792969, -5.437399864196777, -6.443399906158447, -6.491199970245361, -6.7006001472473145, -6.752099990844727, -6.7606000900268555, -6.786300182342529, -6.789700031280518, -6.817200183868408, -6.880799770355225, -6.937600135803223, -6.976099967956543, -6.995200157165527, -7.001100063323975, -7.006800174713135, -7.0106000900268555, -7.030300140380859, -7.031199932098389, -7.037300109863281, -7.071300029754639, -7.093699932098389, -7.106800079345703, -7.1072998046875, -7.111100196838379, -7.185699939727783, -7.205699920654297, -7.228300094604492, -7.284999847412109, -6.120100021362305, -7.2941999435424805, -7.325200080871582, -7.162799835205078, -6.747399806976318, -5.175000190734863, -6.620500087738037, -5.517399787902832, -5.80709981918335, -6.704999923706055, -5.881100177764893, -6.667200088500977, -6.40910005569458, -5.027100086212158, -5.9532999992370605, -6.041500091552734, -6.229000091552734, -5.07420015335083, -5.99970006942749, -6.739999771118164, -6.162600040435791, -5.673500061035156, -6.6722002029418945, -6.205699920654297, -6.096700191497803, -5.5065999031066895, -5.735899925231934, -5.969299793243408, -6.19379997253418, -6.002600193023682, -6.019899845123291, -6.134300231933594, -5.757900238037109, -5.978099822998047, -6.416500091552734, -6.136600017547607, -6.463399887084961, -6.1479997634887695, -6.246399879455566, -6.3460001945495605, -6.369900226593018, -3.7613000869750977, -4.643499851226807, -5.285799980163574, -5.3520002365112305, -5.641900062561035, -5.682199954986572, -5.722499847412109, -5.892300128936768, -6.033199787139893, -6.081099987030029, -6.128499984741211, -6.201499938964844, -6.0742998123168945, -6.2546000480651855, -6.2617998123168945, -6.359300136566162, -6.368500232696533, -6.36870002746582, -6.404900074005127, -6.418600082397461, -6.425300121307373, -6.445000171661377, -6.474599838256836, -6.504899978637695, -6.5100998878479, -6.176700115203857, -6.519700050354004, -6.578000068664551, -6.597099781036377, -6.612299919128418, -4.480400085449219, -4.380099773406982, -5.3815999031066895, -5.575300216674805, -5.980500221252441, -5.362400054931641, -6.3190999031066895, -4.479899883270264, -4.763599872589111, -6.153500080108643, -4.933000087738037, -5.3105998039245605, -5.874899864196777, -6.040800094604492, -5.1743998527526855, -5.105500221252441, -5.50029993057251, -5.3649001121521, -5.611100196838379, -5.786600112915039, -5.741700172424316, -5.919099807739258, -5.682400226593018, -5.864699840545654, -5.582600116729736, -5.3765997886657715, -5.880099773406982, -5.767000198364258, -5.76800012588501, -4.588399887084961, -5.187399864196777, -5.4766998291015625, -5.858399868011475, -5.897500038146973, -5.968100070953369, -6.044400215148926, -6.106800079345703, -6.263500213623047, -6.276700019836426, -6.338200092315674, -6.434500217437744, -6.490799903869629, -6.503900051116943, -6.594799995422363, -6.649799823760986, -6.711299896240234, -6.778500080108643, -6.791299819946289, -6.793099880218506, -6.797800064086914, -6.8221001625061035, -6.832799911499023, -6.851200103759766, -6.904099941253662, -6.93779993057251, -6.937900066375732, -6.971700191497803, -6.992400169372559, -6.069499969482422, -5.519599914550781, -6.429900169372559, -6.409800052642822, -5.116399765014648, -5.490300178527832, -5.139699935913086, -6.513899803161621, -6.5005998611450195, -5.286099910736084, -5.629499912261963, -6.216100215911865, -6.3703999519348145, -5.475800037384033, -5.679500102996826, -5.8196001052856445, -5.041600227355957, -5.509799957275391, -5.945199966430664, -5.477099895477295, -5.703400135040283, -5.966800212860107, -5.593100070953369, -5.965199947357178, -4.990600109100342, -5.192200183868408, -5.4542999267578125, -5.895199775695801, -5.5725998878479, -5.895100116729736, -5.901400089263916, -5.909200191497803, -6.035099983215332, -6.1290998458862305, -6.159200191497803, -6.174499988555908, -6.335599899291992, -6.364500045776367, -6.444799900054932, -6.095399856567383, -6.5320000648498535, -6.55649995803833, -6.744999885559082, -6.7667999267578125, -6.884900093078613, -6.991199970245361, -7.0030999183654785, -7.009699821472168, -7.010900020599365, -7.041800022125244, -7.0619001388549805, -7.083700180053711, -7.130499839782715, -7.184299945831299, -7.202000141143799, -7.208499908447266, -7.2133002281188965, -7.220099925994873, -7.2555999755859375, -7.2916998863220215, -7.320499897003174, -7.323200225830078, -6.309800148010254, -3.863300085067749, -4.690700054168701, -5.712600231170654, -4.819499969482422, -6.0005998611450195, -5.426000118255615, -5.542099952697754, -6.313000202178955, -5.682400226593018, -5.652200222015381, -4.853300094604492, -5.264900207519531, -4.987400054931641, -4.105999946594238, -6.489099979400635, -5.691299915313721, -5.126800060272217, -5.019400119781494, -4.838200092315674, -5.881700038909912, -5.593200206756592, -4.30109977722168, -5.932700157165527, -5.868100166320801, -4.550600051879883, -5.114999771118164, -5.84689998626709, -5.5040998458862305, -5.6269001960754395, -5.255300045013428, -5.542600154876709, -5.31279993057251, -5.593900203704834, -5.416800022125244, -5.608399868011475, -5.588799953460693, -5.7733001708984375, -5.767300128936768, -5.611800193786621, -5.83620023727417, -5.863999843597412, -5.930500030517578, -6.331200122833252, -6.351200103759766, -6.351500034332275, -6.400899887084961, -6.565499782562256, -6.571700096130371, -6.587500095367432, -6.602499961853027, -6.6645002365112305, -6.122499942779541, -6.773799896240234, -6.826700210571289, -6.827099800109863, -6.833700180053711, -6.841700077056885, -6.844900131225586, -6.853499889373779, -6.881199836730957, -6.9008002281188965, -6.928500175476074, -6.944499969482422, -7.014599800109863, -7.014900207519531, -7.028800010681152, -6.006100177764893, -7.0335001945495605, -5.9857001304626465, -5.3125, -6.198299884796143, -5.579999923706055, -5.307400226593018, -6.604700088500977, -5.773900032043457, -4.584499835968018, -5.184299945831299, -4.968100070953369, -5.755799770355225, -4.758600234985352, -6.30079984664917, -6.306600093841553, -6.190400123596191, -5.437099933624268, -5.8053998947143555, -5.092199802398682, -5.196199893951416, -5.801599979400635, -5.8018999099731445, -5.734499931335449, -5.308199882507324, -5.985400199890137, -5.018700122833252, -5.914400100708008, -5.976799964904785, -5.714399814605713, -5.812300205230713, -5.7241997718811035, -5.7667999267578125, -4.39139986038208, -5.407199859619141, -5.52400016784668, -5.576700210571289, -5.586900234222412, -5.473400115966797, -5.924300193786621, -6.219099998474121, -6.300300121307373, -6.315899848937988, -6.39709997177124, -6.399199962615967, -6.42080020904541, -6.511899948120117, -6.513299942016602, -6.552700042724609, -6.613800048828125, -6.620200157165527, -6.622300148010254, -6.6504998207092285, -6.694799900054932, -6.6996002197265625, -6.704699993133545, -6.749599933624268, -6.783599853515625, -6.800099849700928, -6.832799911499023, -6.835599899291992, -6.849699974060059, -6.872900009155273, -4.894499778747559, -5.805300235748291, -5.695499897003174, -6.277500152587891, -5.658299922943115, -5.393799781799316, -6.0625, -4.733799934387207, -5.500999927520752, -5.900199890136719, -5.612400054931641, -5.13100004196167, -6.058199882507324, -6.2378997802734375, -5.316699981689453, -5.884399890899658, -6.153200149536133, -5.7540998458862305, -5.971399784088135, -6.202199935913086, -5.70959997177124, -5.591400146484375, -5.8246002197265625, -6.0208001136779785, -5.656199932098389, -5.333600044250488, -5.956900119781494, -5.747200012207031, -5.895899772644043, -5.7144999504089355, -5.879300117492676, -5.836900234222412, -5.831999778747559, -4.903900146484375, -5.031099796295166, -5.318900108337402, -5.356299877166748, -5.654300212860107, -5.870999813079834, -5.963500022888184, -6.0507001876831055, -6.094200134277344, -6.104599952697754, -6.152100086212158, -6.251200199127197, -6.3892998695373535, -6.399199962615967, -6.412499904632568, -6.3933000564575195, -6.566199779510498, -6.582300186157227, -6.602799892425537, -6.54040002822876, -6.627399921417236, -6.668700218200684, -6.67080020904541, -6.678599834442139, -6.6809000968933105, -6.708799839019775, -6.747099876403809, -6.801700115203857, -6.806099891662598, -6.8196001052856445, -4.736700057983398, -4.338699817657471, -5.959499835968018, -5.647600173950195, -5.8256001472473145, -5.231800079345703, -4.117599964141846, -6.020100116729736, -5.802999973297119, -5.583700180053711, -5.752099990844727, -4.859799861907959, -6.449399948120117, -5.487199783325195, -5.9720001220703125, -5.077300071716309, -5.045199871063232, -5.360499858856201, -5.543399810791016, -5.890999794006348, -5.723100185394287, -5.805500030517578, -5.77370023727417, -5.607399940490723, -5.796800136566162, -5.861999988555908, -5.614999771118164, -5.756400108337402, -5.806399822235107, -5.860099792480469, -5.672500133514404, -5.7399001121521, -5.836999893188477, -6.020599842071533, -6.058499813079834, -6.180200099945068, -6.195400238037109, -6.304999828338623, -6.319499969482422, -6.336599826812744, -6.436699867248535, -6.440999984741211, -6.508900165557861, -6.567999839782715, -6.598899841308594, -6.6265997886657715, -6.629700183868408, -5.527900218963623, -6.6793999671936035, -6.681000232696533, -6.782599925994873, -6.804999828338623, -6.815999984741211, -6.816400051116943, -6.855800151824951, -6.878900051116943, -6.910099983215332, -6.949900150299072, -6.958000183105469, -6.974800109863281, -4.090000152587891, -5.966899871826172, -4.296000003814697, -4.4278998374938965, -4.349599838256836, -4.560299873352051, -4.757900238037109, -5.604400157928467, -4.2418999671936035, -5.186999797821045, -5.376200199127197, -5.202700138092041, -5.022600173950195, -5.250699996948242, -4.8317999839782715, -5.701399803161621, -5.2982001304626465, -5.382999897003174, -4.7032999992370605, -5.676400184631348, -5.343200206756592, -5.720300197601318, -5.392000198364258, -5.230400085449219, -5.3267998695373535, -5.721499919891357, -5.542900085449219, -5.525000095367432, -5.508999824523926, -5.705999851226807, -4.573299884796143, -4.956699848175049, -5.085700035095215, -5.104599952697754, -5.326200008392334, -5.341800212860107, -5.376200199127197, -5.4618000984191895, -5.500699996948242, -5.507900238037109, -5.55620002746582, -5.754799842834473, -5.811699867248535, -5.815100193023682, -5.88730001449585, -6.025599956512451, -6.0370001792907715, -6.082099914550781, -6.111599922180176, -6.115699768066406, -6.174200057983398, -6.230599880218506, -6.234099864959717, -6.313700199127197, -6.396200180053711, -6.421899795532227, -6.454699993133545, -6.459700107574463, -6.496200084686279, -6.519199848175049, -5.897600173950195, -6.067599773406982, -4.78410005569458, -5.183000087738037, -5.60290002822876, -5.559800148010254, -5.865699768066406, -5.919300079345703, -5.9232001304626465, -5.944499969482422, -6.027500152587891, -6.033400058746338, -6.048900127410889, -6.073800086975098, -6.077199935913086, -6.057400226593018, -6.102700233459473, -6.116799831390381, -6.118599891662598, -6.143799781799316, -6.146999835968018, -6.178100109100342, -6.182000160217285, -6.213200092315674, -6.236199855804443, -6.278299808502197, -6.291399955749512, -6.336299896240234, -6.389400005340576, -6.3942999839782715, -6.468999862670898, -6.481800079345703, -5.5278000831604, -5.573599815368652, -4.496500015258789, -5.522500038146973, -5.403900146484375, -5.267899990081787, -5.021699905395508, -3.873300075531006, -5.455900192260742, -4.911200046539307, -5.038899898529053, -5.792600154876709, -5.63539981842041, -5.4039998054504395, -4.602499961853027, -5.410600185394287, -5.160099983215332, -4.435500144958496, -5.402699947357178, -5.722700119018555, -5.599400043487549, -5.638599872589111, -5.416100025177002, -5.271900177001953, -5.779399871826172, -5.723299980163574, -5.686200141906738, -5.703700065612793, -5.562600135803223, -3.891400098800659, -4.344600200653076, -4.947500228881836, -5.067399978637695, -5.364999771118164, -5.597599983215332, -5.6072998046875, -5.6666998863220215, -5.6981000900268555, -5.779300212860107, -5.8709001541137695, -5.892000198364258, -5.950200080871582, -5.987400054931641, -6.026000022888184, -6.049900054931641, -6.082399845123291, -6.096799850463867, -6.101500034332275, -6.237100124359131, -6.251999855041504, -6.28000020980835, -6.286300182342529, -6.288099765777588, -6.3343000411987305, -6.350900173187256, -6.356900215148926, -6.381899833679199, -6.392199993133545, -6.421199798583984, -5.277699947357178, -5.184800148010254, -5.9756999015808105, -4.742199897766113, -4.760000228881836, -5.5447001457214355, -5.13129997253418, -5.770699977874756, -5.748199939727783, -5.612199783325195, -5.397799968719482, -5.1184000968933105, -5.8933000564575195, -4.792300224304199, -5.554999828338623, -5.549499988555908, -5.685800075531006, -5.842700004577637, -5.910600185394287, -5.753900051116943, -5.889800071716309, -4.472599983215332, -4.8053998947143555, -4.894999980926514, -4.936399936676025, -4.946199893951416, -4.96589994430542, -4.92110013961792, -5.125100135803223, -5.3003997802734375, -5.400300025939941, -5.411200046539307, -4.532299995422363, -5.574100017547607, -5.746699810028076, -5.767300128936768, -5.815899848937988, -5.896200180053711, -6.005199909210205, -6.059299945831299, -6.067599773406982, -6.080999851226807, -6.104400157928467, -6.110400199890137, -6.128399848937988, -6.239099979400635, -6.261899948120117, -6.3460001945495605, -6.423600196838379, -6.428100109100342, -6.487199783325195, -5.155900001525879, -4.785999774932861, -4.573400020599365, -5.386600017547607, -4.522799968719482, -6.002099990844727, -5.852700233459473, -5.902500152587891, -5.714600086212158, -5.682799816131592, -5.753900051116943], \"loglift\": [30.0, 29.0, 28.0, 27.0, 26.0, 25.0, 24.0, 23.0, 22.0, 21.0, 20.0, 19.0, 18.0, 17.0, 16.0, 15.0, 14.0, 13.0, 12.0, 11.0, 10.0, 9.0, 8.0, 7.0, 6.0, 5.0, 4.0, 3.0, 2.0, 1.0, 1.23, 1.2289, 1.2286, 1.2276, 1.2275, 1.227, 1.2268, 1.2266, 1.2261, 1.2258, 1.2258, 1.2248, 1.2236, 1.2235, 1.2233, 1.2225, 1.222, 1.2215, 1.2214, 1.2213, 1.2212, 1.2212, 1.2211, 1.2209, 1.2205, 1.2204, 1.2204, 1.2199, 1.2197, 1.2195, 1.2135, 1.1966, 1.1941, 1.1835, 1.1601, 1.1743, 1.2004, 1.2, 1.1853, 1.0697, 1.1783, 1.0665, 1.0997, 1.1472, 1.112, 1.1104, 1.1581, 1.0952, 0.9121, 1.0139, 1.1101, 1.0303, 1.0748, 1.0417, 0.9523, 1.0298, 0.9907, 1.0681, 1.0231, 0.8426, 1.095, 0.9507, 1.0154, 0.955, 0.8508, 0.8088, 0.9783, 0.6644, 0.9768, 0.7928, 0.9629, 0.7345, 0.883, 0.6506, 0.7983, 0.7496, 0.8567, 0.6387, 0.8909, 0.732, 0.7232, 0.897, 0.1606, 0.6469, 2.5453, 2.5436, 2.5401, 2.5388, 2.5383, 2.5382, 2.5374, 2.5357, 2.5355, 2.5344, 2.5316, 2.53, 2.529, 2.5277, 2.5273, 2.5273, 2.5272, 2.5264, 2.5252, 2.5244, 2.5242, 2.5241, 2.5234, 2.5229, 2.5229, 2.5218, 2.5218, 2.5218, 2.5215, 2.5214, 2.5087, 2.4728, 2.5013, 2.4824, 2.5086, 2.3895, 2.3907, 2.4625, 2.3878, 2.2884, 2.4505, 2.4544, 2.3211, 2.1781, 2.361, 2.224, 2.2878, 2.1977, 2.0734, 1.9662, 1.9463, 2.2151, 2.1692, 1.7906, 2.2614, 1.9699, 1.925, 2.2236, 1.653, 1.7897, 1.6355, 1.7959, 2.0471, 0.9589, 0.9521, 0.7855, 1.6373, 1.178, 0.402, 1.1527, 1.0964, 1.5465, 0.8565, 1.0329, 0.8086, 0.4481, 0.4769, 2.6686, 2.6675, 2.6663, 2.6637, 2.6598, 2.6579, 2.6577, 2.6573, 2.6561, 2.6544, 2.6544, 2.6538, 2.6528, 2.6527, 2.6519, 2.6517, 2.6509, 2.6505, 2.6504, 2.6495, 2.6487, 2.648, 2.6472, 2.646, 2.6457, 2.6451, 2.6451, 2.6445, 2.644, 2.6439, 2.6323, 2.6065, 2.6219, 2.6108, 2.5104, 2.6244, 2.5922, 2.5868, 2.6162, 2.5292, 2.5158, 2.5756, 2.2942, 2.4959, 2.3106, 2.3747, 2.2004, 2.547, 2.1241, 2.2784, 2.1355, 2.3644, 1.5275, 1.6192, 2.0992, 1.7823, 1.5927, 1.3128, 1.8884, 1.2306, 1.7357, 1.7556, 1.0552, 1.531, 0.5254, 0.9385, 1.2014, 1.5584, 1.3749, 0.4345, 0.3598, -0.1041, 0.5902, 0.7082, 1.0151, 0.9231, 2.6808, 2.6796, 2.6794, 2.6786, 2.677, 2.677, 2.677, 2.6762, 2.6744, 2.6742, 2.6741, 2.6727, 2.6725, 2.6722, 2.6717, 2.6717, 2.671, 2.6707, 2.6706, 2.6702, 2.6695, 2.6692, 2.6681, 2.6679, 2.6678, 2.6669, 2.6662, 2.666, 2.6659, 2.6651, 2.6638, 2.6532, 2.5771, 2.651, 2.4155, 2.4521, 2.408, 2.5738, 2.4116, 2.4084, 2.1545, 2.5556, 2.1293, 2.1776, 2.2719, 2.3934, 2.2992, 2.4675, 2.3466, 2.3947, 1.4644, 1.698, 2.2358, 1.3112, 1.7187, 1.1402, 1.0918, 1.0307, 0.3967, 1.4821, 1.1322, 1.4784, 0.4669, 0.379, -0.2678, 0.888, 0.0151, 0.4665, 2.7777, 2.7775, 2.7771, 2.776, 2.7751, 2.7749, 2.7744, 2.7738, 2.7738, 2.7731, 2.772, 2.7717, 2.7716, 2.7706, 2.77, 2.77, 2.7696, 2.7696, 2.7693, 2.7692, 2.7688, 2.7688, 2.7686, 2.7686, 2.7678, 2.7672, 2.7672, 2.7667, 2.7643, 2.764, 2.735, 2.7373, 2.4931, 2.6556, 2.6224, 2.4787, 2.3329, 2.5601, 2.4229, 2.4214, 2.6714, 2.4818, 1.6725, 1.946, 2.1359, 1.9914, 1.9549, 2.0108, 0.5592, 1.7038, 1.9704, 1.6067, 0.555, 1.4594, 0.9716, 0.883, 2.8847, 2.8844, 2.8839, 2.8834, 2.8827, 2.8823, 2.8815, 2.8815, 2.8811, 2.88, 2.8792, 2.8776, 2.8772, 2.8747, 2.8733, 2.8732, 2.8728, 2.8721, 2.8715, 2.8714, 2.8697, 2.8682, 2.8667, 2.8663, 2.8654, 2.8653, 2.8652, 2.8642, 2.8634, 2.8627, 2.8614, 2.8582, 2.8433, 2.8206, 2.8026, 2.7915, 2.8521, 2.7366, 2.5731, 2.8126, 2.6844, 2.5422, 2.6436, 2.5997, 2.7417, 2.6032, 2.4025, 2.5409, 2.7089, 2.4933, 2.3665, 2.3752, 1.5214, 1.9969, 2.122, 1.9723, 2.1283, 1.6075, 0.9785, 1.8845, 3.0212, 3.0209, 3.0208, 3.0208, 3.0199, 3.0171, 3.016, 3.0159, 3.0149, 3.0149, 3.0143, 3.0135, 3.0126, 3.0123, 3.0123, 3.012, 3.0119, 3.0116, 3.011, 3.01, 3.0099, 3.0092, 3.0087, 3.0085, 3.0079, 3.007, 3.0066, 3.0051, 3.0044, 3.0034, 2.9974, 2.9876, 2.9997, 2.9394, 2.962, 2.9154, 2.9156, 2.9112, 2.9422, 2.9424, 2.8377, 2.824, 2.5498, 2.8082, 2.8645, 2.7301, 2.1218, 2.6991, 2.5855, 1.7794, 2.219, 2.2901, 2.4789, 0.8781, 0.951, 1.2584, 1.4262, 1.023, -0.3065, 0.2735, -0.0475, 0.1684, 0.3276, 3.1258, 3.1258, 3.1255, 3.1237, 3.1198, 3.1197, 3.1194, 3.119, 3.1184, 3.1171, 3.117, 3.1146, 3.1132, 3.1124, 3.1121, 3.1118, 3.1115, 3.111, 3.1106, 3.1099, 3.1093, 3.1091, 3.1087, 3.1083, 3.1078, 3.1062, 3.1059, 3.1044, 3.1043, 3.1025, 3.1018, 3.0808, 2.9073, 2.9441, 2.9759, 3.0075, 2.9135, 2.843, 2.822, 2.7408, 2.7286, 2.7341, 2.802, 2.5314, 2.6599, 2.6983, 2.5249, 2.7606, 2.5201, 1.9779, 2.1929, 2.1588, 2.1604, 2.2682, 2.0143, 2.142, 2.1761, 1.8942, 1.7499, 2.1864, 1.3856, 1.9598, 1.3167, 2.0471, 3.121, 3.1203, 3.1173, 3.1164, 3.1163, 3.1158, 3.1158, 3.1153, 3.1141, 3.113, 3.1122, 3.1118, 3.1116, 3.1115, 3.1114, 3.111, 3.111, 3.1108, 3.1101, 3.1095, 3.1092, 3.1092, 3.1091, 3.1072, 3.1067, 3.1061, 3.1045, 3.1043, 3.1043, 3.1033, 3.103, 3.0856, 3.0201, 3.0477, 2.93, 2.8874, 3.0148, 2.8159, 2.9032, 2.7015, 1.6048, 2.2683, 2.2661, 2.3962, 1.1765, 2.0545, 2.8288, 2.0245, 1.1576, 2.6306, 1.7881, 1.5745, 0.2928, 0.3963, 0.8278, 1.2707, 0.6112, 0.49, 0.8043, -0.681, 0.0804, 1.7694, 0.3438, 1.9357, -0.6345, -0.09, 0.4195, -0.4036, 3.283, 3.2816, 3.2794, 3.279, 3.2774, 3.2771, 3.2768, 3.2743, 3.2742, 3.2737, 3.2733, 3.2724, 3.272, 3.2718, 3.2717, 3.2705, 3.2704, 3.2704, 3.2699, 3.2697, 3.2696, 3.2693, 3.2688, 3.2684, 3.2683, 3.2682, 3.2681, 3.2672, 3.2669, 3.2666, 3.2509, 3.2108, 3.2366, 3.2338, 3.2406, 3.1868, 3.2517, 2.9996, 3.0366, 3.2219, 2.968, 2.8243, 3.0293, 3.0883, 2.4007, 2.2975, 2.5902, 2.0198, 2.2487, 2.5013, 2.3206, 2.7522, 2.0615, 2.5964, 1.5416, 0.3069, 2.521, 1.0979, 1.0261, 3.3791, 3.377, 3.3755, 3.3726, 3.3723, 3.3716, 3.3708, 3.3701, 3.3681, 3.368, 3.3671, 3.3656, 3.3647, 3.3645, 3.3629, 3.3618, 3.3606, 3.3591, 3.3588, 3.3588, 3.3587, 3.3581, 3.3579, 3.3574, 3.3561, 3.3553, 3.355, 3.3544, 3.3538, 3.3536, 3.3137, 3.3303, 3.2846, 3.0936, 3.1342, 2.9885, 3.2815, 3.2729, 2.9295, 2.9575, 3.1468, 3.1949, 2.7768, 2.7601, 2.8173, 2.1913, 2.4827, 2.8317, 2.4121, 2.5828, 2.8086, 2.3803, 2.7284, 1.3026, 1.3202, 1.4991, 2.488, 1.4352, 2.1549, 1.9445, 0.0668, 3.3853, 3.3842, 3.3839, 3.3836, 3.3815, 3.3811, 3.3797, 3.3791, 3.3783, 3.3779, 3.3741, 3.3736, 3.3708, 3.368, 3.3676, 3.3675, 3.3674, 3.3665, 3.3659, 3.3653, 3.3638, 3.3621, 3.3615, 3.3612, 3.3611, 3.3608, 3.3596, 3.3582, 3.3572, 3.3571, 3.3476, 3.2873, 3.3017, 3.3092, 3.27, 3.2607, 3.1603, 3.1527, 3.2444, 3.1303, 3.0759, 2.8986, 2.9597, 2.8864, 2.5921, 3.2265, 2.9997, 2.8189, 2.7683, 2.6445, 3.0039, 2.8706, 2.1405, 3.0195, 2.976, 1.9665, 2.3477, 2.8211, 2.0137, 2.2233, 1.2561, 1.7982, 1.0706, 1.5804, 0.8087, 1.5178, 0.2106, 1.9983, 1.4092, 3.5687, 3.5665, 3.5662, 3.5655, 3.5597, 3.5594, 3.5594, 3.5585, 3.5551, 3.555, 3.5547, 3.5543, 3.5529, 3.5523, 3.5501, 3.5486, 3.5486, 3.5484, 3.5482, 3.5481, 3.5479, 3.5471, 3.5465, 3.5456, 3.5451, 3.5428, 3.5428, 3.5423, 3.5423, 3.5422, 3.5098, 3.4409, 3.494, 3.4311, 3.3495, 3.4939, 3.3371, 3.0678, 3.1231, 2.9343, 3.1611, 2.6834, 3.3081, 3.2918, 3.2258, 2.7749, 2.9639, 2.4581, 2.4583, 2.9206, 2.9197, 2.8562, 2.4064, 2.9699, 1.6709, 2.8167, 2.6742, 1.9364, 2.1291, 1.8117, 0.7633, 3.6433, 3.6386, 3.6376, 3.6372, 3.6371, 3.6347, 3.6335, 3.6292, 3.6278, 3.6275, 3.626, 3.6259, 3.6255, 3.6236, 3.6235, 3.6226, 3.6212, 3.621, 3.621, 3.6203, 3.6191, 3.619, 3.6188, 3.6176, 3.6166, 3.6162, 3.6152, 3.6151, 3.6146, 3.6139, 3.5991, 3.6081, 3.5992, 3.5958, 3.5572, 3.5012, 3.5481, 3.2812, 3.3925, 3.4671, 3.3133, 3.0463, 3.3914, 3.4492, 2.8565, 3.1781, 3.3475, 2.9067, 3.0852, 3.3634, 2.3116, 1.7342, 2.2932, 2.8489, 1.6091, 0.1799, 2.397, 1.2714, 2.0595, 0.4419, 1.9143, 1.1248, 0.1669, 3.8822, 3.8815, 3.8793, 3.8787, 3.8758, 3.8728, 3.8714, 3.8699, 3.8691, 3.8689, 3.8679, 3.8659, 3.8626, 3.8624, 3.862, 3.8616, 3.8578, 3.8573, 3.8567, 3.8561, 3.8559, 3.8546, 3.8545, 3.8542, 3.8541, 3.8532, 3.8519, 3.8499, 3.8497, 3.8492, 3.8452, 3.8177, 3.8377, 3.8237, 3.8198, 3.7938, 3.7029, 3.8181, 3.7514, 3.5768, 3.6136, 3.3299, 3.8065, 3.3617, 3.4726, 2.6249, 2.4908, 2.7029, 2.8334, 3.1701, 2.6121, 2.838, 2.6769, 2.0472, 2.6417, 2.8576, 0.9534, 1.7938, 1.6318, 2.2806, 4.0469, 4.0459, 4.0443, 4.0408, 4.04, 4.0372, 4.0368, 4.0339, 4.0336, 4.0331, 4.0301, 4.03, 4.0278, 4.0257, 4.0246, 4.0236, 4.0235, 4.023, 4.0216, 4.0215, 4.0173, 4.0163, 4.0158, 4.0158, 4.014, 4.0129, 4.0114, 4.0094, 4.009, 4.0081, 4.0033, 4.0033, 3.953, 3.6876, 3.6184, 3.5472, 3.5699, 3.6678, 3.2282, 3.4425, 3.4949, 3.3011, 2.9526, 3.0904, 2.5529, 3.2619, 2.8889, 2.6763, 1.2956, 2.8269, 2.1716, 2.8713, 2.1782, 1.721, 1.7994, 2.6892, 1.5162, 1.2368, 0.6794, 1.4705, 4.3667, 4.3636, 4.3622, 4.362, 4.3591, 4.3589, 4.3584, 4.3571, 4.3564, 4.3563, 4.3554, 4.3515, 4.3502, 4.3501, 4.3484, 4.3447, 4.3444, 4.3431, 4.3422, 4.342, 4.3402, 4.3383, 4.3382, 4.3353, 4.3321, 4.331, 4.3296, 4.3294, 4.3278, 4.3267, 3.9593, 0.7294, 4.3664, 4.3623, 4.3559, 4.3536, 4.3502, 4.3489, 4.3488, 4.3483, 4.346, 4.3458, 4.3454, 4.3447, 4.3445, 4.3444, 4.3438, 4.3433, 4.3433, 4.3425, 4.3424, 4.3414, 4.3413, 4.3402, 4.3394, 4.3379, 4.3375, 4.3358, 4.3337, 4.3335, 4.3304, 4.3298, 4.3066, 4.3043, 4.2418, 4.2655, 4.1994, 4.1773, 4.0613, 3.7835, 4.1384, 3.8919, 3.6614, 4.1044, 3.9634, 3.7434, 2.8362, 3.5982, 3.2732, 2.3955, 3.3672, 3.6726, 3.3614, 3.4015, 2.3169, 1.6814, 3.6736, 3.3883, 3.1275, 2.8665, 0.5696, 4.7063, 4.7035, 4.6973, 4.6955, 4.6902, 4.6847, 4.6845, 4.6829, 4.682, 4.6795, 4.6766, 4.6758, 4.6738, 4.6724, 4.6709, 4.6699, 4.6686, 4.668, 4.6678, 4.6616, 4.6609, 4.6595, 4.6592, 4.6591, 4.6567, 4.6558, 4.6555, 4.6541, 4.6536, 4.6519, 4.629, 4.5192, 4.6012, 4.3795, 4.3658, 4.4621, 4.332, 4.5108, 4.4623, 4.3615, 4.0853, 3.6765, 4.4077, 2.7252, 3.6733, 3.2367, 3.5703, 4.0667, 4.2883, 2.0963, 2.7955, 4.8434, 4.8395, 4.8382, 4.8376, 4.8374, 4.8371, 4.8371, 4.8343, 4.8307, 4.8283, 4.8281, 4.8273, 4.8236, 4.8181, 4.8174, 4.8156, 4.8126, 4.808, 4.8055, 4.8051, 4.8045, 4.8033, 4.803, 4.8021, 4.7963, 4.795, 4.7901, 4.7851, 4.7848, 4.7808, 4.6882, 4.6415, 4.6118, 4.4082, 3.5198, 4.5972, 4.089, 4.0671, 3.3256, 2.7557, 2.7871]}, \"token.table\": {\"Topic\": [1, 11, 3, 9, 3, 11, 5, 11, 20, 4, 4, 3, 5, 6, 1, 7, 14, 1, 2, 4, 5, 7, 12, 14, 3, 9, 7, 6, 9, 1, 6, 7, 18, 1, 15, 19, 4, 11, 6, 8, 9, 12, 18, 19, 19, 16, 16, 1, 2, 3, 4, 5, 6, 7, 8, 9, 10, 11, 12, 13, 14, 15, 16, 2, 9, 6, 11, 1, 3, 5, 6, 7, 9, 11, 15, 2, 1, 2, 3, 5, 6, 8, 9, 10, 11, 15, 13, 8, 6, 2, 3, 6, 8, 1, 2, 4, 7, 9, 11, 12, 14, 5, 1, 2, 3, 6, 9, 12, 14, 2, 4, 8, 12, 13, 2, 3, 4, 6, 8, 12, 19, 1, 2, 4, 5, 12, 2, 3, 4, 5, 6, 7, 9, 13, 15, 16, 5, 7, 20, 20, 3, 5, 1, 1, 1, 12, 5, 5, 5, 1, 5, 6, 11, 2, 5, 6, 11, 9, 1, 2, 16, 4, 1, 6, 11, 1, 3, 13, 3, 13, 1, 10, 1, 1, 13, 1, 5, 7, 9, 11, 6, 9, 11, 16, 6, 1, 2, 8, 9, 10, 13, 4, 8, 11, 12, 11, 19, 2, 3, 4, 6, 8, 11, 13, 15, 6, 13, 15, 3, 11, 5, 5, 5, 5, 5, 9, 1, 2, 3, 4, 5, 7, 9, 11, 12, 14, 19, 4, 16, 15, 16, 5, 7, 13, 3, 13, 15, 3, 12, 6, 20, 7, 11, 16, 1, 2, 3, 4, 7, 8, 9, 8, 1, 11, 11, 1, 10, 1, 2, 4, 7, 9, 10, 19, 1, 1, 2, 4, 7, 8, 10, 11, 14, 16, 1, 2, 3, 4, 7, 8, 9, 11, 12, 14, 17, 1, 10, 10, 3, 14, 11, 14, 4, 4, 6, 8, 9, 12, 1, 3, 4, 5, 6, 9, 11, 12, 4, 9, 12, 1, 5, 10, 15, 20, 7, 18, 2, 3, 4, 5, 6, 1, 2, 3, 5, 10, 13, 14, 16, 1, 2, 8, 9, 10, 13, 14, 16, 4, 12, 16, 1, 5, 7, 13, 15, 4, 11, 14, 12, 1, 3, 8, 13, 16, 18, 7, 7, 14, 16, 18, 1, 2, 3, 4, 6, 8, 9, 8, 6, 5, 11, 9, 12, 17, 17, 2, 4, 8, 12, 2, 3, 4, 12, 16, 19, 4, 14, 4, 4, 12, 20, 7, 18, 1, 2, 3, 4, 5, 6, 7, 9, 11, 12, 13, 16, 12, 1, 2, 4, 5, 7, 10, 15, 15, 19, 9, 2, 4, 14, 1, 3, 6, 7, 11, 4, 9, 11, 10, 2, 3, 5, 7, 13, 15, 2, 4, 1, 2, 9, 10, 20, 19, 20, 1, 2, 3, 4, 7, 8, 9, 11, 12, 14, 18, 1, 6, 7, 15, 18, 1, 5, 10, 12, 15, 4, 6, 4, 6, 9, 2, 10, 1, 5, 10, 13, 1, 1, 10, 1, 10, 17, 17, 11, 10, 4, 14, 14, 1, 5, 6, 7, 9, 11, 13, 15, 11, 1, 9, 6, 9, 1, 9, 10, 7, 2, 8, 19, 8, 19, 15, 1, 6, 3, 6, 20, 3, 19, 4, 7, 1, 2, 6, 8, 9, 10, 12, 13, 3, 18, 19, 3, 16, 13, 2, 12, 12, 19, 19, 1, 2, 3, 4, 5, 7, 9, 10, 14, 16, 13, 14, 14, 1, 2, 3, 6, 2, 6, 8, 4, 16, 2, 2, 3, 4, 6, 13, 16, 9, 11, 1, 1, 5, 9, 11, 14, 15, 16, 14, 9, 4, 12, 1, 6, 11, 2, 4, 6, 9, 10, 14, 1, 2, 3, 4, 6, 8, 14, 19, 4, 12, 2, 3, 5, 6, 8, 13, 14, 15, 16, 2, 3, 6, 8, 9, 12, 13, 3, 8, 1, 2, 3, 4, 6, 8, 9, 11, 12, 15, 4, 11, 1, 7, 1, 2, 3, 8, 13, 14, 14, 2, 9, 1, 2, 3, 4, 6, 9, 11, 14, 16, 1, 2, 3, 4, 5, 6, 7, 9, 11, 12, 14, 14, 1, 2, 3, 4, 5, 7, 9, 10, 11, 14, 1, 6, 11, 18, 1, 3, 5, 7, 9, 14, 1, 5, 6, 11, 1, 5, 6, 11, 1, 6, 11, 3, 9, 9, 6, 6, 9, 9, 12, 11, 10, 1, 2, 3, 4, 6, 7, 8, 9, 10, 13, 14, 15, 18, 12, 12, 5, 15, 2, 3, 4, 6, 8, 12, 13, 20, 1, 5, 7, 10, 11, 12, 15, 9, 2, 4, 8, 12, 8, 1, 3, 5, 6, 7, 11, 5, 20, 6, 6, 2, 16, 20, 4, 19, 19, 15, 18, 2, 2, 3, 6, 7, 10, 15, 15, 15, 18, 12, 2, 15, 3, 2, 6, 8, 12, 1, 10, 10, 15, 15, 2, 4, 16, 4, 16, 2, 8, 12, 19, 2, 19, 1, 10, 3, 5, 7, 11, 13, 15, 18, 16, 1, 5, 10, 20, 1, 5, 15, 1, 10, 11, 20, 15, 1, 7, 9, 4, 5, 4, 1, 11, 15, 1, 3, 10, 13, 14, 1, 10, 13, 5, 18, 19, 4, 3, 4, 9, 14, 8, 2, 3, 6, 8, 13, 14, 16, 20, 6, 9, 1, 3, 9, 10, 13, 6, 1, 2, 3, 4, 7, 9, 11, 12, 14, 16, 8, 3, 4, 8, 17, 1, 4, 8, 12, 18, 1, 2, 3, 4, 12, 19, 6, 13, 19, 6, 7, 1, 10, 4, 20, 1, 2, 4, 5, 6, 7, 9, 10, 11, 12, 14, 1, 3, 4, 5, 6, 7, 9, 10, 11, 12, 14, 1, 1, 3, 4, 7, 13, 16, 16, 2, 8, 1, 2, 3, 6, 8, 3, 5, 15, 1, 2, 3, 4, 10, 3, 9, 13, 1, 2, 3, 5, 6, 7, 9, 10, 1, 10, 1, 2, 5, 6, 9, 10, 11, 14, 15, 16, 7, 11, 5, 10, 6, 11, 1, 2, 4, 7, 9, 16, 20, 17, 2, 6, 8, 12, 6, 19, 2, 6, 8, 12, 10, 11, 11, 1, 2, 3, 4, 5, 6, 7, 8, 9, 10, 11, 12, 13, 14, 15, 16, 18, 1, 3, 7, 18, 16, 4, 4, 1, 2, 3, 4, 5, 6, 8, 9, 10, 12, 13, 14, 15, 16, 19, 2, 8, 12, 19, 2, 12, 1, 5, 15, 15, 14, 2, 4, 8, 2, 8, 2, 20, 8, 5, 13, 2, 1, 4, 5, 7, 9, 11, 14, 20, 9, 13, 20, 20, 13, 4, 7, 11, 16, 7, 16, 7, 4, 14, 9, 5, 3, 6, 9, 9, 14, 20, 5, 15, 20, 17, 17, 18, 7, 1, 2, 4, 5, 6, 7, 11, 12, 14, 15, 1, 2, 3, 4, 7, 9, 10, 11, 14, 16, 20, 20, 10, 1, 5, 6, 9, 11, 18, 2, 2, 1, 2, 3, 4, 5, 7, 9, 10, 11, 12, 13, 16, 5, 5, 10, 5, 7, 8, 12, 14, 18, 1, 3, 5, 9, 14, 9, 14, 1, 3, 8, 16, 3, 1, 11, 11, 11, 8, 1, 2, 4, 5, 7, 15, 18, 15, 6, 15, 4, 9, 13, 1, 10, 9, 11, 1, 2, 3, 4, 5, 6, 7, 8, 12, 14, 16, 5, 15, 1, 2, 3, 4, 5, 6, 7, 9, 10, 11, 13, 14, 15, 7, 7, 17, 1, 10, 11, 11, 1, 1, 16, 12, 20, 14, 18, 12, 16, 6, 1, 19, 2, 10, 13, 2, 3, 6, 10, 13, 8, 19, 15, 19, 1, 1, 2, 3, 4, 6, 8, 9, 11, 12, 13, 16, 19, 1, 2, 3, 4, 6, 8, 10, 11, 16, 1, 3, 5, 9, 11, 15, 9, 15, 15, 20, 19, 20, 12, 2, 3, 4, 8, 13, 1, 2, 3, 4, 6, 8, 13, 15, 13, 14, 3, 6, 1, 9, 12, 15, 9, 3, 14, 3, 6, 8, 9, 13, 16, 1, 3, 11, 14, 15, 19, 20, 9, 1, 2, 3, 4, 7, 13, 15, 16, 1, 2, 3, 4, 5, 8, 9, 11, 12, 12, 16, 8, 19, 20, 16, 1, 13, 1, 7, 7, 7, 5, 1, 2, 3, 4, 6, 12, 16, 11, 10, 15, 18, 1, 5, 7, 20, 1, 5, 1, 3, 6, 1, 2, 3, 4, 6, 7, 8, 10, 11, 13, 14, 15, 16, 18, 2, 17, 10, 1, 9, 18, 11, 4, 4, 13, 15, 5, 5, 4, 12, 6, 9, 12, 1, 5, 11, 7, 10, 15, 18, 17, 13, 10, 11, 1, 2, 4, 5, 7, 9, 11, 12, 14, 1, 2, 3, 4, 5, 8, 9, 10, 13, 2, 1, 5, 18, 8, 14, 1, 2, 3, 4, 7, 8, 9, 11, 12, 14, 19, 1, 2, 3, 4, 5, 6, 7, 8, 9, 10, 11, 12, 14, 3, 3, 13, 1, 6, 11, 6, 7, 14, 7, 1, 4, 5, 7, 9, 11, 12, 14, 1, 6, 9, 11, 17, 10, 12, 1, 3, 9, 10, 1, 3, 4, 5, 9, 10, 13, 14, 16, 1, 2, 3, 4, 5, 6, 7, 9, 11, 12, 14, 16, 1, 2, 3, 4, 5, 6, 7, 8, 9, 11, 12, 14, 6, 15, 18, 2, 1, 2, 3, 5, 6, 7, 8, 9, 12, 13, 14, 16, 3, 8, 1, 3, 4, 5, 6, 7, 8, 9, 11, 13, 14, 19, 20, 1, 2, 4, 5, 7, 11, 12, 14, 16, 11, 10, 5, 7, 11, 18, 16, 10, 3, 13, 3, 2, 3, 4, 18, 2, 4, 4, 1, 2, 3, 4, 5, 6, 7, 8, 9, 10, 11, 13, 1, 2, 3, 4, 6, 7, 8, 10, 13, 16, 19, 8, 13, 17, 1, 2, 3, 4, 6, 7, 8, 9, 11, 12, 14, 16, 8, 6, 5, 3, 4, 8, 12, 15, 2, 4, 12, 16, 2, 4, 16, 1, 2, 3, 4, 5, 6, 7, 8, 9, 10, 11, 12, 14, 1, 13, 10, 13, 18, 1, 5, 10, 13, 10, 12, 17, 1, 2, 4, 11, 12, 13, 1, 4, 5, 5, 15, 1, 11, 15, 1, 2, 4, 5, 12, 2, 12, 1, 12, 10, 11, 14, 3, 19, 7, 2, 1, 2, 3, 4, 7, 8, 9, 12, 14, 20, 1, 3, 5, 6, 9, 11, 11, 18, 5, 11, 15, 18, 20, 14, 1, 3, 4, 6, 8, 14, 16, 19, 3, 10, 13, 8, 15, 1, 2, 3, 4, 11, 12, 13, 14, 16, 2, 4, 13, 15, 2, 3, 4, 3, 7, 3, 10, 13, 14, 1, 1, 10, 7, 4, 2, 8, 12, 19, 14, 3, 14, 16, 2, 13, 12, 2, 4, 12, 19, 1, 2, 3, 4, 7, 9, 11, 12, 14, 15, 16, 7, 18, 7, 15, 1, 5, 1, 2, 3, 4, 5, 6, 8, 9, 10, 11, 12, 13, 16, 16, 1, 3, 1, 2, 3, 4, 5, 7, 8, 9, 10, 12, 13, 19, 3, 13, 18, 3, 5, 6, 7, 9, 11, 13, 15, 9, 13, 5, 9, 2, 6, 1, 2, 3, 4, 6, 7, 8, 9, 12, 13, 14, 16, 7, 9, 14, 1, 2, 4, 5, 7, 9, 10, 11, 12, 14, 16, 1, 2, 3, 5, 6, 7, 8, 9, 15, 3, 10, 15, 16, 20, 6, 17, 8, 18, 18, 1, 2, 4, 5, 9, 11, 12, 20, 2, 14, 17, 17, 17, 3, 9, 1, 3, 9, 13, 8, 12, 1, 2, 3, 4, 5, 6, 7, 8, 9, 10, 11, 12, 15, 14, 16, 8, 3, 13, 1, 2, 3, 4, 10, 16, 2, 3, 8, 10, 13, 16, 19, 8, 1, 3, 4, 5, 6, 7, 8, 9, 10, 11, 12, 2, 19, 2, 3, 4, 7, 1, 2, 7, 3, 13, 3, 13, 13, 13, 9, 1, 2, 3, 4, 8, 10, 14, 16, 10, 18, 5, 9, 2, 3, 9, 12, 12, 2, 4, 8, 14, 13, 2, 3, 6, 1, 2, 4, 2, 3, 5, 8, 9, 12, 13, 15, 16, 1, 10, 7, 16, 16, 1, 2, 3, 4, 5, 6, 8, 9, 10, 11, 12, 17, 18, 13, 1, 3, 4, 5, 6, 8, 9, 10, 17, 10, 2, 8, 12, 14, 19, 20, 15, 5, 11, 13, 18, 20, 1, 5, 7, 8, 10, 13, 16, 18, 19, 3, 7, 1, 2, 3, 5, 6, 8, 9, 11, 1, 3, 5, 6, 9, 11, 13, 15, 18, 1, 3, 4, 6, 8, 9, 10, 11, 1, 12, 7, 15, 16, 18, 11, 6, 14, 1, 13, 1, 3, 7, 16, 1, 2, 7, 10, 13, 16, 4, 9, 11, 7, 15, 20, 20, 5, 6, 7, 13, 15, 12, 9, 13, 7, 9, 9, 4, 1, 2, 4, 6, 7, 18, 1, 5, 7, 2, 4, 7, 7, 7, 7, 1, 2, 3, 4, 7, 8, 13, 14, 16, 17, 17, 1, 2, 3, 4, 5, 6, 7, 8, 9, 10, 12, 13, 14, 19, 14, 19, 1, 2, 3, 7, 10, 11, 12, 19, 5, 6, 11, 18, 10, 12, 2, 4, 12, 1, 3, 4, 5, 7, 9, 10, 11, 13, 14, 18, 2, 3, 2, 6, 1, 9, 12, 15, 15, 19, 1, 2, 4, 5, 6, 11, 14, 16, 2, 8, 2, 3, 12, 19, 10, 19, 6, 1, 3, 6, 18, 1, 2, 3, 4, 6, 9, 12, 14, 16, 19, 1, 2, 3, 4, 8, 9, 10, 12, 14, 15, 19, 3, 13, 2, 3, 13, 8, 2, 3, 6, 8, 12, 13, 19, 3, 16, 17, 8, 14, 10, 10, 1, 6, 3, 13, 5, 6, 9, 11, 12, 15, 19, 1, 2, 3, 6, 8, 9, 7, 14, 2, 4, 5, 16, 1, 2, 4, 6, 9, 10, 12, 19, 2, 1, 13, 19, 1, 3, 9, 5, 7, 2, 1, 3, 4, 11, 15, 1, 2, 3, 4, 6, 9, 10, 12, 14, 17, 9, 1, 2, 4, 7, 9, 11, 12, 14, 4, 14, 1, 4, 7, 8, 11, 12, 14, 1, 16, 16, 16, 11, 3, 19, 1, 3, 1, 3, 4, 5, 6, 9, 11, 15, 19, 5, 6, 2, 3, 6, 8, 10, 3, 8, 1, 3, 6, 9, 10, 13, 15, 3, 8, 12, 16, 13, 10, 16, 10, 11, 3, 11, 14, 14, 14, 14, 14, 1, 2, 4, 5, 6, 7, 8, 9, 11, 12, 14, 1, 5, 6, 8, 11, 6, 2, 11, 17, 2, 3, 5, 9, 11, 14, 15, 1, 2, 5, 8, 10, 12, 13, 18, 5, 15, 18, 9, 2, 8, 15, 6, 1, 3, 8, 12, 1, 2, 4, 5, 7, 8, 9, 11, 12, 14, 19, 2, 3, 4, 7, 9, 12, 3, 5, 1, 3, 6, 9, 11, 15, 1, 2, 5, 6, 7, 10, 15, 7, 11, 16, 10, 18, 10, 3, 13, 3, 13, 1, 11, 12, 18, 1, 3, 5, 6, 1, 3, 13, 1, 3, 13, 15, 7, 18, 7, 18, 7, 2, 12, 19, 10, 10, 4, 9, 7, 7, 11, 14, 1, 2, 3, 4, 5, 6, 7, 9, 10, 11, 12, 14, 18, 19, 1, 5, 6, 9, 16, 5, 6, 1, 3, 4, 5, 6, 8, 11, 12, 6, 9, 14, 6, 9, 19, 13, 1, 2, 3, 4, 6, 7, 9, 11, 16, 1, 2, 3, 4, 11, 16, 13, 6, 6, 1, 2, 3, 4, 5, 8, 9, 10, 13, 14, 16, 3, 5, 3, 1, 5, 4, 8, 9, 12, 2, 3, 8, 12, 19, 1, 2, 3, 4, 5, 6, 8, 9, 10, 13, 1, 6, 8, 10, 11, 20, 18, 8, 1, 12, 19, 20, 2, 20, 7, 8, 12, 4, 16, 11, 14, 16, 3, 13, 4, 4, 2, 1, 2, 3, 4, 5, 6, 7, 8, 9, 10, 11, 12, 14, 15, 19, 10, 1, 2, 3, 4, 8, 9, 11, 12, 14, 16, 20, 9, 1, 14, 13, 4, 8, 18, 3, 16, 2, 3, 4, 8, 13, 16, 3, 4, 13, 19, 5, 7, 19, 1, 2, 4, 5, 7, 8, 9, 12, 14, 2, 1, 2, 3, 4, 5, 6, 7, 12, 13, 20, 1, 2, 3, 5, 8, 9, 10, 13, 1, 3, 5, 13, 3, 13, 13, 1, 2, 4, 6, 7, 11, 14, 1, 10, 15, 3, 7, 7, 13, 14, 1, 2, 3, 5, 7, 9, 11, 12, 1, 3, 4, 5, 6, 7, 8, 9, 11, 12, 13, 1, 1, 3, 4, 5, 6, 11, 15, 1, 3, 4, 5, 6, 7, 9, 11, 13, 20, 8, 8, 11, 14, 6, 4, 6, 8, 9, 2, 3, 4, 5, 6, 11, 13, 15, 3, 12, 19, 1, 3, 5, 10, 13, 15, 1, 3, 10, 11, 13, 15, 16, 1, 2, 3, 6, 7, 8, 9, 10, 14, 11, 5, 2, 19, 2, 3, 4, 5, 9, 15, 20, 2, 3, 4, 9, 12, 13, 14, 15, 1, 11, 20, 6, 18, 18, 1, 2, 4, 7, 8, 12, 19, 9, 18, 10, 20, 19, 4, 15, 12, 1, 2, 3, 4, 6, 8, 9, 12, 13, 1, 2, 3, 4, 5, 7, 9, 11, 12, 14, 16, 18, 20, 2, 4, 5, 8, 17, 17, 3, 7, 7, 2, 3, 4, 6, 13, 2, 3, 4, 6, 13, 3, 13, 4, 19, 12, 20, 10, 1, 2, 3, 6, 8, 10, 12, 1, 2, 4, 7, 9, 12, 13, 14, 16, 19, 1, 3, 13, 15, 1, 2, 4, 7, 9, 11, 12, 14, 1, 2, 4, 5, 9, 10, 11, 12, 14, 1, 2, 4, 7, 9, 11, 12, 14, 1, 3, 4, 5, 6, 7, 9, 10, 11, 18, 1, 2, 3, 4, 5, 7, 9, 10, 11, 12, 14, 15, 14, 2, 1, 2, 3, 4, 5, 6, 7, 8, 9, 10, 11, 12, 13, 14, 16, 5, 7, 8, 10, 12, 14, 16, 19, 8, 15, 1, 2, 4, 5, 1, 3, 4, 5, 7, 11, 8, 1, 2, 6, 8, 12, 2, 5, 7, 18, 14, 14, 11, 14, 1, 3, 4, 5, 6, 16, 12, 1, 5, 10, 15, 15, 1, 2, 4, 6, 7, 8, 10, 12, 5, 5, 5, 1, 4, 5, 6, 9, 12, 14, 16, 11, 1, 2, 3, 4, 8, 9, 11, 12, 13, 16, 12, 16, 16, 1, 2, 6, 4, 9, 13, 16, 18, 1, 3, 5, 6, 11, 15, 2, 3, 5, 6, 7, 8, 13, 15, 16, 2, 8, 16, 19, 6, 3, 1, 2, 3, 4, 6, 7, 8, 9, 10, 11, 12, 14, 16, 19, 1, 2, 3, 4, 6, 8, 9, 11, 12, 19, 1, 3, 4, 7, 8, 9, 10, 11, 12, 14, 20, 2, 16, 3, 1, 3, 4, 8, 9, 12, 14, 19, 6, 7, 11, 18, 1, 3, 4, 11, 14, 13, 18, 10, 1, 2, 3, 4, 6, 8, 9, 10, 12, 16, 2, 4, 5, 6, 13, 3, 19, 5, 5, 7, 1, 11, 2, 3, 8, 12, 19, 14, 3, 4, 5, 8, 9, 13, 15, 16, 13, 18, 1, 2, 3, 4, 5, 6, 8, 9, 12, 14, 16, 1, 6, 9, 14, 11, 14, 5, 11, 4, 1, 2, 3, 4, 5, 6, 7, 8, 9, 11, 12, 14, 15, 16, 1, 4, 5, 7, 11, 14, 4, 11, 14, 16, 1, 2, 4, 12, 8, 8, 12, 12, 14, 8, 12, 2, 4, 12, 7, 15, 18, 3, 7, 18, 7, 2, 3, 14, 6, 14, 17, 14, 1, 5, 10, 11, 15, 1, 2, 3, 7, 9, 10, 12, 13, 16, 1, 3, 4, 8, 10, 11, 13, 1, 2, 3, 4, 5, 6, 8, 9, 10, 12, 13, 14, 12, 1, 2, 3, 5, 7, 8, 10, 13, 16, 1, 2, 3, 4, 5, 6, 7, 8, 9, 11, 12, 14, 1, 2, 4, 6, 7, 9, 11, 12, 14, 17, 17, 16, 19, 8, 19, 8, 19, 8, 12, 12, 8, 12, 4, 1, 3, 4, 5, 6, 7, 8, 11, 15, 1, 3, 4, 5, 6, 7, 9, 10, 11, 13, 15, 10, 19, 3, 5, 6, 7, 11, 13, 15, 16, 18, 9, 2, 17, 17], \"Freq\": [0.9906223328910017, 0.007283987741845601, 0.9463303030727772, 0.03441201102082826, 0.983132965379483, 0.9799680558183724, 0.13149819672388938, 0.2254254800980961, 0.6387055269446056, 0.985801263712408, 0.9935877983898557, 0.056825609440161996, 0.03156978302231222, 0.9092097510425919, 0.9787388731649512, 0.014717877791954154, 0.9913697396105936, 0.030316854816777577, 0.85190362035145, 0.03334854029845533, 0.030316854816777577, 0.030316854816777577, 0.015158427408388788, 0.006063370963355515, 0.9809261769653168, 0.9803889173587734, 0.9851773394810788, 0.9360880062733312, 0.05924607634641337, 0.9660694166373072, 0.010953167989085116, 0.02190633597817023, 0.9688067095668694, 0.05437409968198221, 0.9379532195141931, 0.9631256876592337, 0.0362932846970712, 0.9436254021238513, 0.7518574566941624, 0.11021994129547931, 0.031491411798708374, 0.03542783827354692, 0.007872852949677094, 0.0590463971225782, 0.9521971088714755, 0.9866646808040925, 0.98097788375271, 0.3426069408115143, 0.20285532254697927, 0.11697272013331127, 0.10004245800875305, 0.030782294771924016, 0.04155609794209742, 0.030474471824204777, 0.036938753726308816, 0.011697272013331126, 0.05079078637367463, 0.003386052424911642, 0.02247107518350453, 0.0024625835817539215, 0.0030782294771924015, 0.0027704065294731615, 0.0009234688431577205, 0.039033988574641104, 0.9563327200787071, 0.21566853606980949, 0.7810698333339046, 0.17961429617057742, 0.07514475656115993, 0.056816767155998975, 0.3665597881032192, 0.10813513749044966, 0.058649566096515074, 0.11180073537148186, 0.04215437563187021, 0.9897786426484715, 0.2155282617730266, 0.02781009829329376, 0.06952524573323439, 0.12978045870203753, 0.011587540955539065, 0.03708013105772501, 0.020857573719970317, 0.15063803242200785, 0.053302688395479705, 0.2827359993151532, 0.9734993076251924, 0.9897944561726859, 0.98130026377123, 0.1259214827487668, 0.11713626302210867, 0.08492379069102877, 0.6706051058015721, 0.4005297191809297, 0.4693403354421591, 0.07205640004713645, 0.010386508114902554, 0.0136322919008096, 0.0006491567571814096, 0.031808681101889065, 0.0012983135143628192, 0.9923805350296684, 0.43577833349626344, 0.062254047642323354, 0.04002045919863644, 0.026680306132424295, 0.0044467176887373824, 0.1467416837283336, 0.2845899320791925, 0.14429770722641283, 0.7612948001945229, 0.04975783007807339, 0.009951566015614678, 0.03731837255855504, 0.18023628814571063, 0.09011814407285532, 0.03166313170127349, 0.004871251030965152, 0.03166313170127349, 0.608906378870644, 0.0511481358251341, 0.04029294466487493, 0.7728919385716919, 0.08791187926881804, 0.018314974847670425, 0.07692289436021578, 0.01177485128805159, 0.10401118637778904, 0.017662276932077385, 0.1118610872364901, 0.229609600117006, 0.09812376073376325, 0.001962475214675265, 0.17073534367674806, 0.2472718770490834, 0.005887425644025795, 0.25011656510222113, 0.7458021213957139, 0.9737207686749952, 0.972855744800784, 0.9649776210668292, 0.9910242181907493, 0.9911932705425013, 0.9864434966906594, 0.9515486604241299, 0.04444045941541266, 0.9965660237161729, 0.9984272785227415, 0.9975166780368082, 0.09204735700824476, 0.27129747328745824, 0.0968919547455208, 0.5377503488376404, 0.1301998103957634, 0.741137382252807, 0.005007685015221669, 0.12018444036532006, 0.9754215041158706, 0.37887349271999815, 0.020855421617614577, 0.5978554197049512, 0.9909823902054741, 0.012953037702471137, 0.012953037702471137, 0.9714778276853354, 0.9947690816377281, 0.9724743950865969, 0.9888461022894256, 0.02936752286313049, 0.9691282544833062, 0.40919356029996845, 0.5863071908775667, 0.9952823939011837, 0.06781961153762107, 0.9155647557578845, 0.20378856072413506, 0.3099284361012888, 0.042455950150861475, 0.4203139064935286, 0.021227975075430738, 0.9786803059091941, 0.012877372446173607, 0.9648057913637795, 0.9861934481780831, 0.989664337139813, 0.1316074441689745, 0.06779777426886566, 0.6500610121073589, 0.003988104368756803, 0.05184535679383844, 0.09571450485016327, 0.4066774396223232, 0.02033387198111616, 0.5625704581442138, 0.978557619113056, 0.8361792426798939, 0.1642494940978363, 0.40922173990672545, 0.17626818777765974, 0.024848378893767013, 0.07376862484087081, 0.25158983629939097, 0.011647677606453287, 0.03416652097892964, 0.018636284170325257, 0.06239679336407073, 0.7643607187098664, 0.1559919834101768, 0.9648745637263836, 0.978211844883621, 0.992576100985976, 0.9970348391097014, 0.991823394488126, 0.9849787209289035, 0.9838616863938288, 0.9892511461862525, 0.43047503130313747, 0.047127168459657205, 0.03165257583111305, 0.1252035221764027, 0.08088991601284445, 0.135050990212749, 0.07104244797649817, 0.019694936072692563, 0.013364420906469953, 0.04220343444148406, 0.002110171722074203, 0.8952954045375601, 0.0973147178845174, 0.9845179700054234, 0.9721202140824249, 0.9919384196161021, 0.850398879805509, 0.14413540335686595, 0.976998340559772, 0.04853446131794256, 0.9383329188135562, 0.9448755347716048, 0.03499539017672611, 0.20423067889938368, 0.7862881137626272, 0.9427474142420872, 0.04876279728838382, 0.010836177175196405, 0.35041521005646403, 0.22868005591347165, 0.17406989330726946, 0.0034131351628876364, 0.010239405488662909, 0.18089616363304473, 0.05233473916427709, 0.9886836473203093, 0.4208842198958035, 0.5770186885668274, 0.9873804330573802, 0.4950173221998772, 0.5049176686438748, 0.8757221764994156, 0.017560252885341375, 0.026722123955954268, 0.010688849582381707, 0.002290467767653223, 0.06260611898252143, 0.0038174462794220384, 0.9896395263858022, 0.38390550047222455, 0.15421844890764577, 0.09734355994879768, 0.20234335494974798, 0.05359364536506839, 0.00437499145837293, 0.006562487187559394, 0.0010937478645932325, 0.09624981208420445, 0.5560780384946183, 0.09034075388792695, 0.02192736744852596, 0.1052513637529246, 0.17103346609850248, 0.006139662885587268, 0.0008770946979410383, 0.018418988656761805, 0.017541893958820765, 0.011402231073233498, 0.9917199430042088, 0.0684238571352281, 0.9289056968661269, 0.9923031857648102, 0.9839805028685517, 0.9985767147003847, 0.07367900145718632, 0.9157247323964586, 0.9934329441449529, 0.14804561911850678, 0.023375624071343176, 0.15973343115417837, 0.42076123328417714, 0.24544405274910333, 0.9843524784638835, 0.014648556281389629, 0.03906281675037234, 0.024414260468982714, 0.058594225125558515, 0.8154362996640226, 0.009765704187593085, 0.0341799646565758, 0.12008199696862626, 0.795543229917149, 0.07505124810539142, 0.1064719676504813, 0.3000573633786291, 0.17906649104853672, 0.285538458699018, 0.12099087233009238, 0.22887725545145024, 0.7698598592457873, 0.1479878687516163, 0.06830209326997676, 0.6630994888293577, 0.025613284976241282, 0.09106945769330234, 0.23448757836278827, 0.06241755683038249, 0.001686960995415743, 0.06410451782579824, 0.2817224862344291, 0.07253932280287695, 0.06073059583496675, 0.22099189039946232, 0.11959707662916447, 0.11295279459421088, 0.006644282034953581, 0.043187833227198276, 0.38204621700983094, 0.142852063751502, 0.03322141017476791, 0.15614062782140917, 0.9942073752689582, 0.02943684502056576, 0.9566974631683872, 0.9880260372511278, 0.0731929752784793, 0.8051227280632723, 0.06193251754332864, 0.050672059808177974, 0.9737211855844202, 0.9890327062329405, 0.9707175370885298, 0.9830567769670775, 0.10271467984129304, 0.16263157641538065, 0.11983379314817522, 0.11983379314817522, 0.02567866996032326, 0.46221605928581866, 0.9795069217447406, 0.36537272258183023, 0.07559435639624074, 0.06299529699686728, 0.4913633165755648, 0.0978176818292654, 0.055895818188151654, 0.1490555151684044, 0.09548868940475908, 0.02096093182055687, 0.5449842273344786, 0.032605893943088465, 0.9840161785540931, 0.9920692503071302, 0.9559883680923862, 0.03374076593267245, 0.0780492732396892, 0.9192469959341172, 0.9904805623119718, 0.9826006766699366, 0.08897820826388729, 0.17795641652777458, 0.04853356814393853, 0.6875588820391291, 0.08907189749065594, 0.24666063920489337, 0.1781437949813119, 0.137033688447163, 0.11647863518008854, 0.22610558593781893, 0.7610083616571671, 0.23756345681361302, 0.9927789058080163, 0.8771903921211136, 0.1074110684229935, 0.9845023187440799, 0.2581370238572015, 0.7283151744542471, 0.32959110593557045, 0.1263649694693689, 0.057320192336620945, 0.027357364524296362, 0.03387102274436692, 0.057320192336620945, 0.041687412608451595, 0.029962827812324587, 0.023449169592254022, 0.15241960234965116, 0.014330048084155236, 0.10421853152112899, 0.9715071343162128, 0.27860675891762837, 0.053578222868774686, 0.12501585336047427, 0.4339836052370749, 0.035718815245849786, 0.0678657489671146, 0.9858971512661983, 0.9930294185793223, 0.9862592735295446, 0.9873978582565931, 0.4031563108579166, 0.574770145885273, 0.020430218455637663, 0.20493947333035112, 0.10046052614232898, 0.10046052614232898, 0.04420263150262475, 0.5465052622142696, 0.2710738174113474, 0.089067111435157, 0.6350872293637281, 0.9939197919391961, 0.9851016986302715, 0.3071359819880988, 0.05744989591144295, 0.14804396254102606, 0.32702248441898296, 0.1590920194470728, 0.014788636794273825, 0.9760500284220724, 0.9429925412715534, 0.009023852069584243, 0.009023852069584243, 0.036095408278336974, 0.9370521197324397, 0.9930726299012994, 0.9848993267261933, 0.1228806378898703, 0.08619985046005826, 0.045850984287265036, 0.1412210316047763, 0.029344629943849624, 0.42182905544283833, 0.040348866172793235, 0.027510590572359023, 0.027510590572359023, 0.055021181144718045, 0.9652276455070403, 0.0481430602462926, 0.02888583614777556, 0.5680881109062527, 0.01925722409851704, 0.33218711569941894, 0.43602732454684107, 0.34170304617548364, 0.09966338846784939, 0.016017330289475794, 0.10500249856434132, 0.381951994668345, 0.6161530119752726, 0.6415901007003307, 0.30455226299066335, 0.04872836207850613, 0.9713305902307819, 0.9962217126341664, 0.23556902206148717, 0.009274370947302645, 0.7530789209209747, 0.001854874189460529, 0.9952724559020003, 0.2172831028415891, 0.7796628984315844, 0.031017507736190445, 0.96631466408901, 0.9842447185500547, 0.9555789144390476, 0.9709744731359584, 0.9808383630358096, 0.2211939850468985, 0.777992637061505, 0.9930699821619331, 0.04280826109522828, 0.4040029640862169, 0.026755163184517674, 0.16320649542555782, 0.018728614229162374, 0.23812095234220731, 0.04815929373213181, 0.056185842687487116, 0.9768435969079533, 0.9917626835758602, 0.004971241521683509, 0.9810908216160533, 0.9619824897940921, 0.9635674476440109, 0.031985641415568825, 0.003998205176946103, 0.9851161856097332, 0.13130747697706527, 0.5114080682264648, 0.3524569118858068, 0.639656593311907, 0.35181112632154893, 0.979902675325179, 0.026259006385084667, 0.9715832362481326, 0.9672240824229752, 0.996694409004666, 0.9309916069550271, 0.9819868401459566, 0.9188190084668882, 0.9916547485769486, 0.9916820091920077, 0.009688094089083414, 0.30356028145794695, 0.10172498793537584, 0.31001901085066924, 0.02744959991906967, 0.01453214113362512, 0.2018352935225711, 0.03067896461543081, 0.9720229414972081, 0.9506265853343613, 0.9826298997809046, 0.9713230213161256, 0.9541867607632945, 0.9884454605485006, 0.855938901942061, 0.14297850732215014, 0.9947283369475924, 0.9442745328847386, 0.9853361056405879, 0.763977528952105, 0.035463147895654745, 0.0020264655940374137, 0.04154254467776698, 0.06788659740025337, 0.03951607908372957, 0.009119095173168362, 0.01013232797018707, 0.015198491955280604, 0.015198491955280604, 0.9739627207632643, 0.9746416805877061, 0.9687968913912497, 0.05214895268756411, 0.3042022240107906, 0.5649469874486112, 0.07822342903134616, 0.35567156472257383, 0.016620166575821205, 0.6249182632508774, 0.9952700099505692, 0.9245361000330675, 0.9877886616923923, 0.3114017604430416, 0.07343098281189626, 0.30052309632276064, 0.19037662210491627, 0.07343098281189626, 0.0503138215562993, 0.09194793039866027, 0.9010897179068706, 0.9971362906043992, 0.07708113034927308, 0.028029501945190213, 0.03503687743148777, 0.04204425291778532, 0.03153318968833899, 0.09810325680816574, 0.6867227976571603, 0.9873972597284673, 0.9559246556612538, 0.13884946500030257, 0.8504529731268532, 0.05428733689905761, 0.9190070603626181, 0.02326600152816755, 0.05958286052760385, 0.3202578753358707, 0.10427000592330674, 0.05213500296165337, 0.007447857565950481, 0.4468714539570289, 0.14864508318793643, 0.06193545132830685, 0.03716127079698411, 0.22916116991473534, 0.21677407964907397, 0.01238709026566137, 0.14245153805510574, 0.14864508318793643, 0.9903944076182415, 0.9552097488572148, 0.44905242758621, 0.048427222582826564, 0.006603712170385441, 0.07484207126436833, 0.08144578343475377, 0.19370889033130625, 0.06823835909398289, 0.006603712170385441, 0.06823835909398289, 0.07444022891561425, 0.0977028004517437, 0.009305028614451781, 0.37220114457807124, 0.3024134299696829, 0.07909274322284014, 0.06048268599393658, 0.9930938357115545, 0.9954479559697635, 0.1362539126676522, 0.06232891749690472, 0.11161224761073636, 0.1782896942353321, 0.05942989807844404, 0.0014495097092303423, 0.037687252439988904, 0.3043970389383719, 0.06232891749690472, 0.04638431069537095, 0.996497205575225, 0.9582545501253009, 0.9957944156945966, 0.9815837532877909, 0.01208783752073867, 0.21758107537329605, 0.14505405024886403, 0.1208783752073867, 0.018131756281108004, 0.47746958206917745, 0.9881525966227334, 0.9842730073335574, 0.9677986280204098, 0.11528123625913624, 0.08363540669780471, 0.391052036722168, 0.3051562136271253, 0.022604163972379653, 0.027124996766855584, 0.02938541316409355, 0.006781249191713896, 0.018083331177903724, 0.6077717309753032, 0.12253462318050469, 0.008577423622635328, 0.08577423622635329, 0.04492936183285172, 0.028182963331516077, 0.03594348946628138, 0.02899986081938611, 0.010619667342310407, 0.026140719611841, 0.00040844874393501564, 0.9786196789208337, 0.8111220696765482, 0.031197002679867237, 0.06127982669259636, 0.015598501339933618, 0.003342536001414347, 0.02339775200990043, 0.026740288011314776, 0.002228357334276231, 0.008913429337104924, 0.015598501339933618, 0.227149322034932, 0.7081714157559644, 0.060127761715129055, 0.9782731714238386, 0.1677116024120897, 0.11180773494139315, 0.06335771646678945, 0.011180773494139314, 0.09317311245116096, 0.5478579012128264, 0.08160883538668542, 0.12418735819712999, 0.11709093772872256, 0.6741599444987056, 0.093685798045483, 0.13740583713337506, 0.24358307491825582, 0.5183947491850059, 0.028072572560548643, 0.3144128126781448, 0.6568981979168382, 0.02123961662558482, 0.9664025564641092, 0.9862214754054867, 0.9909316771575718, 0.9979369602962026, 0.9901656427625943, 0.9773703181880874, 0.9872871927050515, 0.9942039384671026, 0.986451010735944, 0.11608705812197324, 0.1590233672903743, 0.11767729179487699, 0.09382378670132084, 0.05088747753291978, 0.028624206112267375, 0.19718897544006414, 0.03021443978517112, 0.004770701018711229, 0.01590233672903743, 0.1478917315800481, 0.027033972439363632, 0.009541402037422458, 0.9923528631382964, 0.9835978571623102, 0.9828274053127805, 0.9823759142573305, 0.24151214835768336, 0.3181297954228795, 0.21236413045244573, 0.13657928389882784, 0.0008328005115782186, 0.057463235298897075, 0.03247921995155052, 0.9668608781205571, 0.3662425038957098, 0.14107118668575488, 0.0054258148725290336, 0.35539087415065174, 0.13293246437696132, 0.9756553266828899, 0.9735052147083031, 0.9891652101271385, 0.02904067262083083, 0.10890252232811562, 0.20328470834581583, 0.6534151339686937, 0.9834480120345578, 0.0402748477123933, 0.07745163021614096, 0.05576517375562149, 0.14870713001499064, 0.2695316731521705, 0.4058465423325786, 0.5221794999608889, 0.4569070624657777, 0.9891832765104956, 0.9819574013172926, 0.9729468613607225, 0.009827746074350732, 0.9774567252499107, 0.15438626040552075, 0.823393388829444, 0.9788472352634949, 0.117553277820161, 0.8751188459945319, 0.9709442860475088, 0.1703109347679486, 0.5790571782110252, 0.14003343525364662, 0.030277499514301972, 0.04163156183216521, 0.03406218695358972, 0.9791758273418915, 0.9749679723911765, 0.9813137465252652, 0.9910379555074627, 0.9916549092022998, 0.9946967236749191, 0.992597630516126, 0.27117532783646436, 0.023149113351893298, 0.6713242872049057, 0.02976314573814853, 0.9899994841340753, 0.987825252672452, 0.039095317024120446, 0.960627789735531, 0.9873218125505532, 0.05771002194991626, 0.9005800793763247, 0.04100448928020366, 0.5268827028328005, 0.4648965024995298, 0.4652039094936375, 0.02791223456961825, 0.4707863564075611, 0.0334946814835419, 0.3095160848172913, 0.6471699955270637, 0.04940164265378683, 0.9386312104219497, 0.05851380783881236, 0.012538673108316935, 0.643651886226936, 0.06687292324435698, 0.1086685002720801, 0.09195026946099086, 0.008359115405544622, 0.9930002055437165, 0.41281320285100476, 0.16083631279909277, 0.30022778389163984, 0.12866905023927422, 0.15899305906759748, 0.07338141187735268, 0.7582745893993111, 0.031753272162071994, 0.9525981648621599, 0.9907614919388865, 0.9383947681422715, 0.9776717648810475, 0.9482211692504648, 0.015418230394316501, 0.03469101838721213, 0.995082280391077, 0.0048635497575321455, 0.9982437645070819, 0.30097716608682784, 0.5665452538104995, 0.1298332873315728, 0.220821268203056, 0.07643813130105785, 0.17269355590238997, 0.5265737934072874, 0.0028310419000391798, 0.015014559184595154, 0.9609317878140898, 0.9633828029645369, 0.06124238224745967, 0.9390498611277149, 0.9457342615142484, 0.988535008108333, 0.11742401185986694, 0.171619709641344, 0.08129354667221557, 0.623250524486986, 0.9788462837783707, 0.536346618639096, 0.09473513644440557, 0.0014574636376062395, 0.23465164565460453, 0.036436590940155986, 0.017489563651274874, 0.07141571824270573, 0.005829854550424958, 0.9982742017345467, 0.9704063146946091, 0.11712435727112407, 0.09369948581689926, 0.09369948581689926, 0.031233161938966417, 0.6558964007182948, 0.9955514737283834, 0.7218119744372464, 0.033926332672091, 0.005849367702084655, 0.026907091429589414, 0.017548103106253963, 0.05381418285917883, 0.004679494161667724, 0.04094557391459258, 0.09358988323335447, 0.9273989452776165, 0.9942283740899803, 0.016158144579801123, 0.010772096386534083, 0.971284024185823, 0.9803447960571263, 0.20361808005358953, 0.027515956763998584, 0.16234414490759164, 0.5998478574551691, 0.005503191352799717, 0.16379834974120994, 0.0248179317789712, 0.03474510449055968, 0.11912607253906177, 0.5906667763395146, 0.059563036269530883, 0.15581316222006866, 0.06232526488802746, 0.7479031786563296, 0.9964391913400136, 0.9857602030687119, 0.21588098153582339, 0.7787135405399344, 0.9941735782455633, 0.9016300929267533, 0.7560759995266457, 0.03538507343756221, 0.054197390961329465, 0.02777056396365642, 0.006718684829916876, 0.03896837201351788, 0.04703079380941813, 0.0071665971519113345, 0.012093632693850376, 0.012541545015844835, 0.0017916492879778336, 0.584264193572316, 0.052918568364220854, 0.05075862679833429, 0.015119590961205959, 0.029159211139468635, 0.0691181301083701, 0.09719737046489545, 0.021599415658865657, 0.0043198831317731315, 0.05075862679833429, 0.023759357224752222, 0.9985244480199906, 0.17762342875554177, 0.030325951250946153, 0.04332278750135165, 0.10830696875337911, 0.02599367250081099, 0.6108513037690583, 0.9831357693321405, 0.04146125111441337, 0.9536087756315075, 0.9549886144730753, 0.0422561333837644, 0.9740267991930931, 0.1416818738046934, 0.8579624580395323, 0.8816767556198231, 0.047232683336776236, 0.06297691111570165, 0.013255980132555937, 0.05302392053022375, 0.09941985099416953, 0.8086147880859121, 0.026511960265111875, 0.9049689537496346, 0.07182293283727259, 0.014364586567454518, 0.8266853911375729, 0.002046250968162309, 0.00920812935673039, 0.035809391942840406, 0.0450175212995708, 0.0030693764522434636, 0.0562719016244635, 0.021485635165704245, 0.2685714193998361, 0.7293834337385022, 0.4059634454528506, 0.037589207912300984, 0.14659791085797383, 0.026312445538610688, 0.2556066138036467, 0.026312445538610688, 0.007517841582460196, 0.003758920791230098, 0.056383811868451476, 0.030071366329840785, 0.9730727083422254, 0.015694721102293956, 0.3643558155408103, 0.632264503438465, 0.8161530730793309, 0.18018963951102113, 0.8712662470218933, 0.05682171176229739, 0.035776633331816875, 0.027358601959624668, 0.0021045078430480513, 0.004209015686096103, 0.9308450181870276, 0.9793710282626978, 0.11143734420237261, 0.026375702769792335, 0.8005025790631973, 0.061982901509011985, 0.9741771801188336, 0.9882618219046836, 0.4688153364244605, 0.06553332659696759, 0.37807688421327457, 0.08569742708834224, 0.988684765787671, 0.9895726786483238, 0.9934708913734227, 0.3495612062225529, 0.0014464601636795292, 0.09884144451810116, 0.04676887862563811, 0.10800235888807151, 0.03905442441934729, 0.12584203424011903, 0.03616150409198823, 0.06460855397768564, 0.01880398212783388, 0.007232300818397646, 0.0347150439283087, 0.01060737453364988, 0.028447049885697406, 0.004339380491038588, 0.0033750737152522347, 0.022179055843086114, 0.25779995435337494, 0.018863411294149385, 0.23264873929450908, 0.490448693647884, 0.9763128804487309, 0.986350772511104, 0.9968035455702103, 0.13562456911333692, 0.09315626969400921, 0.1630234719645161, 0.06438742170027106, 0.03698851884909189, 0.04383824456188669, 0.09178632455145025, 0.03972840913420981, 0.07260709255562482, 0.1369945142558959, 0.006849725712794795, 0.004109835427676877, 0.021919122280943344, 0.07534698284074275, 0.01232950628303063, 0.03126491028634497, 0.06878280262995894, 0.7816227571586243, 0.1125536770308419, 0.32393670867668223, 0.6727916257131092, 0.30941380605248303, 0.11320017294603037, 0.5735475429265539, 0.9883303017734695, 0.965682756353442, 0.6854207562393552, 0.02247281167997886, 0.2893374503797278, 0.9620472028259903, 0.031286087896780175, 0.9904417011261385, 0.9612377460185421, 0.9952174045175723, 0.23154492737437857, 0.7563800960896366, 0.963276222024093, 0.10886099640754113, 0.21069870272427313, 0.1826055423610367, 0.05267467568106828, 0.14397744686158664, 0.03862809549945007, 0.25986173335993684, 0.9743181479610792, 0.9828588118798871, 0.9556442450750141, 0.9338212696881748, 0.954240579669941, 0.9878039941913307, 0.015364973509852758, 0.9193375816728566, 0.005121657836617586, 0.06017947958025663, 0.8976416739774598, 0.10077474094549443, 0.9775798618033471, 0.07812957030202161, 0.9063030155034507, 0.962780040523624, 0.9928062932922657, 0.17228409776227532, 0.2182265238322154, 0.6087371454267061, 0.9896107733434479, 0.9808282685941527, 0.9361792988951826, 0.2461226632577821, 0.26849745082667137, 0.4474957513777856, 0.9876907915942554, 0.9686772494487378, 0.9650982355439529, 0.9845550146749307, 0.6865907457147519, 0.02603540205852255, 0.07513073165459365, 0.07215525713361964, 0.06843591398240213, 0.043144380554123084, 0.004463211781461009, 0.0074386863024350144, 0.01562124123511353, 0.9711834667739065, 0.5523457359367805, 0.12616606191374896, 0.0033756805863210423, 0.07553085311893332, 0.11688294030136609, 0.009705081685672997, 0.002953720513030912, 0.01772232307818547, 0.03080308535017951, 0.0628720509202294, 0.0004219600732901303, 0.9892183546507061, 0.9910519916999047, 0.09708160243330106, 0.16442649781496035, 0.7311731498580153, 0.005247654185583842, 0.0017492180618612805, 0.9347462449009039, 0.9871610742255623, 0.9985779654984759, 0.49215678804171537, 0.06700154292647115, 0.014618518456684614, 0.06943796266925192, 0.019491357942246153, 0.1729858017374346, 0.004872839485561538, 0.032891666527540386, 0.028018827041978844, 0.01340030858529423, 0.006091049356951923, 0.07796543176898461, 0.994659041125589, 0.7000043833102993, 0.2995211063202723, 0.0269389655866856, 0.17959310391123734, 0.008979655195561867, 0.20653206949792294, 0.5746979325159595, 0.9729851925699794, 0.06970901770059047, 0.13308085197385452, 0.06020324255960086, 0.04119169227762164, 0.6939215852922415, 0.9788635948819557, 0.9908828289867804, 0.11715514766598663, 0.1523016919657826, 0.1874482362655786, 0.5389136792635385, 0.9890082610194296, 0.9892323538782924, 0.9971647091239187, 0.9841597192524586, 0.9893153848576193, 0.9721402079486547, 0.3568297776953382, 0.005097568252790546, 0.5900435252605056, 0.005097568252790546, 0.042054938085522, 0.09329277174677555, 0.8956106087690453, 0.966566544608247, 0.1669383632617118, 0.8320834043825948, 0.31273829416153526, 0.6444304243328606, 0.028430754014685027, 0.04206036429222528, 0.9533682572904397, 0.9837143721146455, 0.9891520795833055, 0.32385378156308475, 0.4017537452363673, 0.0026258414721331198, 0.09803141495963646, 0.04463930502626304, 0.03413593913773056, 0.0008752804907110399, 0.021006731777064958, 0.05951907336835072, 0.012253926869954558, 0.0017505609814220799, 0.9967957686108089, 0.9819090728698414, 0.0947864898387093, 0.068595486067487, 0.1908201703331911, 0.22449431803904835, 0.004988762623089963, 0.053629198198217105, 0.06610110475594201, 0.0810673926252119, 0.006235953278862454, 0.07108986737903197, 0.03117976639431227, 0.068595486067487, 0.037415719673174724, 0.9787975878523792, 0.9969930760125738, 0.971024420639589, 0.04054200753375347, 0.9556330347241889, 0.986161003705679, 0.9727741818820987, 0.9904335954200069, 0.992309752126227, 0.9564363746288442, 0.972416347028344, 0.9358400160553628, 0.9771565618936126, 0.9516909364452051, 0.9931238065023498, 0.9711161383918615, 0.9723120795113656, 0.4634927900083038, 0.5266963522821634, 0.9291363967789881, 0.02318976031894313, 0.04637952063788626, 0.7970436183722436, 0.006930814072802118, 0.017327035182005294, 0.017327035182005294, 0.15940872367444872, 0.9918230641160192, 0.9515489058477874, 0.9887022592581749, 0.9414943591603646, 0.9849179078631513, 0.10065987272178387, 0.08947544241936344, 0.25910596867273994, 0.033553290907261286, 0.018640717170700715, 0.33926105250675304, 0.0037281434341401433, 0.0037281434341401433, 0.042873649492611646, 0.031689219190191215, 0.0726987969657328, 0.0074562868682802865, 0.10267126469912469, 0.13579102750529395, 0.1689107903114632, 0.09935928841850776, 0.07948743073480621, 0.10267126469912469, 0.03311976280616925, 0.026495810244935403, 0.2517101973268863, 0.20743728075183235, 0.036076048826405624, 0.07215209765281125, 0.06313308544620985, 0.1262661708924197, 0.48702665915647597, 0.059578731796856056, 0.9234703428512688, 0.941505969895638, 0.03766023879582552, 0.9243906094201987, 0.0630266324604681, 0.9813439468108406, 0.47168340040524986, 0.058789525267900704, 0.0560551287438123, 0.3923859012066861, 0.02050797393066304, 0.045217854879232335, 0.24833932997165695, 0.19881501272297392, 0.00933066846714318, 0.2555167672540748, 0.17441172596275328, 0.06029047317230978, 0.008612924738901398, 0.9746336698862352, 0.978557891246177, 0.01634923020723605, 0.964604582226927, 0.11912207900045382, 0.01323578655560598, 0.19853679833408971, 0.661789327780299, 0.9666201193244467, 0.9569271031930461, 0.9636402408684762, 0.12203943271620606, 0.2890407616962775, 0.03211564018847528, 0.012846256075390111, 0.5202733710532995, 0.025692512150780222, 0.09615239071789163, 0.0769219125743133, 0.23717589710413267, 0.2243555783417471, 0.35896892534679536, 0.981423550689754, 0.9891742543629487, 0.9732983414549815, 0.21120962518464742, 0.46912907132359183, 0.04670982095429702, 0.052802406296161855, 0.01015430890310805, 0.034524650270567364, 0.022339479586837706, 0.15231463354662073, 0.1535067811984985, 0.022574526646838015, 0.022574526646838015, 0.7133550420400813, 0.018059621317470412, 0.004514905329367603, 0.022574526646838015, 0.009029810658735206, 0.02708943197620562, 0.9764000399350646, 0.9680554953152938, 0.9882556852143027, 0.931974068405049, 0.9269937128345956, 0.9848749833320061, 0.9868277937949587, 0.005277153977513148, 0.10109623396585851, 0.8969993122788901, 0.9986765533453167, 0.9881982148782424, 0.9804281744671508, 0.06543242434962417, 0.09814863652443624, 0.22083443217998155, 0.09814863652443624, 0.06543242434962417, 0.00817905304370302, 0.4498479174036661, 0.9586284999388766, 0.9986568616441075, 0.32426042243040926, 0.6639618173575047, 0.3890856058800594, 0.5265820229955691, 0.06143456934948306, 0.02340364546646974, 0.24722580882078316, 0.7507666106101725, 0.12731782349548404, 0.008487854899698936, 0.861517272319442, 0.05714509776596527, 0.002040896348784474, 0.05102240871961185, 0.02653165253419816, 0.03265434158055158, 0.1571490188564045, 0.05102240871961185, 0.4143019588032482, 0.006122689046353422, 0.06734957950988764, 0.01632717079027579, 0.11020840283436159, 0.002040896348784474, 0.008163585395137896, 0.9970083351336481, 0.9634162908149814, 0.9939723450404522, 0.5787071401657387, 0.03794800919119598, 0.3699930896141608, 0.9913397140925173, 0.9898177780562966, 0.9826263116533049, 0.971259874196227, 0.9821089843451244, 0.9862862538226691, 0.9909311427740527, 0.08673492034707217, 0.9107166636442577, 0.7517779412994526, 0.10284909946116291, 0.14447849686210978, 0.04027699791140395, 0.7393706045164867, 0.21576963166823543, 0.2578370394950422, 0.11149709816001825, 0.013937137270002281, 0.6202026085151016, 0.9673539540818241, 0.9802061849610603, 0.08495785283420969, 0.9005532400426227, 0.6773354894588468, 0.20428979994977822, 0.06947030661116378, 0.01677884524083193, 0.003826754177733598, 0.009125336885364734, 0.00029436570597950754, 0.009125336885364734, 0.010008434003303257, 0.4224042748472123, 0.042689793734558695, 0.10110740621342848, 0.013480987495123798, 0.0022468312491872996, 0.05841761247886979, 0.21120213742360616, 0.11908205620692688, 0.026961974990247595, 0.9888956199789224, 0.9945724558927205, 0.9787321758607223, 0.9551280602080582, 0.9895483550389584, 0.9904491309918569, 0.2485066460424518, 0.12242606827091375, 0.2539884102933882, 0.07857195426342226, 0.0018272547503121455, 0.005481764250936437, 0.15531665377653237, 0.09684450176654372, 0.014618038002497164, 0.021927057003745747, 0.0018272547503121455, 0.2703779353726434, 0.030653312440503174, 0.12497119687282063, 0.06602251910262222, 0.09431788443231746, 0.023579471108079366, 0.28845552988883755, 0.01571964740538624, 0.007073841332423809, 0.021221523997271428, 0.04165706562427354, 0.0007859823702693121, 0.01493366503511693, 0.9975302079912719, 0.9839696561859916, 0.9647125664305551, 0.5283371937468132, 0.17720626374116719, 0.29206217542525703, 0.008703090541093098, 0.9747461406024268, 0.014505150901821829, 0.9879853894811398, 0.24254337488416208, 0.06737315969004502, 0.2664982761072892, 0.16918148988833528, 0.050904165099145124, 0.013474631938009005, 0.05839007173137235, 0.1302547754007537, 0.216791439948433, 0.6014214140504915, 0.05594617805120852, 0.12587890061521917, 0.9600717970369093, 0.9829723999953345, 0.9869303052415114, 0.7969840718361515, 0.016901782926378416, 0.009100960037280685, 0.17551851500469895, 0.17911247814418088, 0.011940831876278726, 0.21194976580394737, 0.06268936735046331, 0.12537873470092661, 0.13731956657720534, 0.05671895141232394, 0.20597934986580801, 0.008955623907209043, 0.5666856037957324, 0.17192752965755034, 0.000519418518602871, 0.10180602964616274, 0.011167498149961728, 0.009609242594153116, 0.04648795741495696, 0.023114124077827765, 0.009868951853454551, 0.024152961115033508, 0.031165111116172265, 0.003376220370918662, 0.1105140868091459, 0.13040662243479217, 0.016577113021371884, 0.053046761668390036, 0.009946267812823132, 0.005525704340457295, 0.09835753726013986, 0.3271216969550719, 0.05746732514075587, 0.001105140868091459, 0.1105140868091459, 0.08067528337067652, 0.013243189415847238, 0.1456750835743196, 0.8210777437825287, 0.987710949878484, 0.09358076678863442, 0.19956380387455774, 0.34839104744202454, 0.04171672736360811, 0.006764874707612127, 0.051864039425026306, 0.1860340544593335, 0.009019832943482835, 0.009019832943482835, 0.0011274791179353544, 0.02029462412283638, 0.03269689442012528, 0.9872967937451191, 0.9780828466281556, 0.5376642884769354, 0.089005236943817, 0.09172988705434201, 0.018164334070166734, 0.031787584622791784, 0.039961534954366815, 0.05630943561751688, 0.06629981935610858, 0.038145101547350145, 0.019980767477183407, 0.003632866814033347, 0.005449300221050021, 0.0018164334070166735, 0.31468571857039346, 0.5609614983211362, 0.04560662587976717, 0.009121325175953434, 0.012161766901271244, 0.012161766901271244, 0.003040441725317811, 0.03496507984115483, 0.0076011043132945275, 0.9664875126428951, 0.9941623397489193, 0.00815888022429705, 0.5792804959250906, 0.04079440112148525, 0.3589907298690702, 0.9537843134147033, 0.9875149530678096, 0.11934233355831352, 0.8751771127609658, 0.9612537967906883, 0.7226494904509733, 0.043917924834037045, 0.22757470141273742, 0.948500352513642, 0.9382823884002648, 0.053616136480015134, 0.9945193174592192, 0.7155704781187789, 0.017347163105909794, 0.06505186164716173, 0.06505186164716173, 0.02949017728004665, 0.007806223397659407, 0.07459280135541212, 0.006071507087068427, 0.010408297863545876, 0.004336790776477448, 0.0008673581552954897, 0.002602074465886469, 0.0018098899109381121, 0.6226021293627106, 0.14026646809770368, 0.008144504599221504, 0.0678708716601792, 0.02986318353047885, 0.04162746795157658, 0.006334614688283393, 0.01809889910938112, 0.0597263670609577, 0.00452472477734528, 0.9731543552713514, 0.3198085012572327, 0.6596050338430425, 0.6446475461294284, 0.047430555213636746, 0.026010304471994344, 0.08313097311637409, 0.02652031044203345, 0.03621042387277644, 0.0316203701424245, 0.018360214921407773, 0.019890232831525086, 0.022950268651759715, 0.008670101490664781, 0.03417039999262002, 0.9878255028660546, 0.9817163874264934, 0.9861333570290386, 0.027350962744203303, 0.054701925488406605, 0.21490042156159736, 0.6447012646847922, 0.054701925488406605, 0.27769078632605126, 0.40006299724939587, 0.06118610546167231, 0.25415766884079266, 0.15594815614010163, 0.1670873101501089, 0.6794883946104427, 0.6830094634238961, 0.10004645661420451, 0.04906124314735029, 0.012505807076775564, 0.03655543607057472, 0.02404962899379916, 0.017796725455411378, 0.018758710615163345, 0.023087643834047194, 0.016353747715783427, 0.00913885901764368, 0.0038479406390078655, 0.006252903538387782, 0.9915556057349266, 0.9899916178684683, 0.8205927919562592, 0.057924197079265355, 0.11584839415853071, 0.3944443688895747, 0.06761903466678423, 0.04507935644452282, 0.4846030817786203, 0.9973810663294422, 0.982009192061819, 0.9923096523554753, 0.9306165389736846, 0.026325786109580893, 0.014479182360269491, 0.007897735832874267, 0.013162893054790447, 0.0052651572219161785, 0.969270954879701, 0.02267300479250763, 0.005668251198126907, 0.06569427395509334, 0.9306688810304888, 0.0609331134536167, 0.017409460986747626, 0.9139967018042504, 0.03202577534793181, 0.23359977312609084, 0.6028381241963635, 0.005651607414340907, 0.12245149397738633, 0.1212016058712358, 0.8704478967116026, 0.994639349124659, 0.9830676208291328, 0.9794227641025962, 0.02565769657440086, 0.9621636215400322, 0.9638024509107288, 0.9474980476736725, 0.9780365461501652, 0.9906162448657798, 0.7106360664926186, 0.07643957689223202, 0.019319893060674026, 0.0781195675931602, 0.04535974892506076, 0.014279920957889498, 0.048719730326917114, 0.0008399953504640882, 0.0050399721027845285, 0.9504365709809671, 0.058830619354870425, 0.16248456774202308, 0.4454318322583046, 0.14567581935491725, 0.014007290322588196, 0.17649185806461126, 0.9953616895693945, 0.9843235991801298, 0.02649707134959752, 0.08832357116532506, 0.2826354277290402, 0.3797913560108978, 0.22080892791331266, 0.9757318916886917, 0.1183915573172716, 0.04361794216952112, 0.04361794216952112, 0.006231134595645874, 0.6916559401166921, 0.012462269191291748, 0.0747736151477505, 0.012462269191291748, 0.5266930321769125, 0.0598514809291946, 0.4069900703185233, 0.9764568788451989, 0.9867406260231993, 0.06181750652269914, 0.09714179596424151, 0.06770488809628954, 0.3149749141870861, 0.026493217081156775, 0.11774763147180789, 0.23549526294361578, 0.0029436907867951972, 0.07359226966987993, 0.3136827392250276, 0.6827212559603543, 0.9915757880173303, 0.9722917654610448, 0.6074383150701592, 0.01446281702547998, 0.3789258060675755, 0.9862504354018082, 0.9956812168232518, 0.4041974803841957, 0.026946498692279712, 0.5389299738455943, 0.020209874019209786, 0.9961060435263039, 0.9956644370034918, 0.9879052227480882, 0.9873658656094696, 0.9950124132709913, 0.038016327750584125, 0.7494647470829441, 0.2036588986638435, 0.00814635594655374, 0.9873738567635266, 0.050601745571848517, 0.8264951776735258, 0.10120349114369703, 0.9592498635642186, 0.036427210008767794, 0.9559648282265194, 0.051203632411133064, 0.06485793438743521, 0.8807024774714888, 0.9775380140758119, 0.6174223057710001, 0.09582394185565922, 0.024202954386223205, 0.10916026366031283, 0.04445440601551201, 0.04000896541396081, 0.012348446115420002, 0.011854508270803202, 0.04050290325857761, 0.0009878756892336001, 0.0039515027569344005, 0.15511921062892023, 0.8376437373961693, 0.9762117654356355, 0.9655684015060532, 0.142948899370318, 0.8523989925415257, 0.5790727729159751, 0.010925901375773116, 0.027314753439432786, 0.07960299573777554, 0.0039021076342046837, 0.030436439546796534, 0.11081985681141303, 0.0803834172646165, 0.03511896870784215, 0.006243372214727494, 0.010145479848932179, 0.006243372214727494, 0.020290959697864357, 0.9605365877015506, 0.03171294736753537, 0.9640735999730753, 0.2136781934181195, 0.05718148837949677, 0.11937889679228272, 0.02608278417310379, 0.09831203265246813, 0.032101888213050815, 0.290923361930773, 0.0070222880466048665, 0.11235660874567786, 0.031098704206392977, 0.009028656059920542, 0.002006368013315676, 0.6851591784481412, 0.3097294916272419, 0.0023464355426306206, 0.2740226531659567, 0.05445321953938883, 0.40049464693485975, 0.022835221097163058, 0.014052443752100343, 0.09309743985766478, 0.04391388672531357, 0.09661055079568986, 0.20856767466332315, 0.7868689544116282, 0.8838742424457026, 0.1096778257049412, 0.986417529221177, 0.9952788390178835, 0.37019362645090137, 0.25411596391968655, 0.005647021420437479, 0.20392021796024226, 0.070901491167715, 0.006274468244930532, 0.026980213453201285, 0.0006274468244930532, 0.03011744757566655, 0.004392127771451372, 0.02572531980421518, 0.96316673227351, 0.14966472230346944, 0.1339105410083674, 0.7168152489271432, 0.7583752558919278, 0.01587297047215663, 0.0837740108252711, 0.03791876279459639, 0.023809455708234943, 0.012345643700566266, 0.0008818316928975905, 0.012345643700566266, 0.027336782479825305, 0.007054653543180724, 0.02116396062954217, 0.23751618335296878, 0.11454681182980055, 0.3200572683479721, 0.05221987009887966, 0.1078087640751064, 0.09096364468837102, 0.04716633428285905, 0.0134760955093883, 0.016845119386735375, 0.2291409047828091, 0.029887944102105535, 0.7372359545186032, 0.2099802935671533, 0.7559290568417519, 0.9965922641822348, 0.9776844521442954, 0.9818563851263977, 0.9717273021731204, 0.9773229913839052, 0.8540417593508508, 0.009897834959364164, 0.03393543414639142, 0.028279528455326185, 0.015553740650429401, 0.007069882113831546, 0.04524724552852189, 0.005655905691065236, 0.9572332297925785, 0.019535372036583235, 0.9908957052641757, 0.9796818027467068, 0.9644270944336294, 0.9533365639292768, 0.036666790920356795, 0.13160235734057213, 0.05640101028881663, 0.7269463548336366, 0.08146812597273513, 0.7192076669593808, 0.2778756895070335, 0.14782103446094025, 0.14384735073887198, 0.10013682979612082, 0.05086315164247407, 0.019073681865927776, 0.06834736001957453, 0.025431575821237035, 0.16292103260479973, 0.21696313122492844, 0.0007947367444136573, 0.019868418610341432, 0.003973683722068287, 0.040531573965096525, 0.04477214664828493, 0.9402150796139837, 0.9893506414584928, 0.985437253226132, 0.9744013415875316, 0.11185259430096772, 0.13301389592547513, 0.030230430892153437, 0.0695299910519529, 0.012092172356861376, 0.6408851349136528, 0.24815736434330346, 0.02255976039484577, 0.3327564658239751, 0.04511952078969154, 0.0394795806909801, 0.30455676533041787, 0.9766541397157937, 0.9980549986178079, 0.2349142835392754, 0.022291136394237812, 0.13717622396454038, 0.07030281478182694, 0.054870489585816154, 0.020576433594681056, 0.3858081299002698, 0.013717622396454038, 0.020576433594681056, 0.0017147027995567548, 0.03772346159024861, 0.31016086483079214, 0.6877480046247999, 0.2241343519954866, 0.735160674545196, 0.017930748159638927, 0.026896122239458392, 0.9293571632030725, 0.057036360196578456, 0.013420320046253754, 0.19866579987150604, 0.7946631994860242, 0.050913169879608776, 0.916437057832958, 0.9784360768565431, 0.9843733655841781, 0.9737039918854277, 0.36702735890211285, 0.15372873671292686, 0.0038432184178231713, 0.15565034592183843, 0.07302114993864026, 0.08070758677428659, 0.0134512644623811, 0.15180712750401526, 0.9837181469338148, 0.9891132443815488, 0.9867854538113896, 0.9909208181340192, 0.06970755957032704, 0.03485377978516352, 0.8887713845216697, 0.99073163525114, 0.9691029785019443, 0.03175418988270139, 0.1212432704612235, 0.8299390537524228, 0.01443372267395518, 0.9912649465026928, 0.7057729765951121, 0.03024741328264766, 0.26214424844961304, 0.03669439666005016, 0.9081863173362413, 0.055041594990075236, 0.15469862314552724, 0.11374898760700533, 0.15014866364124704, 0.045499595042802134, 0.013649878512840639, 0.1046490685984449, 0.045499595042802134, 0.3503468818295764, 0.022749797521401067, 0.5411568142050894, 0.45790191971199873, 0.9924525278929449, 0.9438679175635936, 0.9671687834111385, 0.4490148577770288, 0.04687002690783182, 0.10030185758276008, 0.061868435518338, 0.03280901883548227, 0.049682228522301725, 0.07874164520515746, 0.09936445704460345, 0.049682228522301725, 0.0009374005381566363, 0.0028122016144699093, 0.02624721506838582, 0.0009374005381566363, 0.9668415839161757, 0.19853842779809258, 0.015510814671725983, 0.32882927104059084, 0.0031021629343451966, 0.0961670509647011, 0.06824758455559432, 0.2605816864849965, 0.021715140540416376, 0.0031021629343451966, 0.9836812265038903, 0.19732145030100284, 0.27405756986250396, 0.16443454191750237, 0.032886908383500474, 0.31790678104050457, 0.9856454995837841, 0.9934500905733175, 0.12012117444100572, 0.21354875456178796, 0.13346797160111748, 0.49383149492413464, 0.026693594320223495, 0.1401096936871028, 0.0068346192042489165, 0.09910197846160929, 0.05467695363399133, 0.4989272019101709, 0.1401096936871028, 0.030755786419120124, 0.01708654801062229, 0.010251928806373375, 0.9781514408164234, 0.9887227918854568, 0.8499736372664852, 0.010960973047985156, 0.0017437911667249112, 0.10861327838458018, 0.0201781549292454, 0.0022420172143606002, 0.003736695357267667, 0.0024911302381784447, 0.14173516260914484, 0.03543379065228621, 0.11958904345146597, 0.03543379065228621, 0.015502283410375217, 0.04872146214689354, 0.019931507241910992, 0.031004566820750434, 0.5536529789419721, 0.8716365231974982, 0.002924954775830531, 0.002924954775830531, 0.017549728654983186, 0.02193716081872898, 0.0014624773879152655, 0.005849909551661062, 0.07458634678367854, 0.9679475514827044, 0.02466108411420903, 0.6619549982451685, 0.02112622334825006, 0.028168297797666744, 0.28872505242608415, 0.9791164253610781, 0.9284148636080264, 0.0655351668429195, 0.988943425826439, 0.9666042893466057, 0.1923840376169608, 0.13253122591390631, 0.5814273136868149, 0.08977921755458171, 0.1756159447356268, 0.16683514749884548, 0.026342391710344023, 0.0439039861839067, 0.20195833644597083, 0.37757428118159764, 0.9882439586006081, 0.9846198364571537, 0.9661390022694807, 0.9962673819824365, 0.012156348265900015, 0.9725078612720012, 0.9518815322678013, 0.004821752815206759, 0.07232629222810139, 0.8293414842155625, 0.06750453941289462, 0.019287011260827037, 0.981901262430333, 0.9853338727677873, 0.989244741295349, 0.06620302782715427, 0.9102916326233712, 0.986742390278588, 0.9935408963299961, 0.06944280658725795, 0.007122339137154662, 0.056978713097237295, 0.028489356548618647, 0.6232046745010329, 0.2154507588989285, 0.0274554821428952, 0.14825960357163406, 0.8181733678582769, 0.0039036095023717013, 0.09759023755929254, 0.8939265760431196, 0.9982872028282487, 0.987438049138649, 0.989939140122192, 0.26164581772314327, 0.5595523330111787, 0.037682685704691826, 0.03341672128529275, 0.005687952559198767, 0.045503620473590134, 0.018485845817395992, 0.0021329822096995375, 0.036971691634791984, 0.979454464800534, 0.9866355569782013, 0.7544923603727867, 0.06280811008371985, 0.007155354313335173, 0.027826377885192342, 0.003975196840741763, 0.011130551154076936, 0.043727165248159394, 0.009540472417780232, 0.023851181044450578, 0.011130551154076936, 0.028621417253340692, 0.007155354313335173, 0.008745433049631879, 0.9749165535091423, 0.26960200007480917, 0.6964718335265904, 0.25762323535812276, 0.08587441178604091, 0.049071092449166236, 0.4815100946574437, 0.009200829834218669, 0.0030669432780728897, 0.09814218489833247, 0.015334716390364449, 0.14808233947878574, 0.4721870824889583, 0.3799848711153747, 0.9738309792759305, 0.9923766223063112, 0.9719130561409214, 0.19409760419892844, 0.764744560543778, 0.03881952083978569, 0.18717535367972826, 0.01648694825158228, 0.37338088687406934, 0.06109869057939316, 0.013577486795420703, 0.1386843294103686, 0.015517127766195089, 0.00969820485387193, 0.011637845824646317, 0.03297389650316456, 0.1377145089249814, 0.992234549421301, 0.9821297926463041, 0.9764210897455541, 0.9982255182724172, 0.1648366686021082, 0.7342724328639364, 0.07492575845550371, 0.978192854422862, 0.9416737595678402, 0.05885460997299001, 0.07165933536082891, 0.1616928592757165, 0.24988896433519825, 0.03307353939730565, 0.0055122565662176085, 0.016536769698652826, 0.02939870168649391, 0.4336308498757852, 0.991467901573042, 0.004698900007455175, 0.991257247261141, 0.9362561129961251, 0.05877841068137109, 0.9815447447706428, 0.08213347519713726, 0.9034682271685098, 0.997925286144981, 0.10571612519812883, 0.10865268423141018, 0.7840612618861221, 0.97467510615015, 0.415204052857441, 0.013139368761311424, 0.0013139368761311424, 0.25358981709331047, 0.007883621256786854, 0.0019709053141967136, 0.28512430212045786, 0.006569684380655712, 0.0026278737522622848, 0.012482400323245851, 0.34584298742926123, 0.08475203644511539, 0.03964208156303785, 0.29936606421742373, 0.01230271496783933, 0.020504524946398886, 0.004100904989279777, 0.16266923124143115, 0.0027339366595198512, 0.020504524946398886, 0.006834841648799629, 0.28301077870820707, 0.7075269467705176, 0.8274716278657542, 0.012258838931344508, 0.15323548664180633, 0.9883962694422463, 0.2345841514229941, 0.2571267725807593, 0.0676278634732956, 0.3155966962087128, 0.11764430416708713, 0.0021133707335404873, 0.004931198378261137, 0.9277236488117184, 0.06626597491512275, 0.9527110319470008, 0.9709675265075143, 0.9773012931470266, 0.9806499863242207, 0.9804087394170587, 0.13103250648443712, 0.8632729838974682, 0.01666103768601372, 0.9830012234748096, 0.046661696569244425, 0.19831221041928881, 0.47828238983475535, 0.1866467862769777, 0.08749068106733329, 0.9729953780648308, 0.9881309112480352, 0.10395445214026557, 0.06164740766457609, 0.055603544168049024, 0.7095495744922777, 0.035054408279856994, 0.03384563558055158, 0.9888152130336558, 0.9791871036143145, 0.024479183179599327, 0.9669277355941734, 0.9864866750101857, 0.9750816838412406, 0.8166118126754089, 0.07872099936359923, 0.02750492748848648, 0.028453373263951528, 0.001896891550930102, 0.005690674652790306, 0.03888627679406709, 0.001896891550930102, 0.9680755381799857, 0.9946784591308001, 0.2779065725711367, 0.7187238945805261, 0.11878318907918278, 0.09377620190461798, 0.7814683492051498, 0.07449521195653594, 0.9187742807972766, 0.9742103182151899, 0.048630200875322646, 0.12765427729772194, 0.3708052816743352, 0.3677658941196275, 0.08206346397710697, 0.8048510837059165, 0.05883048356792858, 0.01627226141240578, 0.007510274498033436, 0.04631335940453952, 0.008761986914372341, 0.01251712416338906, 0.022530823494100308, 0.0212791110777614, 0.9762597901951883, 0.982466036166196, 0.7856387708921307, 0.0471242593104501, 0.07314810400428075, 0.04642091215656278, 0.0063301243849858335, 0.009143513000535093, 0.008440165846647777, 0.02321045607828139, 0.034178418840614136, 0.9569957275371958, 0.8864115496552006, 0.04604735322884159, 0.010072858518809099, 0.014389797884012998, 0.010072858518809099, 0.027340615979624696, 0.005755919153605199, 0.9956683042127039, 0.960403043525538, 0.970569686634437, 0.9751583482678853, 0.9780656924520226, 0.1992681307338246, 0.7686056471161806, 0.12832552903497774, 0.8677250058555638, 0.08327230620332166, 0.2302234347974187, 0.04408533857822911, 0.18613809621918959, 0.01959348381254627, 0.034288596671955975, 0.09796741906273136, 0.2988006281413306, 0.004898370953136568, 0.9902559852350469, 0.9936633815339845, 0.10838939225070009, 0.45637638842400036, 0.07416116311890006, 0.33087288160740025, 0.02567117184885002, 0.7398303366295521, 0.24898136328879159, 0.08162425163470508, 0.4101120935792499, 0.025880860274418684, 0.009954177028622571, 0.021899189462969655, 0.3264970065388203, 0.12343179515491987, 0.14611003460603408, 0.28004423299489867, 0.5600884659897973, 0.012175836217169507, 0.973853247526172, 0.989022450861696, 0.9746379437823247, 0.9796808789279485, 0.9792329775739108, 0.015278994924757164, 0.11459246193567872, 0.8632632132487797, 0.9872517284935683, 0.9697338222130748, 0.9540334071524883, 0.9925610294138143, 0.6009366267420567, 0.0141596754651757, 0.052107605711846576, 0.03568238217224276, 0.03738154322806385, 0.06853282925145038, 0.0011327740372140559, 0.010761353353533532, 0.12517153111215318, 0.03738154322806385, 0.01585883652099678, 0.3224777011748932, 0.16935879270336118, 0.46863665926135556, 0.01855986769351903, 0.01855986769351903, 0.9950217684422671, 0.9848138633748778, 0.9821009411075905, 0.9810618939184296, 0.025982838861833134, 0.11877869193980861, 0.15960886729411783, 0.07794851658549941, 0.12620236018604666, 0.4528437630205203, 0.03340650710807117, 0.1621075336929829, 0.0842959175203511, 0.012968602695438631, 0.04539010943403521, 0.1621075336929829, 0.06484301347719315, 0.4668696970357907, 0.9865659711334823, 0.9843155754721393, 0.9454026212310894, 0.9626711045207585, 0.9865042012228914, 0.9166585755009132, 0.07260661984165649, 0.9853198752053632, 0.9892477074201063, 0.40507677483285515, 0.049541763828478684, 0.5420451807115904, 0.9828579364318124, 0.001824074972296416, 0.25354642114920184, 0.2042963968971986, 0.03283334950133549, 0.03648149944592832, 0.03648149944592832, 0.03648149944592832, 0.03648149944592832, 0.3502223946809119, 0.00912037486148208, 0.001824074972296416, 0.33435739206653126, 0.032357166974180444, 0.09707150092254133, 0.4476074764761628, 0.013482152905908517, 0.072803625691906, 0.29675954938956106, 0.6988208743689663, 0.9871190507814854, 0.16484344809654858, 0.10989563206436571, 0.15568547875785144, 0.4075296355720229, 0.1602644634272, 0.6064236926883593, 0.00922317403328303, 0.3308813684440287, 0.032281109116490604, 0.007493828902042462, 0.012681864295764166, 0.0005764483770801894, 0.010280794264638769, 0.044550108480101325, 0.9424061409252203, 0.9794671146930712, 0.9730701375483722, 0.9921723147270424, 0.6989037976877156, 0.3016850925270715, 0.8353139500797531, 0.15540724652646568, 0.09223489667342236, 0.015372482778903724, 0.09223489667342236, 0.78399662172409, 0.8850426571519263, 0.005848299496598632, 0.062381861297052074, 0.04483696280725618, 0.3284892833171301, 0.07054803400099438, 0.6018629150709833, 0.31836549412118414, 0.008489746509898245, 0.6367309882423683, 0.0382038592945421, 0.9249880919881306, 0.06744704837413452, 0.9887905769766759, 0.9961529278952813, 0.9837348395953507, 0.4619663631624972, 0.5326497411327152, 0.0025244063560792194, 0.9920219363978959, 0.9928153172689923, 0.9990423864659811, 0.9829765641837025, 0.9980429916952306, 0.1344409655851166, 0.10456519545509069, 0.7468942532506477, 0.23343702032014044, 0.005479742261036161, 0.032878453566216964, 0.12493812355162445, 0.09425156688982196, 0.025206814400766338, 0.13260976271707509, 0.0580852679669833, 0.021918969044144643, 0.15233683485680527, 0.04274198963608205, 0.005479742261036161, 0.06794880403684839, 0.0032878453566216963, 0.007990468951514382, 0.05593328266060067, 0.6751946264029652, 0.23172359959391706, 0.023971406854543145, 0.15756154543863304, 0.8357612410223143, 0.007619631884308202, 0.07619631884308202, 0.048257668600618614, 0.03555828212677161, 0.0025398772947694006, 0.67814723770343, 0.13461349662277824, 0.015239263768616404, 0.9579536948301398, 0.0275010630094777, 0.009167021003159232, 0.9763586774150647, 0.02365626751446192, 0.9722927968938821, 0.9799348120959623, 0.07003078363111379, 0.08221005034956837, 0.01826890007768186, 0.24358533436909144, 0.10352376710686387, 0.06698596695150015, 0.03958261683497736, 0.042627433514591, 0.32884020139827347, 0.0074590849335776635, 0.1640998685387086, 0.037295424667888315, 0.12680444387082027, 0.09696810413650962, 0.5668904549519024, 0.9567366821477146, 0.9948627487481975, 0.9908215793582132, 0.05999031245023338, 0.36760021246100455, 0.33951964067578894, 0.006381948133003551, 0.008934727386204972, 0.15061397593888382, 0.007658337759604262, 0.005105558506402841, 0.0025527792532014206, 0.005105558506402841, 0.04595002655762557, 0.9439804677642575, 0.05498915346199558, 0.9697016328631158, 0.995175237001967, 0.9867554075206013, 0.5141019060574711, 0.003295525038829943, 0.3394390789994841, 0.14170757666968753, 0.20422555665967418, 0.003853312389805173, 0.5490970155472372, 0.10403943452473968, 0.13679258983808365, 0.03577398899659811, 0.031004123797051693, 0.4006686767618988, 0.1979494057811762, 0.019079460798185656, 0.264727518574826, 0.026234258597505278, 0.002384932599773207, 0.021464393397958866, 0.9686636406997703, 0.11188083213985756, 0.13052763749650048, 0.013985104017482194, 0.46617013391607315, 0.27504037901048317, 0.9751094702365722, 0.9693468764615929, 0.9906793421342933, 0.19244350772110103, 0.07697740308844042, 0.7120409785680738, 0.019244350772110105, 0.9867300858172395, 0.977966367401052, 0.09146558915985799, 0.14071629101516614, 0.7669037860326554, 0.10009660501894826, 0.8968655809697764, 0.19953406233582416, 0.7715317076985201, 0.026604541644776554, 0.8544044067897401, 0.13762218632854875, 0.984729990036554, 0.9972677037215351, 0.9808005395105934, 0.5566303473825271, 0.06556627404751239, 0.022538406703832385, 0.10449624926322289, 0.013659640426565083, 0.04097892127969525, 0.061468381919542875, 0.004780874149297779, 0.061468381919542875, 0.007512802234610795, 0.012976658405236829, 0.025953316810473658, 0.01502560446922159, 0.005463856170626033, 0.0013659640426565082, 0.9859116620280493, 0.07744270397412537, 0.03441897954405572, 0.05593084175909054, 0.15488540794825073, 0.3893647060921303, 0.05593084175909054, 0.004302372443006965, 0.14412947684073332, 0.05593084175909054, 0.023663048436538308, 0.9863532512470996, 0.9772102015433278, 0.15926310383712328, 0.8330685431480295, 0.9915231550715403, 0.9912704138330981, 0.9864694112542101, 0.957904577887018, 0.98899178229019, 0.989125819115348, 0.854700824319773, 0.03484391849744878, 0.047141772084783644, 0.03279427623289297, 0.014347495851890674, 0.01537231698416858, 0.10296199271573399, 0.025740498178933497, 0.8665967720240944, 0.9781772371366946, 0.9573464652322002, 0.03702444893163206, 0.9499318421715961, 0.8036074126558316, 0.0608793494436236, 0.05447099687061059, 0.0025633410292052045, 0.0025633410292052045, 0.010894199374122117, 0.00640835257301301, 0.052548491098706684, 0.004485846801109108, 0.9955294692485135, 0.2963867221606134, 0.14656486260689675, 0.02605597557455942, 0.02605597557455942, 0.08142492367049818, 0.061882941989578624, 0.02605597557455942, 0.05862594504275869, 0.01302798778727971, 0.2638167526924141, 0.144890083573383, 0.23780872412587864, 0.037797413106099916, 0.0598459040846582, 0.3716745622099825, 0.07401993399944568, 0.037797413106099916, 0.03307273646783743, 0.0429653185813153, 0.0859306371626306, 0.8055997233996618, 0.06444797787197294, 0.8503353879985686, 0.14901917195618478, 0.9959913951236913, 0.004075445519783478, 0.061131682796752164, 0.7661837577192938, 0.022414950358809128, 0.026490395878592605, 0.002037722759891739, 0.11818792007372085, 0.08649485552041064, 0.9081959829643117, 0.9710546910783496, 0.9795544822585748, 0.9936852228619487, 0.38135233345357544, 0.5436299221572246, 0.0730249149166421, 0.3322546659091796, 0.028988662126304264, 0.03790825047285942, 0.4392897260678415, 0.08919588346555157, 0.013379382519832736, 0.011149485433193947, 0.04905773590605337, 0.38886723351674046, 0.017360144353425914, 0.0034720288706851826, 0.05555246193096292, 0.2789196526117097, 0.0034720288706851826, 0.031248259836166647, 0.042821689405117255, 0.1423531836980925, 0.016202801396530853, 0.018517487310320976, 0.9945324121222955, 0.2190397965172974, 0.0676708314443683, 0.010684868122794995, 0.0730132655057658, 0.4113674227276073, 0.12287598341214244, 0.09616381310515495, 0.01342532121897721, 0.5862390265620048, 0.12082789097079488, 0.07607682024087085, 0.07160171316787844, 0.07160171316787844, 0.02685064243795442, 0.022375535364962017, 0.008950214145984806, 0.9719265130557767, 0.9929342752257099, 0.9791313467040501, 0.02031951016291019, 0.955016977656779, 0.9949933556514442, 0.9899055902087349, 0.9792275166224012, 0.8029058724465657, 0.19116806486822996, 0.0914250182814858, 0.03740114384242601, 0.049868191789901345, 0.1371375274222287, 0.033245461193267566, 0.44881372610911213, 0.13298184477307026, 0.06649092238653513, 0.11636983527857253, 0.7240789750666735, 0.14869478952262047, 0.19008608090120138, 0.011880380056325086, 0.029700950140812716, 0.08316266039427561, 0.3267104515489399, 0.35047121166159007, 0.19622774627669426, 0.0033258940046897332, 0.16629470023448667, 0.21285721630014293, 0.099776820140692, 0.3059822484314555, 0.013303576018758933, 0.2819286032279958, 0.042078896004178475, 0.054702564805432015, 0.014026298668059491, 0.03787100640376063, 0.37871006403760626, 0.08135253227474505, 0.03927363627056658, 0.06872886347349151, 0.9666922888262645, 0.9959202809488642, 0.4538807667876255, 0.5364045425671938, 0.9863719211799127, 0.13742680876419716, 0.7509393478900773, 0.06380530406909155, 0.014724300939021124, 0.029448601878042248, 0.9291729851416168, 0.06426946965639728, 0.21851619683175075, 0.012853893931279456, 0.070696416622037, 0.006426946965639728, 0.520582704216818, 0.10283115145023565, 0.9777041068155976, 0.13010656480207597, 0.052042625920830386, 0.806660701772871, 0.9910550160223462, 0.9824034509275674, 0.9516254838581881, 0.016084301056088553, 0.05897577053899136, 0.7506007159507991, 0.04825290316826566, 0.05361433685362851, 0.06969863790971706, 0.005361433685362851, 0.9810239010798666, 0.9846351712334461, 0.13814286883886434, 0.8485919085815952, 0.9469421885727359, 0.1181701795916486, 0.8715050744884085, 0.9719353507784213, 0.11697472918001585, 0.18419550115224215, 0.1069180782550371, 0.2958772561612166, 0.14820327678916034, 0.017466814764436754, 0.0359922243630818, 0.07516023322878847, 0.019054707015749187, 0.7050573853311742, 0.036865745638231334, 0.014592690981799904, 0.06067487302958907, 0.04608218204778917, 0.032257527433452414, 0.014592690981799904, 0.042242000210473404, 0.01920090918657882, 0.01689680008418936, 0.011520545511947292, 0.9381692910476265, 0.058635580690476655, 0.14046347423170888, 0.7948955700839889, 0.015961758435421466, 0.05107762699334869, 0.9933696125459416, 0.9746873723281674, 0.033372766469848734, 0.9650291637531259, 0.9959722875968443, 0.09976930972647118, 0.6225604926931801, 0.09178776494835349, 0.16761244034047157, 0.015963089556235387, 0.04477106747641464, 0.32906734595164766, 0.05820238771933904, 0.46561910175471233, 0.10297345519575368, 0.055704079148024006, 0.9330433257294021, 0.9818970382346544, 0.9749672923929498, 0.9483212161445114, 0.9744385354675439, 0.994895526422735, 0.08197103043632942, 0.16891000211122426, 0.042227500527806064, 0.042227500527806064, 0.27075279750181536, 0.14655426653767986, 0.24591309130898825, 0.04720294058482273, 0.7721052424231718, 0.0699615012239337, 0.010957825492905277, 0.0033716386132016237, 0.056474946771127195, 0.011800735146205683, 0.020229831679209744, 0.00421454826650203, 0.0033716386132016237, 0.5363606978004376, 0.011576130168354768, 0.4476103665097177, 0.9882923089400646, 0.775369938954252, 0.03295064813617007, 0.10914902195106335, 0.011326785296808462, 0.004118831017021258, 0.005148538771276573, 0.016475324068085034, 0.04530714118723385, 0.81740673405423, 0.05868137322330671, 0.03884541607740021, 0.003305992857651082, 0.01735646250266818, 0.03223343036209805, 0.0008264982144127705, 0.019835957145906493, 0.011570975001778788, 0.8472149019823799, 0.029389033681206957, 0.04796830784748722, 0.06384514213503581, 0.001013414954524378, 0.0030402448635731337, 0.00506707477262189, 0.002364634893890215, 0.1027620222083827, 0.0836435064486836, 0.07647406303879642, 0.2270323746464269, 0.01433888681977433, 0.21269348782665257, 0.07647406303879642, 0.05735554727909732, 0.021508330229661494, 0.12666016690800658, 0.05807264707506594, 0.009033522878343591, 0.22970958176359416, 0.08130170590509231, 0.1935754902502198, 0.13550284317515385, 0.08646371897843151, 0.0993687516617795, 0.03742459478170916, 0.05549164053839634, 0.011614529415013187, 0.002581006536669597, 0.967599443347335, 0.9911002108290027, 0.558917743461048, 0.030762943208431214, 0.062217188511433916, 0.1092257309422951, 0.038367266248717585, 0.007258671993000624, 0.057723724896719245, 0.021776015979001872, 0.05841502699129073, 0.005530416756571904, 0.003802161520143184, 0.041478125674289275, 0.0010369531418572319, 0.003110859425571696, 0.000345651047285744, 0.04730200575756292, 0.051243839570693166, 0.7331810892422254, 0.05912750719695366, 0.035476504318172196, 0.04730200575756292, 0.02365100287878146, 0.9442198365234163, 0.9890973611879095, 0.995097369462437, 0.5931305268853155, 0.041381199550138296, 0.0534507160855953, 0.3103589966260372, 0.41904487926585837, 0.006547576238529037, 0.0720233386238194, 0.4539652858713466, 0.04146798284401724, 0.006547576238529037, 0.9604148266766552, 0.07506988272916733, 0.7506988272916734, 0.11922863727573635, 0.052990505455882825, 0.9579137836220389, 0.027603565363753867, 0.022082852291003093, 0.7232134125303513, 0.22082852291003094, 0.9894871251072176, 0.9832706076826048, 0.9022365661299693, 0.07518638051083078, 0.2220249785300109, 0.02581685796860592, 0.1342476614367508, 0.17039126259279908, 0.15490114781163553, 0.2891488092483863, 0.9752827344866499, 0.19697530822026282, 0.10213534500309925, 0.10213534500309925, 0.5909259246607885, 0.9600608239601784, 0.7742044795130409, 0.028556722604989218, 0.028556722604989218, 0.004230625571109514, 0.029614378997766595, 0.04124859931831776, 0.06557469635219747, 0.027499066212211837, 0.9975058962489683, 0.9975253081042351, 0.9954725445040085, 0.40173266870109864, 0.13391088956703287, 0.028695190621507046, 0.02231848159450548, 0.06057873575651487, 0.07333215381051801, 0.264633424620565, 0.01275341805400313, 0.9893691155982892, 0.2042835074390179, 0.2717356089519012, 0.007708811601472374, 0.15995784073055178, 0.025053637704785216, 0.01156321740220856, 0.028908043505521404, 0.25053637704785214, 0.025053637704785216, 0.013490420302576654, 0.8592666087468686, 0.1333344737710658, 0.9357091857897406, 0.9194200457649322, 0.058136630528461755, 0.019378876842820584, 0.2672198017519951, 0.3312020078052897, 0.03387293261645008, 0.3086200527276563, 0.060218546873689036, 0.011533600924180622, 0.1095692087797159, 0.12686961016598686, 0.593980447595302, 0.0778518062382192, 0.08073520646926435, 0.05895290781647287, 0.17507227169740427, 0.11790581563294573, 0.10540065336884542, 0.04644774555237256, 0.016078065768128962, 0.40909745121128144, 0.06252581132050153, 0.008932258760071646, 0.7186488126295465, 0.27878617731318617, 0.9778310467157667, 0.9467266775847255, 0.9834019752201599, 0.9819914657956222, 0.2312363302295874, 0.1503578954779242, 0.02822603092004353, 0.21386646504802215, 0.06622261100471752, 0.0021712331476956563, 0.0347397303631305, 0.14113015460021766, 0.010856165738478281, 0.03582534693697833, 0.053195212118543576, 0.018998290042336993, 0.01194178231232611, 0.0010856165738478282, 0.12327888583935061, 0.2203432959542416, 0.0921049147075608, 0.16649734581751374, 0.07297543242214433, 0.039675963258641575, 0.04392695932206746, 0.002833997375617255, 0.23947277823965807, 0.0007084993439043138, 0.431664932206076, 0.03808808225347729, 0.12188186321112733, 0.030470465802781833, 0.06855854805625912, 0.040627287737042446, 0.002539205483565153, 0.007617616450695458, 0.06348013708912882, 0.1777443838495607, 0.015235232901390916, 0.9098678323476793, 0.07998838086573005, 0.9934356746838019, 0.42188461309161385, 0.032245957688530995, 0.02149730512568733, 0.018810141984976412, 0.10748652562843665, 0.30902376118175534, 0.010748652562843665, 0.07255340479919474, 0.08089145102531932, 0.11459622228586903, 0.4314210721350364, 0.36401152961393696, 0.04134871574378464, 0.6753623571484825, 0.06891452623964107, 0.13093759985531803, 0.08269743148756928, 0.9926477933652, 0.9732188989684418, 0.9814701289226838, 0.026827403555294973, 0.6916804481865182, 0.0023328177004604323, 0.026827403555294973, 0.011664088502302161, 0.18429259833637415, 0.01516331505299281, 0.020995359304143892, 0.019828950453913675, 0.9465551542538504, 0.723724774203592, 0.23068727177739498, 0.018093119355089803, 0.015831479435703576, 0.011308199596931126, 0.18577620227090544, 0.7895488596513481, 0.9882621387535161, 0.8955312019978087, 0.096576894333097, 0.1951384875368941, 0.7927501056186322, 0.2270202676507609, 0.04540405353015217, 0.007567342255025362, 0.6734934606972572, 0.03026936902010145, 0.987792274861149, 0.20076051139072346, 0.09165153780880853, 0.09165153780880853, 0.248768459766766, 0.02618615365965958, 0.01309307682982979, 0.27931897236970216, 0.043643589432765965, 0.9837181949113226, 0.9732412984469523, 0.6481274674573381, 0.1758125538402627, 0.0005802394516180288, 0.0667275369360733, 0.01392574683883269, 0.002320957806472115, 0.0011604789032360575, 0.0034814367097081725, 0.056863466258566815, 0.025530535871193263, 0.005222155064562258, 0.0227636291083097, 0.034145443662464546, 0.8915754734087965, 0.0455272582166194, 0.9337044368286543, 0.05745873457407103, 0.2464382759832488, 0.7508666221364612, 0.9849195743567525, 0.6549326735378539, 0.05691480412356665, 0.030519532645970522, 0.06722545704450264, 0.03423136769750748, 0.004949113402049274, 0.06763788316134008, 0.004536687285211834, 0.014022487972472943, 0.036293498281694675, 0.012785209621960624, 0.014847340206147822, 0.0004124261168374395, 0.000824852233674879, 0.2150363189369546, 0.06451089568108638, 0.63973304883744, 0.025087570542644703, 0.04838317176081479, 0.005375907973423865, 0.15400062667905837, 0.042000170912470464, 0.7420030194536449, 0.05600022788329395, 0.8861226907369515, 0.06329447790978225, 0.009993864933123512, 0.03997545973249405, 0.9909940106457772, 0.43753572638353244, 0.5617012703572376, 0.94971508269188, 0.03274879595489241, 0.10279049802675017, 0.8970807100516378, 0.5485036467036407, 0.0033963074099296634, 0.4474635012582332, 0.4424190869406655, 0.019663070530696245, 0.5309029043287986, 0.9156689897872864, 0.07283730600580687, 0.980735271137154, 0.9941888635951149, 0.010226335653088852, 0.030679006959266553, 0.9561623835638076, 0.9959049186099668, 0.9947741491882681, 0.981353374668252, 0.9627483188691385, 0.34424256873918896, 0.4637317248304777, 0.03413975888322535, 0.02844979906935446, 0.13086907571903053, 0.3900203667570506, 0.10652538651514157, 0.03436302790811018, 0.0034363027908110183, 0.02061781674486611, 0.3728388528029955, 0.012027059767838565, 0.012027059767838565, 0.04810823907135426, 0.6306001793422139, 0.01932874112926326, 0.012080463205789538, 0.012080463205789538, 0.29476330222126473, 0.007248277923473723, 0.026577019052736982, 0.4345326992419759, 0.1611676202609326, 0.039672029602691096, 0.19154151792549295, 0.009298131938130725, 0.017356512951177357, 0.0006198754625420484, 0.0030993773127102418, 0.0024795018501681935, 0.09794032308164365, 0.01611676202609326, 0.025414893964223983, 0.9932942202645227, 0.5271350932964398, 0.04392792444136998, 0.05981674817548253, 0.15047650712894822, 0.04392792444136998, 0.007477093521935316, 0.10467930930709442, 0.03551619422919275, 0.026169827326773604, 0.726083712791303, 0.11715359027469475, 0.008392090993889309, 0.05236664780186929, 0.0021819436584112205, 0.018294758366678692, 0.035750307633968456, 0.0005035254596333585, 0.02198727840398999, 0.0097348255529116, 0.004028203677066868, 0.00352467821743351, 0.8484190455904745, 0.02175433450231986, 0.04350866900463972, 0.00155388103587999, 0.00466164310763997, 0.00155388103587999, 0.01864657243055988, 0.05438583625579965, 0.00466164310763997, 0.9794575663844817, 0.9934583514836757, 0.9565399687646744, 0.976886295897415, 0.8881869569202342, 0.1076590250812405, 0.9876290100811229, 0.9570155410433452, 0.20757248406704232, 0.7910194663095397, 0.9538243333971558, 0.9802472148134124, 0.956299036259633, 0.9850100118783934, 0.08884925227079446, 0.23622618659298528, 0.041604014952197406, 0.028911264627798198, 0.0007051527957999561, 0.4061680103807747, 0.06346375162199605, 0.1269275032439921, 0.007051527957999561, 0.45046196470726196, 0.07308819957170806, 0.06563022002357459, 0.1081407034479354, 0.04027308955992077, 0.10739490549312206, 0.03803569569548073, 0.002237393864440043, 0.03057771614734725, 0.029831918192533904, 0.052951654791747675, 0.1528158828135583, 0.8252057671932148, 0.053895444373122034, 0.21917480711736292, 0.11497694799599367, 0.26947722186561013, 0.11497694799599367, 0.01796514812437401, 0.20120965899298893, 0.0035930296248748023, 0.9752303008186092, 0.9917278638551511, 0.9722127284354248, 0.9647407318689438, 0.9463686582543168], \"Term\": [\"absolute\", \"absolute\", \"accelerator\", \"accelerator\", \"accelerators\", \"accidents\", \"acquired\", \"acquired\", \"acquired\", \"adaptec\", \"adapter\", \"administration\", \"administration\", \"administration\", \"admit\", \"admit\", \"adobe\", \"advance\", \"advance\", \"advance\", \"advance\", \"advance\", \"advance\", \"advance\", \"aerospace\", \"african\", \"aged\", \"agencies\", \"agencies\", \"agree\", \"agree\", \"agree\", \"agrep\", \"aids\", \"aids\", \"albicans\", \"alcohol\", \"alcohol\", \"algorithm\", \"algorithm\", \"algorithm\", \"algorithm\", \"algorithm\", \"algorithm\", \"algorythm\", \"allocation\", \"alomar\", \"also\", \"also\", \"also\", \"also\", \"also\", \"also\", \"also\", \"also\", \"also\", \"also\", \"also\", \"also\", \"also\", \"also\", \"also\", \"also\", \"aluminum\", \"aluminum\", \"amendment\", \"amendment\", \"american\", \"american\", \"american\", \"american\", \"american\", \"american\", \"american\", \"american\", \"amiga\", \"among\", \"among\", \"among\", \"among\", \"among\", \"among\", \"among\", \"among\", \"among\", \"among\", \"amongst\", \"anon\", \"anonymity\", \"anonymous\", \"anonymous\", \"anonymous\", \"anonymous\", \"anyone\", \"anyone\", \"anyone\", \"anyone\", \"anyone\", \"anyone\", \"anyone\", \"anyone\", \"apartment\", \"appears\", \"appears\", \"appears\", \"appears\", \"appears\", \"appears\", \"appears\", \"apple\", \"apple\", \"apple\", \"apple\", \"apple\", \"application\", \"application\", \"application\", \"application\", \"application\", \"application\", \"application\", \"appreciated\", \"appreciated\", \"appreciated\", \"appreciated\", \"appreciated\", \"april\", \"april\", \"april\", \"april\", \"april\", \"april\", \"april\", \"april\", \"april\", \"april\", \"arab\", \"arab\", \"arafat\", \"arena\", \"argentina\", \"argic\", \"argue\", \"arguing\", \"argument\", \"argument\", \"armenia\", \"armenian\", \"armenians\", \"arms\", \"arms\", \"arms\", \"arms\", \"army\", \"army\", \"army\", \"army\", \"asala\", \"asking\", \"asking\", \"asking\", \"aspi\", \"assault\", \"assault\", \"assault\", \"assumption\", \"astronaut\", \"astronomical\", \"astronomy\", \"astronomy\", \"atheism\", \"atheism\", \"atheists\", \"atmosphere\", \"atmosphere\", \"attack\", \"attack\", \"attack\", \"attack\", \"attack\", \"attorney\", \"attorney\", \"aunt\", \"auth\", \"authentication\", \"author\", \"author\", \"author\", \"author\", \"author\", \"author\", \"auto\", \"auto\", \"auto\", \"autoexec\", \"autos\", \"autos\", \"available\", \"available\", \"available\", \"available\", \"available\", \"available\", \"available\", \"available\", \"avenue\", \"avenue\", \"avenue\", \"aviation\", \"awards\", \"azerbaijan\", \"azerbaijani\", \"azerbaijanis\", \"azeri\", \"azeris\", \"babies\", \"back\", \"back\", \"back\", \"back\", \"back\", \"back\", \"back\", \"back\", \"back\", \"back\", \"back\", \"backup\", \"backup\", \"bacteria\", \"baerga\", \"baku\", \"ball\", \"ball\", \"balloon\", \"baltimore\", \"baltimore\", \"bandwidth\", \"bandwidth\", \"banks\", \"banks\", \"baseball\", \"baseball\", \"baseball\", \"based\", \"based\", \"based\", \"based\", \"based\", \"based\", \"based\", \"bassel\", \"bear\", \"bear\", \"bedroom\", \"belief\", \"belief\", \"believe\", \"believe\", \"believe\", \"believe\", \"believe\", \"believe\", \"believe\", \"believing\", \"best\", \"best\", \"best\", \"best\", \"best\", \"best\", \"best\", \"best\", \"best\", \"better\", \"better\", \"better\", \"better\", \"better\", \"better\", \"better\", \"better\", \"better\", \"better\", \"bhjn\", \"bible\", \"bible\", \"biblical\", \"bicycle\", \"bike\", \"bikes\", \"bikes\", \"bios\", \"bits\", \"bits\", \"bits\", \"bits\", \"bits\", \"blame\", \"block\", \"block\", \"block\", \"block\", \"block\", \"block\", \"block\", \"blocks\", \"blocks\", \"blocks\", \"blood\", \"blood\", \"blood\", \"blood\", \"blood\", \"blues\", \"blues\", \"board\", \"board\", \"board\", \"board\", \"board\", \"book\", \"book\", \"book\", \"book\", \"book\", \"book\", \"book\", \"book\", \"books\", \"books\", \"books\", \"books\", \"books\", \"books\", \"books\", \"books\", \"boot\", \"borland\", \"borland\", \"bosnia\", \"boston\", \"boston\", \"boston\", \"boston\", \"brake\", \"braves\", \"breaker\", \"bronx\", \"brown\", \"brown\", \"brown\", \"brown\", \"brown\", \"brown\", \"bruins\", \"buffalo\", \"buffalo\", \"buffalo\", \"buffalo\", \"build\", \"build\", \"build\", \"build\", \"build\", \"build\", \"build\", \"builder\", \"bullock\", \"burned\", \"burned\", \"button\", \"button\", \"bxlt\", \"bxom\", \"byte\", \"byte\", \"byte\", \"byte\", \"bytes\", \"bytes\", \"bytes\", \"bytes\", \"bytes\", \"bytes\", \"cable\", \"cable\", \"cables\", \"cache\", \"cache\", \"cadre\", \"calgary\", \"calgary\", \"call\", \"call\", \"call\", \"call\", \"call\", \"call\", \"call\", \"call\", \"call\", \"call\", \"call\", \"call\", \"callback\", \"came\", \"came\", \"came\", \"came\", \"came\", \"came\", \"canadiens\", \"cancer\", \"candida\", \"capitalist\", \"card\", \"card\", \"card\", \"carry\", \"carry\", \"carry\", \"carry\", \"carry\", \"cars\", \"cars\", \"cars\", \"catholic\", \"cdrom\", \"center\", \"center\", \"center\", \"center\", \"center\", \"centris\", \"centris\", \"certainly\", \"certainly\", \"certainly\", \"certainly\", \"challenges\", \"char\", \"chastity\", \"check\", \"check\", \"check\", \"check\", \"check\", \"check\", \"check\", \"check\", \"check\", \"check\", \"chelios\", \"chicago\", \"chicago\", \"chicago\", \"chicago\", \"chicago\", \"children\", \"children\", \"children\", \"children\", \"children\", \"chip\", \"chip\", \"chips\", \"chips\", \"chips\", \"chipset\", \"christ\", \"christian\", \"christian\", \"christian\", \"christian\", \"christianity\", \"christians\", \"christians\", \"church\", \"church\", \"chzd\", \"chzv\", \"cincinnati\", \"ciphertext\", \"circuit\", \"circuit\", \"circuits\", \"city\", \"city\", \"city\", \"city\", \"city\", \"city\", \"city\", \"city\", \"civic\", \"claim\", \"claim\", \"classified\", \"clause\", \"clearly\", \"clearly\", \"clearly\", \"clemens\", \"client\", \"client\", \"client\", \"clients\", \"clients\", \"clinical\", \"clinton\", \"clinton\", \"clip\", \"clipper\", \"clubbing\", \"cluster\", \"cmap\", \"cmos\", \"coach\", \"code\", \"code\", \"code\", \"code\", \"code\", \"code\", \"code\", \"code\", \"coding\", \"coffey\", \"coli\", \"collaboration\", \"collision\", \"colony\", \"color\", \"color\", \"colormap\", \"colours\", \"cols\", \"come\", \"come\", \"come\", \"come\", \"come\", \"come\", \"come\", \"come\", \"come\", \"come\", \"comet\", \"comic\", \"comics\", \"commercial\", \"commercial\", \"commercial\", \"commercial\", \"comp\", \"comp\", \"comp\", \"compass\", \"compensate\", \"compressed\", \"computer\", \"computer\", \"computer\", \"computer\", \"computer\", \"computer\", \"concealed\", \"concealed\", \"conclusion\", \"condition\", \"condition\", \"condition\", \"condition\", \"condition\", \"condition\", \"condition\", \"conductor\", \"confidential\", \"config\", \"config\", \"congress\", \"congress\", \"congress\", \"connected\", \"connected\", \"connected\", \"connected\", \"connected\", \"connected\", \"connection\", \"connection\", \"connection\", \"connection\", \"connection\", \"connection\", \"connection\", \"connection\", \"connector\", \"console\", \"contact\", \"contact\", \"contact\", \"contact\", \"contact\", \"contact\", \"contact\", \"contact\", \"contact\", \"contains\", \"contains\", \"contains\", \"contains\", \"contains\", \"contains\", \"contains\", \"contest\", \"contrib\", \"control\", \"control\", \"control\", \"control\", \"control\", \"control\", \"control\", \"control\", \"control\", \"control\", \"controller\", \"convicted\", \"convince\", \"cooper\", \"copies\", \"copies\", \"copies\", \"copies\", \"copies\", \"copies\", \"copper\", \"coprocessor\", \"corn\", \"cost\", \"cost\", \"cost\", \"cost\", \"cost\", \"cost\", \"cost\", \"cost\", \"cost\", \"could\", \"could\", \"could\", \"could\", \"could\", \"could\", \"could\", \"could\", \"could\", \"could\", \"could\", \"countersteering\", \"course\", \"course\", \"course\", \"course\", \"course\", \"course\", \"course\", \"course\", \"course\", \"course\", \"court\", \"court\", \"court\", \"courtnall\", \"cover\", \"cover\", \"cover\", \"cover\", \"cover\", \"cover\", \"crime\", \"crime\", \"crime\", \"crime\", \"criminal\", \"criminal\", \"criminal\", \"criminal\", \"criminals\", \"criminals\", \"criminals\", \"crypt\", \"crypt\", \"cryptanalysis\", \"crypto\", \"cryptography\", \"cryptosystem\", \"cryptosystems\", \"ctrl\", \"cubs\", \"cure\", \"current\", \"current\", \"current\", \"current\", \"current\", \"current\", \"current\", \"current\", \"current\", \"current\", \"current\", \"current\", \"current\", \"cursor\", \"cview\", \"cyprus\", \"darkness\", \"data\", \"data\", \"data\", \"data\", \"data\", \"data\", \"data\", \"deaf\", \"death\", \"death\", \"death\", \"death\", \"death\", \"debugger\", \"declined\", \"decryption\", \"default\", \"default\", \"default\", \"default\", \"defaults\", \"defense\", \"defense\", \"defense\", \"defense\", \"defense\", \"defense\", \"defenseman\", \"defenseman\", \"deficit\", \"denver\", \"desktop\", \"desktop\", \"desperate\", \"detector\", \"detector\", \"detectors\", \"detroit\", \"detroit\", \"developer\", \"development\", \"development\", \"development\", \"development\", \"development\", \"development\", \"diagnosed\", \"diagnosis\", \"dial\", \"dialog\", \"diamond\", \"diet\", \"digest\", \"directory\", \"directory\", \"directory\", \"directory\", \"disagree\", \"disciples\", \"disease\", \"disease\", \"diseases\", \"disk\", \"disk\", \"disk\", \"disks\", \"disks\", \"display\", \"display\", \"display\", \"display\", \"displayed\", \"displayed\", \"divine\", \"divine\", \"division\", \"division\", \"division\", \"division\", \"division\", \"division\", \"division\", \"docs\", \"doctor\", \"doctor\", \"doctor\", \"doctor\", \"doctors\", \"doctors\", \"doctors\", \"doctrine\", \"doctrine\", \"dodgers\", \"dortmund\", \"doses\", \"doubt\", \"doubt\", \"doubt\", \"drive\", \"drive\", \"drives\", \"drugs\", \"drugs\", \"drugs\", \"earth\", \"earth\", \"earth\", \"earth\", \"earth\", \"easter\", \"easter\", \"echl\", \"edmonton\", \"edmonton\", \"eggs\", \"eisa\", \"electrical\", \"electrical\", \"electrical\", \"electrical\", \"emacs\", \"email\", \"email\", \"email\", \"email\", \"email\", \"email\", \"email\", \"email\", \"encryption\", \"enemies\", \"energy\", \"energy\", \"energy\", \"energy\", \"energy\", \"enforcement\", \"enough\", \"enough\", \"enough\", \"enough\", \"enough\", \"enough\", \"enough\", \"enough\", \"enough\", \"entirety\", \"entries\", \"entry\", \"entry\", \"entry\", \"eqtm\", \"error\", \"error\", \"error\", \"error\", \"error\", \"errors\", \"errors\", \"errors\", \"errors\", \"errors\", \"errors\", \"erzurum\", \"erzurum\", \"erzurum\", \"escrow\", \"espn\", \"eternal\", \"eternal\", \"ethernet\", \"eugenics\", \"even\", \"even\", \"even\", \"even\", \"even\", \"even\", \"even\", \"even\", \"even\", \"even\", \"even\", \"every\", \"every\", \"every\", \"every\", \"every\", \"every\", \"every\", \"every\", \"every\", \"every\", \"every\", \"evidence\", \"excellent\", \"excellent\", \"excellent\", \"excellent\", \"excellent\", \"excellent\", \"exhaust\", \"exit\", \"exit\", \"explain\", \"explain\", \"explorer\", \"export\", \"export\", \"expose\", \"expose\", \"expose\", \"external\", \"external\", \"external\", \"external\", \"external\", \"facilities\", \"facilities\", \"facilities\", \"fact\", \"fact\", \"fact\", \"fact\", \"fact\", \"fact\", \"fact\", \"fact\", \"faith\", \"faith\", \"family\", \"family\", \"family\", \"family\", \"family\", \"family\", \"family\", \"family\", \"family\", \"family\", \"fans\", \"fans\", \"father\", \"father\", \"federal\", \"federal\", \"feel\", \"feel\", \"feel\", \"feel\", \"feel\", \"feel\", \"festival\", \"fijh\", \"file\", \"file\", \"file\", \"file\", \"filed\", \"filename\", \"files\", \"files\", \"files\", \"files\", \"financial\", \"firearm\", \"firearms\", \"first\", \"first\", \"first\", \"first\", \"first\", \"first\", \"first\", \"first\", \"first\", \"first\", \"first\", \"first\", \"first\", \"first\", \"first\", \"first\", \"first\", \"flames\", \"flames\", \"flames\", \"flames\", \"flaws\", \"floppies\", \"floppy\", \"following\", \"following\", \"following\", \"following\", \"following\", \"following\", \"following\", \"following\", \"following\", \"following\", \"following\", \"following\", \"following\", \"following\", \"following\", \"font\", \"font\", \"font\", \"font\", \"fonts\", \"fonts\", \"food\", \"food\", \"food\", \"foods\", \"forged\", \"format\", \"format\", \"format\", \"formats\", \"formats\", \"forsale\", \"forwards\", \"fprintf\", \"francis\", \"francis\", \"freeware\", \"front\", \"front\", \"front\", \"front\", \"front\", \"front\", \"front\", \"fuhr\", \"fuse\", \"fusion\", \"fuzzy\", \"gainey\", \"galileo\", \"game\", \"game\", \"game\", \"game\", \"games\", \"games\", \"gaza\", \"gear\", \"gear\", \"generates\", \"genocide\", \"georgia\", \"georgia\", \"georgia\", \"gerard\", \"gfci\", \"gifts\", \"gilmour\", \"gilmour\", \"gilmour\", \"gizw\", \"gizwt\", \"glutamate\", \"goalie\", \"going\", \"going\", \"going\", \"going\", \"going\", \"going\", \"going\", \"going\", \"going\", \"gonorrhea\", \"good\", \"good\", \"good\", \"good\", \"good\", \"good\", \"good\", \"good\", \"good\", \"good\", \"good\", \"gordon\", \"gospel\", \"government\", \"government\", \"government\", \"government\", \"government\", \"granato\", \"graphic\", \"graphics\", \"great\", \"great\", \"great\", \"great\", \"great\", \"great\", \"great\", \"great\", \"great\", \"great\", \"great\", \"great\", \"greece\", \"greek\", \"greek\", \"green\", \"green\", \"green\", \"green\", \"green\", \"gretzky\", \"ground\", \"ground\", \"ground\", \"ground\", \"ground\", \"grounded\", \"grounding\", \"guide\", \"guide\", \"guide\", \"guide\", \"guidelines\", \"guilty\", \"guns\", \"handgun\", \"handguns\", \"handler\", \"hard\", \"hard\", \"hard\", \"hard\", \"hard\", \"hawks\", \"hawks\", \"headaches\", \"health\", \"health\", \"heat\", \"heat\", \"heat\", \"heaven\", \"heaven\", \"hellman\", \"helmet\", \"help\", \"help\", \"help\", \"help\", \"help\", \"help\", \"help\", \"help\", \"help\", \"help\", \"help\", \"henrik\", \"hicnet\", \"high\", \"high\", \"high\", \"high\", \"high\", \"high\", \"high\", \"high\", \"high\", \"high\", \"high\", \"high\", \"high\", \"hitter\", \"hockey\", \"hojali\", \"holy\", \"holy\", \"homicide\", \"homicides\", \"homosexuality\", \"homosexuals\", \"horror\", \"hostname\", \"hrudey\", \"hulk\", \"hull\", \"icon\", \"icons\", \"ieee\", \"illness\", \"illness\", \"image\", \"image\", \"image\", \"images\", \"images\", \"images\", \"images\", \"images\", \"imake\", \"imakefile\", \"immune\", \"implicated\", \"imply\", \"include\", \"include\", \"include\", \"include\", \"include\", \"include\", \"include\", \"include\", \"include\", \"include\", \"include\", \"include\", \"included\", \"included\", \"included\", \"included\", \"included\", \"included\", \"included\", \"included\", \"included\", \"increased\", \"increased\", \"increased\", \"increased\", \"increased\", \"increased\", \"indians\", \"indians\", \"infection\", \"infection\", \"infections\", \"infections\", \"inflammatory\", \"info\", \"info\", \"info\", \"info\", \"info\", \"information\", \"information\", \"information\", \"information\", \"information\", \"information\", \"information\", \"information\", \"infrared\", \"init\", \"initiative\", \"initiative\", \"injury\", \"injury\", \"injury\", \"injury\", \"inspection\", \"inspector\", \"installations\", \"institute\", \"institute\", \"institute\", \"institute\", \"institute\", \"institute\", \"insurance\", \"insurance\", \"insurance\", \"insurance\", \"insurance\", \"intake\", \"intellect\", \"intentional\", \"interested\", \"interested\", \"interested\", \"interested\", \"interested\", \"interested\", \"interested\", \"interested\", \"internal\", \"internal\", \"internal\", \"internal\", \"internal\", \"internal\", \"internal\", \"internal\", \"internal\", \"intrinsics\", \"invalid\", \"ioccc\", \"iraqi\", \"irbe\", \"ireland\", \"islam\", \"islam\", \"israel\", \"israel\", \"israeli\", \"israelis\", \"istanbul\", \"items\", \"items\", \"items\", \"items\", \"items\", \"items\", \"items\", \"jacket\", \"jesus\", \"jets\", \"jets\", \"jewish\", \"jewish\", \"jewish\", \"jewish\", \"jews\", \"jews\", \"jobs\", \"jobs\", \"jobs\", \"john\", \"john\", \"john\", \"john\", \"john\", \"john\", \"john\", \"john\", \"john\", \"john\", \"john\", \"john\", \"john\", \"john\", \"jpeg\", \"jpwu\", \"judas\", \"judges\", \"judges\", \"judges\", \"jumped\", \"jumper\", \"jumpers\", \"jupiter\", \"kansas\", \"karabakh\", \"karina\", \"keyboard\", \"keyboard\", \"keys\", \"keys\", \"keys\", \"killed\", \"killed\", \"killed\", \"kings\", \"kings\", \"kings\", \"kings\", \"kirlian\", \"kits\", \"knife\", \"knife\", \"know\", \"know\", \"know\", \"know\", \"know\", \"know\", \"know\", \"know\", \"know\", \"known\", \"known\", \"known\", \"known\", \"known\", \"known\", \"known\", \"known\", \"known\", \"kong\", \"koresh\", \"kurds\", \"lafontaine\", \"landon\", \"laptop\", \"large\", \"large\", \"large\", \"large\", \"large\", \"large\", \"large\", \"large\", \"large\", \"large\", \"large\", \"last\", \"last\", \"last\", \"last\", \"last\", \"last\", \"last\", \"last\", \"last\", \"last\", \"last\", \"last\", \"last\", \"launch\", \"launches\", \"lawrence\", \"laws\", \"laws\", \"laws\", \"league\", \"league\", \"league\", \"lebanese\", \"left\", \"left\", \"left\", \"left\", \"left\", \"left\", \"left\", \"left\", \"legal\", \"legal\", \"legal\", \"legal\", \"lens\", \"liar\", \"libxmu\", \"life\", \"life\", \"life\", \"life\", \"light\", \"light\", \"light\", \"light\", \"light\", \"light\", \"light\", \"light\", \"light\", \"like\", \"like\", \"like\", \"like\", \"like\", \"like\", \"like\", \"like\", \"like\", \"like\", \"like\", \"like\", \"line\", \"line\", \"line\", \"line\", \"line\", \"line\", \"line\", \"line\", \"line\", \"line\", \"line\", \"line\", \"linked\", \"linked\", \"linked\", \"linux\", \"list\", \"list\", \"list\", \"list\", \"list\", \"list\", \"list\", \"list\", \"list\", \"list\", \"list\", \"list\", \"listserv\", \"login\", \"long\", \"long\", \"long\", \"long\", \"long\", \"long\", \"long\", \"long\", \"long\", \"long\", \"long\", \"long\", \"long\", \"looking\", \"looking\", \"looking\", \"looking\", \"looking\", \"looking\", \"looking\", \"looking\", \"looking\", \"lopez\", \"lord\", \"louis\", \"louis\", \"louis\", \"louis\", \"lssu\", \"luke\", \"lunar\", \"lunar\", \"lyme\", \"machines\", \"machines\", \"machines\", \"macinnis\", \"macintosh\", \"macintosh\", \"macs\", \"made\", \"made\", \"made\", \"made\", \"made\", \"made\", \"made\", \"made\", \"made\", \"made\", \"made\", \"made\", \"mail\", \"mail\", \"mail\", \"mail\", \"mail\", \"mail\", \"mail\", \"mail\", \"mail\", \"mail\", \"mail\", \"mailer\", \"maine\", \"maine\", \"make\", \"make\", \"make\", \"make\", \"make\", \"make\", \"make\", \"make\", \"make\", \"make\", \"make\", \"make\", \"makefile\", \"males\", \"mamma\", \"manager\", \"manager\", \"manager\", \"manager\", \"manager\", \"manual\", \"manual\", \"manual\", \"manual\", \"manuals\", \"manuals\", \"manuals\", \"many\", \"many\", \"many\", \"many\", \"many\", \"many\", \"many\", \"many\", \"many\", \"many\", \"many\", \"many\", \"many\", \"marriage\", \"mars\", \"mary\", \"mary\", \"mary\", \"mass\", \"mass\", \"mass\", \"mass\", \"matthew\", \"maxbyte\", \"mbxn\", \"mean\", \"mean\", \"mean\", \"mean\", \"mean\", \"mean\", \"meant\", \"meant\", \"meant\", \"medical\", \"medical\", \"medicine\", \"medicine\", \"medicine\", \"memory\", \"memory\", \"memory\", \"memory\", \"memory\", \"menu\", \"menu\", \"merely\", \"messenger\", \"messiah\", \"metal\", \"metal\", \"meters\", \"methanol\", \"mets\", \"micro\", \"might\", \"might\", \"might\", \"might\", \"might\", \"might\", \"might\", \"might\", \"might\", \"migraine\", \"military\", \"military\", \"military\", \"military\", \"military\", \"military\", \"militia\", \"mime\", \"minnesota\", \"minnesota\", \"minnesota\", \"minnesota\", \"minnesota\", \"mint\", \"misc\", \"misc\", \"misc\", \"misc\", \"misc\", \"misc\", \"misc\", \"misc\", \"mission\", \"mission\", \"mission\", \"mkentry\", \"mmwr\", \"model\", \"model\", \"model\", \"model\", \"model\", \"model\", \"model\", \"model\", \"model\", \"modem\", \"modem\", \"molecular\", \"moncton\", \"monitor\", \"monitor\", \"monitor\", \"monthly\", \"montreal\", \"moon\", \"moon\", \"moon\", \"moon\", \"moral\", \"morality\", \"mormon\", \"morris\", \"motherboard\", \"motif\", \"motif\", \"motif\", \"motif\", \"motorcycle\", \"motorcycles\", \"motorcycles\", \"motorcycles\", \"motorola\", \"motorola\", \"mounting\", \"mouse\", \"mouse\", \"mouse\", \"mpeg\", \"much\", \"much\", \"much\", \"much\", \"much\", \"much\", \"much\", \"much\", \"much\", \"much\", \"much\", \"murphy\", \"murphy\", \"murray\", \"muscles\", \"muslim\", \"muslim\", \"must\", \"must\", \"must\", \"must\", \"must\", \"must\", \"must\", \"must\", \"must\", \"must\", \"must\", \"must\", \"must\", \"mwra\", \"myers\", \"myers\", \"name\", \"name\", \"name\", \"name\", \"name\", \"name\", \"name\", \"name\", \"name\", \"name\", \"name\", \"name\", \"nasa\", \"nasa\", \"nasa\", \"national\", \"national\", \"national\", \"national\", \"national\", \"national\", \"national\", \"national\", \"navy\", \"navy\", \"nazi\", \"nazi\", \"ncsa\", \"ncsl\", \"need\", \"need\", \"need\", \"need\", \"need\", \"need\", \"need\", \"need\", \"need\", \"need\", \"need\", \"nerves\", \"neutral\", \"neutral\", \"neutral\", \"never\", \"never\", \"never\", \"never\", \"never\", \"never\", \"never\", \"never\", \"never\", \"never\", \"never\", \"news\", \"news\", \"news\", \"news\", \"news\", \"news\", \"news\", \"news\", \"news\", \"newsletter\", \"newsletter\", \"newsletter\", \"nights\", \"nights\", \"nist\", \"nkjz\", \"noll\", \"nords\", \"norris\", \"nothing\", \"nothing\", \"nothing\", \"nothing\", \"nothing\", \"nothing\", \"nothing\", \"nothing\", \"novell\", \"novell\", \"nrhj\", \"nriz\", \"nrizwt\", \"nubus\", \"nubus\", \"nuclear\", \"nuclear\", \"nuclear\", \"nuclear\", \"null\", \"null\", \"number\", \"number\", \"number\", \"number\", \"number\", \"number\", \"number\", \"number\", \"number\", \"number\", \"number\", \"number\", \"number\", \"obfuscate\", \"obfuscate\", \"obfuscated\", \"obscure\", \"observatory\", \"offer\", \"offer\", \"offer\", \"offer\", \"offer\", \"offer\", \"offers\", \"offers\", \"offers\", \"offers\", \"offers\", \"offers\", \"olwm\", \"oname\", \"open\", \"open\", \"open\", \"open\", \"open\", \"open\", \"open\", \"open\", \"open\", \"open\", \"open\", \"openwindows\", \"openwindows\", \"operations\", \"operations\", \"operations\", \"operations\", \"opinion\", \"opinion\", \"opinion\", \"orbit\", \"orbit\", \"orbiter\", \"orbiter\", \"orbiting\", \"orbits\", \"organisation\", \"original\", \"original\", \"original\", \"original\", \"original\", \"original\", \"original\", \"original\", \"orthodox\", \"otto\", \"ottoman\", \"outbreak\", \"outlet\", \"outlet\", \"outlet\", \"outlets\", \"outline\", \"output\", \"output\", \"output\", \"output\", \"ozone\", \"package\", \"package\", \"package\", \"packages\", \"packages\", \"packages\", \"page\", \"page\", \"page\", \"page\", \"page\", \"page\", \"page\", \"page\", \"page\", \"pain\", \"pain\", \"palestinian\", \"paperback\", \"paradox\", \"part\", \"part\", \"part\", \"part\", \"part\", \"part\", \"part\", \"part\", \"part\", \"part\", \"part\", \"part\", \"part\", \"particle\", \"parts\", \"parts\", \"parts\", \"parts\", \"parts\", \"parts\", \"parts\", \"parts\", \"parts\", \"passages\", \"patch\", \"patch\", \"patch\", \"patch\", \"patch\", \"patent\", \"patients\", \"patrick\", \"patrick\", \"patrick\", \"patrick\", \"patrick\", \"paul\", \"paul\", \"paul\", \"paul\", \"paul\", \"paul\", \"paul\", \"paul\", \"paul\", \"payload\", \"pens\", \"people\", \"people\", \"people\", \"people\", \"people\", \"people\", \"people\", \"people\", \"period\", \"period\", \"period\", \"period\", \"period\", \"period\", \"period\", \"period\", \"period\", \"person\", \"person\", \"person\", \"person\", \"person\", \"person\", \"person\", \"person\", \"personally\", \"personally\", \"philadelphia\", \"philadelphia\", \"philadelphia\", \"philadelphia\", \"phillies\", \"phones\", \"phones\", \"phrase\", \"physicist\", \"pick\", \"pick\", \"pick\", \"pick\", \"picture\", \"picture\", \"picture\", \"picture\", \"picture\", \"picture\", \"pins\", \"pitcher\", \"pitchers\", \"pitching\", \"pitt\", \"pitt\", \"pittsburg\", \"pittsburgh\", \"pittsburgh\", \"pittsburgh\", \"pittsburgh\", \"pittsburgh\", \"pixmap\", \"plaintext\", \"planetary\", \"plant\", \"plant\", \"plants\", \"plastic\", \"play\", \"play\", \"play\", \"play\", \"play\", \"play\", \"played\", \"played\", \"played\", \"player\", \"player\", \"player\", \"players\", \"playoff\", \"playoffs\", \"please\", \"please\", \"please\", \"please\", \"please\", \"please\", \"please\", \"please\", \"please\", \"pmfq\", \"pnei\", \"point\", \"point\", \"point\", \"point\", \"point\", \"point\", \"point\", \"point\", \"point\", \"point\", \"point\", \"point\", \"point\", \"pointer\", \"pointers\", \"pointers\", \"points\", \"points\", \"points\", \"points\", \"points\", \"points\", \"points\", \"points\", \"police\", \"police\", \"police\", \"polygon\", \"pope\", \"popup\", \"port\", \"port\", \"port\", \"power\", \"power\", \"power\", \"power\", \"power\", \"power\", \"power\", \"power\", \"power\", \"power\", \"power\", \"powerbook\", \"powerpc\", \"precision\", \"president\", \"presumably\", \"presumably\", \"presumably\", \"prevalence\", \"prevention\", \"prevention\", \"price\", \"price\", \"price\", \"price\", \"price\", \"price\", \"price\", \"price\", \"printer\", \"printer\", \"printers\", \"printf\", \"printf\", \"prints\", \"prisoners\", \"prisoners\", \"privacy\", \"private\", \"private\", \"private\", \"probert\", \"problem\", \"problem\", \"problem\", \"problem\", \"problem\", \"problem\", \"problem\", \"problem\", \"problem\", \"problem\", \"problems\", \"problems\", \"problems\", \"problems\", \"problems\", \"problems\", \"problems\", \"problems\", \"problems\", \"problems\", \"problems\", \"proceedings\", \"proceedings\", \"processing\", \"processing\", \"processing\", \"prog\", \"program\", \"program\", \"program\", \"program\", \"program\", \"program\", \"program\", \"projects\", \"projects\", \"promo\", \"prompt\", \"prong\", \"prophecy\", \"prophet\", \"proposal\", \"proposal\", \"propulsion\", \"propulsion\", \"protection\", \"protection\", \"protection\", \"protection\", \"protection\", \"providence\", \"pseudo\", \"public\", \"public\", \"public\", \"public\", \"public\", \"public\", \"puck\", \"qemm\", \"quadra\", \"quadra\", \"quebec\", \"queen\", \"question\", \"question\", \"question\", \"question\", \"question\", \"question\", \"question\", \"question\", \"quicktime\", \"quote\", \"radar\", \"radar\", \"random\", \"random\", \"random\", \"rangers\", \"rangers\", \"raster\", \"rate\", \"rate\", \"rate\", \"rate\", \"rate\", \"rather\", \"rather\", \"rather\", \"rather\", \"rather\", \"rather\", \"rather\", \"rather\", \"rather\", \"rchz\", \"reactions\", \"really\", \"really\", \"really\", \"really\", \"really\", \"really\", \"really\", \"really\", \"rear\", \"rear\", \"reason\", \"reason\", \"reason\", \"reason\", \"reason\", \"reason\", \"reason\", \"reasoning\", \"rectangle\", \"rectangular\", \"redraw\", \"regulated\", \"reilly\", \"reilly\", \"remark\", \"remark\", \"reported\", \"reported\", \"reported\", \"reported\", \"reported\", \"reported\", \"reported\", \"reported\", \"reported\", \"republic\", \"republicans\", \"request\", \"request\", \"request\", \"request\", \"request\", \"requests\", \"requests\", \"research\", \"research\", \"research\", \"research\", \"research\", \"research\", \"research\", \"resource\", \"resource\", \"resource\", \"resource\", \"restraint\", \"resurrection\", \"retail\", \"revelation\", \"revolver\", \"ride\", \"ride\", \"ride\", \"rider\", \"riders\", \"rides\", \"riding\", \"right\", \"right\", \"right\", \"right\", \"right\", \"right\", \"right\", \"right\", \"right\", \"right\", \"right\", \"rights\", \"rights\", \"rights\", \"rights\", \"rights\", \"ripem\", \"risc\", \"rkba\", \"rlhz\", \"road\", \"road\", \"road\", \"road\", \"road\", \"road\", \"road\", \"robert\", \"robert\", \"robert\", \"robert\", \"robert\", \"robert\", \"robert\", \"roberts\", \"rockefeller\", \"rockies\", \"roenick\", \"rounds\", \"routines\", \"routines\", \"rows\", \"rsaref\", \"rules\", \"rules\", \"rules\", \"runner\", \"running\", \"running\", \"running\", \"running\", \"running\", \"running\", \"running\", \"running\", \"running\", \"running\", \"running\", \"runs\", \"runs\", \"runs\", \"runs\", \"runs\", \"runs\", \"russian\", \"russian\", \"sabbath\", \"safety\", \"safety\", \"safety\", \"safety\", \"safety\", \"said\", \"said\", \"said\", \"said\", \"said\", \"said\", \"said\", \"sale\", \"sale\", \"sale\", \"salvation\", \"sandstrom\", \"satan\", \"satellite\", \"satellite\", \"satellites\", \"satellites\", \"saves\", \"saves\", \"saves\", \"saves\", \"saying\", \"saying\", \"saying\", \"saying\", \"science\", \"science\", \"science\", \"scientific\", \"scientific\", \"scientific\", \"scientific\", \"score\", \"score\", \"scored\", \"scorer\", \"scores\", \"screen\", \"screen\", \"screen\", \"scripture\", \"scriptures\", \"scsi\", \"sdpa\", \"season\", \"seat\", \"seat\", \"seat\", \"second\", \"second\", \"second\", \"second\", \"second\", \"second\", \"second\", \"second\", \"second\", \"second\", \"second\", \"second\", \"second\", \"second\", \"secret\", \"secret\", \"secret\", \"secret\", \"secret\", \"secretary\", \"secretary\", \"section\", \"section\", \"section\", \"section\", \"section\", \"section\", \"section\", \"section\", \"secure\", \"secure\", \"secure\", \"security\", \"security\", \"seeds\", \"sega\", \"sell\", \"sell\", \"sell\", \"sell\", \"sell\", \"sell\", \"sell\", \"sell\", \"sell\", \"selling\", \"selling\", \"selling\", \"selling\", \"selling\", \"selling\", \"seminar\", \"senate\", \"senator\", \"send\", \"send\", \"send\", \"send\", \"send\", \"send\", \"send\", \"send\", \"send\", \"send\", \"send\", \"senior\", \"senior\", \"sensing\", \"sentence\", \"serdar\", \"serial\", \"serial\", \"serial\", \"serial\", \"server\", \"server\", \"server\", \"server\", \"server\", \"service\", \"service\", \"service\", \"service\", \"service\", \"service\", \"service\", \"service\", \"service\", \"shaft\", \"shall\", \"shall\", \"shall\", \"shall\", \"shall\", \"shameful\", \"shanahan\", \"shar\", \"shared\", \"shared\", \"shared\", \"shared\", \"shareware\", \"sharks\", \"shell\", \"shell\", \"shell\", \"shipping\", \"shipping\", \"shop\", \"shop\", \"shop\", \"shuttle\", \"shuttle\", \"simm\", \"simms\", \"simtel\", \"since\", \"since\", \"since\", \"since\", \"since\", \"since\", \"since\", \"since\", \"since\", \"since\", \"since\", \"since\", \"since\", \"since\", \"since\", \"sins\", \"size\", \"size\", \"size\", \"size\", \"size\", \"size\", \"size\", \"size\", \"size\", \"size\", \"skepticism\", \"skipjack\", \"slave\", \"slave\", \"sleeve\", \"slots\", \"smokeless\", \"smythe\", \"socket\", \"sockets\", \"software\", \"software\", \"software\", \"software\", \"software\", \"software\", \"solar\", \"solar\", \"solar\", \"solaris\", \"soldiers\", \"soldiers\", \"somalia\", \"something\", \"something\", \"something\", \"something\", \"something\", \"something\", \"something\", \"something\", \"something\", \"sony\", \"soon\", \"soon\", \"soon\", \"soon\", \"soon\", \"soon\", \"soon\", \"soon\", \"soon\", \"soon\", \"source\", \"source\", \"source\", \"source\", \"source\", \"source\", \"source\", \"source\", \"soviet\", \"soviet\", \"soviet\", \"soviet\", \"space\", \"space\", \"spacecraft\", \"speed\", \"speed\", \"speed\", \"speed\", \"speed\", \"speed\", \"speed\", \"spirit\", \"spirit\", \"springfield\", \"ssto\", \"stanley\", \"star\", \"star\", \"star\", \"started\", \"started\", \"started\", \"started\", \"started\", \"started\", \"started\", \"started\", \"state\", \"state\", \"state\", \"state\", \"state\", \"state\", \"state\", \"state\", \"state\", \"state\", \"state\", \"statements\", \"states\", \"states\", \"states\", \"states\", \"states\", \"states\", \"states\", \"station\", \"station\", \"station\", \"station\", \"station\", \"station\", \"station\", \"station\", \"station\", \"stauber\", \"stderr\", \"stdin\", \"steering\", \"steering\", \"stephanopoulos\", \"stereo\", \"stimulus\", \"stream\", \"stream\", \"street\", \"street\", \"street\", \"street\", \"street\", \"street\", \"street\", \"street\", \"string\", \"string\", \"string\", \"studies\", \"studies\", \"studies\", \"studies\", \"studies\", \"studies\", \"study\", \"study\", \"study\", \"study\", \"study\", \"study\", \"study\", \"subject\", \"subject\", \"subject\", \"subject\", \"subject\", \"subject\", \"subject\", \"subject\", \"subject\", \"suck\", \"sumgait\", \"sunos\", \"sunos\", \"sunview\", \"supply\", \"supply\", \"supply\", \"supply\", \"supply\", \"supra\", \"surface\", \"surface\", \"surface\", \"surface\", \"surface\", \"surface\", \"surface\", \"surgery\", \"surrender\", \"surrender\", \"surrender\", \"surveillance\", \"suter\", \"sutter\", \"switch\", \"switch\", \"switch\", \"switch\", \"switch\", \"switch\", \"switch\", \"sword\", \"sydor\", \"symbol\", \"symbol\", \"symmetric\", \"symptoms\", \"symptoms\", \"sync\", \"system\", \"system\", \"system\", \"system\", \"system\", \"system\", \"system\", \"system\", \"system\", \"take\", \"take\", \"take\", \"take\", \"take\", \"take\", \"take\", \"take\", \"take\", \"take\", \"take\", \"tampa\", \"tampa\", \"tape\", \"tape\", \"tape\", \"tape\", \"tbxn\", \"tbxom\", \"team\", \"team\", \"teams\", \"technical\", \"technical\", \"technical\", \"technical\", \"technical\", \"technology\", \"technology\", \"technology\", \"technology\", \"technology\", \"telescope\", \"telescope\", \"temp\", \"tempest\", \"temporarily\", \"terminals\", \"testament\", \"text\", \"text\", \"text\", \"text\", \"text\", \"text\", \"text\", \"thanks\", \"thanks\", \"thanks\", \"thanks\", \"thanks\", \"thanks\", \"thanks\", \"thanks\", \"thanks\", \"thanks\", \"theory\", \"theory\", \"theory\", \"therapy\", \"thing\", \"thing\", \"thing\", \"thing\", \"thing\", \"thing\", \"thing\", \"thing\", \"things\", \"things\", \"things\", \"things\", \"things\", \"things\", \"things\", \"things\", \"things\", \"think\", \"think\", \"think\", \"think\", \"think\", \"think\", \"think\", \"think\", \"third\", \"third\", \"third\", \"third\", \"third\", \"third\", \"third\", \"third\", \"third\", \"third\", \"three\", \"three\", \"three\", \"three\", \"three\", \"three\", \"three\", \"three\", \"three\", \"three\", \"three\", \"three\", \"throttle\", \"tiff\", \"time\", \"time\", \"time\", \"time\", \"time\", \"time\", \"time\", \"time\", \"time\", \"time\", \"time\", \"time\", \"time\", \"time\", \"time\", \"title\", \"title\", \"title\", \"title\", \"title\", \"title\", \"title\", \"titled\", \"toad\", \"tobacco\", \"told\", \"told\", \"told\", \"told\", \"took\", \"took\", \"took\", \"took\", \"took\", \"took\", \"toolkits\", \"tools\", \"tools\", \"tools\", \"tools\", \"toplevel\", \"toronto\", \"toronto\", \"toronto\", \"toronto\", \"torque\", \"toshiba\", \"toyota\", \"toyota\", \"trade\", \"trade\", \"trade\", \"trade\", \"trade\", \"trade\", \"translations\", \"treatment\", \"treatment\", \"treatment\", \"treatment\", \"treatments\", \"true\", \"true\", \"true\", \"true\", \"true\", \"true\", \"true\", \"true\", \"turkey\", \"turkish\", \"turks\", \"turn\", \"turn\", \"turn\", \"turn\", \"turn\", \"turn\", \"turn\", \"turn\", \"twins\", \"type\", \"type\", \"type\", \"type\", \"type\", \"type\", \"type\", \"type\", \"type\", \"type\", \"typing\", \"typing\", \"uccxkvb\", \"understand\", \"understand\", \"understand\", \"unit\", \"unit\", \"unit\", \"unit\", \"unit\", \"united\", \"united\", \"united\", \"united\", \"united\", \"united\", \"university\", \"university\", \"university\", \"university\", \"university\", \"university\", \"university\", \"university\", \"university\", \"unix\", \"unix\", \"unregistered\", \"unsigned\", \"unto\", \"upgrades\", \"used\", \"used\", \"used\", \"used\", \"used\", \"used\", \"used\", \"used\", \"used\", \"used\", \"used\", \"used\", \"used\", \"used\", \"using\", \"using\", \"using\", \"using\", \"using\", \"using\", \"using\", \"using\", \"using\", \"using\", \"usually\", \"usually\", \"usually\", \"usually\", \"usually\", \"usually\", \"usually\", \"usually\", \"usually\", \"usually\", \"usually\", \"utilities\", \"utilities\", \"uuencode\", \"value\", \"value\", \"value\", \"value\", \"value\", \"value\", \"value\", \"value\", \"vancouver\", \"vancouver\", \"vancouver\", \"vancouver\", \"vehicle\", \"vehicle\", \"vehicle\", \"vehicle\", \"vehicle\", \"venus\", \"vernon\", \"verse\", \"version\", \"version\", \"version\", \"version\", \"version\", \"version\", \"version\", \"version\", \"version\", \"vertex\", \"video\", \"video\", \"video\", \"video\", \"video\", \"viewer\", \"viewer\", \"village\", \"villages\", \"villages\", \"violent\", \"violent\", \"visual\", \"visual\", \"visual\", \"visual\", \"visual\", \"voltage\", \"volume\", \"volume\", \"volume\", \"volume\", \"volume\", \"volume\", \"volume\", \"volume\", \"vpic\", \"wales\", \"want\", \"want\", \"want\", \"want\", \"want\", \"want\", \"want\", \"want\", \"want\", \"want\", \"want\", \"water\", \"water\", \"water\", \"water\", \"weapon\", \"weapon\", \"weapons\", \"weapons\", \"weaver\", \"well\", \"well\", \"well\", \"well\", \"well\", \"well\", \"well\", \"well\", \"well\", \"well\", \"well\", \"well\", \"well\", \"well\", \"went\", \"went\", \"went\", \"went\", \"went\", \"went\", \"wheel\", \"wheel\", \"wheel\", \"wheel\", \"whether\", \"whether\", \"whether\", \"whether\", \"whitespace\", \"widget\", \"widget\", \"width\", \"width\", \"window\", \"window\", \"windows\", \"windows\", \"windows\", \"wings\", \"wings\", \"wings\", \"winners\", \"winners\", \"winnipeg\", \"wins\", \"wire\", \"wire\", \"wire\", \"wiretap\", \"wiring\", \"wmbxn\", \"wolverine\", \"women\", \"women\", \"women\", \"women\", \"women\", \"word\", \"word\", \"word\", \"word\", \"word\", \"word\", \"word\", \"word\", \"word\", \"words\", \"words\", \"words\", \"words\", \"words\", \"words\", \"words\", \"work\", \"work\", \"work\", \"work\", \"work\", \"work\", \"work\", \"work\", \"work\", \"work\", \"work\", \"work\", \"workstation\", \"world\", \"world\", \"world\", \"world\", \"world\", \"world\", \"world\", \"world\", \"world\", \"would\", \"would\", \"would\", \"would\", \"would\", \"would\", \"would\", \"would\", \"would\", \"would\", \"would\", \"would\", \"wrong\", \"wrong\", \"wrong\", \"wrong\", \"wrong\", \"wrong\", \"wrong\", \"wrong\", \"wrong\", \"wwhj\", \"wwiz\", \"wysiwyg\", \"ximage\", \"xlib\", \"xlib\", \"xmosaic\", \"xsun\", \"xterm\", \"xterm\", \"xtpointer\", \"xvoid\", \"xxxx\", \"yankees\", \"year\", \"year\", \"year\", \"year\", \"year\", \"year\", \"year\", \"year\", \"year\", \"years\", \"years\", \"years\", \"years\", \"years\", \"years\", \"years\", \"years\", \"years\", \"years\", \"years\", \"yeast\", \"yeast\", \"york\", \"york\", \"york\", \"york\", \"york\", \"york\", \"york\", \"york\", \"yorn\", \"zionism\", \"zoom\", \"zrck\", \"zrlk\"]}, \"R\": 30, \"lambda.step\": 0.01, \"plot.opts\": {\"xlab\": \"PC1\", \"ylab\": \"PC2\"}, \"topic.order\": [17, 3, 6, 8, 11, 19, 12, 14, 7, 13, 1, 18, 5, 9, 4, 20, 15, 2, 16, 10]};\n",
              "\n",
              "function LDAvis_load_lib(url, callback){\n",
              "  var s = document.createElement('script');\n",
              "  s.src = url;\n",
              "  s.async = true;\n",
              "  s.onreadystatechange = s.onload = callback;\n",
              "  s.onerror = function(){console.warn(\"failed to load library \" + url);};\n",
              "  document.getElementsByTagName(\"head\")[0].appendChild(s);\n",
              "}\n",
              "\n",
              "if(typeof(LDAvis) !== \"undefined\"){\n",
              "   // already loaded: just create the visualization\n",
              "   !function(LDAvis){\n",
              "       new LDAvis(\"#\" + \"ldavis_el581400061521049606524785243\", ldavis_el581400061521049606524785243_data);\n",
              "   }(LDAvis);\n",
              "}else if(typeof define === \"function\" && define.amd){\n",
              "   // require.js is available: use it to load d3/LDAvis\n",
              "   require.config({paths: {d3: \"https://cdnjs.cloudflare.com/ajax/libs/d3/3.5.5/d3.min\"}});\n",
              "   require([\"d3\"], function(d3){\n",
              "      window.d3 = d3;\n",
              "      LDAvis_load_lib(\"https://cdn.rawgit.com/bmabey/pyLDAvis/files/ldavis.v1.0.0.js\", function(){\n",
              "        new LDAvis(\"#\" + \"ldavis_el581400061521049606524785243\", ldavis_el581400061521049606524785243_data);\n",
              "      });\n",
              "    });\n",
              "}else{\n",
              "    // require.js not available: dynamically load d3 & LDAvis\n",
              "    LDAvis_load_lib(\"https://cdnjs.cloudflare.com/ajax/libs/d3/3.5.5/d3.min.js\", function(){\n",
              "         LDAvis_load_lib(\"https://cdn.rawgit.com/bmabey/pyLDAvis/files/ldavis.v1.0.0.js\", function(){\n",
              "                 new LDAvis(\"#\" + \"ldavis_el581400061521049606524785243\", ldavis_el581400061521049606524785243_data);\n",
              "            })\n",
              "         });\n",
              "}\n",
              "</script>"
            ],
            "text/plain": [
              "<IPython.core.display.HTML object>"
            ]
          },
          "metadata": {
            "tags": []
          },
          "execution_count": 23
        }
      ]
    },
    {
      "cell_type": "markdown",
      "metadata": {
        "id": "_7utou364p4r"
      },
      "source": [
        "### 4) 문서 별 토픽 분포 보기\n"
      ]
    },
    {
      "cell_type": "code",
      "metadata": {
        "colab": {
          "base_uri": "https://localhost:8080/"
        },
        "id": "ZbwoMV1D4pLt",
        "outputId": "c8447a22-1c33-4d1f-e23f-a7233cdc328b"
      },
      "source": [
        "for i, topic_list in enumerate(ldamodel[corpus]):\n",
        "    if i==5:\n",
        "        break\n",
        "    print(i,'번째 문서의 topic 비율은',topic_list)"
      ],
      "execution_count": 24,
      "outputs": [
        {
          "output_type": "stream",
          "text": [
            "0 번째 문서의 topic 비율은 [(6, 0.04684219), (7, 0.154812), (8, 0.04203505), (10, 0.17033873), (11, 0.07978495), (16, 0.49489674)]\n",
            "1 번째 문서의 topic 비율은 [(6, 0.027282994), (7, 0.09802766), (16, 0.85395765)]\n",
            "2 번째 문서의 topic 비율은 [(0, 0.036065433), (3, 0.12519968), (11, 0.17161195), (16, 0.65421975)]\n",
            "3 번째 문서의 topic 비율은 [(0, 0.031662755), (6, 0.088716246), (7, 0.085348636), (16, 0.3436014), (18, 0.4394769)]\n",
            "4 번째 문서의 topic 비율은 [(0, 0.2204341), (11, 0.41878298), (13, 0.08384308), (16, 0.24731024)]\n"
          ],
          "name": "stdout"
        }
      ]
    },
    {
      "cell_type": "code",
      "metadata": {
        "id": "6NIDRWoD4ObT"
      },
      "source": [
        "def make_topictable_per_doc(ldamodel, corpus):\n",
        "    topic_table = pd.DataFrame()\n",
        "\n",
        "    # 몇 번째 문서인지를 의미하는 문서 번호와 해당 문서의 토픽 비중을 한 줄씩 꺼내온다.\n",
        "    for i, topic_list in enumerate(ldamodel[corpus]):\n",
        "        doc = topic_list[0] if ldamodel.per_word_topics else topic_list            \n",
        "        doc = sorted(doc, key=lambda x: (x[1]), reverse=True)\n",
        "        # 각 문서에 대해서 비중이 높은 토픽순으로 토픽을 정렬한다.\n",
        "        # EX) 정렬 전 0번 문서 : (2번 토픽, 48.5%), (8번 토픽, 25%), (10번 토픽, 5%), (12번 토픽, 21.5%), \n",
        "        # Ex) 정렬 후 0번 문서 : (2번 토픽, 48.5%), (8번 토픽, 25%), (12번 토픽, 21.5%), (10번 토픽, 5%)\n",
        "        # 48 > 25 > 21 > 5 순으로 정렬이 된 것.\n",
        "\n",
        "        # 모든 문서에 대해서 각각 아래를 수행\n",
        "        for j, (topic_num, prop_topic) in enumerate(doc): #  몇 번 토픽인지와 비중을 나눠서 저장한다.\n",
        "            if j == 0:  # 정렬을 한 상태이므로 가장 앞에 있는 것이 가장 비중이 높은 토픽\n",
        "                topic_table = topic_table.append(pd.Series([int(topic_num), round(prop_topic,4), topic_list]), ignore_index=True)\n",
        "                # 가장 비중이 높은 토픽과, 가장 비중이 높은 토픽의 비중과, 전체 토픽의 비중을 저장한다.\n",
        "            else:\n",
        "                break\n",
        "    return(topic_table)"
      ],
      "execution_count": 25,
      "outputs": []
    },
    {
      "cell_type": "code",
      "metadata": {
        "colab": {
          "base_uri": "https://localhost:8080/",
          "height": 343
        },
        "id": "EkM1VxfB6dSr",
        "outputId": "a9440c61-b0c4-4b5c-fdf1-91a652bd6b22"
      },
      "source": [
        "topictable = make_topictable_per_doc(ldamodel, corpus)\n",
        "topictable = topictable.reset_index() # 문서 번호을 의미하는 열(column)로 사용하기 위해서 인덱스 열을 하나 더 만든다.\n",
        "topictable.columns = ['문서 번호', '가장 비중이 높은 토픽', '가장 높은 토픽의 비중', '각 토픽의 비중']\n",
        "topictable[:10]"
      ],
      "execution_count": 26,
      "outputs": [
        {
          "output_type": "execute_result",
          "data": {
            "text/html": [
              "<div>\n",
              "<style scoped>\n",
              "    .dataframe tbody tr th:only-of-type {\n",
              "        vertical-align: middle;\n",
              "    }\n",
              "\n",
              "    .dataframe tbody tr th {\n",
              "        vertical-align: top;\n",
              "    }\n",
              "\n",
              "    .dataframe thead th {\n",
              "        text-align: right;\n",
              "    }\n",
              "</style>\n",
              "<table border=\"1\" class=\"dataframe\">\n",
              "  <thead>\n",
              "    <tr style=\"text-align: right;\">\n",
              "      <th></th>\n",
              "      <th>문서 번호</th>\n",
              "      <th>가장 비중이 높은 토픽</th>\n",
              "      <th>가장 높은 토픽의 비중</th>\n",
              "      <th>각 토픽의 비중</th>\n",
              "    </tr>\n",
              "  </thead>\n",
              "  <tbody>\n",
              "    <tr>\n",
              "      <th>0</th>\n",
              "      <td>0</td>\n",
              "      <td>16.0</td>\n",
              "      <td>0.4949</td>\n",
              "      <td>[(6, 0.046823714), (7, 0.15482612), (8, 0.0420...</td>\n",
              "    </tr>\n",
              "    <tr>\n",
              "      <th>1</th>\n",
              "      <td>1</td>\n",
              "      <td>16.0</td>\n",
              "      <td>0.8539</td>\n",
              "      <td>[(6, 0.027281), (7, 0.098112516), (16, 0.85387...</td>\n",
              "    </tr>\n",
              "    <tr>\n",
              "      <th>2</th>\n",
              "      <td>2</td>\n",
              "      <td>16.0</td>\n",
              "      <td>0.6543</td>\n",
              "      <td>[(0, 0.036066104), (3, 0.12519778), (11, 0.171...</td>\n",
              "    </tr>\n",
              "    <tr>\n",
              "      <th>3</th>\n",
              "      <td>3</td>\n",
              "      <td>18.0</td>\n",
              "      <td>0.4395</td>\n",
              "      <td>[(0, 0.031650618), (6, 0.08872149), (7, 0.0853...</td>\n",
              "    </tr>\n",
              "    <tr>\n",
              "      <th>4</th>\n",
              "      <td>4</td>\n",
              "      <td>11.0</td>\n",
              "      <td>0.4187</td>\n",
              "      <td>[(0, 0.22042754), (11, 0.41867986), (13, 0.083...</td>\n",
              "    </tr>\n",
              "    <tr>\n",
              "      <th>5</th>\n",
              "      <td>5</td>\n",
              "      <td>16.0</td>\n",
              "      <td>0.6090</td>\n",
              "      <td>[(0, 0.17309813), (6, 0.05198254), (12, 0.1326...</td>\n",
              "    </tr>\n",
              "    <tr>\n",
              "      <th>6</th>\n",
              "      <td>6</td>\n",
              "      <td>1.0</td>\n",
              "      <td>0.6675</td>\n",
              "      <td>[(1, 0.6675404), (2, 0.13250752), (7, 0.129258...</td>\n",
              "    </tr>\n",
              "    <tr>\n",
              "      <th>7</th>\n",
              "      <td>7</td>\n",
              "      <td>16.0</td>\n",
              "      <td>0.6592</td>\n",
              "      <td>[(3, 0.15885141), (11, 0.15214685), (16, 0.659...</td>\n",
              "    </tr>\n",
              "    <tr>\n",
              "      <th>8</th>\n",
              "      <td>8</td>\n",
              "      <td>16.0</td>\n",
              "      <td>0.3671</td>\n",
              "      <td>[(3, 0.1166521), (5, 0.24096334), (9, 0.107237...</td>\n",
              "    </tr>\n",
              "    <tr>\n",
              "      <th>9</th>\n",
              "      <td>9</td>\n",
              "      <td>7.0</td>\n",
              "      <td>0.4548</td>\n",
              "      <td>[(5, 0.19585109), (7, 0.45476317), (16, 0.3377...</td>\n",
              "    </tr>\n",
              "  </tbody>\n",
              "</table>\n",
              "</div>"
            ],
            "text/plain": [
              "   문서 번호  ...                                           각 토픽의 비중\n",
              "0      0  ...  [(6, 0.046823714), (7, 0.15482612), (8, 0.0420...\n",
              "1      1  ...  [(6, 0.027281), (7, 0.098112516), (16, 0.85387...\n",
              "2      2  ...  [(0, 0.036066104), (3, 0.12519778), (11, 0.171...\n",
              "3      3  ...  [(0, 0.031650618), (6, 0.08872149), (7, 0.0853...\n",
              "4      4  ...  [(0, 0.22042754), (11, 0.41867986), (13, 0.083...\n",
              "5      5  ...  [(0, 0.17309813), (6, 0.05198254), (12, 0.1326...\n",
              "6      6  ...  [(1, 0.6675404), (2, 0.13250752), (7, 0.129258...\n",
              "7      7  ...  [(3, 0.15885141), (11, 0.15214685), (16, 0.659...\n",
              "8      8  ...  [(3, 0.1166521), (5, 0.24096334), (9, 0.107237...\n",
              "9      9  ...  [(5, 0.19585109), (7, 0.45476317), (16, 0.3377...\n",
              "\n",
              "[10 rows x 4 columns]"
            ]
          },
          "metadata": {
            "tags": []
          },
          "execution_count": 26
        }
      ]
    },
    {
      "cell_type": "markdown",
      "metadata": {
        "id": "KoYmyR7a635z"
      },
      "source": [
        "# 3) 잠재 디리클레 할당(LDA) 실습2\n"
      ]
    },
    {
      "cell_type": "markdown",
      "metadata": {
        "id": "ovGskUwR7QUa"
      },
      "source": [
        "## 1. 실습을 통한 이해"
      ]
    },
    {
      "cell_type": "markdown",
      "metadata": {
        "id": "PDaH0djD7U0N"
      },
      "source": [
        "### 1) 뉴스 기사 제목 데이터에 대한 이해\n"
      ]
    },
    {
      "cell_type": "code",
      "metadata": {
        "id": "g5DxxmYq6gXy"
      },
      "source": [
        "import pandas as pd\n",
        "import urllib.request\n",
        "urllib.request.urlretrieve(\"https://raw.githubusercontent.com/franciscadias/data/master/abcnews-date-text.csv\", filename=\"abcnews-date-text.csv\")\n",
        "data = pd.read_csv('abcnews-date-text.csv', error_bad_lines=False)"
      ],
      "execution_count": 27,
      "outputs": []
    },
    {
      "cell_type": "code",
      "metadata": {
        "colab": {
          "base_uri": "https://localhost:8080/"
        },
        "id": "34ad1NsI677X",
        "outputId": "22b7d8d7-e1b0-47e5-d80f-7ffbb09d6ae0"
      },
      "source": [
        "print(len(data))"
      ],
      "execution_count": 28,
      "outputs": [
        {
          "output_type": "stream",
          "text": [
            "1082168\n"
          ],
          "name": "stdout"
        }
      ]
    },
    {
      "cell_type": "code",
      "metadata": {
        "colab": {
          "base_uri": "https://localhost:8080/",
          "height": 195
        },
        "id": "-sUXg-Hm7A6V",
        "outputId": "fb67a2c9-0460-430e-c7c2-82420efc2c7a"
      },
      "source": [
        "data[:5]"
      ],
      "execution_count": 29,
      "outputs": [
        {
          "output_type": "execute_result",
          "data": {
            "text/html": [
              "<div>\n",
              "<style scoped>\n",
              "    .dataframe tbody tr th:only-of-type {\n",
              "        vertical-align: middle;\n",
              "    }\n",
              "\n",
              "    .dataframe tbody tr th {\n",
              "        vertical-align: top;\n",
              "    }\n",
              "\n",
              "    .dataframe thead th {\n",
              "        text-align: right;\n",
              "    }\n",
              "</style>\n",
              "<table border=\"1\" class=\"dataframe\">\n",
              "  <thead>\n",
              "    <tr style=\"text-align: right;\">\n",
              "      <th></th>\n",
              "      <th>publish_date</th>\n",
              "      <th>headline_text</th>\n",
              "    </tr>\n",
              "  </thead>\n",
              "  <tbody>\n",
              "    <tr>\n",
              "      <th>0</th>\n",
              "      <td>20030219</td>\n",
              "      <td>aba decides against community broadcasting lic...</td>\n",
              "    </tr>\n",
              "    <tr>\n",
              "      <th>1</th>\n",
              "      <td>20030219</td>\n",
              "      <td>act fire witnesses must be aware of defamation</td>\n",
              "    </tr>\n",
              "    <tr>\n",
              "      <th>2</th>\n",
              "      <td>20030219</td>\n",
              "      <td>a g calls for infrastructure protection summit</td>\n",
              "    </tr>\n",
              "    <tr>\n",
              "      <th>3</th>\n",
              "      <td>20030219</td>\n",
              "      <td>air nz staff in aust strike for pay rise</td>\n",
              "    </tr>\n",
              "    <tr>\n",
              "      <th>4</th>\n",
              "      <td>20030219</td>\n",
              "      <td>air nz strike to affect australian travellers</td>\n",
              "    </tr>\n",
              "  </tbody>\n",
              "</table>\n",
              "</div>"
            ],
            "text/plain": [
              "   publish_date                                      headline_text\n",
              "0      20030219  aba decides against community broadcasting lic...\n",
              "1      20030219     act fire witnesses must be aware of defamation\n",
              "2      20030219     a g calls for infrastructure protection summit\n",
              "3      20030219           air nz staff in aust strike for pay rise\n",
              "4      20030219      air nz strike to affect australian travellers"
            ]
          },
          "metadata": {
            "tags": []
          },
          "execution_count": 29
        }
      ]
    },
    {
      "cell_type": "code",
      "metadata": {
        "colab": {
          "base_uri": "https://localhost:8080/",
          "height": 195
        },
        "id": "i9hI_1Ov7Ckk",
        "outputId": "0f9ffc24-3994-4f8f-bc3f-db6394bed7d1"
      },
      "source": [
        "text = data[['headline_text']]\n",
        "text.head(5)"
      ],
      "execution_count": 30,
      "outputs": [
        {
          "output_type": "execute_result",
          "data": {
            "text/html": [
              "<div>\n",
              "<style scoped>\n",
              "    .dataframe tbody tr th:only-of-type {\n",
              "        vertical-align: middle;\n",
              "    }\n",
              "\n",
              "    .dataframe tbody tr th {\n",
              "        vertical-align: top;\n",
              "    }\n",
              "\n",
              "    .dataframe thead th {\n",
              "        text-align: right;\n",
              "    }\n",
              "</style>\n",
              "<table border=\"1\" class=\"dataframe\">\n",
              "  <thead>\n",
              "    <tr style=\"text-align: right;\">\n",
              "      <th></th>\n",
              "      <th>headline_text</th>\n",
              "    </tr>\n",
              "  </thead>\n",
              "  <tbody>\n",
              "    <tr>\n",
              "      <th>0</th>\n",
              "      <td>aba decides against community broadcasting lic...</td>\n",
              "    </tr>\n",
              "    <tr>\n",
              "      <th>1</th>\n",
              "      <td>act fire witnesses must be aware of defamation</td>\n",
              "    </tr>\n",
              "    <tr>\n",
              "      <th>2</th>\n",
              "      <td>a g calls for infrastructure protection summit</td>\n",
              "    </tr>\n",
              "    <tr>\n",
              "      <th>3</th>\n",
              "      <td>air nz staff in aust strike for pay rise</td>\n",
              "    </tr>\n",
              "    <tr>\n",
              "      <th>4</th>\n",
              "      <td>air nz strike to affect australian travellers</td>\n",
              "    </tr>\n",
              "  </tbody>\n",
              "</table>\n",
              "</div>"
            ],
            "text/plain": [
              "                                       headline_text\n",
              "0  aba decides against community broadcasting lic...\n",
              "1     act fire witnesses must be aware of defamation\n",
              "2     a g calls for infrastructure protection summit\n",
              "3           air nz staff in aust strike for pay rise\n",
              "4      air nz strike to affect australian travellers"
            ]
          },
          "metadata": {
            "tags": []
          },
          "execution_count": 30
        }
      ]
    },
    {
      "cell_type": "markdown",
      "metadata": {
        "id": "iuUGc72n7XRT"
      },
      "source": [
        "### 2) 텍스트 전처리\n"
      ]
    },
    {
      "cell_type": "code",
      "metadata": {
        "colab": {
          "base_uri": "https://localhost:8080/"
        },
        "id": "UTYUpuaa7LmJ",
        "outputId": "f8227d78-607e-439c-8aed-cfc1081d6808"
      },
      "source": [
        "# 단어 토큰화\n",
        "import nltk\n",
        "nltk.download('punkt')\n",
        "text['headline_text'] = text.apply(lambda row: nltk.word_tokenize(row['headline_text']), axis=1)"
      ],
      "execution_count": 32,
      "outputs": [
        {
          "output_type": "stream",
          "text": [
            "[nltk_data] Downloading package punkt to /root/nltk_data...\n",
            "[nltk_data]   Unzipping tokenizers/punkt.zip.\n"
          ],
          "name": "stdout"
        },
        {
          "output_type": "stream",
          "text": [
            "/usr/local/lib/python3.6/dist-packages/ipykernel_launcher.py:3: SettingWithCopyWarning: \n",
            "A value is trying to be set on a copy of a slice from a DataFrame.\n",
            "Try using .loc[row_indexer,col_indexer] = value instead\n",
            "\n",
            "See the caveats in the documentation: https://pandas.pydata.org/pandas-docs/stable/user_guide/indexing.html#returning-a-view-versus-a-copy\n",
            "  This is separate from the ipykernel package so we can avoid doing imports until\n"
          ],
          "name": "stderr"
        }
      ]
    },
    {
      "cell_type": "code",
      "metadata": {
        "colab": {
          "base_uri": "https://localhost:8080/",
          "height": 195
        },
        "id": "yR8tPPvR7bMN",
        "outputId": "e86b7d3a-fb12-490d-f299-e9811cf43446"
      },
      "source": [
        "text.head(5)"
      ],
      "execution_count": 34,
      "outputs": [
        {
          "output_type": "execute_result",
          "data": {
            "text/html": [
              "<div>\n",
              "<style scoped>\n",
              "    .dataframe tbody tr th:only-of-type {\n",
              "        vertical-align: middle;\n",
              "    }\n",
              "\n",
              "    .dataframe tbody tr th {\n",
              "        vertical-align: top;\n",
              "    }\n",
              "\n",
              "    .dataframe thead th {\n",
              "        text-align: right;\n",
              "    }\n",
              "</style>\n",
              "<table border=\"1\" class=\"dataframe\">\n",
              "  <thead>\n",
              "    <tr style=\"text-align: right;\">\n",
              "      <th></th>\n",
              "      <th>headline_text</th>\n",
              "    </tr>\n",
              "  </thead>\n",
              "  <tbody>\n",
              "    <tr>\n",
              "      <th>0</th>\n",
              "      <td>[aba, decides, against, community, broadcastin...</td>\n",
              "    </tr>\n",
              "    <tr>\n",
              "      <th>1</th>\n",
              "      <td>[act, fire, witnesses, must, be, aware, of, de...</td>\n",
              "    </tr>\n",
              "    <tr>\n",
              "      <th>2</th>\n",
              "      <td>[a, g, calls, for, infrastructure, protection,...</td>\n",
              "    </tr>\n",
              "    <tr>\n",
              "      <th>3</th>\n",
              "      <td>[air, nz, staff, in, aust, strike, for, pay, r...</td>\n",
              "    </tr>\n",
              "    <tr>\n",
              "      <th>4</th>\n",
              "      <td>[air, nz, strike, to, affect, australian, trav...</td>\n",
              "    </tr>\n",
              "  </tbody>\n",
              "</table>\n",
              "</div>"
            ],
            "text/plain": [
              "                                       headline_text\n",
              "0  [aba, decides, against, community, broadcastin...\n",
              "1  [act, fire, witnesses, must, be, aware, of, de...\n",
              "2  [a, g, calls, for, infrastructure, protection,...\n",
              "3  [air, nz, staff, in, aust, strike, for, pay, r...\n",
              "4  [air, nz, strike, to, affect, australian, trav..."
            ]
          },
          "metadata": {
            "tags": []
          },
          "execution_count": 34
        }
      ]
    },
    {
      "cell_type": "code",
      "metadata": {
        "colab": {
          "base_uri": "https://localhost:8080/"
        },
        "id": "RYIBcZ508BAe",
        "outputId": "f4e4061a-f5b5-4be2-c50b-12127b954880"
      },
      "source": [
        "# 불용어 제거\n",
        "from nltk.corpus import stopwords\n",
        "stop = stopwords.words('english')\n",
        "text['headline_text'] = text['headline_text'].apply(lambda x: [word for word in x if word not in (stop)])"
      ],
      "execution_count": 35,
      "outputs": [
        {
          "output_type": "stream",
          "text": [
            "/usr/local/lib/python3.6/dist-packages/ipykernel_launcher.py:3: SettingWithCopyWarning: \n",
            "A value is trying to be set on a copy of a slice from a DataFrame.\n",
            "Try using .loc[row_indexer,col_indexer] = value instead\n",
            "\n",
            "See the caveats in the documentation: https://pandas.pydata.org/pandas-docs/stable/user_guide/indexing.html#returning-a-view-versus-a-copy\n",
            "  This is separate from the ipykernel package so we can avoid doing imports until\n"
          ],
          "name": "stderr"
        }
      ]
    },
    {
      "cell_type": "code",
      "metadata": {
        "colab": {
          "base_uri": "https://localhost:8080/",
          "height": 195
        },
        "id": "7bKYZTfd8hWt",
        "outputId": "7e270c58-cda2-4b61-91e2-34dc863f0c47"
      },
      "source": [
        "text.head(5)"
      ],
      "execution_count": 37,
      "outputs": [
        {
          "output_type": "execute_result",
          "data": {
            "text/html": [
              "<div>\n",
              "<style scoped>\n",
              "    .dataframe tbody tr th:only-of-type {\n",
              "        vertical-align: middle;\n",
              "    }\n",
              "\n",
              "    .dataframe tbody tr th {\n",
              "        vertical-align: top;\n",
              "    }\n",
              "\n",
              "    .dataframe thead th {\n",
              "        text-align: right;\n",
              "    }\n",
              "</style>\n",
              "<table border=\"1\" class=\"dataframe\">\n",
              "  <thead>\n",
              "    <tr style=\"text-align: right;\">\n",
              "      <th></th>\n",
              "      <th>headline_text</th>\n",
              "    </tr>\n",
              "  </thead>\n",
              "  <tbody>\n",
              "    <tr>\n",
              "      <th>0</th>\n",
              "      <td>[aba, decides, community, broadcasting, licence]</td>\n",
              "    </tr>\n",
              "    <tr>\n",
              "      <th>1</th>\n",
              "      <td>[act, fire, witnesses, must, aware, defamation]</td>\n",
              "    </tr>\n",
              "    <tr>\n",
              "      <th>2</th>\n",
              "      <td>[g, calls, infrastructure, protection, summit]</td>\n",
              "    </tr>\n",
              "    <tr>\n",
              "      <th>3</th>\n",
              "      <td>[air, nz, staff, aust, strike, pay, rise]</td>\n",
              "    </tr>\n",
              "    <tr>\n",
              "      <th>4</th>\n",
              "      <td>[air, nz, strike, affect, australian, travellers]</td>\n",
              "    </tr>\n",
              "  </tbody>\n",
              "</table>\n",
              "</div>"
            ],
            "text/plain": [
              "                                       headline_text\n",
              "0   [aba, decides, community, broadcasting, licence]\n",
              "1    [act, fire, witnesses, must, aware, defamation]\n",
              "2     [g, calls, infrastructure, protection, summit]\n",
              "3          [air, nz, staff, aust, strike, pay, rise]\n",
              "4  [air, nz, strike, affect, australian, travellers]"
            ]
          },
          "metadata": {
            "tags": []
          },
          "execution_count": 37
        }
      ]
    },
    {
      "cell_type": "code",
      "metadata": {
        "colab": {
          "base_uri": "https://localhost:8080/"
        },
        "id": "0kG2qUFc8pBA",
        "outputId": "8bce5f8f-671a-47e1-dea4-b34b86e29f0c"
      },
      "source": [
        "# 표제어 추출\n",
        "import nltk\n",
        "nltk.download('wordnet')\n",
        "\n",
        "from nltk.stem import WordNetLemmatizer\n",
        "text['headline_text'] = text['headline_text'].apply(lambda x: [WordNetLemmatizer().lemmatize(word, pos='v') for word in x])\n",
        "print(text.head(5))"
      ],
      "execution_count": 39,
      "outputs": [
        {
          "output_type": "stream",
          "text": [
            "[nltk_data] Downloading package wordnet to /root/nltk_data...\n",
            "[nltk_data]   Unzipping corpora/wordnet.zip.\n",
            "                                       headline_text\n",
            "0       [aba, decide, community, broadcast, licence]\n",
            "1      [act, fire, witness, must, aware, defamation]\n",
            "2      [g, call, infrastructure, protection, summit]\n",
            "3          [air, nz, staff, aust, strike, pay, rise]\n",
            "4  [air, nz, strike, affect, australian, travellers]\n"
          ],
          "name": "stdout"
        },
        {
          "output_type": "stream",
          "text": [
            "/usr/local/lib/python3.6/dist-packages/ipykernel_launcher.py:6: SettingWithCopyWarning: \n",
            "A value is trying to be set on a copy of a slice from a DataFrame.\n",
            "Try using .loc[row_indexer,col_indexer] = value instead\n",
            "\n",
            "See the caveats in the documentation: https://pandas.pydata.org/pandas-docs/stable/user_guide/indexing.html#returning-a-view-versus-a-copy\n",
            "  \n"
          ],
          "name": "stderr"
        }
      ]
    },
    {
      "cell_type": "code",
      "metadata": {
        "colab": {
          "base_uri": "https://localhost:8080/"
        },
        "id": "Tky_QZeI9Nov",
        "outputId": "4860582c-d3a4-452b-bbab-fb08f81e892b"
      },
      "source": [
        "# 길이가 3이하인 단어 제거\n",
        "tokenized_doc = text['headline_text'].apply(lambda x: [word for word in x if len(word) > 3])\n",
        "print(tokenized_doc[:5])"
      ],
      "execution_count": 40,
      "outputs": [
        {
          "output_type": "stream",
          "text": [
            "0       [decide, community, broadcast, licence]\n",
            "1      [fire, witness, must, aware, defamation]\n",
            "2    [call, infrastructure, protection, summit]\n",
            "3                   [staff, aust, strike, rise]\n",
            "4      [strike, affect, australian, travellers]\n",
            "Name: headline_text, dtype: object\n"
          ],
          "name": "stdout"
        }
      ]
    },
    {
      "cell_type": "markdown",
      "metadata": {
        "id": "iOhIKrTd9upB"
      },
      "source": [
        "### 3) TF-IDF 행렬 만들기\n"
      ]
    },
    {
      "cell_type": "code",
      "metadata": {
        "colab": {
          "base_uri": "https://localhost:8080/"
        },
        "id": "GXAG4hJL9n9s",
        "outputId": "1b9f2584-e53f-4685-f377-d7d94f4943db"
      },
      "source": [
        "# 역토큰화 (토큰화 작업을 되돌림)\n",
        "detokenized_doc = []\n",
        "for i in range(len(text)):\n",
        "    t = ' '.join(tokenized_doc[i])\n",
        "    detokenized_doc.append(t)\n",
        "\n",
        "text['headline_text'] = detokenized_doc # 다시 text['headline_text']에 재저장"
      ],
      "execution_count": 41,
      "outputs": [
        {
          "output_type": "stream",
          "text": [
            "/usr/local/lib/python3.6/dist-packages/ipykernel_launcher.py:7: SettingWithCopyWarning: \n",
            "A value is trying to be set on a copy of a slice from a DataFrame.\n",
            "Try using .loc[row_indexer,col_indexer] = value instead\n",
            "\n",
            "See the caveats in the documentation: https://pandas.pydata.org/pandas-docs/stable/user_guide/indexing.html#returning-a-view-versus-a-copy\n",
            "  import sys\n"
          ],
          "name": "stderr"
        }
      ]
    },
    {
      "cell_type": "code",
      "metadata": {
        "colab": {
          "base_uri": "https://localhost:8080/"
        },
        "id": "8LUv1Ylb-AKk",
        "outputId": "d49a3fff-235c-41e6-d85f-84cef39f8191"
      },
      "source": [
        "text['headline_text'][:5]"
      ],
      "execution_count": 42,
      "outputs": [
        {
          "output_type": "execute_result",
          "data": {
            "text/plain": [
              "0       decide community broadcast licence\n",
              "1       fire witness must aware defamation\n",
              "2    call infrastructure protection summit\n",
              "3                   staff aust strike rise\n",
              "4      strike affect australian travellers\n",
              "Name: headline_text, dtype: object"
            ]
          },
          "metadata": {
            "tags": []
          },
          "execution_count": 42
        }
      ]
    },
    {
      "cell_type": "code",
      "metadata": {
        "colab": {
          "base_uri": "https://localhost:8080/"
        },
        "id": "KE2FkFy5-JpO",
        "outputId": "dccf2d57-2a5e-4465-f31f-35d2dafe779f"
      },
      "source": [
        "from sklearn.feature_extraction.text import TfidfVectorizer\n",
        "vectorizer = TfidfVectorizer(stop_words='english', \n",
        "max_features= 1000) # 상위 1,000개의 단어를 보존 \n",
        "X = vectorizer.fit_transform(text['headline_text'])\n",
        "X.shape # TF-IDF 행렬의 크기 확인"
      ],
      "execution_count": 43,
      "outputs": [
        {
          "output_type": "execute_result",
          "data": {
            "text/plain": [
              "(1082168, 1000)"
            ]
          },
          "metadata": {
            "tags": []
          },
          "execution_count": 43
        }
      ]
    },
    {
      "cell_type": "markdown",
      "metadata": {
        "id": "CCCzGTL3-jtF"
      },
      "source": [
        "### 4) 토픽 모델링 (LDA 수행)"
      ]
    },
    {
      "cell_type": "code",
      "metadata": {
        "id": "ndg9-ERm-btp"
      },
      "source": [
        "from sklearn.decomposition import LatentDirichletAllocation\n",
        "lda_model=LatentDirichletAllocation(n_components=10,learning_method='online',random_state=777,max_iter=1)"
      ],
      "execution_count": 44,
      "outputs": []
    },
    {
      "cell_type": "code",
      "metadata": {
        "id": "oH1oAbly-ss5"
      },
      "source": [
        "lda_top=lda_model.fit_transform(X)"
      ],
      "execution_count": 45,
      "outputs": []
    },
    {
      "cell_type": "code",
      "metadata": {
        "colab": {
          "base_uri": "https://localhost:8080/"
        },
        "id": "7pTmetNe-2Wr",
        "outputId": "60cba019-e1d6-4fff-b282-d363795e3d20"
      },
      "source": [
        "print(lda_model.components_)\n",
        "print(lda_model.components_.shape) "
      ],
      "execution_count": 46,
      "outputs": [
        {
          "output_type": "stream",
          "text": [
            "[[1.00001533e-01 1.00001269e-01 1.00004179e-01 ... 1.00006124e-01\n",
            "  1.00003111e-01 1.00003064e-01]\n",
            " [1.00001199e-01 1.13513398e+03 3.50170830e+03 ... 1.00009349e-01\n",
            "  1.00001896e-01 1.00002937e-01]\n",
            " [1.00001811e-01 1.00001151e-01 1.00003566e-01 ... 1.00002693e-01\n",
            "  1.00002061e-01 7.53381835e+02]\n",
            " ...\n",
            " [1.00001065e-01 1.00001689e-01 1.00003278e-01 ... 1.00006721e-01\n",
            "  1.00004902e-01 1.00004759e-01]\n",
            " [1.00002401e-01 1.00000732e-01 1.00002989e-01 ... 1.00003517e-01\n",
            "  1.00001428e-01 1.00005266e-01]\n",
            " [1.00003427e-01 1.00002313e-01 1.00007340e-01 ... 1.00003732e-01\n",
            "  1.00001207e-01 1.00005153e-01]]\n",
            "(10, 1000)\n"
          ],
          "name": "stdout"
        }
      ]
    },
    {
      "cell_type": "code",
      "metadata": {
        "colab": {
          "base_uri": "https://localhost:8080/"
        },
        "id": "Ngqxtra8_UNt",
        "outputId": "9c55f067-3a5f-48e8-a4f2-14cbf123e994"
      },
      "source": [
        "terms = vectorizer.get_feature_names() # 단어 집합. 1,000개의 단어가 저장됨.\n",
        "\n",
        "def get_topics(components, feature_names, n=5):\n",
        "    for idx, topic in enumerate(components):\n",
        "        print(\"Topic %d:\" % (idx+1), [(feature_names[i], topic[i].round(2)) for i in topic.argsort()[:-n - 1:-1]])\n",
        "get_topics(lda_model.components_,terms)"
      ],
      "execution_count": 47,
      "outputs": [
        {
          "output_type": "stream",
          "text": [
            "Topic 1: [('government', 8725.19), ('sydney', 8393.29), ('queensland', 7720.12), ('change', 5874.27), ('home', 5674.38)]\n",
            "Topic 2: [('australia', 13691.08), ('australian', 11088.95), ('melbourne', 7528.43), ('world', 6707.7), ('south', 6677.03)]\n",
            "Topic 3: [('death', 5935.06), ('interview', 5924.98), ('kill', 5851.6), ('jail', 4632.85), ('life', 4275.27)]\n",
            "Topic 4: [('house', 6113.49), ('2016', 5488.19), ('state', 4923.41), ('brisbane', 4857.21), ('tasmania', 4610.97)]\n",
            "Topic 5: [('court', 7542.74), ('attack', 6959.64), ('open', 5663.0), ('face', 5193.63), ('warn', 5115.01)]\n",
            "Topic 6: [('market', 5545.86), ('rural', 5502.89), ('plan', 4828.71), ('indigenous', 4223.4), ('power', 3968.26)]\n",
            "Topic 7: [('charge', 8428.8), ('election', 7561.63), ('adelaide', 6758.36), ('make', 5658.99), ('test', 5062.69)]\n",
            "Topic 8: [('police', 12092.44), ('crash', 5281.14), ('drug', 4290.87), ('beat', 3257.58), ('rise', 2934.92)]\n",
            "Topic 9: [('fund', 4693.03), ('labor', 4047.69), ('national', 4038.68), ('council', 4006.62), ('claim', 3604.75)]\n",
            "Topic 10: [('trump', 11966.41), ('perth', 6456.53), ('report', 5611.33), ('school', 5465.06), ('woman', 5456.76)]\n"
          ],
          "name": "stdout"
        }
      ]
    },
    {
      "cell_type": "code",
      "metadata": {
        "id": "qsRm1pOS_iiT"
      },
      "source": [
        ""
      ],
      "execution_count": null,
      "outputs": []
    }
  ]
}