{
  "nbformat": 4,
  "nbformat_minor": 0,
  "metadata": {
    "colab": {
      "name": "1) 코사인 유사도(Cosine Similarity) - 2) 여러가지 유사도 기법.ipynb",
      "provenance": [],
      "collapsed_sections": [],
      "toc_visible": true
    },
    "kernelspec": {
      "name": "python3",
      "display_name": "Python 3"
    }
  },
  "cells": [
    {
      "cell_type": "markdown",
      "metadata": {
        "id": "p3EBnt5Mz-_w"
      },
      "source": [
        "# 1) 코사인 유사도(Cosine Similarity)\n"
      ]
    },
    {
      "cell_type": "markdown",
      "metadata": {
        "id": "e2siaRP-nHwC"
      },
      "source": [
        "## 1. 코사인 유사도(Cosine Similarity)\n"
      ]
    },
    {
      "cell_type": "code",
      "metadata": {
        "id": "ivxbYI2cnKsU"
      },
      "source": [
        "from numpy import dot\n",
        "from numpy.linalg import norm\n",
        "import numpy as np\n",
        "def cos_sim(A, B):\n",
        "       return dot(A, B)/(norm(A)*norm(B))"
      ],
      "execution_count": 1,
      "outputs": []
    },
    {
      "cell_type": "code",
      "metadata": {
        "id": "Ity5tsr6nTnw"
      },
      "source": [
        "doc1=np.array([0,1,1,1])\n",
        "doc2=np.array([1,0,1,1])\n",
        "doc3=np.array([2,0,2,2])"
      ],
      "execution_count": 2,
      "outputs": []
    },
    {
      "cell_type": "code",
      "metadata": {
        "colab": {
          "base_uri": "https://localhost:8080/"
        },
        "id": "mUwBBzAknX08",
        "outputId": "828b1de4-7e78-4026-c9af-bc9a2405275f"
      },
      "source": [
        "print(cos_sim(doc1, doc2)) #문서1과 문서2의 코사인 유사도\n",
        "print(cos_sim(doc1, doc3)) #문서1과 문서3의 코사인 유사도\n",
        "print(cos_sim(doc2, doc3)) #문서2과 문서3의 코사인 유사도"
      ],
      "execution_count": 4,
      "outputs": [
        {
          "output_type": "stream",
          "text": [
            "0.6666666666666667\n",
            "0.6666666666666667\n",
            "1.0000000000000002\n"
          ],
          "name": "stdout"
        }
      ]
    },
    {
      "cell_type": "markdown",
      "metadata": {
        "id": "L3LaVnx2nioz"
      },
      "source": [
        "## 2. 유사도를 이용한 추천 시스템 구현하기\n",
        "아하는 영화를 입력하면, 해당 영화의 줄거리와 줄거리가 유사한 영화를 찾아서 추천하는 시스템"
      ]
    },
    {
      "cell_type": "code",
      "metadata": {
        "id": "n89MIFXrnXxA"
      },
      "source": [
        "import pandas as pd\n",
        "from sklearn.feature_extraction.text import TfidfVectorizer\n",
        "from sklearn.metrics.pairwise import linear_kernel"
      ],
      "execution_count": 5,
      "outputs": []
    },
    {
      "cell_type": "code",
      "metadata": {
        "colab": {
          "base_uri": "https://localhost:8080/",
          "height": 311
        },
        "id": "OaPqDG6znXtD",
        "outputId": "526030e9-6232-4b26-822f-48f7a4fa225d"
      },
      "source": [
        "data = pd.read_csv('/content/drive/MyDrive/딥러닝을 이용한 자연어처리 입문/05. 문서 유사도(Document Similarity)/movies_metadata.csv', low_memory=False)\n",
        "data.head(2)"
      ],
      "execution_count": 6,
      "outputs": [
        {
          "output_type": "execute_result",
          "data": {
            "text/html": [
              "<div>\n",
              "<style scoped>\n",
              "    .dataframe tbody tr th:only-of-type {\n",
              "        vertical-align: middle;\n",
              "    }\n",
              "\n",
              "    .dataframe tbody tr th {\n",
              "        vertical-align: top;\n",
              "    }\n",
              "\n",
              "    .dataframe thead th {\n",
              "        text-align: right;\n",
              "    }\n",
              "</style>\n",
              "<table border=\"1\" class=\"dataframe\">\n",
              "  <thead>\n",
              "    <tr style=\"text-align: right;\">\n",
              "      <th></th>\n",
              "      <th>adult</th>\n",
              "      <th>belongs_to_collection</th>\n",
              "      <th>budget</th>\n",
              "      <th>genres</th>\n",
              "      <th>homepage</th>\n",
              "      <th>id</th>\n",
              "      <th>imdb_id</th>\n",
              "      <th>original_language</th>\n",
              "      <th>original_title</th>\n",
              "      <th>overview</th>\n",
              "      <th>popularity</th>\n",
              "      <th>poster_path</th>\n",
              "      <th>production_companies</th>\n",
              "      <th>production_countries</th>\n",
              "      <th>release_date</th>\n",
              "      <th>revenue</th>\n",
              "      <th>runtime</th>\n",
              "      <th>spoken_languages</th>\n",
              "      <th>status</th>\n",
              "      <th>tagline</th>\n",
              "      <th>title</th>\n",
              "      <th>video</th>\n",
              "      <th>vote_average</th>\n",
              "      <th>vote_count</th>\n",
              "    </tr>\n",
              "  </thead>\n",
              "  <tbody>\n",
              "    <tr>\n",
              "      <th>0</th>\n",
              "      <td>False</td>\n",
              "      <td>{'id': 10194, 'name': 'Toy Story Collection', ...</td>\n",
              "      <td>30000000</td>\n",
              "      <td>[{'id': 16, 'name': 'Animation'}, {'id': 35, '...</td>\n",
              "      <td>http://toystory.disney.com/toy-story</td>\n",
              "      <td>862</td>\n",
              "      <td>tt0114709</td>\n",
              "      <td>en</td>\n",
              "      <td>Toy Story</td>\n",
              "      <td>Led by Woody, Andy's toys live happily in his ...</td>\n",
              "      <td>21.946943</td>\n",
              "      <td>/rhIRbceoE9lR4veEXuwCC2wARtG.jpg</td>\n",
              "      <td>[{'name': 'Pixar Animation Studios', 'id': 3}]</td>\n",
              "      <td>[{'iso_3166_1': 'US', 'name': 'United States o...</td>\n",
              "      <td>1995-10-30</td>\n",
              "      <td>373554033.0</td>\n",
              "      <td>81.0</td>\n",
              "      <td>[{'iso_639_1': 'en', 'name': 'English'}]</td>\n",
              "      <td>Released</td>\n",
              "      <td>NaN</td>\n",
              "      <td>Toy Story</td>\n",
              "      <td>False</td>\n",
              "      <td>7.7</td>\n",
              "      <td>5415.0</td>\n",
              "    </tr>\n",
              "    <tr>\n",
              "      <th>1</th>\n",
              "      <td>False</td>\n",
              "      <td>NaN</td>\n",
              "      <td>65000000</td>\n",
              "      <td>[{'id': 12, 'name': 'Adventure'}, {'id': 14, '...</td>\n",
              "      <td>NaN</td>\n",
              "      <td>8844</td>\n",
              "      <td>tt0113497</td>\n",
              "      <td>en</td>\n",
              "      <td>Jumanji</td>\n",
              "      <td>When siblings Judy and Peter discover an encha...</td>\n",
              "      <td>17.015539</td>\n",
              "      <td>/vzmL6fP7aPKNKPRTFnZmiUfciyV.jpg</td>\n",
              "      <td>[{'name': 'TriStar Pictures', 'id': 559}, {'na...</td>\n",
              "      <td>[{'iso_3166_1': 'US', 'name': 'United States o...</td>\n",
              "      <td>1995-12-15</td>\n",
              "      <td>262797249.0</td>\n",
              "      <td>104.0</td>\n",
              "      <td>[{'iso_639_1': 'en', 'name': 'English'}, {'iso...</td>\n",
              "      <td>Released</td>\n",
              "      <td>Roll the dice and unleash the excitement!</td>\n",
              "      <td>Jumanji</td>\n",
              "      <td>False</td>\n",
              "      <td>6.9</td>\n",
              "      <td>2413.0</td>\n",
              "    </tr>\n",
              "  </tbody>\n",
              "</table>\n",
              "</div>"
            ],
            "text/plain": [
              "   adult  ... vote_count\n",
              "0  False  ...     5415.0\n",
              "1  False  ...     2413.0\n",
              "\n",
              "[2 rows x 24 columns]"
            ]
          },
          "metadata": {
            "tags": []
          },
          "execution_count": 6
        }
      ]
    },
    {
      "cell_type": "code",
      "metadata": {
        "id": "KxTna1I5nXnu"
      },
      "source": [
        "data = data.head(20000)"
      ],
      "execution_count": 7,
      "outputs": []
    },
    {
      "cell_type": "code",
      "metadata": {
        "colab": {
          "base_uri": "https://localhost:8080/"
        },
        "id": "FlGIrJxVpa_2",
        "outputId": "e4e53f50-0fad-496b-c95b-a5443e42617b"
      },
      "source": [
        "data.info()"
      ],
      "execution_count": 9,
      "outputs": [
        {
          "output_type": "stream",
          "text": [
            "<class 'pandas.core.frame.DataFrame'>\n",
            "RangeIndex: 20000 entries, 0 to 19999\n",
            "Data columns (total 24 columns):\n",
            " #   Column                 Non-Null Count  Dtype  \n",
            "---  ------                 --------------  -----  \n",
            " 0   adult                  20000 non-null  object \n",
            " 1   belongs_to_collection  2399 non-null   object \n",
            " 2   budget                 20000 non-null  object \n",
            " 3   genres                 20000 non-null  object \n",
            " 4   homepage               3055 non-null   object \n",
            " 5   id                     20000 non-null  object \n",
            " 6   imdb_id                19993 non-null  object \n",
            " 7   original_language      19999 non-null  object \n",
            " 8   original_title         20000 non-null  object \n",
            " 9   overview               19865 non-null  object \n",
            " 10  popularity             19998 non-null  object \n",
            " 11  poster_path            19907 non-null  object \n",
            " 12  production_companies   19999 non-null  object \n",
            " 13  production_countries   19999 non-null  object \n",
            " 14  release_date           19983 non-null  object \n",
            " 15  revenue                19998 non-null  float64\n",
            " 16  runtime                19971 non-null  float64\n",
            " 17  spoken_languages       19998 non-null  object \n",
            " 18  status                 19979 non-null  object \n",
            " 19  tagline                11706 non-null  object \n",
            " 20  title                  19998 non-null  object \n",
            " 21  video                  19998 non-null  object \n",
            " 22  vote_average           19998 non-null  float64\n",
            " 23  vote_count             19998 non-null  float64\n",
            "dtypes: float64(4), object(20)\n",
            "memory usage: 3.7+ MB\n"
          ],
          "name": "stdout"
        }
      ]
    },
    {
      "cell_type": "code",
      "metadata": {
        "colab": {
          "base_uri": "https://localhost:8080/"
        },
        "id": "6fWOiCGtpibZ",
        "outputId": "baa579fe-1e16-4de0-b05c-09c96f38c4e5"
      },
      "source": [
        "data.isna().sum()"
      ],
      "execution_count": 11,
      "outputs": [
        {
          "output_type": "execute_result",
          "data": {
            "text/plain": [
              "adult                        0\n",
              "belongs_to_collection    17601\n",
              "budget                       0\n",
              "genres                       0\n",
              "homepage                 16945\n",
              "id                           0\n",
              "imdb_id                      7\n",
              "original_language            1\n",
              "original_title               0\n",
              "overview                   135\n",
              "popularity                   2\n",
              "poster_path                 93\n",
              "production_companies         1\n",
              "production_countries         1\n",
              "release_date                17\n",
              "revenue                      2\n",
              "runtime                     29\n",
              "spoken_languages             2\n",
              "status                      21\n",
              "tagline                   8294\n",
              "title                        2\n",
              "video                        2\n",
              "vote_average                 2\n",
              "vote_count                   2\n",
              "dtype: int64"
            ]
          },
          "metadata": {
            "tags": []
          },
          "execution_count": 11
        }
      ]
    },
    {
      "cell_type": "code",
      "metadata": {
        "colab": {
          "base_uri": "https://localhost:8080/"
        },
        "id": "hfynLSntnXgO",
        "outputId": "c621a3d4-bf58-4d41-a7c2-72ca1b354d47"
      },
      "source": [
        "data['overview'].isnull().sum()"
      ],
      "execution_count": 12,
      "outputs": [
        {
          "output_type": "execute_result",
          "data": {
            "text/plain": [
              "135"
            ]
          },
          "metadata": {
            "tags": []
          },
          "execution_count": 12
        }
      ]
    },
    {
      "cell_type": "code",
      "metadata": {
        "id": "0zUEIYh7nWf_"
      },
      "source": [
        "# overview에서 Null 값을 가진 경우에는 Null 값을 제거\n",
        "data['overview'] = data['overview'].fillna('')"
      ],
      "execution_count": 13,
      "outputs": []
    },
    {
      "cell_type": "code",
      "metadata": {
        "colab": {
          "base_uri": "https://localhost:8080/"
        },
        "id": "cUCNsh-mps7c",
        "outputId": "3040bd80-1702-4b6a-da52-2558e9a61754"
      },
      "source": [
        "tfidf = TfidfVectorizer(stop_words='english')\n",
        "# overview에 대해서 tf-idf 수행\n",
        "tfidf_matrix = tfidf.fit_transform(data['overview'])\n",
        "print(tfidf_matrix.shape)"
      ],
      "execution_count": 14,
      "outputs": [
        {
          "output_type": "stream",
          "text": [
            "(20000, 47487)\n"
          ],
          "name": "stdout"
        }
      ]
    },
    {
      "cell_type": "code",
      "metadata": {
        "id": "heMmkFUsptBh"
      },
      "source": [
        "cosine_sim = linear_kernel(tfidf_matrix, tfidf_matrix)"
      ],
      "execution_count": 15,
      "outputs": []
    },
    {
      "cell_type": "code",
      "metadata": {
        "colab": {
          "base_uri": "https://localhost:8080/"
        },
        "id": "xUlmZOUOptGJ",
        "outputId": "0621f164-2a86-4ea6-b998-7cce2379d974"
      },
      "source": [
        "# 이 테이블의 용도는 영화의 타이틀을 입력하면 인덱스를 리턴하기 위함\n",
        "indices = pd.Series(data.index, index=data['title']).drop_duplicates()\n",
        "print(indices.head(10))"
      ],
      "execution_count": 20,
      "outputs": [
        {
          "output_type": "stream",
          "text": [
            "title\n",
            "Toy Story                      0\n",
            "Jumanji                        1\n",
            "Grumpier Old Men               2\n",
            "Waiting to Exhale              3\n",
            "Father of the Bride Part II    4\n",
            "Heat                           5\n",
            "Sabrina                        6\n",
            "Tom and Huck                   7\n",
            "Sudden Death                   8\n",
            "GoldenEye                      9\n",
            "dtype: int64\n"
          ],
          "name": "stdout"
        }
      ]
    },
    {
      "cell_type": "code",
      "metadata": {
        "colab": {
          "base_uri": "https://localhost:8080/"
        },
        "id": "KNdwaNFuptEv",
        "outputId": "63de72fb-4663-4bce-c3b2-02ad04e85c4c"
      },
      "source": [
        "idx = indices['Father of the Bride Part II']\n",
        "print(idx)"
      ],
      "execution_count": 21,
      "outputs": [
        {
          "output_type": "stream",
          "text": [
            "4\n"
          ],
          "name": "stdout"
        }
      ]
    },
    {
      "cell_type": "code",
      "metadata": {
        "id": "ZgGXeJ44ps_2"
      },
      "source": [
        "def get_recommendations(title, cosine_sim=cosine_sim):\n",
        "    # 선택한 영화의 타이틀로부터 해당되는 인덱스를 받아옵니다. 이제 선택한 영화를 가지고 연산할 수 있습니다.\n",
        "    idx = indices[title]\n",
        "\n",
        "    # 모든 영화에 대해서 해당 영화와의 유사도를 구합니다.\n",
        "    sim_scores = list(enumerate(cosine_sim[idx]))\n",
        "\n",
        "    # 유사도에 따라 영화들을 정렬합니다.\n",
        "    sim_scores = sorted(sim_scores, key=lambda x: x[1], reverse=True)\n",
        "\n",
        "    # 가장 유사한 10개의 영화를 받아옵니다.\n",
        "    sim_scores = sim_scores[1:11]\n",
        "\n",
        "    # 가장 유사한 10개의 영화의 인덱스를 받아옵니다.\n",
        "    movie_indices = [i[0] for i in sim_scores]\n",
        "\n",
        "    # 가장 유사한 10개의 영화의 제목을 리턴합니다.\n",
        "    return data['title'].iloc[movie_indices]"
      ],
      "execution_count": 22,
      "outputs": []
    },
    {
      "cell_type": "code",
      "metadata": {
        "colab": {
          "base_uri": "https://localhost:8080/"
        },
        "id": "ApeOB2d1ps-R",
        "outputId": "23cd817b-95b8-4400-f2e9-8fddbd5f434c"
      },
      "source": [
        "get_recommendations('The Dark Knight Rises')"
      ],
      "execution_count": 23,
      "outputs": [
        {
          "output_type": "execute_result",
          "data": {
            "text/plain": [
              "12481                            The Dark Knight\n",
              "150                               Batman Forever\n",
              "1328                              Batman Returns\n",
              "15511                 Batman: Under the Red Hood\n",
              "585                                       Batman\n",
              "9230          Batman Beyond: Return of the Joker\n",
              "18035                           Batman: Year One\n",
              "19792    Batman: The Dark Knight Returns, Part 1\n",
              "3095                Batman: Mask of the Phantasm\n",
              "10122                              Batman Begins\n",
              "Name: title, dtype: object"
            ]
          },
          "metadata": {
            "tags": []
          },
          "execution_count": 23
        }
      ]
    },
    {
      "cell_type": "markdown",
      "metadata": {
        "id": "mYKNVP2Cz-zu"
      },
      "source": [
        "# 2) 여러가지 유사도 기법"
      ]
    },
    {
      "cell_type": "markdown",
      "metadata": {
        "id": "WVMXePnSr0d_"
      },
      "source": [
        "## 1. 유클리드 거리(Euclidean distance)\n"
      ]
    },
    {
      "cell_type": "code",
      "metadata": {
        "id": "3-L1jJo4z7KU",
        "colab": {
          "base_uri": "https://localhost:8080/"
        },
        "outputId": "0bda8aac-a627-47a6-fa03-38709fe6110e"
      },
      "source": [
        "import numpy as np\n",
        "def dist(x,y):   \n",
        "    return np.sqrt(np.sum((x-y)**2))\n",
        "\n",
        "doc1 = np.array((2,3,0,1))\n",
        "doc2 = np.array((1,2,3,1))\n",
        "doc3 = np.array((2,1,2,2))\n",
        "docQ = np.array((1,1,0,1))\n",
        "\n",
        "print(dist(doc1,docQ))\n",
        "print(dist(doc2,docQ))\n",
        "print(dist(doc3,docQ))"
      ],
      "execution_count": 24,
      "outputs": [
        {
          "output_type": "stream",
          "text": [
            "2.23606797749979\n",
            "3.1622776601683795\n",
            "2.449489742783178\n"
          ],
          "name": "stdout"
        }
      ]
    },
    {
      "cell_type": "markdown",
      "metadata": {
        "id": "xzYcm_dCsTnG"
      },
      "source": [
        "## 2. 자카드 유사도(Jaccard similarity)\n"
      ]
    },
    {
      "cell_type": "code",
      "metadata": {
        "colab": {
          "base_uri": "https://localhost:8080/"
        },
        "id": "x0AiKCA7sOVU",
        "outputId": "61f4a5f5-c2a9-4575-d60a-8d97deef553a"
      },
      "source": [
        "# 다음과 같은 두 개의 문서가 있습니다.\n",
        "# 두 문서 모두에서 등장한 단어는 apple과 banana 2개.\n",
        "doc1 = \"apple banana everyone like likey watch card holder\"\n",
        "doc2 = \"apple banana coupon passport love you\"\n",
        "\n",
        "# 토큰화를 수행합니다.\n",
        "tokenized_doc1 = doc1.split()\n",
        "tokenized_doc2 = doc2.split()\n",
        "\n",
        "# 토큰화 결과 출력\n",
        "print(tokenized_doc1)\n",
        "print(tokenized_doc2)"
      ],
      "execution_count": 26,
      "outputs": [
        {
          "output_type": "stream",
          "text": [
            "['apple', 'banana', 'everyone', 'like', 'likey', 'watch', 'card', 'holder']\n",
            "['apple', 'banana', 'coupon', 'passport', 'love', 'you']\n"
          ],
          "name": "stdout"
        }
      ]
    },
    {
      "cell_type": "code",
      "metadata": {
        "colab": {
          "base_uri": "https://localhost:8080/"
        },
        "id": "6pCiMz5lsftD",
        "outputId": "df6a2ed2-3fb6-4b3f-cf58-e9f21469e30d"
      },
      "source": [
        "union = set(tokenized_doc1).union(set(tokenized_doc2))\n",
        "print(union)"
      ],
      "execution_count": 27,
      "outputs": [
        {
          "output_type": "stream",
          "text": [
            "{'like', 'apple', 'you', 'holder', 'passport', 'watch', 'coupon', 'card', 'love', 'everyone', 'likey', 'banana'}\n"
          ],
          "name": "stdout"
        }
      ]
    },
    {
      "cell_type": "code",
      "metadata": {
        "colab": {
          "base_uri": "https://localhost:8080/"
        },
        "id": "_dhoR231sojW",
        "outputId": "39552fef-b839-4ab4-fa7b-d78152862221"
      },
      "source": [
        "intersection = set(tokenized_doc1).intersection(set(tokenized_doc2))\n",
        "print(intersection)"
      ],
      "execution_count": 28,
      "outputs": [
        {
          "output_type": "stream",
          "text": [
            "{'apple', 'banana'}\n"
          ],
          "name": "stdout"
        }
      ]
    },
    {
      "cell_type": "code",
      "metadata": {
        "colab": {
          "base_uri": "https://localhost:8080/"
        },
        "id": "cK4vcmyHsr90",
        "outputId": "c33fbe98-95fd-4a3c-d69e-bf18098fc95b"
      },
      "source": [
        "print(len(intersection)/len(union)) # 2를 12로 나눔."
      ],
      "execution_count": 29,
      "outputs": [
        {
          "output_type": "stream",
          "text": [
            "0.16666666666666666\n"
          ],
          "name": "stdout"
        }
      ]
    },
    {
      "cell_type": "code",
      "metadata": {
        "id": "jDvvJROEsuZr"
      },
      "source": [
        ""
      ],
      "execution_count": null,
      "outputs": []
    }
  ]
}